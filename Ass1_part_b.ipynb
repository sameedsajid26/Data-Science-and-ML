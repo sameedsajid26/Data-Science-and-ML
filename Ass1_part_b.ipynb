{
  "nbformat": 4,
  "nbformat_minor": 0,
  "metadata": {
    "colab": {
      "name": "Ass1 part b.ipynb",
      "provenance": [],
      "collapsed_sections": [],
      "authorship_tag": "ABX9TyPXJk5q7KZuoqhvCTIlLv2O",
      "include_colab_link": true
    },
    "kernelspec": {
      "name": "python3",
      "display_name": "Python 3"
    },
    "language_info": {
      "name": "python"
    }
  },
  "cells": [
    {
      "cell_type": "markdown",
      "metadata": {
        "id": "view-in-github",
        "colab_type": "text"
      },
      "source": [
        "<a href=\"https://colab.research.google.com/github/sameedsajid26/Data-Science-and-ML/blob/main/Ass1_part_b.ipynb\" target=\"_parent\"><img src=\"https://colab.research.google.com/assets/colab-badge.svg\" alt=\"Open In Colab\"/></a>"
      ]
    },
    {
      "cell_type": "code",
      "execution_count": null,
      "metadata": {
        "colab": {
          "resources": {
            "http://localhost:8080/nbextensions/google.colab/files.js": {
              "data": "Ly8gQ29weXJpZ2h0IDIwMTcgR29vZ2xlIExMQwovLwovLyBMaWNlbnNlZCB1bmRlciB0aGUgQXBhY2hlIExpY2Vuc2UsIFZlcnNpb24gMi4wICh0aGUgIkxpY2Vuc2UiKTsKLy8geW91IG1heSBub3QgdXNlIHRoaXMgZmlsZSBleGNlcHQgaW4gY29tcGxpYW5jZSB3aXRoIHRoZSBMaWNlbnNlLgovLyBZb3UgbWF5IG9idGFpbiBhIGNvcHkgb2YgdGhlIExpY2Vuc2UgYXQKLy8KLy8gICAgICBodHRwOi8vd3d3LmFwYWNoZS5vcmcvbGljZW5zZXMvTElDRU5TRS0yLjAKLy8KLy8gVW5sZXNzIHJlcXVpcmVkIGJ5IGFwcGxpY2FibGUgbGF3IG9yIGFncmVlZCB0byBpbiB3cml0aW5nLCBzb2Z0d2FyZQovLyBkaXN0cmlidXRlZCB1bmRlciB0aGUgTGljZW5zZSBpcyBkaXN0cmlidXRlZCBvbiBhbiAiQVMgSVMiIEJBU0lTLAovLyBXSVRIT1VUIFdBUlJBTlRJRVMgT1IgQ09ORElUSU9OUyBPRiBBTlkgS0lORCwgZWl0aGVyIGV4cHJlc3Mgb3IgaW1wbGllZC4KLy8gU2VlIHRoZSBMaWNlbnNlIGZvciB0aGUgc3BlY2lmaWMgbGFuZ3VhZ2UgZ292ZXJuaW5nIHBlcm1pc3Npb25zIGFuZAovLyBsaW1pdGF0aW9ucyB1bmRlciB0aGUgTGljZW5zZS4KCi8qKgogKiBAZmlsZW92ZXJ2aWV3IEhlbHBlcnMgZm9yIGdvb2dsZS5jb2xhYiBQeXRob24gbW9kdWxlLgogKi8KKGZ1bmN0aW9uKHNjb3BlKSB7CmZ1bmN0aW9uIHNwYW4odGV4dCwgc3R5bGVBdHRyaWJ1dGVzID0ge30pIHsKICBjb25zdCBlbGVtZW50ID0gZG9jdW1lbnQuY3JlYXRlRWxlbWVudCgnc3BhbicpOwogIGVsZW1lbnQudGV4dENvbnRlbnQgPSB0ZXh0OwogIGZvciAoY29uc3Qga2V5IG9mIE9iamVjdC5rZXlzKHN0eWxlQXR0cmlidXRlcykpIHsKICAgIGVsZW1lbnQuc3R5bGVba2V5XSA9IHN0eWxlQXR0cmlidXRlc1trZXldOwogIH0KICByZXR1cm4gZWxlbWVudDsKfQoKLy8gTWF4IG51bWJlciBvZiBieXRlcyB3aGljaCB3aWxsIGJlIHVwbG9hZGVkIGF0IGEgdGltZS4KY29uc3QgTUFYX1BBWUxPQURfU0laRSA9IDEwMCAqIDEwMjQ7CgpmdW5jdGlvbiBfdXBsb2FkRmlsZXMoaW5wdXRJZCwgb3V0cHV0SWQpIHsKICBjb25zdCBzdGVwcyA9IHVwbG9hZEZpbGVzU3RlcChpbnB1dElkLCBvdXRwdXRJZCk7CiAgY29uc3Qgb3V0cHV0RWxlbWVudCA9IGRvY3VtZW50LmdldEVsZW1lbnRCeUlkKG91dHB1dElkKTsKICAvLyBDYWNoZSBzdGVwcyBvbiB0aGUgb3V0cHV0RWxlbWVudCB0byBtYWtlIGl0IGF2YWlsYWJsZSBmb3IgdGhlIG5leHQgY2FsbAogIC8vIHRvIHVwbG9hZEZpbGVzQ29udGludWUgZnJvbSBQeXRob24uCiAgb3V0cHV0RWxlbWVudC5zdGVwcyA9IHN0ZXBzOwoKICByZXR1cm4gX3VwbG9hZEZpbGVzQ29udGludWUob3V0cHV0SWQpOwp9CgovLyBUaGlzIGlzIHJvdWdobHkgYW4gYXN5bmMgZ2VuZXJhdG9yIChub3Qgc3VwcG9ydGVkIGluIHRoZSBicm93c2VyIHlldCksCi8vIHdoZXJlIHRoZXJlIGFyZSBtdWx0aXBsZSBhc3luY2hyb25vdXMgc3RlcHMgYW5kIHRoZSBQeXRob24gc2lkZSBpcyBnb2luZwovLyB0byBwb2xsIGZvciBjb21wbGV0aW9uIG9mIGVhY2ggc3RlcC4KLy8gVGhpcyB1c2VzIGEgUHJvbWlzZSB0byBibG9jayB0aGUgcHl0aG9uIHNpZGUgb24gY29tcGxldGlvbiBvZiBlYWNoIHN0ZXAsCi8vIHRoZW4gcGFzc2VzIHRoZSByZXN1bHQgb2YgdGhlIHByZXZpb3VzIHN0ZXAgYXMgdGhlIGlucHV0IHRvIHRoZSBuZXh0IHN0ZXAuCmZ1bmN0aW9uIF91cGxvYWRGaWxlc0NvbnRpbnVlKG91dHB1dElkKSB7CiAgY29uc3Qgb3V0cHV0RWxlbWVudCA9IGRvY3VtZW50LmdldEVsZW1lbnRCeUlkKG91dHB1dElkKTsKICBjb25zdCBzdGVwcyA9IG91dHB1dEVsZW1lbnQuc3RlcHM7CgogIGNvbnN0IG5leHQgPSBzdGVwcy5uZXh0KG91dHB1dEVsZW1lbnQubGFzdFByb21pc2VWYWx1ZSk7CiAgcmV0dXJuIFByb21pc2UucmVzb2x2ZShuZXh0LnZhbHVlLnByb21pc2UpLnRoZW4oKHZhbHVlKSA9PiB7CiAgICAvLyBDYWNoZSB0aGUgbGFzdCBwcm9taXNlIHZhbHVlIHRvIG1ha2UgaXQgYXZhaWxhYmxlIHRvIHRoZSBuZXh0CiAgICAvLyBzdGVwIG9mIHRoZSBnZW5lcmF0b3IuCiAgICBvdXRwdXRFbGVtZW50Lmxhc3RQcm9taXNlVmFsdWUgPSB2YWx1ZTsKICAgIHJldHVybiBuZXh0LnZhbHVlLnJlc3BvbnNlOwogIH0pOwp9CgovKioKICogR2VuZXJhdG9yIGZ1bmN0aW9uIHdoaWNoIGlzIGNhbGxlZCBiZXR3ZWVuIGVhY2ggYXN5bmMgc3RlcCBvZiB0aGUgdXBsb2FkCiAqIHByb2Nlc3MuCiAqIEBwYXJhbSB7c3RyaW5nfSBpbnB1dElkIEVsZW1lbnQgSUQgb2YgdGhlIGlucHV0IGZpbGUgcGlja2VyIGVsZW1lbnQuCiAqIEBwYXJhbSB7c3RyaW5nfSBvdXRwdXRJZCBFbGVtZW50IElEIG9mIHRoZSBvdXRwdXQgZGlzcGxheS4KICogQHJldHVybiB7IUl0ZXJhYmxlPCFPYmplY3Q+fSBJdGVyYWJsZSBvZiBuZXh0IHN0ZXBzLgogKi8KZnVuY3Rpb24qIHVwbG9hZEZpbGVzU3RlcChpbnB1dElkLCBvdXRwdXRJZCkgewogIGNvbnN0IGlucHV0RWxlbWVudCA9IGRvY3VtZW50LmdldEVsZW1lbnRCeUlkKGlucHV0SWQpOwogIGlucHV0RWxlbWVudC5kaXNhYmxlZCA9IGZhbHNlOwoKICBjb25zdCBvdXRwdXRFbGVtZW50ID0gZG9jdW1lbnQuZ2V0RWxlbWVudEJ5SWQob3V0cHV0SWQpOwogIG91dHB1dEVsZW1lbnQuaW5uZXJIVE1MID0gJyc7CgogIGNvbnN0IHBpY2tlZFByb21pc2UgPSBuZXcgUHJvbWlzZSgocmVzb2x2ZSkgPT4gewogICAgaW5wdXRFbGVtZW50LmFkZEV2ZW50TGlzdGVuZXIoJ2NoYW5nZScsIChlKSA9PiB7CiAgICAgIHJlc29sdmUoZS50YXJnZXQuZmlsZXMpOwogICAgfSk7CiAgfSk7CgogIGNvbnN0IGNhbmNlbCA9IGRvY3VtZW50LmNyZWF0ZUVsZW1lbnQoJ2J1dHRvbicpOwogIGlucHV0RWxlbWVudC5wYXJlbnRFbGVtZW50LmFwcGVuZENoaWxkKGNhbmNlbCk7CiAgY2FuY2VsLnRleHRDb250ZW50ID0gJ0NhbmNlbCB1cGxvYWQnOwogIGNvbnN0IGNhbmNlbFByb21pc2UgPSBuZXcgUHJvbWlzZSgocmVzb2x2ZSkgPT4gewogICAgY2FuY2VsLm9uY2xpY2sgPSAoKSA9PiB7CiAgICAgIHJlc29sdmUobnVsbCk7CiAgICB9OwogIH0pOwoKICAvLyBXYWl0IGZvciB0aGUgdXNlciB0byBwaWNrIHRoZSBmaWxlcy4KICBjb25zdCBmaWxlcyA9IHlpZWxkIHsKICAgIHByb21pc2U6IFByb21pc2UucmFjZShbcGlja2VkUHJvbWlzZSwgY2FuY2VsUHJvbWlzZV0pLAogICAgcmVzcG9uc2U6IHsKICAgICAgYWN0aW9uOiAnc3RhcnRpbmcnLAogICAgfQogIH07CgogIGNhbmNlbC5yZW1vdmUoKTsKCiAgLy8gRGlzYWJsZSB0aGUgaW5wdXQgZWxlbWVudCBzaW5jZSBmdXJ0aGVyIHBpY2tzIGFyZSBub3QgYWxsb3dlZC4KICBpbnB1dEVsZW1lbnQuZGlzYWJsZWQgPSB0cnVlOwoKICBpZiAoIWZpbGVzKSB7CiAgICByZXR1cm4gewogICAgICByZXNwb25zZTogewogICAgICAgIGFjdGlvbjogJ2NvbXBsZXRlJywKICAgICAgfQogICAgfTsKICB9CgogIGZvciAoY29uc3QgZmlsZSBvZiBmaWxlcykgewogICAgY29uc3QgbGkgPSBkb2N1bWVudC5jcmVhdGVFbGVtZW50KCdsaScpOwogICAgbGkuYXBwZW5kKHNwYW4oZmlsZS5uYW1lLCB7Zm9udFdlaWdodDogJ2JvbGQnfSkpOwogICAgbGkuYXBwZW5kKHNwYW4oCiAgICAgICAgYCgke2ZpbGUudHlwZSB8fCAnbi9hJ30pIC0gJHtmaWxlLnNpemV9IGJ5dGVzLCBgICsKICAgICAgICBgbGFzdCBtb2RpZmllZDogJHsKICAgICAgICAgICAgZmlsZS5sYXN0TW9kaWZpZWREYXRlID8gZmlsZS5sYXN0TW9kaWZpZWREYXRlLnRvTG9jYWxlRGF0ZVN0cmluZygpIDoKICAgICAgICAgICAgICAgICAgICAgICAgICAgICAgICAgICAgJ24vYSd9IC0gYCkpOwogICAgY29uc3QgcGVyY2VudCA9IHNwYW4oJzAlIGRvbmUnKTsKICAgIGxpLmFwcGVuZENoaWxkKHBlcmNlbnQpOwoKICAgIG91dHB1dEVsZW1lbnQuYXBwZW5kQ2hpbGQobGkpOwoKICAgIGNvbnN0IGZpbGVEYXRhUHJvbWlzZSA9IG5ldyBQcm9taXNlKChyZXNvbHZlKSA9PiB7CiAgICAgIGNvbnN0IHJlYWRlciA9IG5ldyBGaWxlUmVhZGVyKCk7CiAgICAgIHJlYWRlci5vbmxvYWQgPSAoZSkgPT4gewogICAgICAgIHJlc29sdmUoZS50YXJnZXQucmVzdWx0KTsKICAgICAgfTsKICAgICAgcmVhZGVyLnJlYWRBc0FycmF5QnVmZmVyKGZpbGUpOwogICAgfSk7CiAgICAvLyBXYWl0IGZvciB0aGUgZGF0YSB0byBiZSByZWFkeS4KICAgIGxldCBmaWxlRGF0YSA9IHlpZWxkIHsKICAgICAgcHJvbWlzZTogZmlsZURhdGFQcm9taXNlLAogICAgICByZXNwb25zZTogewogICAgICAgIGFjdGlvbjogJ2NvbnRpbnVlJywKICAgICAgfQogICAgfTsKCiAgICAvLyBVc2UgYSBjaHVua2VkIHNlbmRpbmcgdG8gYXZvaWQgbWVzc2FnZSBzaXplIGxpbWl0cy4gU2VlIGIvNjIxMTU2NjAuCiAgICBsZXQgcG9zaXRpb24gPSAwOwogICAgZG8gewogICAgICBjb25zdCBsZW5ndGggPSBNYXRoLm1pbihmaWxlRGF0YS5ieXRlTGVuZ3RoIC0gcG9zaXRpb24sIE1BWF9QQVlMT0FEX1NJWkUpOwogICAgICBjb25zdCBjaHVuayA9IG5ldyBVaW50OEFycmF5KGZpbGVEYXRhLCBwb3NpdGlvbiwgbGVuZ3RoKTsKICAgICAgcG9zaXRpb24gKz0gbGVuZ3RoOwoKICAgICAgY29uc3QgYmFzZTY0ID0gYnRvYShTdHJpbmcuZnJvbUNoYXJDb2RlLmFwcGx5KG51bGwsIGNodW5rKSk7CiAgICAgIHlpZWxkIHsKICAgICAgICByZXNwb25zZTogewogICAgICAgICAgYWN0aW9uOiAnYXBwZW5kJywKICAgICAgICAgIGZpbGU6IGZpbGUubmFtZSwKICAgICAgICAgIGRhdGE6IGJhc2U2NCwKICAgICAgICB9LAogICAgICB9OwoKICAgICAgbGV0IHBlcmNlbnREb25lID0gZmlsZURhdGEuYnl0ZUxlbmd0aCA9PT0gMCA/CiAgICAgICAgICAxMDAgOgogICAgICAgICAgTWF0aC5yb3VuZCgocG9zaXRpb24gLyBmaWxlRGF0YS5ieXRlTGVuZ3RoKSAqIDEwMCk7CiAgICAgIHBlcmNlbnQudGV4dENvbnRlbnQgPSBgJHtwZXJjZW50RG9uZX0lIGRvbmVgOwoKICAgIH0gd2hpbGUgKHBvc2l0aW9uIDwgZmlsZURhdGEuYnl0ZUxlbmd0aCk7CiAgfQoKICAvLyBBbGwgZG9uZS4KICB5aWVsZCB7CiAgICByZXNwb25zZTogewogICAgICBhY3Rpb246ICdjb21wbGV0ZScsCiAgICB9CiAgfTsKfQoKc2NvcGUuZ29vZ2xlID0gc2NvcGUuZ29vZ2xlIHx8IHt9OwpzY29wZS5nb29nbGUuY29sYWIgPSBzY29wZS5nb29nbGUuY29sYWIgfHwge307CnNjb3BlLmdvb2dsZS5jb2xhYi5fZmlsZXMgPSB7CiAgX3VwbG9hZEZpbGVzLAogIF91cGxvYWRGaWxlc0NvbnRpbnVlLAp9Owp9KShzZWxmKTsK",
              "ok": true,
              "headers": [
                [
                  "content-type",
                  "application/javascript"
                ]
              ],
              "status": 200,
              "status_text": ""
            }
          },
          "base_uri": "https://localhost:8080/",
          "height": 73
        },
        "id": "eY83Wu4q7Q47",
        "outputId": "d4e57249-9317-4913-cb46-831365cb7264"
      },
      "outputs": [
        {
          "output_type": "display_data",
          "data": {
            "text/plain": [
              "<IPython.core.display.HTML object>"
            ],
            "text/html": [
              "\n",
              "     <input type=\"file\" id=\"files-71e086ef-2527-4453-ba1c-249ade9a5c33\" name=\"files[]\" multiple disabled\n",
              "        style=\"border:none\" />\n",
              "     <output id=\"result-71e086ef-2527-4453-ba1c-249ade9a5c33\">\n",
              "      Upload widget is only available when the cell has been executed in the\n",
              "      current browser session. Please rerun this cell to enable.\n",
              "      </output>\n",
              "      <script src=\"/nbextensions/google.colab/files.js\"></script> "
            ]
          },
          "metadata": {}
        },
        {
          "output_type": "stream",
          "name": "stdout",
          "text": [
            "Saving testing.csv to testing.csv\n"
          ]
        }
      ],
      "source": [
        "from google.colab import files\n",
        "uploaded = files.upload()"
      ]
    },
    {
      "cell_type": "code",
      "source": [
        "import pandas as pd\n",
        "import io\n",
        "dftraining = pd.read_csv(io.BytesIO(uploaded['testing.csv']))"
      ],
      "metadata": {
        "id": "Ne0Ekb2Z7XRw"
      },
      "execution_count": null,
      "outputs": []
    },
    {
      "cell_type": "code",
      "source": [
        "uploaded = files.upload()"
      ],
      "metadata": {
        "colab": {
          "resources": {
            "http://localhost:8080/nbextensions/google.colab/files.js": {
              "data": "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",
              "ok": true,
              "headers": [
                [
                  "content-type",
                  "application/javascript"
                ]
              ],
              "status": 200,
              "status_text": ""
            }
          },
          "base_uri": "https://localhost:8080/",
          "height": 73
        },
        "id": "8cb5RzEg7kAu",
        "outputId": "ca969fb5-60c0-4596-dc15-e6b5bb94b008"
      },
      "execution_count": null,
      "outputs": [
        {
          "output_type": "display_data",
          "data": {
            "text/plain": [
              "<IPython.core.display.HTML object>"
            ],
            "text/html": [
              "\n",
              "     <input type=\"file\" id=\"files-ed9d5956-f391-4a6a-af00-5d3c84a23664\" name=\"files[]\" multiple disabled\n",
              "        style=\"border:none\" />\n",
              "     <output id=\"result-ed9d5956-f391-4a6a-af00-5d3c84a23664\">\n",
              "      Upload widget is only available when the cell has been executed in the\n",
              "      current browser session. Please rerun this cell to enable.\n",
              "      </output>\n",
              "      <script src=\"/nbextensions/google.colab/files.js\"></script> "
            ]
          },
          "metadata": {}
        },
        {
          "output_type": "stream",
          "name": "stdout",
          "text": [
            "Saving training.csv to training.csv\n"
          ]
        }
      ]
    },
    {
      "cell_type": "code",
      "source": [
        "import pandas as pd\n",
        "import io\n",
        "dftesting = pd.read_csv(io.BytesIO(uploaded['training.csv']))"
      ],
      "metadata": {
        "id": "6o0slrQi7ndx"
      },
      "execution_count": null,
      "outputs": []
    },
    {
      "cell_type": "code",
      "source": [
        "dftraining"
      ],
      "metadata": {
        "colab": {
          "base_uri": "https://localhost:8080/",
          "height": 487
        },
        "id": "2CretEHM76F3",
        "outputId": "53b647b7-8fc4-4919-fd75-4fd400a5e06e"
      },
      "execution_count": null,
      "outputs": [
        {
          "output_type": "execute_result",
          "data": {
            "text/plain": [
              "    class  b1  b2  b3   b4  b5   b6   b7  b8  b9  ...  pred_minus_obs_H_b9  \\\n",
              "0      d   67  51  68  115  69  111  136  31  67  ...                -9.17   \n",
              "1      s   67  28  51   99  50   97   82  26  59  ...                -2.25   \n",
              "2      s   63  26  50   95  49   91   81  26  57  ...                -0.44   \n",
              "3      d   63  42  63   97  66  108  111  28  59  ...                -2.34   \n",
              "4      s   46  27  50   83  51   90   76  26  56  ...                 1.25   \n",
              "..    ...  ..  ..  ..  ...  ..  ...  ...  ..  ..  ...                  ...   \n",
              "320    o   55  56  72   91  79  113   86  35  68  ...               -12.86   \n",
              "321    d   69  49  76   91  52   91   92  25  57  ...                -2.36   \n",
              "322    s   49  26  48  107  59  104   62  22  53  ...                 2.32   \n",
              "323    s   55  26  52   92  55   98   65  23  56  ...                -0.77   \n",
              "324    h   71  28  51   96  46   88   92  25  58  ...                -3.24   \n",
              "\n",
              "     pred_minus_obs_S_b1  pred_minus_obs_S_b2  pred_minus_obs_S_b3  \\\n",
              "0                 -18.27                -1.80                -6.32   \n",
              "1                 -20.13                -2.11                -6.35   \n",
              "2                 -17.64                -1.81                -4.70   \n",
              "3                 -20.20                -1.89                -5.47   \n",
              "4                 -18.62                -2.17                -7.11   \n",
              "..                   ...                  ...                  ...   \n",
              "320               -23.08                -0.08                -3.46   \n",
              "321               -11.47                -0.40                -3.74   \n",
              "322               -23.48                 1.44                -1.59   \n",
              "323               -23.74                 1.27                -1.30   \n",
              "324               -13.96                -0.44                -3.84   \n",
              "\n",
              "     pred_minus_obs_S_b4  pred_minus_obs_S_b5  pred_minus_obs_S_b6  \\\n",
              "0                 -20.88                -1.63                -6.13   \n",
              "1                 -21.94                -1.22                -6.13   \n",
              "2                 -19.39                -0.65                -5.01   \n",
              "3                 -21.65                -0.99                -5.71   \n",
              "4                 -21.12                -1.56                -6.35   \n",
              "..                   ...                  ...                  ...   \n",
              "320               -27.52                -1.04                -4.73   \n",
              "321               -16.90                -0.78                -4.15   \n",
              "322               -26.98                -1.36                -4.81   \n",
              "323               -25.53                -1.21                -4.70   \n",
              "324               -15.45                -0.71                -3.94   \n",
              "\n",
              "     pred_minus_obs_S_b7  pred_minus_obs_S_b8  pred_minus_obs_S_b9  \n",
              "0                 -22.56                -5.53                -8.11  \n",
              "1                 -22.20                -3.41                -6.57  \n",
              "2                 -20.89                -3.96                -6.85  \n",
              "3                 -22.19                -3.41                -6.52  \n",
              "4                 -22.19                -4.45                -7.32  \n",
              "..                   ...                  ...                  ...  \n",
              "320               -22.85                -1.49                -4.10  \n",
              "321               -11.13                -1.48                -3.55  \n",
              "322               -24.50                -2.53                -4.97  \n",
              "323               -24.39                -2.21                -4.72  \n",
              "324               -12.74                -1.36                -3.63  \n",
              "\n",
              "[325 rows x 28 columns]"
            ],
            "text/html": [
              "\n",
              "  <div id=\"df-a0d2607b-300b-489d-bf0e-690822560e46\">\n",
              "    <div class=\"colab-df-container\">\n",
              "      <div>\n",
              "<style scoped>\n",
              "    .dataframe tbody tr th:only-of-type {\n",
              "        vertical-align: middle;\n",
              "    }\n",
              "\n",
              "    .dataframe tbody tr th {\n",
              "        vertical-align: top;\n",
              "    }\n",
              "\n",
              "    .dataframe thead th {\n",
              "        text-align: right;\n",
              "    }\n",
              "</style>\n",
              "<table border=\"1\" class=\"dataframe\">\n",
              "  <thead>\n",
              "    <tr style=\"text-align: right;\">\n",
              "      <th></th>\n",
              "      <th>class</th>\n",
              "      <th>b1</th>\n",
              "      <th>b2</th>\n",
              "      <th>b3</th>\n",
              "      <th>b4</th>\n",
              "      <th>b5</th>\n",
              "      <th>b6</th>\n",
              "      <th>b7</th>\n",
              "      <th>b8</th>\n",
              "      <th>b9</th>\n",
              "      <th>...</th>\n",
              "      <th>pred_minus_obs_H_b9</th>\n",
              "      <th>pred_minus_obs_S_b1</th>\n",
              "      <th>pred_minus_obs_S_b2</th>\n",
              "      <th>pred_minus_obs_S_b3</th>\n",
              "      <th>pred_minus_obs_S_b4</th>\n",
              "      <th>pred_minus_obs_S_b5</th>\n",
              "      <th>pred_minus_obs_S_b6</th>\n",
              "      <th>pred_minus_obs_S_b7</th>\n",
              "      <th>pred_minus_obs_S_b8</th>\n",
              "      <th>pred_minus_obs_S_b9</th>\n",
              "    </tr>\n",
              "  </thead>\n",
              "  <tbody>\n",
              "    <tr>\n",
              "      <th>0</th>\n",
              "      <td>d</td>\n",
              "      <td>67</td>\n",
              "      <td>51</td>\n",
              "      <td>68</td>\n",
              "      <td>115</td>\n",
              "      <td>69</td>\n",
              "      <td>111</td>\n",
              "      <td>136</td>\n",
              "      <td>31</td>\n",
              "      <td>67</td>\n",
              "      <td>...</td>\n",
              "      <td>-9.17</td>\n",
              "      <td>-18.27</td>\n",
              "      <td>-1.80</td>\n",
              "      <td>-6.32</td>\n",
              "      <td>-20.88</td>\n",
              "      <td>-1.63</td>\n",
              "      <td>-6.13</td>\n",
              "      <td>-22.56</td>\n",
              "      <td>-5.53</td>\n",
              "      <td>-8.11</td>\n",
              "    </tr>\n",
              "    <tr>\n",
              "      <th>1</th>\n",
              "      <td>s</td>\n",
              "      <td>67</td>\n",
              "      <td>28</td>\n",
              "      <td>51</td>\n",
              "      <td>99</td>\n",
              "      <td>50</td>\n",
              "      <td>97</td>\n",
              "      <td>82</td>\n",
              "      <td>26</td>\n",
              "      <td>59</td>\n",
              "      <td>...</td>\n",
              "      <td>-2.25</td>\n",
              "      <td>-20.13</td>\n",
              "      <td>-2.11</td>\n",
              "      <td>-6.35</td>\n",
              "      <td>-21.94</td>\n",
              "      <td>-1.22</td>\n",
              "      <td>-6.13</td>\n",
              "      <td>-22.20</td>\n",
              "      <td>-3.41</td>\n",
              "      <td>-6.57</td>\n",
              "    </tr>\n",
              "    <tr>\n",
              "      <th>2</th>\n",
              "      <td>s</td>\n",
              "      <td>63</td>\n",
              "      <td>26</td>\n",
              "      <td>50</td>\n",
              "      <td>95</td>\n",
              "      <td>49</td>\n",
              "      <td>91</td>\n",
              "      <td>81</td>\n",
              "      <td>26</td>\n",
              "      <td>57</td>\n",
              "      <td>...</td>\n",
              "      <td>-0.44</td>\n",
              "      <td>-17.64</td>\n",
              "      <td>-1.81</td>\n",
              "      <td>-4.70</td>\n",
              "      <td>-19.39</td>\n",
              "      <td>-0.65</td>\n",
              "      <td>-5.01</td>\n",
              "      <td>-20.89</td>\n",
              "      <td>-3.96</td>\n",
              "      <td>-6.85</td>\n",
              "    </tr>\n",
              "    <tr>\n",
              "      <th>3</th>\n",
              "      <td>d</td>\n",
              "      <td>63</td>\n",
              "      <td>42</td>\n",
              "      <td>63</td>\n",
              "      <td>97</td>\n",
              "      <td>66</td>\n",
              "      <td>108</td>\n",
              "      <td>111</td>\n",
              "      <td>28</td>\n",
              "      <td>59</td>\n",
              "      <td>...</td>\n",
              "      <td>-2.34</td>\n",
              "      <td>-20.20</td>\n",
              "      <td>-1.89</td>\n",
              "      <td>-5.47</td>\n",
              "      <td>-21.65</td>\n",
              "      <td>-0.99</td>\n",
              "      <td>-5.71</td>\n",
              "      <td>-22.19</td>\n",
              "      <td>-3.41</td>\n",
              "      <td>-6.52</td>\n",
              "    </tr>\n",
              "    <tr>\n",
              "      <th>4</th>\n",
              "      <td>s</td>\n",
              "      <td>46</td>\n",
              "      <td>27</td>\n",
              "      <td>50</td>\n",
              "      <td>83</td>\n",
              "      <td>51</td>\n",
              "      <td>90</td>\n",
              "      <td>76</td>\n",
              "      <td>26</td>\n",
              "      <td>56</td>\n",
              "      <td>...</td>\n",
              "      <td>1.25</td>\n",
              "      <td>-18.62</td>\n",
              "      <td>-2.17</td>\n",
              "      <td>-7.11</td>\n",
              "      <td>-21.12</td>\n",
              "      <td>-1.56</td>\n",
              "      <td>-6.35</td>\n",
              "      <td>-22.19</td>\n",
              "      <td>-4.45</td>\n",
              "      <td>-7.32</td>\n",
              "    </tr>\n",
              "    <tr>\n",
              "      <th>...</th>\n",
              "      <td>...</td>\n",
              "      <td>...</td>\n",
              "      <td>...</td>\n",
              "      <td>...</td>\n",
              "      <td>...</td>\n",
              "      <td>...</td>\n",
              "      <td>...</td>\n",
              "      <td>...</td>\n",
              "      <td>...</td>\n",
              "      <td>...</td>\n",
              "      <td>...</td>\n",
              "      <td>...</td>\n",
              "      <td>...</td>\n",
              "      <td>...</td>\n",
              "      <td>...</td>\n",
              "      <td>...</td>\n",
              "      <td>...</td>\n",
              "      <td>...</td>\n",
              "      <td>...</td>\n",
              "      <td>...</td>\n",
              "      <td>...</td>\n",
              "    </tr>\n",
              "    <tr>\n",
              "      <th>320</th>\n",
              "      <td>o</td>\n",
              "      <td>55</td>\n",
              "      <td>56</td>\n",
              "      <td>72</td>\n",
              "      <td>91</td>\n",
              "      <td>79</td>\n",
              "      <td>113</td>\n",
              "      <td>86</td>\n",
              "      <td>35</td>\n",
              "      <td>68</td>\n",
              "      <td>...</td>\n",
              "      <td>-12.86</td>\n",
              "      <td>-23.08</td>\n",
              "      <td>-0.08</td>\n",
              "      <td>-3.46</td>\n",
              "      <td>-27.52</td>\n",
              "      <td>-1.04</td>\n",
              "      <td>-4.73</td>\n",
              "      <td>-22.85</td>\n",
              "      <td>-1.49</td>\n",
              "      <td>-4.10</td>\n",
              "    </tr>\n",
              "    <tr>\n",
              "      <th>321</th>\n",
              "      <td>d</td>\n",
              "      <td>69</td>\n",
              "      <td>49</td>\n",
              "      <td>76</td>\n",
              "      <td>91</td>\n",
              "      <td>52</td>\n",
              "      <td>91</td>\n",
              "      <td>92</td>\n",
              "      <td>25</td>\n",
              "      <td>57</td>\n",
              "      <td>...</td>\n",
              "      <td>-2.36</td>\n",
              "      <td>-11.47</td>\n",
              "      <td>-0.40</td>\n",
              "      <td>-3.74</td>\n",
              "      <td>-16.90</td>\n",
              "      <td>-0.78</td>\n",
              "      <td>-4.15</td>\n",
              "      <td>-11.13</td>\n",
              "      <td>-1.48</td>\n",
              "      <td>-3.55</td>\n",
              "    </tr>\n",
              "    <tr>\n",
              "      <th>322</th>\n",
              "      <td>s</td>\n",
              "      <td>49</td>\n",
              "      <td>26</td>\n",
              "      <td>48</td>\n",
              "      <td>107</td>\n",
              "      <td>59</td>\n",
              "      <td>104</td>\n",
              "      <td>62</td>\n",
              "      <td>22</td>\n",
              "      <td>53</td>\n",
              "      <td>...</td>\n",
              "      <td>2.32</td>\n",
              "      <td>-23.48</td>\n",
              "      <td>1.44</td>\n",
              "      <td>-1.59</td>\n",
              "      <td>-26.98</td>\n",
              "      <td>-1.36</td>\n",
              "      <td>-4.81</td>\n",
              "      <td>-24.50</td>\n",
              "      <td>-2.53</td>\n",
              "      <td>-4.97</td>\n",
              "    </tr>\n",
              "    <tr>\n",
              "      <th>323</th>\n",
              "      <td>s</td>\n",
              "      <td>55</td>\n",
              "      <td>26</td>\n",
              "      <td>52</td>\n",
              "      <td>92</td>\n",
              "      <td>55</td>\n",
              "      <td>98</td>\n",
              "      <td>65</td>\n",
              "      <td>23</td>\n",
              "      <td>56</td>\n",
              "      <td>...</td>\n",
              "      <td>-0.77</td>\n",
              "      <td>-23.74</td>\n",
              "      <td>1.27</td>\n",
              "      <td>-1.30</td>\n",
              "      <td>-25.53</td>\n",
              "      <td>-1.21</td>\n",
              "      <td>-4.70</td>\n",
              "      <td>-24.39</td>\n",
              "      <td>-2.21</td>\n",
              "      <td>-4.72</td>\n",
              "    </tr>\n",
              "    <tr>\n",
              "      <th>324</th>\n",
              "      <td>h</td>\n",
              "      <td>71</td>\n",
              "      <td>28</td>\n",
              "      <td>51</td>\n",
              "      <td>96</td>\n",
              "      <td>46</td>\n",
              "      <td>88</td>\n",
              "      <td>92</td>\n",
              "      <td>25</td>\n",
              "      <td>58</td>\n",
              "      <td>...</td>\n",
              "      <td>-3.24</td>\n",
              "      <td>-13.96</td>\n",
              "      <td>-0.44</td>\n",
              "      <td>-3.84</td>\n",
              "      <td>-15.45</td>\n",
              "      <td>-0.71</td>\n",
              "      <td>-3.94</td>\n",
              "      <td>-12.74</td>\n",
              "      <td>-1.36</td>\n",
              "      <td>-3.63</td>\n",
              "    </tr>\n",
              "  </tbody>\n",
              "</table>\n",
              "<p>325 rows × 28 columns</p>\n",
              "</div>\n",
              "      <button class=\"colab-df-convert\" onclick=\"convertToInteractive('df-a0d2607b-300b-489d-bf0e-690822560e46')\"\n",
              "              title=\"Convert this dataframe to an interactive table.\"\n",
              "              style=\"display:none;\">\n",
              "        \n",
              "  <svg xmlns=\"http://www.w3.org/2000/svg\" height=\"24px\"viewBox=\"0 0 24 24\"\n",
              "       width=\"24px\">\n",
              "    <path d=\"M0 0h24v24H0V0z\" fill=\"none\"/>\n",
              "    <path d=\"M18.56 5.44l.94 2.06.94-2.06 2.06-.94-2.06-.94-.94-2.06-.94 2.06-2.06.94zm-11 1L8.5 8.5l.94-2.06 2.06-.94-2.06-.94L8.5 2.5l-.94 2.06-2.06.94zm10 10l.94 2.06.94-2.06 2.06-.94-2.06-.94-.94-2.06-.94 2.06-2.06.94z\"/><path d=\"M17.41 7.96l-1.37-1.37c-.4-.4-.92-.59-1.43-.59-.52 0-1.04.2-1.43.59L10.3 9.45l-7.72 7.72c-.78.78-.78 2.05 0 2.83L4 21.41c.39.39.9.59 1.41.59.51 0 1.02-.2 1.41-.59l7.78-7.78 2.81-2.81c.8-.78.8-2.07 0-2.86zM5.41 20L4 18.59l7.72-7.72 1.47 1.35L5.41 20z\"/>\n",
              "  </svg>\n",
              "      </button>\n",
              "      \n",
              "  <style>\n",
              "    .colab-df-container {\n",
              "      display:flex;\n",
              "      flex-wrap:wrap;\n",
              "      gap: 12px;\n",
              "    }\n",
              "\n",
              "    .colab-df-convert {\n",
              "      background-color: #E8F0FE;\n",
              "      border: none;\n",
              "      border-radius: 50%;\n",
              "      cursor: pointer;\n",
              "      display: none;\n",
              "      fill: #1967D2;\n",
              "      height: 32px;\n",
              "      padding: 0 0 0 0;\n",
              "      width: 32px;\n",
              "    }\n",
              "\n",
              "    .colab-df-convert:hover {\n",
              "      background-color: #E2EBFA;\n",
              "      box-shadow: 0px 1px 2px rgba(60, 64, 67, 0.3), 0px 1px 3px 1px rgba(60, 64, 67, 0.15);\n",
              "      fill: #174EA6;\n",
              "    }\n",
              "\n",
              "    [theme=dark] .colab-df-convert {\n",
              "      background-color: #3B4455;\n",
              "      fill: #D2E3FC;\n",
              "    }\n",
              "\n",
              "    [theme=dark] .colab-df-convert:hover {\n",
              "      background-color: #434B5C;\n",
              "      box-shadow: 0px 1px 3px 1px rgba(0, 0, 0, 0.15);\n",
              "      filter: drop-shadow(0px 1px 2px rgba(0, 0, 0, 0.3));\n",
              "      fill: #FFFFFF;\n",
              "    }\n",
              "  </style>\n",
              "\n",
              "      <script>\n",
              "        const buttonEl =\n",
              "          document.querySelector('#df-a0d2607b-300b-489d-bf0e-690822560e46 button.colab-df-convert');\n",
              "        buttonEl.style.display =\n",
              "          google.colab.kernel.accessAllowed ? 'block' : 'none';\n",
              "\n",
              "        async function convertToInteractive(key) {\n",
              "          const element = document.querySelector('#df-a0d2607b-300b-489d-bf0e-690822560e46');\n",
              "          const dataTable =\n",
              "            await google.colab.kernel.invokeFunction('convertToInteractive',\n",
              "                                                     [key], {});\n",
              "          if (!dataTable) return;\n",
              "\n",
              "          const docLinkHtml = 'Like what you see? Visit the ' +\n",
              "            '<a target=\"_blank\" href=https://colab.research.google.com/notebooks/data_table.ipynb>data table notebook</a>'\n",
              "            + ' to learn more about interactive tables.';\n",
              "          element.innerHTML = '';\n",
              "          dataTable['output_type'] = 'display_data';\n",
              "          await google.colab.output.renderOutput(dataTable, element);\n",
              "          const docLink = document.createElement('div');\n",
              "          docLink.innerHTML = docLinkHtml;\n",
              "          element.appendChild(docLink);\n",
              "        }\n",
              "      </script>\n",
              "    </div>\n",
              "  </div>\n",
              "  "
            ]
          },
          "metadata": {},
          "execution_count": 7
        }
      ]
    },
    {
      "cell_type": "code",
      "source": [
        "dftesting"
      ],
      "metadata": {
        "colab": {
          "base_uri": "https://localhost:8080/",
          "height": 487
        },
        "id": "kknjxQyo77_w",
        "outputId": "bb2ff277-3d5c-47ca-b4b4-54381456f58a"
      },
      "execution_count": null,
      "outputs": [
        {
          "output_type": "execute_result",
          "data": {
            "text/plain": [
              "    class  b1  b2  b3   b4  b5   b6   b7  b8  b9  ...  pred_minus_obs_H_b9  \\\n",
              "0      d   39  36  57   91  59  101   93  27  60  ...                -2.36   \n",
              "1      h   84  30  57  112  51   98   92  26  62  ...                -2.26   \n",
              "2      s   53  25  49   99  51   93   84  26  58  ...                -1.46   \n",
              "3      s   59  26  49  103  47   92   82  25  56  ...                 2.68   \n",
              "4      d   57  49  66  103  64  106  114  28  59  ...                -2.94   \n",
              "..    ...  ..  ..  ..  ...  ..  ...  ...  ..  ..  ...                  ...   \n",
              "193    d   55  61  90   75  55   91   84  24  54  ...                 1.28   \n",
              "194    d   66  69  93   90  63  100   99  25  57  ...                -1.50   \n",
              "195    h   79  30  55  115  51   96  109  25  59  ...                -3.66   \n",
              "196    h   69  27  53  106  47   90   87  24  55  ...                -0.88   \n",
              "197    h   80  29  55  116  50   95  102  25  59  ...                -4.19   \n",
              "\n",
              "     pred_minus_obs_S_b1  pred_minus_obs_S_b2  pred_minus_obs_S_b3  \\\n",
              "0                 -18.41                -1.88                -6.43   \n",
              "1                 -16.27                -1.95                -6.25   \n",
              "2                 -15.92                -1.79                -4.64   \n",
              "3                 -13.77                -2.53                -6.34   \n",
              "4                 -21.74                -1.64                -4.62   \n",
              "..                   ...                  ...                  ...   \n",
              "193               -20.84                -1.47                -5.72   \n",
              "194               -19.64                -1.45                -5.60   \n",
              "195               -22.40                -3.91                -6.61   \n",
              "196               -13.32                 0.16                -2.39   \n",
              "197               -21.98                -2.12                -6.03   \n",
              "\n",
              "     pred_minus_obs_S_b4  pred_minus_obs_S_b5  pred_minus_obs_S_b6  \\\n",
              "0                 -21.03                -1.60                -6.18   \n",
              "1                 -18.79                -1.99                -6.18   \n",
              "2                 -17.73                -0.48                -4.69   \n",
              "3                 -22.03                -2.34                -6.60   \n",
              "4                 -23.74                -0.85                -5.50   \n",
              "..                   ...                  ...                  ...   \n",
              "193               -18.73                -1.18                -5.22   \n",
              "194               -17.03                -1.08                -5.15   \n",
              "195               -36.29                -2.13                -5.77   \n",
              "196                -7.12                 0.02                -2.06   \n",
              "197               -26.08                -1.67                -5.82   \n",
              "\n",
              "     pred_minus_obs_S_b7  pred_minus_obs_S_b8  pred_minus_obs_S_b9  \n",
              "0                 -22.50                -5.20                -7.86  \n",
              "1                 -23.41                -8.87               -10.83  \n",
              "2                 -19.97                -4.10                -7.07  \n",
              "3                 -27.10                -7.99               -10.81  \n",
              "4                 -22.83                -2.74                -5.84  \n",
              "..                   ...                  ...                  ...  \n",
              "193               -17.81                -1.28                -3.87  \n",
              "194               -16.77                -1.46                -4.03  \n",
              "195               -23.32                -2.09                -4.13  \n",
              "196               -10.04                -0.74                -2.88  \n",
              "197               -20.91                -0.90                -3.70  \n",
              "\n",
              "[198 rows x 28 columns]"
            ],
            "text/html": [
              "\n",
              "  <div id=\"df-970cd698-8d7e-4321-8281-1fba44c46261\">\n",
              "    <div class=\"colab-df-container\">\n",
              "      <div>\n",
              "<style scoped>\n",
              "    .dataframe tbody tr th:only-of-type {\n",
              "        vertical-align: middle;\n",
              "    }\n",
              "\n",
              "    .dataframe tbody tr th {\n",
              "        vertical-align: top;\n",
              "    }\n",
              "\n",
              "    .dataframe thead th {\n",
              "        text-align: right;\n",
              "    }\n",
              "</style>\n",
              "<table border=\"1\" class=\"dataframe\">\n",
              "  <thead>\n",
              "    <tr style=\"text-align: right;\">\n",
              "      <th></th>\n",
              "      <th>class</th>\n",
              "      <th>b1</th>\n",
              "      <th>b2</th>\n",
              "      <th>b3</th>\n",
              "      <th>b4</th>\n",
              "      <th>b5</th>\n",
              "      <th>b6</th>\n",
              "      <th>b7</th>\n",
              "      <th>b8</th>\n",
              "      <th>b9</th>\n",
              "      <th>...</th>\n",
              "      <th>pred_minus_obs_H_b9</th>\n",
              "      <th>pred_minus_obs_S_b1</th>\n",
              "      <th>pred_minus_obs_S_b2</th>\n",
              "      <th>pred_minus_obs_S_b3</th>\n",
              "      <th>pred_minus_obs_S_b4</th>\n",
              "      <th>pred_minus_obs_S_b5</th>\n",
              "      <th>pred_minus_obs_S_b6</th>\n",
              "      <th>pred_minus_obs_S_b7</th>\n",
              "      <th>pred_minus_obs_S_b8</th>\n",
              "      <th>pred_minus_obs_S_b9</th>\n",
              "    </tr>\n",
              "  </thead>\n",
              "  <tbody>\n",
              "    <tr>\n",
              "      <th>0</th>\n",
              "      <td>d</td>\n",
              "      <td>39</td>\n",
              "      <td>36</td>\n",
              "      <td>57</td>\n",
              "      <td>91</td>\n",
              "      <td>59</td>\n",
              "      <td>101</td>\n",
              "      <td>93</td>\n",
              "      <td>27</td>\n",
              "      <td>60</td>\n",
              "      <td>...</td>\n",
              "      <td>-2.36</td>\n",
              "      <td>-18.41</td>\n",
              "      <td>-1.88</td>\n",
              "      <td>-6.43</td>\n",
              "      <td>-21.03</td>\n",
              "      <td>-1.60</td>\n",
              "      <td>-6.18</td>\n",
              "      <td>-22.50</td>\n",
              "      <td>-5.20</td>\n",
              "      <td>-7.86</td>\n",
              "    </tr>\n",
              "    <tr>\n",
              "      <th>1</th>\n",
              "      <td>h</td>\n",
              "      <td>84</td>\n",
              "      <td>30</td>\n",
              "      <td>57</td>\n",
              "      <td>112</td>\n",
              "      <td>51</td>\n",
              "      <td>98</td>\n",
              "      <td>92</td>\n",
              "      <td>26</td>\n",
              "      <td>62</td>\n",
              "      <td>...</td>\n",
              "      <td>-2.26</td>\n",
              "      <td>-16.27</td>\n",
              "      <td>-1.95</td>\n",
              "      <td>-6.25</td>\n",
              "      <td>-18.79</td>\n",
              "      <td>-1.99</td>\n",
              "      <td>-6.18</td>\n",
              "      <td>-23.41</td>\n",
              "      <td>-8.87</td>\n",
              "      <td>-10.83</td>\n",
              "    </tr>\n",
              "    <tr>\n",
              "      <th>2</th>\n",
              "      <td>s</td>\n",
              "      <td>53</td>\n",
              "      <td>25</td>\n",
              "      <td>49</td>\n",
              "      <td>99</td>\n",
              "      <td>51</td>\n",
              "      <td>93</td>\n",
              "      <td>84</td>\n",
              "      <td>26</td>\n",
              "      <td>58</td>\n",
              "      <td>...</td>\n",
              "      <td>-1.46</td>\n",
              "      <td>-15.92</td>\n",
              "      <td>-1.79</td>\n",
              "      <td>-4.64</td>\n",
              "      <td>-17.73</td>\n",
              "      <td>-0.48</td>\n",
              "      <td>-4.69</td>\n",
              "      <td>-19.97</td>\n",
              "      <td>-4.10</td>\n",
              "      <td>-7.07</td>\n",
              "    </tr>\n",
              "    <tr>\n",
              "      <th>3</th>\n",
              "      <td>s</td>\n",
              "      <td>59</td>\n",
              "      <td>26</td>\n",
              "      <td>49</td>\n",
              "      <td>103</td>\n",
              "      <td>47</td>\n",
              "      <td>92</td>\n",
              "      <td>82</td>\n",
              "      <td>25</td>\n",
              "      <td>56</td>\n",
              "      <td>...</td>\n",
              "      <td>2.68</td>\n",
              "      <td>-13.77</td>\n",
              "      <td>-2.53</td>\n",
              "      <td>-6.34</td>\n",
              "      <td>-22.03</td>\n",
              "      <td>-2.34</td>\n",
              "      <td>-6.60</td>\n",
              "      <td>-27.10</td>\n",
              "      <td>-7.99</td>\n",
              "      <td>-10.81</td>\n",
              "    </tr>\n",
              "    <tr>\n",
              "      <th>4</th>\n",
              "      <td>d</td>\n",
              "      <td>57</td>\n",
              "      <td>49</td>\n",
              "      <td>66</td>\n",
              "      <td>103</td>\n",
              "      <td>64</td>\n",
              "      <td>106</td>\n",
              "      <td>114</td>\n",
              "      <td>28</td>\n",
              "      <td>59</td>\n",
              "      <td>...</td>\n",
              "      <td>-2.94</td>\n",
              "      <td>-21.74</td>\n",
              "      <td>-1.64</td>\n",
              "      <td>-4.62</td>\n",
              "      <td>-23.74</td>\n",
              "      <td>-0.85</td>\n",
              "      <td>-5.50</td>\n",
              "      <td>-22.83</td>\n",
              "      <td>-2.74</td>\n",
              "      <td>-5.84</td>\n",
              "    </tr>\n",
              "    <tr>\n",
              "      <th>...</th>\n",
              "      <td>...</td>\n",
              "      <td>...</td>\n",
              "      <td>...</td>\n",
              "      <td>...</td>\n",
              "      <td>...</td>\n",
              "      <td>...</td>\n",
              "      <td>...</td>\n",
              "      <td>...</td>\n",
              "      <td>...</td>\n",
              "      <td>...</td>\n",
              "      <td>...</td>\n",
              "      <td>...</td>\n",
              "      <td>...</td>\n",
              "      <td>...</td>\n",
              "      <td>...</td>\n",
              "      <td>...</td>\n",
              "      <td>...</td>\n",
              "      <td>...</td>\n",
              "      <td>...</td>\n",
              "      <td>...</td>\n",
              "      <td>...</td>\n",
              "    </tr>\n",
              "    <tr>\n",
              "      <th>193</th>\n",
              "      <td>d</td>\n",
              "      <td>55</td>\n",
              "      <td>61</td>\n",
              "      <td>90</td>\n",
              "      <td>75</td>\n",
              "      <td>55</td>\n",
              "      <td>91</td>\n",
              "      <td>84</td>\n",
              "      <td>24</td>\n",
              "      <td>54</td>\n",
              "      <td>...</td>\n",
              "      <td>1.28</td>\n",
              "      <td>-20.84</td>\n",
              "      <td>-1.47</td>\n",
              "      <td>-5.72</td>\n",
              "      <td>-18.73</td>\n",
              "      <td>-1.18</td>\n",
              "      <td>-5.22</td>\n",
              "      <td>-17.81</td>\n",
              "      <td>-1.28</td>\n",
              "      <td>-3.87</td>\n",
              "    </tr>\n",
              "    <tr>\n",
              "      <th>194</th>\n",
              "      <td>d</td>\n",
              "      <td>66</td>\n",
              "      <td>69</td>\n",
              "      <td>93</td>\n",
              "      <td>90</td>\n",
              "      <td>63</td>\n",
              "      <td>100</td>\n",
              "      <td>99</td>\n",
              "      <td>25</td>\n",
              "      <td>57</td>\n",
              "      <td>...</td>\n",
              "      <td>-1.50</td>\n",
              "      <td>-19.64</td>\n",
              "      <td>-1.45</td>\n",
              "      <td>-5.60</td>\n",
              "      <td>-17.03</td>\n",
              "      <td>-1.08</td>\n",
              "      <td>-5.15</td>\n",
              "      <td>-16.77</td>\n",
              "      <td>-1.46</td>\n",
              "      <td>-4.03</td>\n",
              "    </tr>\n",
              "    <tr>\n",
              "      <th>195</th>\n",
              "      <td>h</td>\n",
              "      <td>79</td>\n",
              "      <td>30</td>\n",
              "      <td>55</td>\n",
              "      <td>115</td>\n",
              "      <td>51</td>\n",
              "      <td>96</td>\n",
              "      <td>109</td>\n",
              "      <td>25</td>\n",
              "      <td>59</td>\n",
              "      <td>...</td>\n",
              "      <td>-3.66</td>\n",
              "      <td>-22.40</td>\n",
              "      <td>-3.91</td>\n",
              "      <td>-6.61</td>\n",
              "      <td>-36.29</td>\n",
              "      <td>-2.13</td>\n",
              "      <td>-5.77</td>\n",
              "      <td>-23.32</td>\n",
              "      <td>-2.09</td>\n",
              "      <td>-4.13</td>\n",
              "    </tr>\n",
              "    <tr>\n",
              "      <th>196</th>\n",
              "      <td>h</td>\n",
              "      <td>69</td>\n",
              "      <td>27</td>\n",
              "      <td>53</td>\n",
              "      <td>106</td>\n",
              "      <td>47</td>\n",
              "      <td>90</td>\n",
              "      <td>87</td>\n",
              "      <td>24</td>\n",
              "      <td>55</td>\n",
              "      <td>...</td>\n",
              "      <td>-0.88</td>\n",
              "      <td>-13.32</td>\n",
              "      <td>0.16</td>\n",
              "      <td>-2.39</td>\n",
              "      <td>-7.12</td>\n",
              "      <td>0.02</td>\n",
              "      <td>-2.06</td>\n",
              "      <td>-10.04</td>\n",
              "      <td>-0.74</td>\n",
              "      <td>-2.88</td>\n",
              "    </tr>\n",
              "    <tr>\n",
              "      <th>197</th>\n",
              "      <td>h</td>\n",
              "      <td>80</td>\n",
              "      <td>29</td>\n",
              "      <td>55</td>\n",
              "      <td>116</td>\n",
              "      <td>50</td>\n",
              "      <td>95</td>\n",
              "      <td>102</td>\n",
              "      <td>25</td>\n",
              "      <td>59</td>\n",
              "      <td>...</td>\n",
              "      <td>-4.19</td>\n",
              "      <td>-21.98</td>\n",
              "      <td>-2.12</td>\n",
              "      <td>-6.03</td>\n",
              "      <td>-26.08</td>\n",
              "      <td>-1.67</td>\n",
              "      <td>-5.82</td>\n",
              "      <td>-20.91</td>\n",
              "      <td>-0.90</td>\n",
              "      <td>-3.70</td>\n",
              "    </tr>\n",
              "  </tbody>\n",
              "</table>\n",
              "<p>198 rows × 28 columns</p>\n",
              "</div>\n",
              "      <button class=\"colab-df-convert\" onclick=\"convertToInteractive('df-970cd698-8d7e-4321-8281-1fba44c46261')\"\n",
              "              title=\"Convert this dataframe to an interactive table.\"\n",
              "              style=\"display:none;\">\n",
              "        \n",
              "  <svg xmlns=\"http://www.w3.org/2000/svg\" height=\"24px\"viewBox=\"0 0 24 24\"\n",
              "       width=\"24px\">\n",
              "    <path d=\"M0 0h24v24H0V0z\" fill=\"none\"/>\n",
              "    <path d=\"M18.56 5.44l.94 2.06.94-2.06 2.06-.94-2.06-.94-.94-2.06-.94 2.06-2.06.94zm-11 1L8.5 8.5l.94-2.06 2.06-.94-2.06-.94L8.5 2.5l-.94 2.06-2.06.94zm10 10l.94 2.06.94-2.06 2.06-.94-2.06-.94-.94-2.06-.94 2.06-2.06.94z\"/><path d=\"M17.41 7.96l-1.37-1.37c-.4-.4-.92-.59-1.43-.59-.52 0-1.04.2-1.43.59L10.3 9.45l-7.72 7.72c-.78.78-.78 2.05 0 2.83L4 21.41c.39.39.9.59 1.41.59.51 0 1.02-.2 1.41-.59l7.78-7.78 2.81-2.81c.8-.78.8-2.07 0-2.86zM5.41 20L4 18.59l7.72-7.72 1.47 1.35L5.41 20z\"/>\n",
              "  </svg>\n",
              "      </button>\n",
              "      \n",
              "  <style>\n",
              "    .colab-df-container {\n",
              "      display:flex;\n",
              "      flex-wrap:wrap;\n",
              "      gap: 12px;\n",
              "    }\n",
              "\n",
              "    .colab-df-convert {\n",
              "      background-color: #E8F0FE;\n",
              "      border: none;\n",
              "      border-radius: 50%;\n",
              "      cursor: pointer;\n",
              "      display: none;\n",
              "      fill: #1967D2;\n",
              "      height: 32px;\n",
              "      padding: 0 0 0 0;\n",
              "      width: 32px;\n",
              "    }\n",
              "\n",
              "    .colab-df-convert:hover {\n",
              "      background-color: #E2EBFA;\n",
              "      box-shadow: 0px 1px 2px rgba(60, 64, 67, 0.3), 0px 1px 3px 1px rgba(60, 64, 67, 0.15);\n",
              "      fill: #174EA6;\n",
              "    }\n",
              "\n",
              "    [theme=dark] .colab-df-convert {\n",
              "      background-color: #3B4455;\n",
              "      fill: #D2E3FC;\n",
              "    }\n",
              "\n",
              "    [theme=dark] .colab-df-convert:hover {\n",
              "      background-color: #434B5C;\n",
              "      box-shadow: 0px 1px 3px 1px rgba(0, 0, 0, 0.15);\n",
              "      filter: drop-shadow(0px 1px 2px rgba(0, 0, 0, 0.3));\n",
              "      fill: #FFFFFF;\n",
              "    }\n",
              "  </style>\n",
              "\n",
              "      <script>\n",
              "        const buttonEl =\n",
              "          document.querySelector('#df-970cd698-8d7e-4321-8281-1fba44c46261 button.colab-df-convert');\n",
              "        buttonEl.style.display =\n",
              "          google.colab.kernel.accessAllowed ? 'block' : 'none';\n",
              "\n",
              "        async function convertToInteractive(key) {\n",
              "          const element = document.querySelector('#df-970cd698-8d7e-4321-8281-1fba44c46261');\n",
              "          const dataTable =\n",
              "            await google.colab.kernel.invokeFunction('convertToInteractive',\n",
              "                                                     [key], {});\n",
              "          if (!dataTable) return;\n",
              "\n",
              "          const docLinkHtml = 'Like what you see? Visit the ' +\n",
              "            '<a target=\"_blank\" href=https://colab.research.google.com/notebooks/data_table.ipynb>data table notebook</a>'\n",
              "            + ' to learn more about interactive tables.';\n",
              "          element.innerHTML = '';\n",
              "          dataTable['output_type'] = 'display_data';\n",
              "          await google.colab.output.renderOutput(dataTable, element);\n",
              "          const docLink = document.createElement('div');\n",
              "          docLink.innerHTML = docLinkHtml;\n",
              "          element.appendChild(docLink);\n",
              "        }\n",
              "      </script>\n",
              "    </div>\n",
              "  </div>\n",
              "  "
            ]
          },
          "metadata": {},
          "execution_count": 8
        }
      ]
    },
    {
      "cell_type": "code",
      "source": [
        "list_of_column_names = list(dftraining.columns)\n",
        " \n",
        "# displaying the list of column names\n",
        "print('List of column names : ',\n",
        "      list_of_column_names)"
      ],
      "metadata": {
        "colab": {
          "base_uri": "https://localhost:8080/"
        },
        "id": "UboGoQeV8ZiM",
        "outputId": "31346232-96e9-4d5a-c18b-2a66628ce95f"
      },
      "execution_count": null,
      "outputs": [
        {
          "output_type": "stream",
          "name": "stdout",
          "text": [
            "List of column names :  ['class', 'b1', 'b2', 'b3', 'b4', 'b5', 'b6', 'b7', 'b8', 'b9', 'pred_minus_obs_H_b1', 'pred_minus_obs_H_b2', 'pred_minus_obs_H_b3', 'pred_minus_obs_H_b4', 'pred_minus_obs_H_b5', 'pred_minus_obs_H_b6', 'pred_minus_obs_H_b7', 'pred_minus_obs_H_b8', 'pred_minus_obs_H_b9', 'pred_minus_obs_S_b1', 'pred_minus_obs_S_b2', 'pred_minus_obs_S_b3', 'pred_minus_obs_S_b4', 'pred_minus_obs_S_b5', 'pred_minus_obs_S_b6', 'pred_minus_obs_S_b7', 'pred_minus_obs_S_b8', 'pred_minus_obs_S_b9']\n"
          ]
        }
      ]
    },
    {
      "cell_type": "code",
      "source": [
        "training_labels = dftraining.iloc[:,0]"
      ],
      "metadata": {
        "id": "onuWaJgb-B4l"
      },
      "execution_count": null,
      "outputs": []
    },
    {
      "cell_type": "code",
      "source": [
        "dftraining[\"class\"].value_counts()"
      ],
      "metadata": {
        "colab": {
          "base_uri": "https://localhost:8080/"
        },
        "id": "2E5gU2SJ-H_w",
        "outputId": "c7e1ea0a-3463-4b58-f50f-4ed0f9f19d98"
      },
      "execution_count": null,
      "outputs": [
        {
          "output_type": "execute_result",
          "data": {
            "text/plain": [
              "s     136\n",
              "d     105\n",
              "o      46\n",
              "h      38\n",
              "Name: class, dtype: int64"
            ]
          },
          "metadata": {},
          "execution_count": 11
        }
      ]
    },
    {
      "cell_type": "code",
      "source": [
        "from sklearn import preprocessing \n",
        "le = preprocessing.LabelEncoder()  \n",
        "labels = le.fit_transform(training_labels)"
      ],
      "metadata": {
        "id": "UeFd7yLeENU5"
      },
      "execution_count": null,
      "outputs": []
    },
    {
      "cell_type": "code",
      "source": [
        "labels"
      ],
      "metadata": {
        "colab": {
          "base_uri": "https://localhost:8080/"
        },
        "id": "lR537k5AESsm",
        "outputId": "ad000072-bb6d-4a4a-96c2-91ccde6dc006"
      },
      "execution_count": null,
      "outputs": [
        {
          "output_type": "execute_result",
          "data": {
            "text/plain": [
              "array([0, 3, 3, 0, 3, 0, 1, 2, 3, 0, 3, 2, 0, 3, 2, 3, 2, 0, 3, 2, 2, 0,\n",
              "       0, 3, 3, 3, 0, 0, 3, 0, 3, 2, 3, 3, 0, 0, 0, 0, 1, 2, 0, 3, 2, 2,\n",
              "       3, 2, 3, 0, 1, 3, 2, 0, 1, 1, 0, 3, 1, 2, 3, 3, 3, 3, 3, 3, 3, 3,\n",
              "       0, 3, 0, 3, 3, 0, 2, 3, 1, 1, 3, 3, 3, 3, 0, 3, 3, 1, 0, 3, 3, 2,\n",
              "       0, 3, 2, 0, 3, 3, 3, 0, 0, 3, 0, 0, 1, 1, 0, 3, 3, 3, 0, 2, 2, 3,\n",
              "       2, 0, 0, 3, 0, 2, 2, 0, 3, 1, 0, 3, 0, 3, 3, 3, 0, 0, 0, 2, 0, 0,\n",
              "       3, 3, 0, 3, 2, 0, 2, 0, 0, 0, 3, 2, 3, 0, 0, 2, 3, 1, 1, 0, 2, 0,\n",
              "       2, 2, 2, 0, 1, 2, 3, 3, 0, 3, 3, 3, 0, 0, 3, 3, 3, 2, 0, 3, 3, 1,\n",
              "       0, 3, 0, 0, 2, 0, 3, 0, 0, 1, 0, 2, 0, 3, 2, 3, 3, 1, 0, 2, 1, 3,\n",
              "       0, 3, 3, 0, 0, 3, 3, 3, 0, 3, 3, 3, 2, 2, 0, 0, 0, 0, 1, 3, 0, 3,\n",
              "       3, 3, 3, 1, 3, 0, 3, 0, 1, 3, 0, 0, 3, 3, 0, 0, 3, 2, 0, 0, 0, 0,\n",
              "       0, 3, 0, 0, 3, 0, 3, 3, 3, 0, 3, 0, 0, 0, 3, 3, 3, 3, 3, 0, 3, 1,\n",
              "       3, 3, 3, 3, 2, 3, 0, 3, 3, 3, 3, 3, 3, 0, 0, 2, 0, 2, 1, 0, 1, 0,\n",
              "       1, 1, 0, 1, 1, 2, 3, 3, 1, 3, 3, 3, 3, 0, 3, 3, 1, 1, 0, 3, 0, 3,\n",
              "       1, 1, 2, 3, 3, 1, 3, 1, 3, 1, 3, 2, 2, 0, 3, 3, 1])"
            ]
          },
          "metadata": {},
          "execution_count": 13
        }
      ]
    },
    {
      "cell_type": "code",
      "source": [
        "class_names = ['d','h','o','s']"
      ],
      "metadata": {
        "id": "JkKBXAL3ET8c"
      },
      "execution_count": null,
      "outputs": []
    },
    {
      "cell_type": "code",
      "source": [
        "from sklearn import tree\n",
        "import graphviz"
      ],
      "metadata": {
        "id": "HHN8s26BE7H5"
      },
      "execution_count": null,
      "outputs": []
    },
    {
      "cell_type": "code",
      "source": [
        "x_train = dftraining.iloc[:,1:]"
      ],
      "metadata": {
        "id": "Jyuz8CufFA_N"
      },
      "execution_count": null,
      "outputs": []
    },
    {
      "cell_type": "code",
      "source": [
        "y_train = dftraining.iloc[:,0:1]"
      ],
      "metadata": {
        "id": "L8tFFGIKFDSo"
      },
      "execution_count": null,
      "outputs": []
    },
    {
      "cell_type": "code",
      "source": [
        "x_test = dftesting.iloc[:,1:]"
      ],
      "metadata": {
        "id": "QbjKRGi7FGFu"
      },
      "execution_count": null,
      "outputs": []
    },
    {
      "cell_type": "code",
      "source": [
        "y_test = dftesting.iloc[:,0:1]"
      ],
      "metadata": {
        "id": "8ntkPSvUFLaJ"
      },
      "execution_count": null,
      "outputs": []
    },
    {
      "cell_type": "code",
      "source": [
        "feature_name = list(x_train.columns)\n",
        " \n",
        "# displaying the list of column names\n",
        "print('List of column names : ',\n",
        "      feature_name)"
      ],
      "metadata": {
        "colab": {
          "base_uri": "https://localhost:8080/"
        },
        "id": "XITvaVFrFOhV",
        "outputId": "faaa80eb-6be4-46cf-a741-483dd1b289ca"
      },
      "execution_count": null,
      "outputs": [
        {
          "output_type": "stream",
          "name": "stdout",
          "text": [
            "List of column names :  ['b1', 'b2', 'b3', 'b4', 'b5', 'b6', 'b7', 'b8', 'b9', 'pred_minus_obs_H_b1', 'pred_minus_obs_H_b2', 'pred_minus_obs_H_b3', 'pred_minus_obs_H_b4', 'pred_minus_obs_H_b5', 'pred_minus_obs_H_b6', 'pred_minus_obs_H_b7', 'pred_minus_obs_H_b8', 'pred_minus_obs_H_b9', 'pred_minus_obs_S_b1', 'pred_minus_obs_S_b2', 'pred_minus_obs_S_b3', 'pred_minus_obs_S_b4', 'pred_minus_obs_S_b5', 'pred_minus_obs_S_b6', 'pred_minus_obs_S_b7', 'pred_minus_obs_S_b8', 'pred_minus_obs_S_b9']\n"
          ]
        }
      ]
    },
    {
      "cell_type": "code",
      "source": [
        "class_names"
      ],
      "metadata": {
        "colab": {
          "base_uri": "https://localhost:8080/"
        },
        "id": "HcGGL3gOFSaL",
        "outputId": "dafa1edd-7dbb-4665-c09d-d28272562aaf"
      },
      "execution_count": null,
      "outputs": [
        {
          "output_type": "execute_result",
          "data": {
            "text/plain": [
              "['d', 'h', 'o', 's']"
            ]
          },
          "metadata": {},
          "execution_count": 21
        }
      ]
    },
    {
      "cell_type": "code",
      "source": [
        "# clf1 = tree.DecisionTreeClassifier() \n",
        "# clf1 = clf1.fit(x_train, y_train)"
      ],
      "metadata": {
        "id": "OgH7RSSGFUU9"
      },
      "execution_count": null,
      "outputs": []
    },
    {
      "cell_type": "code",
      "source": [
        "  # import graphviz \n",
        "  # dot_data = tree.export_graphviz(clf1, out_file=None,  \n",
        "  #                         feature_names=feature_name,   \n",
        "  #                         class_names=class_names,   \n",
        "  #                         filled=True, rounded=True,   \n",
        "  #                         special_characters=True)   \n",
        "  \n",
        "  # graph = graphviz.Source(dot_data)   "
      ],
      "metadata": {
        "id": "Jss3V3eTFZ9Y"
      },
      "execution_count": null,
      "outputs": []
    },
    {
      "cell_type": "code",
      "source": [
        "# graph"
      ],
      "metadata": {
        "id": "tNKYq3OaFdKz"
      },
      "execution_count": null,
      "outputs": []
    },
    {
      "cell_type": "code",
      "source": [
        "# prediction1 = clf1.predict(x_test) \n",
        "# prediction1"
      ],
      "metadata": {
        "id": "6_BgxJkTFg49"
      },
      "execution_count": null,
      "outputs": []
    },
    {
      "cell_type": "code",
      "source": [
        "# from sklearn.metrics import accuracy_score \n",
        "# print(accuracy_score(y_test, prediction1))"
      ],
      "metadata": {
        "id": "czE5_DpkFqkM"
      },
      "execution_count": null,
      "outputs": []
    },
    {
      "cell_type": "code",
      "source": [
        "clf = tree.DecisionTreeClassifier() \n",
        "from statistics import mean"
      ],
      "metadata": {
        "id": "BhTmu8RyFtTB"
      },
      "execution_count": null,
      "outputs": []
    },
    {
      "cell_type": "code",
      "source": [
        "# List of values to try for max_depth:\n",
        "max_depth_range = list(range(1, 10))\n",
        "# List to store the accuracy for each value of max_depth:\n",
        "accuracy = []\n",
        "avg_acc = []\n",
        "\n",
        "for depth in max_depth_range:\n",
        "  for i in range(10):\n",
        "    \n",
        "      clf = tree.DecisionTreeClassifier(max_depth = depth, \n",
        "                              random_state = 0)\n",
        "      clf.fit(x_train, y_train)\n",
        "      score = clf.score(x_test, y_test)\n",
        "      accuracy.append(score)\n",
        "  avg_acc.append(mean(accuracy))  \n",
        "\n",
        "avg_acc"
      ],
      "metadata": {
        "colab": {
          "base_uri": "https://localhost:8080/"
        },
        "id": "s500HF2rFxy2",
        "outputId": "6a3e670a-ce75-48a8-a2c0-8ad6d3c461ed"
      },
      "execution_count": null,
      "outputs": [
        {
          "output_type": "execute_result",
          "data": {
            "text/plain": [
              "[0.5606060606060606,\n",
              " 0.7272727272727273,\n",
              " 0.7777777777777778,\n",
              " 0.797979797979798,\n",
              " 0.8080808080808081,\n",
              " 0.8156565656565656,\n",
              " 0.8232323232323232,\n",
              " 0.8295454545454546,\n",
              " 0.8322109988776655]"
            ]
          },
          "metadata": {},
          "execution_count": 28
        }
      ]
    },
    {
      "cell_type": "code",
      "source": [
        "# max_depth: None\n",
        "\n",
        "# List to store the accuracy for each value of max_depth:\n",
        "accuracy = []\n",
        "avg_acc = []\n",
        "\n",
        "\n",
        "for i in range(10):\n",
        "    clf = tree.DecisionTreeClassifier(max_depth = None)\n",
        "    clf.fit(x_train, y_train)\n",
        "    score = clf.score(x_test, y_test)\n",
        "    accuracy.append(score)\n",
        "avg_acc.append(mean(accuracy))  \n",
        "\n",
        "avg_acc\n"
      ],
      "metadata": {
        "colab": {
          "base_uri": "https://localhost:8080/"
        },
        "id": "b35iHHZbF0lH",
        "outputId": "98be15c6-925e-4116-ad04-6b3723cd2ca9"
      },
      "execution_count": null,
      "outputs": [
        {
          "output_type": "execute_result",
          "data": {
            "text/plain": [
              "[0.8333333333333333]"
            ]
          },
          "metadata": {},
          "execution_count": 29
        }
      ]
    },
    {
      "cell_type": "code",
      "source": [
        "from sklearn.model_selection import train_test_split"
      ],
      "metadata": {
        "id": "C2n-yVxtGDa9"
      },
      "execution_count": null,
      "outputs": []
    },
    {
      "cell_type": "code",
      "source": [
        "split_size = [0.8,0.6,0.4,0.2]\n",
        "accuracy_with_val = []\n",
        "avg_acc=[]\n",
        "\n",
        "for size in split_size:\n",
        "  for i in range(10):\n",
        "    X_train, X_val, Y_train, Y_val = train_test_split(x_train, y_train, \n",
        "        test_size = size)\n",
        "    clf3 = tree.DecisionTreeClassifier()\n",
        "    clf3.fit(X_train, Y_train)\n",
        "    score = clf3.score(X_val, Y_val)\n",
        "    accuracy_with_val.append(score)\n",
        "  avg_acc.append(mean(accuracy_with_val))\n",
        "\n",
        "avg_acc"
      ],
      "metadata": {
        "colab": {
          "base_uri": "https://localhost:8080/"
        },
        "id": "cv85nYXwGIya",
        "outputId": "e66804e6-b7c2-4a55-9cb5-0cb1b3e5b80d"
      },
      "execution_count": null,
      "outputs": [
        {
          "output_type": "execute_result",
          "data": {
            "text/plain": [
              "[0.7442307692307693, 0.7408333333333333, 0.7446581196581197, 0.745801282051282]"
            ]
          },
          "metadata": {},
          "execution_count": 31
        }
      ]
    },
    {
      "cell_type": "code",
      "source": [
        "split_size = [0.6,0.5,0.4,0.3,0.2]\n",
        "accuracy_with_val = []\n",
        "avg_acc=[]\n",
        "#std_with_val = []\n",
        "\n",
        "for size in split_size:\n",
        "  for i in range(10):\n",
        "    X_train, X_val, Y_train, Y_val = train_test_split(x_train, y_train, \n",
        "        test_size = size)\n",
        "    clf3 = tree.DecisionTreeClassifier()\n",
        "    clf3.fit(X_train, Y_train)\n",
        "    score = clf3.score(X_val, Y_val)\n",
        "    accuracy_with_val.append(score)\n",
        "  avg_acc.append(mean(accuracy_with_val))\n",
        "\n",
        "avg_acc"
      ],
      "metadata": {
        "colab": {
          "base_uri": "https://localhost:8080/"
        },
        "id": "UBJKJGCkGMzS",
        "outputId": "9815f5e9-5afc-4790-cb53-adb0da4ef9b8"
      },
      "execution_count": null,
      "outputs": [
        {
          "output_type": "execute_result",
          "data": {
            "text/plain": [
              "[0.7564102564102564,\n",
              " 0.7668554349535944,\n",
              " 0.7579036233023964,\n",
              " 0.7615399623747564,\n",
              " 0.7615396622074975]"
            ]
          },
          "metadata": {},
          "execution_count": 32
        }
      ]
    },
    {
      "cell_type": "code",
      "source": [
        "import numpy as np\n",
        "from statistics import mean"
      ],
      "metadata": {
        "id": "_QGR5sznGSyA"
      },
      "execution_count": null,
      "outputs": []
    },
    {
      "cell_type": "code",
      "source": [
        "#testing for min sample split\n",
        "\n",
        "#split_size = 0.7 training, 0.3 validation\n",
        "min_sample_split = [2,4,6,8,10]\n",
        "accuracy_with_val = []\n",
        "avg_acc=[]\n",
        "#std_with_val = []\n",
        "\n",
        "for sample in min_sample_split:\n",
        "  for i in range(10):\n",
        "    X_train, X_val, Y_train, Y_val = train_test_split(x_train, y_train, \n",
        "        test_size = 0.3)\n",
        "    clf3 = tree.DecisionTreeClassifier(min_samples_split = sample)\n",
        "    clf3.fit(X_train, Y_train)\n",
        "    score = clf3.score(X_val, Y_val)\n",
        "    accuracy_with_val.append(score)\n",
        "  avg_acc.append(mean(accuracy_with_val))\n",
        "\n",
        "avg_acc"
      ],
      "metadata": {
        "colab": {
          "base_uri": "https://localhost:8080/"
        },
        "id": "IIJDbDMFGZlE",
        "outputId": "a301a085-7889-43b2-9b56-46e12e1011fa"
      },
      "execution_count": null,
      "outputs": [
        {
          "output_type": "execute_result",
          "data": {
            "text/plain": [
              "[0.7693877551020408,\n",
              " 0.7693877551020408,\n",
              " 0.7721088435374149,\n",
              " 0.7645408163265306,\n",
              " 0.7640816326530613]"
            ]
          },
          "metadata": {},
          "execution_count": 34
        }
      ]
    },
    {
      "cell_type": "code",
      "source": [
        "#testing for min sample for each leaf\n",
        "\n",
        "#split_size = 0.7 training, 0.3 validation\n",
        "min_samples_leaf = [1,4,7,10,13]\n",
        "accuracy_with_val = []\n",
        "avg_acc=[]\n",
        "#std_with_val = []\n",
        "\n",
        "for sample in min_samples_leaf:\n",
        "  for i in range(10):\n",
        "    X_train, X_val, Y_train, Y_val = train_test_split(x_train, y_train, \n",
        "        test_size = 0.3)\n",
        "    clf3 = tree.DecisionTreeClassifier(min_samples_leaf = sample)\n",
        "    clf3.fit(X_train, Y_train)\n",
        "    score = clf3.score(X_val, Y_val)\n",
        "    accuracy_with_val.append(score)\n",
        "  avg_acc.append(mean(accuracy_with_val))\n",
        "\n",
        "avg_acc"
      ],
      "metadata": {
        "colab": {
          "base_uri": "https://localhost:8080/"
        },
        "id": "jiRpxA9RGb3f",
        "outputId": "4799cb0c-12ed-4f9e-c865-9877068607b6"
      },
      "execution_count": null,
      "outputs": [
        {
          "output_type": "execute_result",
          "data": {
            "text/plain": [
              "[0.7418367346938776,\n",
              " 0.7688775510204082,\n",
              " 0.782312925170068,\n",
              " 0.7877551020408163,\n",
              " 0.7920408163265307]"
            ]
          },
          "metadata": {},
          "execution_count": 35
        }
      ]
    },
    {
      "cell_type": "code",
      "source": [
        "#testing for max number of leaf nodes\n",
        "\n",
        "#split_size = 0.7 training, 0.3 validation\n",
        "max_leaf_nodes = [None,6,11,16,21]\n",
        "accuracy_with_val = []\n",
        "avg_acc=[]\n",
        "#std_with_val = []\n",
        "\n",
        "for sample in max_leaf_nodes:\n",
        "  for i in range(10):\n",
        "    X_train, X_val, Y_train, Y_val = train_test_split(x_train, y_train, \n",
        "        test_size = 0.3)\n",
        "    clf3 = tree.DecisionTreeClassifier(max_leaf_nodes = sample)\n",
        "    clf3.fit(X_train, Y_train)\n",
        "    score = clf3.score(X_val, Y_val)\n",
        "    accuracy_with_val.append(score)\n",
        "  avg_acc.append(mean(accuracy_with_val))\n",
        "\n",
        "avg_acc"
      ],
      "metadata": {
        "colab": {
          "base_uri": "https://localhost:8080/"
        },
        "id": "Nx8vvucnGf_M",
        "outputId": "6a3a7542-41e7-456c-e23a-91742f1561a9"
      },
      "execution_count": null,
      "outputs": [
        {
          "output_type": "execute_result",
          "data": {
            "text/plain": [
              "[0.773469387755102,\n",
              " 0.7994897959183673,\n",
              " 0.8037414965986395,\n",
              " 0.7966836734693877,\n",
              " 0.796734693877551]"
            ]
          },
          "metadata": {},
          "execution_count": 36
        }
      ]
    },
    {
      "cell_type": "code",
      "source": [
        "#testing for min impurity decrease\n",
        "\n",
        "#split_size = 0.7 training, 0.3 validation\n",
        "min_impurity= [0.00,0.01,0.02,0.03,0.04,0.05]\n",
        "accuracy_with_val = []\n",
        "avg_acc=[]\n",
        "#std_with_val = []\n",
        "\n",
        "for sample in min_impurity:\n",
        "  for i in range(10):\n",
        "    X_train, X_val, Y_train, Y_val = train_test_split(x_train, y_train, \n",
        "        test_size = 0.3)\n",
        "    clf3 = tree.DecisionTreeClassifier(max_leaf_nodes = None, min_impurity_decrease = sample)\n",
        "    clf3.fit(X_train, Y_train)\n",
        "    score = clf3.score(X_val, Y_val)\n",
        "    accuracy_with_val.append(score)\n",
        "  avg_acc.append(mean(accuracy_with_val))\n",
        "\n",
        "avg_acc"
      ],
      "metadata": {
        "colab": {
          "base_uri": "https://localhost:8080/"
        },
        "id": "QoVtwmdMGjbp",
        "outputId": "9950282e-30e9-4a85-c34a-0620c191a229"
      },
      "execution_count": null,
      "outputs": [
        {
          "output_type": "execute_result",
          "data": {
            "text/plain": [
              "[0.7612244897959184,\n",
              " 0.7969387755102041,\n",
              " 0.8010204081632653,\n",
              " 0.8035714285714286,\n",
              " 0.8004081632653062,\n",
              " 0.8003401360544218]"
            ]
          },
          "metadata": {},
          "execution_count": 37
        }
      ]
    },
    {
      "cell_type": "code",
      "source": [
        "#testing for criterion gini and entropy\n",
        "\n",
        "#split_size = 0.7 training, 0.3 validation\n",
        "accuracy_with_val = []\n",
        "avg_acc=[]\n",
        "#std_with_val = []\n",
        "\n",
        "\n",
        "for i in range(10):\n",
        "  X_train, X_val, Y_train, Y_val = train_test_split(x_train, y_train, \n",
        "      test_size = 0.3)\n",
        "  clf3 = tree.DecisionTreeClassifier(criterion = \"gini\", max_leaf_nodes = None, min_impurity_decrease = 0.00)\n",
        "  clf3.fit(X_train, Y_train)\n",
        "  score = clf3.score(X_val, Y_val)\n",
        "  accuracy_with_val.append(score)\n",
        "avg_acc.append(mean(accuracy_with_val))\n",
        "\n",
        "avg_acc"
      ],
      "metadata": {
        "colab": {
          "base_uri": "https://localhost:8080/"
        },
        "id": "aD7XHK0hGnMy",
        "outputId": "16d6ddf3-1906-446c-c691-5a500dce3d70"
      },
      "execution_count": null,
      "outputs": [
        {
          "output_type": "execute_result",
          "data": {
            "text/plain": [
              "[0.7612244897959184]"
            ]
          },
          "metadata": {},
          "execution_count": 38
        }
      ]
    },
    {
      "cell_type": "code",
      "source": [
        "#testing for criterion gini and entropy\n",
        "\n",
        "#split_size = 0.7 training, 0.3 validation\n",
        "accuracy_with_val = []\n",
        "avg_acc=[]\n",
        "#std_with_val = []\n",
        "\n",
        "\n",
        "for i in range(10):\n",
        "  X_train, X_val, Y_train, Y_val = train_test_split(x_train, y_train, \n",
        "      test_size = 0.3)\n",
        "  clf3 = tree.DecisionTreeClassifier(criterion = \"entropy\", max_leaf_nodes = None, min_impurity_decrease = 0.00)\n",
        "  clf3.fit(X_train, Y_train)\n",
        "  score = clf3.score(X_val, Y_val)\n",
        "  accuracy_with_val.append(score)\n",
        "avg_acc.append(mean(accuracy_with_val))\n",
        "\n",
        "avg_acc"
      ],
      "metadata": {
        "colab": {
          "base_uri": "https://localhost:8080/"
        },
        "id": "m5WIlSUPGqXO",
        "outputId": "0e850ac7-5568-4235-ea67-b0dbe9d4d90c"
      },
      "execution_count": null,
      "outputs": [
        {
          "output_type": "execute_result",
          "data": {
            "text/plain": [
              "[0.7785714285714286]"
            ]
          },
          "metadata": {},
          "execution_count": 39
        }
      ]
    },
    {
      "cell_type": "code",
      "source": [
        "max_depth= [1,2,3,4,5,6,7,8,9,None]\n",
        "accuracy_with_val = []\n",
        "avg_acc=[]\n",
        "#std_with_val = []\n",
        "\n",
        "\n",
        "for sample in max_depth:\n",
        "  for i in range(10):\n",
        "    X_train, X_val, Y_train, Y_val = train_test_split(x_train, y_train, \n",
        "        test_size = 0.3)\n",
        "    clf3 = tree.DecisionTreeClassifier(max_depth = sample)\n",
        "    clf3.fit(X_train, Y_train)\n",
        "    score = clf3.score(X_val, Y_val)\n",
        "    accuracy_with_val.append(score)\n",
        "  avg_acc.append(mean(accuracy_with_val))\n",
        "\n",
        "avg_acc"
      ],
      "metadata": {
        "colab": {
          "base_uri": "https://localhost:8080/"
        },
        "id": "GgNiLVBeGtvy",
        "outputId": "c98169f9-f672-407e-99b4-46a42eb61c22"
      },
      "execution_count": null,
      "outputs": [
        {
          "output_type": "execute_result",
          "data": {
            "text/plain": [
              "[0.6704081632653062,\n",
              " 0.7346938775510204,\n",
              " 0.7564625850340136,\n",
              " 0.7642857142857142,\n",
              " 0.7651020408163265,\n",
              " 0.7715986394557823,\n",
              " 0.7739067055393586,\n",
              " 0.7719387755102041,\n",
              " 0.7712018140589569,\n",
              " 0.7706122448979592]"
            ]
          },
          "metadata": {},
          "execution_count": 40
        }
      ]
    },
    {
      "cell_type": "code",
      "source": [
        "np.std(avg_acc)"
      ],
      "metadata": {
        "colab": {
          "base_uri": "https://localhost:8080/"
        },
        "id": "6N2nSD7OGzOj",
        "outputId": "b7365808-52c8-4061-be65-859dbec13915"
      },
      "execution_count": null,
      "outputs": [
        {
          "output_type": "execute_result",
          "data": {
            "text/plain": [
              "0.030306219365669178"
            ]
          },
          "metadata": {},
          "execution_count": 41
        }
      ]
    },
    {
      "cell_type": "code",
      "source": [
        "import seaborn as sns\n",
        "import matplotlib.pyplot as plt\n",
        "%matplotlib inline\n"
      ],
      "metadata": {
        "id": "3jS_cdP0Yq0J"
      },
      "execution_count": null,
      "outputs": []
    },
    {
      "cell_type": "code",
      "source": [
        "from sklearn.metrics import confusion_matrix, accuracy_score, classification_report\n",
        "\n",
        "model3 = tree.DecisionTreeClassifier(min_samples_leaf = 7,\n",
        "                                       min_samples_split=2, min_impurity_decrease = 0.03)\n",
        "model3.fit(x_train, y_train)\n",
        "\n",
        "predictions = model3.predict(x_test)\n",
        "\n",
        "print(\"training accuracy :\", model3.score(x_train, y_train))\n",
        "print(\"testing accuracy :\", model3.score(x_test, y_test))\n",
        "\n",
        "ax = sns.heatmap(confusion_matrix(y_test,predictions), annot = True, cmap='Blues')\n",
        "ax.set_xlabel('\\nPredicted Values')\n",
        "ax.set_ylabel('Actual Values ')\n",
        "\n",
        "plt.show()\n",
        "\n",
        "print(classification_report(y_test,predictions))"
      ],
      "metadata": {
        "colab": {
          "base_uri": "https://localhost:8080/",
          "height": 523
        },
        "id": "7uG0ttZuEuub",
        "outputId": "b0e8cba9-8854-444a-c215-b0df4eed3c9f"
      },
      "execution_count": null,
      "outputs": [
        {
          "output_type": "stream",
          "name": "stdout",
          "text": [
            "training accuracy : 0.8461538461538461\n",
            "testing accuracy : 0.8939393939393939\n"
          ]
        },
        {
          "output_type": "display_data",
          "data": {
            "text/plain": [
              "<Figure size 432x288 with 2 Axes>"
            ],
            "image/png": "[encoded data removed]"
          },
          "metadata": {
            "needs_background": "light"
          }
        },
        {
          "output_type": "stream",
          "name": "stdout",
          "text": [
            "              precision    recall  f1-score   support\n",
            "\n",
            "          d        0.91      0.96      0.94        54\n",
            "          h        0.95      0.73      0.82        48\n",
            "          o        0.97      0.92      0.94        37\n",
            "          s        0.81      0.95      0.87        59\n",
            "\n",
            "    accuracy                           0.89       198\n",
            "   macro avg       0.91      0.89      0.89       198\n",
            "weighted avg       0.90      0.89      0.89       198\n",
            "\n"
          ]
        }
      ]
    },
    {
      "cell_type": "code",
      "source": [
        "import graphviz \n",
        "dot_data = tree.export_graphviz(model3, out_file=None,  \n",
        "                         feature_names=feature_name,   \n",
        "                         class_names=class_names,   \n",
        "                         filled=True, rounded=True,   \n",
        "                         special_characters=True)   \n",
        " \n",
        "graph = graphviz.Source(dot_data)   \n",
        "graph"
      ],
      "metadata": {
        "colab": {
          "base_uri": "https://localhost:8080/",
          "height": 439
        },
        "id": "QerBXZiiY6qv",
        "outputId": "e15b21ba-0c18-4bb1-ba9f-c2e121a6ce52"
      },
      "execution_count": null,
      "outputs": [
        {
          "output_type": "execute_result",
          "data": {
            "text/plain": [
              "<graphviz.files.Source at 0x7fd4a087ef50>"
            ],
            "image/svg+xml": "<?xml version=\"1.0\" encoding=\"UTF-8\" standalone=\"no\"?>\n<!DOCTYPE svg PUBLIC \"-//W3C//DTD SVG 1.1//EN\"\n \"http://www.w3.org/Graphics/SVG/1.1/DTD/svg11.dtd\">\n<!-- Generated by graphviz version 2.40.1 (20161225.0304)\n -->\n<!-- Title: Tree Pages: 1 -->\n<svg width=\"670pt\" height=\"314pt\"\n viewBox=\"0.00 0.00 669.50 314.00\" xmlns=\"http://www.w3.org/2000/svg\" xmlns:xlink=\"http://www.w3.org/1999/xlink\">\n<g id=\"graph0\" class=\"graph\" transform=\"scale(1 1) rotate(0) translate(4 310)\">\n<title>Tree</title>\n<polygon fill=\"#ffffff\" stroke=\"transparent\" points=\"-4,4 -4,-310 665.5,-310 665.5,4 -4,4\"/>\n<!-- 0 -->\n<g id=\"node1\" class=\"node\">\n<title>0</title>\n<path fill=\"#f9e3fb\" stroke=\"#000000\" d=\"M421,-306C421,-306 265,-306 265,-306 259,-306 253,-300 253,-294 253,-294 253,-235 253,-235 253,-229 259,-223 265,-223 265,-223 421,-223 421,-223 427,-223 433,-229 433,-235 433,-235 433,-294 433,-294 433,-300 427,-306 421,-306\"/>\n<text text-anchor=\"start\" x=\"312.5\" y=\"-290.8\" font-family=\"Helvetica,sans-Serif\" font-size=\"14.00\" fill=\"#000000\">b2 ≤ 34.5</text>\n<text text-anchor=\"start\" x=\"305\" y=\"-275.8\" font-family=\"Helvetica,sans-Serif\" font-size=\"14.00\" fill=\"#000000\">gini = 0.687</text>\n<text text-anchor=\"start\" x=\"295\" y=\"-260.8\" font-family=\"Helvetica,sans-Serif\" font-size=\"14.00\" fill=\"#000000\">samples = 325</text>\n<text text-anchor=\"start\" x=\"261\" y=\"-245.8\" font-family=\"Helvetica,sans-Serif\" font-size=\"14.00\" fill=\"#000000\">value = [105, 38, 46, 136]</text>\n<text text-anchor=\"start\" x=\"314\" y=\"-230.8\" font-family=\"Helvetica,sans-Serif\" font-size=\"14.00\" fill=\"#000000\">class = s</text>\n</g>\n<!-- 1 -->\n<g id=\"node2\" class=\"node\">\n<title>1</title>\n<path fill=\"#e686ef\" stroke=\"#000000\" d=\"M309,-187C309,-187 169,-187 169,-187 163,-187 157,-181 157,-175 157,-175 157,-116 157,-116 157,-110 163,-104 169,-104 169,-104 309,-104 309,-104 315,-104 321,-110 321,-116 321,-116 321,-175 321,-175 321,-181 315,-187 309,-187\"/>\n<text text-anchor=\"start\" x=\"204.5\" y=\"-171.8\" font-family=\"Helvetica,sans-Serif\" font-size=\"14.00\" fill=\"#000000\">b4 ≤ 109.5</text>\n<text text-anchor=\"start\" x=\"201\" y=\"-156.8\" font-family=\"Helvetica,sans-Serif\" font-size=\"14.00\" fill=\"#000000\">gini = 0.472</text>\n<text text-anchor=\"start\" x=\"191\" y=\"-141.8\" font-family=\"Helvetica,sans-Serif\" font-size=\"14.00\" fill=\"#000000\">samples = 188</text>\n<text text-anchor=\"start\" x=\"165\" y=\"-126.8\" font-family=\"Helvetica,sans-Serif\" font-size=\"14.00\" fill=\"#000000\">value = [18, 38, 2, 130]</text>\n<text text-anchor=\"start\" x=\"210\" y=\"-111.8\" font-family=\"Helvetica,sans-Serif\" font-size=\"14.00\" fill=\"#000000\">class = s</text>\n</g>\n<!-- 0&#45;&gt;1 -->\n<g id=\"edge1\" class=\"edge\">\n<title>0&#45;&gt;1</title>\n<path fill=\"none\" stroke=\"#000000\" d=\"M306.6258,-222.8796C298.7548,-213.8733 290.3571,-204.2644 282.2515,-194.9897\"/>\n<polygon fill=\"#000000\" stroke=\"#000000\" points=\"284.7454,-192.5246 275.5294,-187.2981 279.4746,-197.131 284.7454,-192.5246\"/>\n<text text-anchor=\"middle\" x=\"273.8516\" y=\"-208.5417\" font-family=\"Helvetica,sans-Serif\" font-size=\"14.00\" fill=\"#000000\">True</text>\n</g>\n<!-- 4 -->\n<g id=\"node5\" class=\"node\">\n<title>4</title>\n<path fill=\"#f3c5a3\" stroke=\"#000000\" d=\"M544.5,-187C544.5,-187 351.5,-187 351.5,-187 345.5,-187 339.5,-181 339.5,-175 339.5,-175 339.5,-116 339.5,-116 339.5,-110 345.5,-104 351.5,-104 351.5,-104 544.5,-104 544.5,-104 550.5,-104 556.5,-110 556.5,-116 556.5,-116 556.5,-175 556.5,-175 556.5,-181 550.5,-187 544.5,-187\"/>\n<text text-anchor=\"start\" x=\"347.5\" y=\"-171.8\" font-family=\"Helvetica,sans-Serif\" font-size=\"14.00\" fill=\"#000000\">pred_minus_obs_H_b8 ≤ &#45;2.51</text>\n<text text-anchor=\"start\" x=\"410\" y=\"-156.8\" font-family=\"Helvetica,sans-Serif\" font-size=\"14.00\" fill=\"#000000\">gini = 0.492</text>\n<text text-anchor=\"start\" x=\"400\" y=\"-141.8\" font-family=\"Helvetica,sans-Serif\" font-size=\"14.00\" fill=\"#000000\">samples = 137</text>\n<text text-anchor=\"start\" x=\"382.5\" y=\"-126.8\" font-family=\"Helvetica,sans-Serif\" font-size=\"14.00\" fill=\"#000000\">value = [87, 0, 44, 6]</text>\n<text text-anchor=\"start\" x=\"419\" y=\"-111.8\" font-family=\"Helvetica,sans-Serif\" font-size=\"14.00\" fill=\"#000000\">class = d</text>\n</g>\n<!-- 0&#45;&gt;4 -->\n<g id=\"edge4\" class=\"edge\">\n<title>0&#45;&gt;4</title>\n<path fill=\"none\" stroke=\"#000000\" d=\"M379.7239,-222.8796C387.6707,-213.8733 396.149,-204.2644 404.3326,-194.9897\"/>\n<polygon fill=\"#000000\" stroke=\"#000000\" points=\"407.1275,-197.1122 411.1193,-187.2981 401.8787,-192.4808 407.1275,-197.1122\"/>\n<text text-anchor=\"middle\" x=\"412.6788\" y=\"-208.5494\" font-family=\"Helvetica,sans-Serif\" font-size=\"14.00\" fill=\"#000000\">False</text>\n</g>\n<!-- 2 -->\n<g id=\"node3\" class=\"node\">\n<title>2</title>\n<path fill=\"#df63ea\" stroke=\"#000000\" d=\"M152,-68C152,-68 12,-68 12,-68 6,-68 0,-62 0,-56 0,-56 0,-12 0,-12 0,-6 6,0 12,0 12,0 152,0 152,0 158,0 164,-6 164,-12 164,-12 164,-56 164,-56 164,-62 158,-68 152,-68\"/>\n<text text-anchor=\"start\" x=\"44\" y=\"-52.8\" font-family=\"Helvetica,sans-Serif\" font-size=\"14.00\" fill=\"#000000\">gini = 0.325</text>\n<text text-anchor=\"start\" x=\"34\" y=\"-37.8\" font-family=\"Helvetica,sans-Serif\" font-size=\"14.00\" fill=\"#000000\">samples = 159</text>\n<text text-anchor=\"start\" x=\"8\" y=\"-22.8\" font-family=\"Helvetica,sans-Serif\" font-size=\"14.00\" fill=\"#000000\">value = [17, 11, 2, 129]</text>\n<text text-anchor=\"start\" x=\"53\" y=\"-7.8\" font-family=\"Helvetica,sans-Serif\" font-size=\"14.00\" fill=\"#000000\">class = s</text>\n</g>\n<!-- 1&#45;&gt;2 -->\n<g id=\"edge2\" class=\"edge\">\n<title>1&#45;&gt;2</title>\n<path fill=\"none\" stroke=\"#000000\" d=\"M180.539,-103.9815C166.7492,-94.1881 152.0753,-83.7668 138.3795,-74.0402\"/>\n<polygon fill=\"#000000\" stroke=\"#000000\" points=\"140.1747,-71.0223 129.995,-68.0856 136.1215,-76.7295 140.1747,-71.0223\"/>\n</g>\n<!-- 3 -->\n<g id=\"node4\" class=\"node\">\n<title>3</title>\n<path fill=\"#54e747\" stroke=\"#000000\" d=\"M309.5,-68C309.5,-68 194.5,-68 194.5,-68 188.5,-68 182.5,-62 182.5,-56 182.5,-56 182.5,-12 182.5,-12 182.5,-6 188.5,0 194.5,0 194.5,0 309.5,0 309.5,0 315.5,0 321.5,-6 321.5,-12 321.5,-12 321.5,-56 321.5,-56 321.5,-62 315.5,-68 309.5,-68\"/>\n<text text-anchor=\"start\" x=\"214\" y=\"-52.8\" font-family=\"Helvetica,sans-Serif\" font-size=\"14.00\" fill=\"#000000\">gini = 0.131</text>\n<text text-anchor=\"start\" x=\"208\" y=\"-37.8\" font-family=\"Helvetica,sans-Serif\" font-size=\"14.00\" fill=\"#000000\">samples = 29</text>\n<text text-anchor=\"start\" x=\"190.5\" y=\"-22.8\" font-family=\"Helvetica,sans-Serif\" font-size=\"14.00\" fill=\"#000000\">value = [1, 27, 0, 1]</text>\n<text text-anchor=\"start\" x=\"223\" y=\"-7.8\" font-family=\"Helvetica,sans-Serif\" font-size=\"14.00\" fill=\"#000000\">class = h</text>\n</g>\n<!-- 1&#45;&gt;3 -->\n<g id=\"edge3\" class=\"edge\">\n<title>1&#45;&gt;3</title>\n<path fill=\"none\" stroke=\"#000000\" d=\"M243.8407,-103.9815C244.8158,-95.618 245.8443,-86.7965 246.8302,-78.3409\"/>\n<polygon fill=\"#000000\" stroke=\"#000000\" points=\"250.3234,-78.6017 248.0051,-68.2637 243.3705,-77.791 250.3234,-78.6017\"/>\n</g>\n<!-- 5 -->\n<g id=\"node6\" class=\"node\">\n<title>5</title>\n<path fill=\"#4aa5e7\" stroke=\"#000000\" d=\"M492.5,-68C492.5,-68 377.5,-68 377.5,-68 371.5,-68 365.5,-62 365.5,-56 365.5,-56 365.5,-12 365.5,-12 365.5,-6 371.5,0 377.5,0 377.5,0 492.5,0 492.5,0 498.5,0 504.5,-6 504.5,-12 504.5,-12 504.5,-56 504.5,-56 504.5,-62 498.5,-68 492.5,-68\"/>\n<text text-anchor=\"start\" x=\"397\" y=\"-52.8\" font-family=\"Helvetica,sans-Serif\" font-size=\"14.00\" fill=\"#000000\">gini = 0.145</text>\n<text text-anchor=\"start\" x=\"391\" y=\"-37.8\" font-family=\"Helvetica,sans-Serif\" font-size=\"14.00\" fill=\"#000000\">samples = 38</text>\n<text text-anchor=\"start\" x=\"373.5\" y=\"-22.8\" font-family=\"Helvetica,sans-Serif\" font-size=\"14.00\" fill=\"#000000\">value = [3, 0, 35, 0]</text>\n<text text-anchor=\"start\" x=\"406\" y=\"-7.8\" font-family=\"Helvetica,sans-Serif\" font-size=\"14.00\" fill=\"#000000\">class = o</text>\n</g>\n<!-- 4&#45;&gt;5 -->\n<g id=\"edge5\" class=\"edge\">\n<title>4&#45;&gt;5</title>\n<path fill=\"none\" stroke=\"#000000\" d=\"M443.1593,-103.9815C442.1842,-95.618 441.1557,-86.7965 440.1698,-78.3409\"/>\n<polygon fill=\"#000000\" stroke=\"#000000\" points=\"443.6295,-77.791 438.9949,-68.2637 436.6766,-78.6017 443.6295,-77.791\"/>\n</g>\n<!-- 6 -->\n<g id=\"node7\" class=\"node\">\n<title>6</title>\n<path fill=\"#e9965a\" stroke=\"#000000\" d=\"M649.5,-68C649.5,-68 534.5,-68 534.5,-68 528.5,-68 522.5,-62 522.5,-56 522.5,-56 522.5,-12 522.5,-12 522.5,-6 528.5,0 534.5,0 534.5,0 649.5,0 649.5,0 655.5,0 661.5,-6 661.5,-12 661.5,-12 661.5,-56 661.5,-56 661.5,-62 655.5,-68 649.5,-68\"/>\n<text text-anchor=\"start\" x=\"554\" y=\"-52.8\" font-family=\"Helvetica,sans-Serif\" font-size=\"14.00\" fill=\"#000000\">gini = 0.268</text>\n<text text-anchor=\"start\" x=\"548\" y=\"-37.8\" font-family=\"Helvetica,sans-Serif\" font-size=\"14.00\" fill=\"#000000\">samples = 99</text>\n<text text-anchor=\"start\" x=\"530.5\" y=\"-22.8\" font-family=\"Helvetica,sans-Serif\" font-size=\"14.00\" fill=\"#000000\">value = [84, 0, 9, 6]</text>\n<text text-anchor=\"start\" x=\"563\" y=\"-7.8\" font-family=\"Helvetica,sans-Serif\" font-size=\"14.00\" fill=\"#000000\">class = d</text>\n</g>\n<!-- 4&#45;&gt;6 -->\n<g id=\"edge6\" class=\"edge\">\n<title>4&#45;&gt;6</title>\n<path fill=\"none\" stroke=\"#000000\" d=\"M501.6203,-103.9815C514.0833,-94.3313 527.3338,-84.0714 539.7373,-74.4673\"/>\n<polygon fill=\"#000000\" stroke=\"#000000\" points=\"541.9851,-77.1534 547.7492,-68.2637 537.6995,-71.6186 541.9851,-77.1534\"/>\n</g>\n</g>\n</svg>\n"
          },
          "metadata": {},
          "execution_count": 44
        }
      ]
    },
    {
      "cell_type": "code",
      "source": [
        "forest_type = dftraining.iloc[:,0]\n",
        "forest_type"
      ],
      "metadata": {
        "colab": {
          "base_uri": "https://localhost:8080/"
        },
        "id": "g0Ii_pThNWOD",
        "outputId": "e6df8cd0-db71-44b2-8efb-9ec36a176687"
      },
      "execution_count": null,
      "outputs": [
        {
          "output_type": "execute_result",
          "data": {
            "text/plain": [
              "0      d \n",
              "1      s \n",
              "2      s \n",
              "3      d \n",
              "4      s \n",
              "       ..\n",
              "320    o \n",
              "321    d \n",
              "322    s \n",
              "323    s \n",
              "324    h \n",
              "Name: class, Length: 325, dtype: object"
            ]
          },
          "metadata": {},
          "execution_count": 50
        }
      ]
    },
    {
      "cell_type": "code",
      "source": [
        "X_v = dftraining.iloc[:,1:]\n",
        "\n",
        "X_v"
      ],
      "metadata": {
        "colab": {
          "base_uri": "https://localhost:8080/",
          "height": 487
        },
        "id": "KFKOs-u-OJbD",
        "outputId": "6f277e69-3108-494c-9d55-e4d17c35e276"
      },
      "execution_count": null,
      "outputs": [
        {
          "output_type": "execute_result",
          "data": {
            "text/plain": [
              "     b1  b2  b3   b4  b5   b6   b7  b8  b9  pred_minus_obs_H_b1  ...  \\\n",
              "0    67  51  68  115  69  111  136  31  67                47.70  ...   \n",
              "1    67  28  51   99  50   97   82  26  59                47.93  ...   \n",
              "2    63  26  50   95  49   91   81  26  57                53.09  ...   \n",
              "3    63  42  63   97  66  108  111  28  59                52.41  ...   \n",
              "4    46  27  50   83  51   90   76  26  56                68.54  ...   \n",
              "..   ..  ..  ..  ...  ..  ...  ...  ..  ..                  ...  ...   \n",
              "320  55  56  72   91  79  113   86  35  68                62.20  ...   \n",
              "321  69  49  76   91  52   91   92  25  57                34.95  ...   \n",
              "322  49  26  48  107  59  104   62  22  53                69.86  ...   \n",
              "323  55  26  52   92  55   98   65  23  56                63.64  ...   \n",
              "324  71  28  51   96  46   88   92  25  58                34.77  ...   \n",
              "\n",
              "     pred_minus_obs_H_b9  pred_minus_obs_S_b1  pred_minus_obs_S_b2  \\\n",
              "0                  -9.17               -18.27                -1.80   \n",
              "1                  -2.25               -20.13                -2.11   \n",
              "2                  -0.44               -17.64                -1.81   \n",
              "3                  -2.34               -20.20                -1.89   \n",
              "4                   1.25               -18.62                -2.17   \n",
              "..                   ...                  ...                  ...   \n",
              "320               -12.86               -23.08                -0.08   \n",
              "321                -2.36               -11.47                -0.40   \n",
              "322                 2.32               -23.48                 1.44   \n",
              "323                -0.77               -23.74                 1.27   \n",
              "324                -3.24               -13.96                -0.44   \n",
              "\n",
              "     pred_minus_obs_S_b3  pred_minus_obs_S_b4  pred_minus_obs_S_b5  \\\n",
              "0                  -6.32               -20.88                -1.63   \n",
              "1                  -6.35               -21.94                -1.22   \n",
              "2                  -4.70               -19.39                -0.65   \n",
              "3                  -5.47               -21.65                -0.99   \n",
              "4                  -7.11               -21.12                -1.56   \n",
              "..                   ...                  ...                  ...   \n",
              "320                -3.46               -27.52                -1.04   \n",
              "321                -3.74               -16.90                -0.78   \n",
              "322                -1.59               -26.98                -1.36   \n",
              "323                -1.30               -25.53                -1.21   \n",
              "324                -3.84               -15.45                -0.71   \n",
              "\n",
              "     pred_minus_obs_S_b6  pred_minus_obs_S_b7  pred_minus_obs_S_b8  \\\n",
              "0                  -6.13               -22.56                -5.53   \n",
              "1                  -6.13               -22.20                -3.41   \n",
              "2                  -5.01               -20.89                -3.96   \n",
              "3                  -5.71               -22.19                -3.41   \n",
              "4                  -6.35               -22.19                -4.45   \n",
              "..                   ...                  ...                  ...   \n",
              "320                -4.73               -22.85                -1.49   \n",
              "321                -4.15               -11.13                -1.48   \n",
              "322                -4.81               -24.50                -2.53   \n",
              "323                -4.70               -24.39                -2.21   \n",
              "324                -3.94               -12.74                -1.36   \n",
              "\n",
              "     pred_minus_obs_S_b9  \n",
              "0                  -8.11  \n",
              "1                  -6.57  \n",
              "2                  -6.85  \n",
              "3                  -6.52  \n",
              "4                  -7.32  \n",
              "..                   ...  \n",
              "320                -4.10  \n",
              "321                -3.55  \n",
              "322                -4.97  \n",
              "323                -4.72  \n",
              "324                -3.63  \n",
              "\n",
              "[325 rows x 27 columns]"
            ],
            "text/html": [
              "\n",
              "  <div id=\"df-54676583-94bb-4d88-815a-571f8c1ec150\">\n",
              "    <div class=\"colab-df-container\">\n",
              "      <div>\n",
              "<style scoped>\n",
              "    .dataframe tbody tr th:only-of-type {\n",
              "        vertical-align: middle;\n",
              "    }\n",
              "\n",
              "    .dataframe tbody tr th {\n",
              "        vertical-align: top;\n",
              "    }\n",
              "\n",
              "    .dataframe thead th {\n",
              "        text-align: right;\n",
              "    }\n",
              "</style>\n",
              "<table border=\"1\" class=\"dataframe\">\n",
              "  <thead>\n",
              "    <tr style=\"text-align: right;\">\n",
              "      <th></th>\n",
              "      <th>b1</th>\n",
              "      <th>b2</th>\n",
              "      <th>b3</th>\n",
              "      <th>b4</th>\n",
              "      <th>b5</th>\n",
              "      <th>b6</th>\n",
              "      <th>b7</th>\n",
              "      <th>b8</th>\n",
              "      <th>b9</th>\n",
              "      <th>pred_minus_obs_H_b1</th>\n",
              "      <th>...</th>\n",
              "      <th>pred_minus_obs_H_b9</th>\n",
              "      <th>pred_minus_obs_S_b1</th>\n",
              "      <th>pred_minus_obs_S_b2</th>\n",
              "      <th>pred_minus_obs_S_b3</th>\n",
              "      <th>pred_minus_obs_S_b4</th>\n",
              "      <th>pred_minus_obs_S_b5</th>\n",
              "      <th>pred_minus_obs_S_b6</th>\n",
              "      <th>pred_minus_obs_S_b7</th>\n",
              "      <th>pred_minus_obs_S_b8</th>\n",
              "      <th>pred_minus_obs_S_b9</th>\n",
              "    </tr>\n",
              "  </thead>\n",
              "  <tbody>\n",
              "    <tr>\n",
              "      <th>0</th>\n",
              "      <td>67</td>\n",
              "      <td>51</td>\n",
              "      <td>68</td>\n",
              "      <td>115</td>\n",
              "      <td>69</td>\n",
              "      <td>111</td>\n",
              "      <td>136</td>\n",
              "      <td>31</td>\n",
              "      <td>67</td>\n",
              "      <td>47.70</td>\n",
              "      <td>...</td>\n",
              "      <td>-9.17</td>\n",
              "      <td>-18.27</td>\n",
              "      <td>-1.80</td>\n",
              "      <td>-6.32</td>\n",
              "      <td>-20.88</td>\n",
              "      <td>-1.63</td>\n",
              "      <td>-6.13</td>\n",
              "      <td>-22.56</td>\n",
              "      <td>-5.53</td>\n",
              "      <td>-8.11</td>\n",
              "    </tr>\n",
              "    <tr>\n",
              "      <th>1</th>\n",
              "      <td>67</td>\n",
              "      <td>28</td>\n",
              "      <td>51</td>\n",
              "      <td>99</td>\n",
              "      <td>50</td>\n",
              "      <td>97</td>\n",
              "      <td>82</td>\n",
              "      <td>26</td>\n",
              "      <td>59</td>\n",
              "      <td>47.93</td>\n",
              "      <td>...</td>\n",
              "      <td>-2.25</td>\n",
              "      <td>-20.13</td>\n",
              "      <td>-2.11</td>\n",
              "      <td>-6.35</td>\n",
              "      <td>-21.94</td>\n",
              "      <td>-1.22</td>\n",
              "      <td>-6.13</td>\n",
              "      <td>-22.20</td>\n",
              "      <td>-3.41</td>\n",
              "      <td>-6.57</td>\n",
              "    </tr>\n",
              "    <tr>\n",
              "      <th>2</th>\n",
              "      <td>63</td>\n",
              "      <td>26</td>\n",
              "      <td>50</td>\n",
              "      <td>95</td>\n",
              "      <td>49</td>\n",
              "      <td>91</td>\n",
              "      <td>81</td>\n",
              "      <td>26</td>\n",
              "      <td>57</td>\n",
              "      <td>53.09</td>\n",
              "      <td>...</td>\n",
              "      <td>-0.44</td>\n",
              "      <td>-17.64</td>\n",
              "      <td>-1.81</td>\n",
              "      <td>-4.70</td>\n",
              "      <td>-19.39</td>\n",
              "      <td>-0.65</td>\n",
              "      <td>-5.01</td>\n",
              "      <td>-20.89</td>\n",
              "      <td>-3.96</td>\n",
              "      <td>-6.85</td>\n",
              "    </tr>\n",
              "    <tr>\n",
              "      <th>3</th>\n",
              "      <td>63</td>\n",
              "      <td>42</td>\n",
              "      <td>63</td>\n",
              "      <td>97</td>\n",
              "      <td>66</td>\n",
              "      <td>108</td>\n",
              "      <td>111</td>\n",
              "      <td>28</td>\n",
              "      <td>59</td>\n",
              "      <td>52.41</td>\n",
              "      <td>...</td>\n",
              "      <td>-2.34</td>\n",
              "      <td>-20.20</td>\n",
              "      <td>-1.89</td>\n",
              "      <td>-5.47</td>\n",
              "      <td>-21.65</td>\n",
              "      <td>-0.99</td>\n",
              "      <td>-5.71</td>\n",
              "      <td>-22.19</td>\n",
              "      <td>-3.41</td>\n",
              "      <td>-6.52</td>\n",
              "    </tr>\n",
              "    <tr>\n",
              "      <th>4</th>\n",
              "      <td>46</td>\n",
              "      <td>27</td>\n",
              "      <td>50</td>\n",
              "      <td>83</td>\n",
              "      <td>51</td>\n",
              "      <td>90</td>\n",
              "      <td>76</td>\n",
              "      <td>26</td>\n",
              "      <td>56</td>\n",
              "      <td>68.54</td>\n",
              "      <td>...</td>\n",
              "      <td>1.25</td>\n",
              "      <td>-18.62</td>\n",
              "      <td>-2.17</td>\n",
              "      <td>-7.11</td>\n",
              "      <td>-21.12</td>\n",
              "      <td>-1.56</td>\n",
              "      <td>-6.35</td>\n",
              "      <td>-22.19</td>\n",
              "      <td>-4.45</td>\n",
              "      <td>-7.32</td>\n",
              "    </tr>\n",
              "    <tr>\n",
              "      <th>...</th>\n",
              "      <td>...</td>\n",
              "      <td>...</td>\n",
              "      <td>...</td>\n",
              "      <td>...</td>\n",
              "      <td>...</td>\n",
              "      <td>...</td>\n",
              "      <td>...</td>\n",
              "      <td>...</td>\n",
              "      <td>...</td>\n",
              "      <td>...</td>\n",
              "      <td>...</td>\n",
              "      <td>...</td>\n",
              "      <td>...</td>\n",
              "      <td>...</td>\n",
              "      <td>...</td>\n",
              "      <td>...</td>\n",
              "      <td>...</td>\n",
              "      <td>...</td>\n",
              "      <td>...</td>\n",
              "      <td>...</td>\n",
              "      <td>...</td>\n",
              "    </tr>\n",
              "    <tr>\n",
              "      <th>320</th>\n",
              "      <td>55</td>\n",
              "      <td>56</td>\n",
              "      <td>72</td>\n",
              "      <td>91</td>\n",
              "      <td>79</td>\n",
              "      <td>113</td>\n",
              "      <td>86</td>\n",
              "      <td>35</td>\n",
              "      <td>68</td>\n",
              "      <td>62.20</td>\n",
              "      <td>...</td>\n",
              "      <td>-12.86</td>\n",
              "      <td>-23.08</td>\n",
              "      <td>-0.08</td>\n",
              "      <td>-3.46</td>\n",
              "      <td>-27.52</td>\n",
              "      <td>-1.04</td>\n",
              "      <td>-4.73</td>\n",
              "      <td>-22.85</td>\n",
              "      <td>-1.49</td>\n",
              "      <td>-4.10</td>\n",
              "    </tr>\n",
              "    <tr>\n",
              "      <th>321</th>\n",
              "      <td>69</td>\n",
              "      <td>49</td>\n",
              "      <td>76</td>\n",
              "      <td>91</td>\n",
              "      <td>52</td>\n",
              "      <td>91</td>\n",
              "      <td>92</td>\n",
              "      <td>25</td>\n",
              "      <td>57</td>\n",
              "      <td>34.95</td>\n",
              "      <td>...</td>\n",
              "      <td>-2.36</td>\n",
              "      <td>-11.47</td>\n",
              "      <td>-0.40</td>\n",
              "      <td>-3.74</td>\n",
              "      <td>-16.90</td>\n",
              "      <td>-0.78</td>\n",
              "      <td>-4.15</td>\n",
              "      <td>-11.13</td>\n",
              "      <td>-1.48</td>\n",
              "      <td>-3.55</td>\n",
              "    </tr>\n",
              "    <tr>\n",
              "      <th>322</th>\n",
              "      <td>49</td>\n",
              "      <td>26</td>\n",
              "      <td>48</td>\n",
              "      <td>107</td>\n",
              "      <td>59</td>\n",
              "      <td>104</td>\n",
              "      <td>62</td>\n",
              "      <td>22</td>\n",
              "      <td>53</td>\n",
              "      <td>69.86</td>\n",
              "      <td>...</td>\n",
              "      <td>2.32</td>\n",
              "      <td>-23.48</td>\n",
              "      <td>1.44</td>\n",
              "      <td>-1.59</td>\n",
              "      <td>-26.98</td>\n",
              "      <td>-1.36</td>\n",
              "      <td>-4.81</td>\n",
              "      <td>-24.50</td>\n",
              "      <td>-2.53</td>\n",
              "      <td>-4.97</td>\n",
              "    </tr>\n",
              "    <tr>\n",
              "      <th>323</th>\n",
              "      <td>55</td>\n",
              "      <td>26</td>\n",
              "      <td>52</td>\n",
              "      <td>92</td>\n",
              "      <td>55</td>\n",
              "      <td>98</td>\n",
              "      <td>65</td>\n",
              "      <td>23</td>\n",
              "      <td>56</td>\n",
              "      <td>63.64</td>\n",
              "      <td>...</td>\n",
              "      <td>-0.77</td>\n",
              "      <td>-23.74</td>\n",
              "      <td>1.27</td>\n",
              "      <td>-1.30</td>\n",
              "      <td>-25.53</td>\n",
              "      <td>-1.21</td>\n",
              "      <td>-4.70</td>\n",
              "      <td>-24.39</td>\n",
              "      <td>-2.21</td>\n",
              "      <td>-4.72</td>\n",
              "    </tr>\n",
              "    <tr>\n",
              "      <th>324</th>\n",
              "      <td>71</td>\n",
              "      <td>28</td>\n",
              "      <td>51</td>\n",
              "      <td>96</td>\n",
              "      <td>46</td>\n",
              "      <td>88</td>\n",
              "      <td>92</td>\n",
              "      <td>25</td>\n",
              "      <td>58</td>\n",
              "      <td>34.77</td>\n",
              "      <td>...</td>\n",
              "      <td>-3.24</td>\n",
              "      <td>-13.96</td>\n",
              "      <td>-0.44</td>\n",
              "      <td>-3.84</td>\n",
              "      <td>-15.45</td>\n",
              "      <td>-0.71</td>\n",
              "      <td>-3.94</td>\n",
              "      <td>-12.74</td>\n",
              "      <td>-1.36</td>\n",
              "      <td>-3.63</td>\n",
              "    </tr>\n",
              "  </tbody>\n",
              "</table>\n",
              "<p>325 rows × 27 columns</p>\n",
              "</div>\n",
              "      <button class=\"colab-df-convert\" onclick=\"convertToInteractive('df-54676583-94bb-4d88-815a-571f8c1ec150')\"\n",
              "              title=\"Convert this dataframe to an interactive table.\"\n",
              "              style=\"display:none;\">\n",
              "        \n",
              "  <svg xmlns=\"http://www.w3.org/2000/svg\" height=\"24px\"viewBox=\"0 0 24 24\"\n",
              "       width=\"24px\">\n",
              "    <path d=\"M0 0h24v24H0V0z\" fill=\"none\"/>\n",
              "    <path d=\"M18.56 5.44l.94 2.06.94-2.06 2.06-.94-2.06-.94-.94-2.06-.94 2.06-2.06.94zm-11 1L8.5 8.5l.94-2.06 2.06-.94-2.06-.94L8.5 2.5l-.94 2.06-2.06.94zm10 10l.94 2.06.94-2.06 2.06-.94-2.06-.94-.94-2.06-.94 2.06-2.06.94z\"/><path d=\"M17.41 7.96l-1.37-1.37c-.4-.4-.92-.59-1.43-.59-.52 0-1.04.2-1.43.59L10.3 9.45l-7.72 7.72c-.78.78-.78 2.05 0 2.83L4 21.41c.39.39.9.59 1.41.59.51 0 1.02-.2 1.41-.59l7.78-7.78 2.81-2.81c.8-.78.8-2.07 0-2.86zM5.41 20L4 18.59l7.72-7.72 1.47 1.35L5.41 20z\"/>\n",
              "  </svg>\n",
              "      </button>\n",
              "      \n",
              "  <style>\n",
              "    .colab-df-container {\n",
              "      display:flex;\n",
              "      flex-wrap:wrap;\n",
              "      gap: 12px;\n",
              "    }\n",
              "\n",
              "    .colab-df-convert {\n",
              "      background-color: #E8F0FE;\n",
              "      border: none;\n",
              "      border-radius: 50%;\n",
              "      cursor: pointer;\n",
              "      display: none;\n",
              "      fill: #1967D2;\n",
              "      height: 32px;\n",
              "      padding: 0 0 0 0;\n",
              "      width: 32px;\n",
              "    }\n",
              "\n",
              "    .colab-df-convert:hover {\n",
              "      background-color: #E2EBFA;\n",
              "      box-shadow: 0px 1px 2px rgba(60, 64, 67, 0.3), 0px 1px 3px 1px rgba(60, 64, 67, 0.15);\n",
              "      fill: #174EA6;\n",
              "    }\n",
              "\n",
              "    [theme=dark] .colab-df-convert {\n",
              "      background-color: #3B4455;\n",
              "      fill: #D2E3FC;\n",
              "    }\n",
              "\n",
              "    [theme=dark] .colab-df-convert:hover {\n",
              "      background-color: #434B5C;\n",
              "      box-shadow: 0px 1px 3px 1px rgba(0, 0, 0, 0.15);\n",
              "      filter: drop-shadow(0px 1px 2px rgba(0, 0, 0, 0.3));\n",
              "      fill: #FFFFFF;\n",
              "    }\n",
              "  </style>\n",
              "\n",
              "      <script>\n",
              "        const buttonEl =\n",
              "          document.querySelector('#df-54676583-94bb-4d88-815a-571f8c1ec150 button.colab-df-convert');\n",
              "        buttonEl.style.display =\n",
              "          google.colab.kernel.accessAllowed ? 'block' : 'none';\n",
              "\n",
              "        async function convertToInteractive(key) {\n",
              "          const element = document.querySelector('#df-54676583-94bb-4d88-815a-571f8c1ec150');\n",
              "          const dataTable =\n",
              "            await google.colab.kernel.invokeFunction('convertToInteractive',\n",
              "                                                     [key], {});\n",
              "          if (!dataTable) return;\n",
              "\n",
              "          const docLinkHtml = 'Like what you see? Visit the ' +\n",
              "            '<a target=\"_blank\" href=https://colab.research.google.com/notebooks/data_table.ipynb>data table notebook</a>'\n",
              "            + ' to learn more about interactive tables.';\n",
              "          element.innerHTML = '';\n",
              "          dataTable['output_type'] = 'display_data';\n",
              "          await google.colab.output.renderOutput(dataTable, element);\n",
              "          const docLink = document.createElement('div');\n",
              "          docLink.innerHTML = docLinkHtml;\n",
              "          element.appendChild(docLink);\n",
              "        }\n",
              "      </script>\n",
              "    </div>\n",
              "  </div>\n",
              "  "
            ]
          },
          "metadata": {},
          "execution_count": 51
        }
      ]
    },
    {
      "cell_type": "code",
      "source": [
        "plt.scatter(X_v.iloc[:,1], X_v.iloc[:,3], c=labels)\n",
        "plt.plot([34.5, 34.5], [0, 160], 'r', lw=2)\n",
        "plt.plot([0, 100], [109.5, 109.5], '', lw=2)\n",
        "plt.xlabel('b2') \n",
        "plt.ylabel('b4') \n",
        "plt.show() "
      ],
      "metadata": {
        "colab": {
          "base_uri": "https://localhost:8080/",
          "height": 279
        },
        "id": "TR6RWpTrONDU",
        "outputId": "8d79fd72-b3b4-4825-93ba-ae7dddaac0ef"
      },
      "execution_count": null,
      "outputs": [
        {
          "output_type": "display_data",
          "data": {
            "text/plain": [
              "<Figure size 432x288 with 1 Axes>"
            ],
            "image/png": "[encoded data removed]"
          },
          "metadata": {
            "needs_background": "light"
          }
        }
      ]
    },
    {
      "cell_type": "code",
      "source": [
        "plt.scatter(X_v.iloc[:,1], X_v.iloc[:,16], c=labels)\n",
        "plt.plot([34.5, 34.5], [-60, 160], 'r', lw=2)\n",
        "plt.plot([0, 100], [-2.51,-2.51], '', lw=2)\n",
        "plt.xlabel('b2') \n",
        "plt.ylabel('hb8') \n",
        "plt.show() "
      ],
      "metadata": {
        "colab": {
          "base_uri": "https://localhost:8080/",
          "height": 279
        },
        "id": "zJHfVCSgPLaX",
        "outputId": "8606ce4d-669e-4907-de43-df92d8b9446b"
      },
      "execution_count": null,
      "outputs": [
        {
          "output_type": "display_data",
          "data": {
            "text/plain": [
              "<Figure size 432x288 with 1 Axes>"
            ],
            "image/png": "[encoded data removed]"
          },
          "metadata": {
            "needs_background": "light"
          }
        }
      ]
    },
    {
      "cell_type": "code",
      "source": [
        "from sklearn.metrics import confusion_matrix, accuracy_score, classification_report\n",
        "\n",
        "model4 = tree.DecisionTreeClassifier(max_depth =2, min_samples_leaf = 7,\n",
        "                                       min_samples_split=12, min_impurity_decrease = 0.03)\n",
        "model4.fit(x_train, y_train)\n",
        "\n",
        "predictions = model4.predict(x_test)\n",
        "\n",
        "print(\"training accuracy :\", model4.score(x_train, y_train))\n",
        "print(\"testing accuracy :\", model4.score(x_test, y_test))\n",
        "\n",
        "ax = sns.heatmap(confusion_matrix(y_test,predictions), annot = True, cmap='Blues')\n",
        "ax.set_xlabel('\\nPredicted Values')\n",
        "ax.set_ylabel('Actual Values ')\n",
        "\n",
        "plt.show()\n",
        "\n",
        "print(classification_report(y_test,predictions))"
      ],
      "metadata": {
        "colab": {
          "base_uri": "https://localhost:8080/",
          "height": 523
        },
        "id": "UdE8H63HZdcO",
        "outputId": "715b0a08-9cf6-4699-e3c2-e50c2ea18b14"
      },
      "execution_count": null,
      "outputs": [
        {
          "output_type": "stream",
          "name": "stdout",
          "text": [
            "training accuracy : 0.8461538461538461\n",
            "testing accuracy : 0.8939393939393939\n"
          ]
        },
        {
          "output_type": "display_data",
          "data": {
            "text/plain": [
              "<Figure size 432x288 with 2 Axes>"
            ],
            "image/png": "[encoded data removed]"
          },
          "metadata": {
            "needs_background": "light"
          }
        },
        {
          "output_type": "stream",
          "name": "stdout",
          "text": [
            "              precision    recall  f1-score   support\n",
            "\n",
            "          d        0.91      0.96      0.94        54\n",
            "          h        0.95      0.73      0.82        48\n",
            "          o        0.97      0.92      0.94        37\n",
            "          s        0.81      0.95      0.87        59\n",
            "\n",
            "    accuracy                           0.89       198\n",
            "   macro avg       0.91      0.89      0.89       198\n",
            "weighted avg       0.90      0.89      0.89       198\n",
            "\n"
          ]
        }
      ]
    },
    {
      "cell_type": "code",
      "source": [
        "import graphviz \n",
        "dot_data = tree.export_graphviz(model4, out_file=None,  \n",
        "                         feature_names=feature_name,   \n",
        "                         class_names=class_names,   \n",
        "                         filled=True, rounded=True,   \n",
        "                         special_characters=True)   \n",
        " \n",
        "graph = graphviz.Source(dot_data)   \n",
        "graph"
      ],
      "metadata": {
        "colab": {
          "base_uri": "https://localhost:8080/",
          "height": 439
        },
        "id": "4qO39Xnfazxw",
        "outputId": "e9e230c9-ea6f-483a-fec4-0270d3c2bb77"
      },
      "execution_count": null,
      "outputs": [
        {
          "output_type": "execute_result",
          "data": {
            "text/plain": [
              "<graphviz.files.Source at 0x7fd4a083ed90>"
            ],
            "image/svg+xml": "<?xml version=\"1.0\" encoding=\"UTF-8\" standalone=\"no\"?>\n<!DOCTYPE svg PUBLIC \"-//W3C//DTD SVG 1.1//EN\"\n \"http://www.w3.org/Graphics/SVG/1.1/DTD/svg11.dtd\">\n<!-- Generated by graphviz version 2.40.1 (20161225.0304)\n -->\n<!-- Title: Tree Pages: 1 -->\n<svg width=\"670pt\" height=\"314pt\"\n viewBox=\"0.00 0.00 669.50 314.00\" xmlns=\"http://www.w3.org/2000/svg\" xmlns:xlink=\"http://www.w3.org/1999/xlink\">\n<g id=\"graph0\" class=\"graph\" transform=\"scale(1 1) rotate(0) translate(4 310)\">\n<title>Tree</title>\n<polygon fill=\"#ffffff\" stroke=\"transparent\" points=\"-4,4 -4,-310 665.5,-310 665.5,4 -4,4\"/>\n<!-- 0 -->\n<g id=\"node1\" class=\"node\">\n<title>0</title>\n<path fill=\"#f9e3fb\" stroke=\"#000000\" d=\"M421,-306C421,-306 265,-306 265,-306 259,-306 253,-300 253,-294 253,-294 253,-235 253,-235 253,-229 259,-223 265,-223 265,-223 421,-223 421,-223 427,-223 433,-229 433,-235 433,-235 433,-294 433,-294 433,-300 427,-306 421,-306\"/>\n<text text-anchor=\"start\" x=\"312.5\" y=\"-290.8\" font-family=\"Helvetica,sans-Serif\" font-size=\"14.00\" fill=\"#000000\">b2 ≤ 34.5</text>\n<text text-anchor=\"start\" x=\"305\" y=\"-275.8\" font-family=\"Helvetica,sans-Serif\" font-size=\"14.00\" fill=\"#000000\">gini = 0.687</text>\n<text text-anchor=\"start\" x=\"295\" y=\"-260.8\" font-family=\"Helvetica,sans-Serif\" font-size=\"14.00\" fill=\"#000000\">samples = 325</text>\n<text text-anchor=\"start\" x=\"261\" y=\"-245.8\" font-family=\"Helvetica,sans-Serif\" font-size=\"14.00\" fill=\"#000000\">value = [105, 38, 46, 136]</text>\n<text text-anchor=\"start\" x=\"314\" y=\"-230.8\" font-family=\"Helvetica,sans-Serif\" font-size=\"14.00\" fill=\"#000000\">class = s</text>\n</g>\n<!-- 1 -->\n<g id=\"node2\" class=\"node\">\n<title>1</title>\n<path fill=\"#e686ef\" stroke=\"#000000\" d=\"M309,-187C309,-187 169,-187 169,-187 163,-187 157,-181 157,-175 157,-175 157,-116 157,-116 157,-110 163,-104 169,-104 169,-104 309,-104 309,-104 315,-104 321,-110 321,-116 321,-116 321,-175 321,-175 321,-181 315,-187 309,-187\"/>\n<text text-anchor=\"start\" x=\"204.5\" y=\"-171.8\" font-family=\"Helvetica,sans-Serif\" font-size=\"14.00\" fill=\"#000000\">b4 ≤ 109.5</text>\n<text text-anchor=\"start\" x=\"201\" y=\"-156.8\" font-family=\"Helvetica,sans-Serif\" font-size=\"14.00\" fill=\"#000000\">gini = 0.472</text>\n<text text-anchor=\"start\" x=\"191\" y=\"-141.8\" font-family=\"Helvetica,sans-Serif\" font-size=\"14.00\" fill=\"#000000\">samples = 188</text>\n<text text-anchor=\"start\" x=\"165\" y=\"-126.8\" font-family=\"Helvetica,sans-Serif\" font-size=\"14.00\" fill=\"#000000\">value = [18, 38, 2, 130]</text>\n<text text-anchor=\"start\" x=\"210\" y=\"-111.8\" font-family=\"Helvetica,sans-Serif\" font-size=\"14.00\" fill=\"#000000\">class = s</text>\n</g>\n<!-- 0&#45;&gt;1 -->\n<g id=\"edge1\" class=\"edge\">\n<title>0&#45;&gt;1</title>\n<path fill=\"none\" stroke=\"#000000\" d=\"M306.6258,-222.8796C298.7548,-213.8733 290.3571,-204.2644 282.2515,-194.9897\"/>\n<polygon fill=\"#000000\" stroke=\"#000000\" points=\"284.7454,-192.5246 275.5294,-187.2981 279.4746,-197.131 284.7454,-192.5246\"/>\n<text text-anchor=\"middle\" x=\"273.8516\" y=\"-208.5417\" font-family=\"Helvetica,sans-Serif\" font-size=\"14.00\" fill=\"#000000\">True</text>\n</g>\n<!-- 4 -->\n<g id=\"node5\" class=\"node\">\n<title>4</title>\n<path fill=\"#f3c5a3\" stroke=\"#000000\" d=\"M544.5,-187C544.5,-187 351.5,-187 351.5,-187 345.5,-187 339.5,-181 339.5,-175 339.5,-175 339.5,-116 339.5,-116 339.5,-110 345.5,-104 351.5,-104 351.5,-104 544.5,-104 544.5,-104 550.5,-104 556.5,-110 556.5,-116 556.5,-116 556.5,-175 556.5,-175 556.5,-181 550.5,-187 544.5,-187\"/>\n<text text-anchor=\"start\" x=\"347.5\" y=\"-171.8\" font-family=\"Helvetica,sans-Serif\" font-size=\"14.00\" fill=\"#000000\">pred_minus_obs_H_b8 ≤ &#45;2.51</text>\n<text text-anchor=\"start\" x=\"410\" y=\"-156.8\" font-family=\"Helvetica,sans-Serif\" font-size=\"14.00\" fill=\"#000000\">gini = 0.492</text>\n<text text-anchor=\"start\" x=\"400\" y=\"-141.8\" font-family=\"Helvetica,sans-Serif\" font-size=\"14.00\" fill=\"#000000\">samples = 137</text>\n<text text-anchor=\"start\" x=\"382.5\" y=\"-126.8\" font-family=\"Helvetica,sans-Serif\" font-size=\"14.00\" fill=\"#000000\">value = [87, 0, 44, 6]</text>\n<text text-anchor=\"start\" x=\"419\" y=\"-111.8\" font-family=\"Helvetica,sans-Serif\" font-size=\"14.00\" fill=\"#000000\">class = d</text>\n</g>\n<!-- 0&#45;&gt;4 -->\n<g id=\"edge4\" class=\"edge\">\n<title>0&#45;&gt;4</title>\n<path fill=\"none\" stroke=\"#000000\" d=\"M379.7239,-222.8796C387.6707,-213.8733 396.149,-204.2644 404.3326,-194.9897\"/>\n<polygon fill=\"#000000\" stroke=\"#000000\" points=\"407.1275,-197.1122 411.1193,-187.2981 401.8787,-192.4808 407.1275,-197.1122\"/>\n<text text-anchor=\"middle\" x=\"412.6788\" y=\"-208.5494\" font-family=\"Helvetica,sans-Serif\" font-size=\"14.00\" fill=\"#000000\">False</text>\n</g>\n<!-- 2 -->\n<g id=\"node3\" class=\"node\">\n<title>2</title>\n<path fill=\"#df63ea\" stroke=\"#000000\" d=\"M152,-68C152,-68 12,-68 12,-68 6,-68 0,-62 0,-56 0,-56 0,-12 0,-12 0,-6 6,0 12,0 12,0 152,0 152,0 158,0 164,-6 164,-12 164,-12 164,-56 164,-56 164,-62 158,-68 152,-68\"/>\n<text text-anchor=\"start\" x=\"44\" y=\"-52.8\" font-family=\"Helvetica,sans-Serif\" font-size=\"14.00\" fill=\"#000000\">gini = 0.325</text>\n<text text-anchor=\"start\" x=\"34\" y=\"-37.8\" font-family=\"Helvetica,sans-Serif\" font-size=\"14.00\" fill=\"#000000\">samples = 159</text>\n<text text-anchor=\"start\" x=\"8\" y=\"-22.8\" font-family=\"Helvetica,sans-Serif\" font-size=\"14.00\" fill=\"#000000\">value = [17, 11, 2, 129]</text>\n<text text-anchor=\"start\" x=\"53\" y=\"-7.8\" font-family=\"Helvetica,sans-Serif\" font-size=\"14.00\" fill=\"#000000\">class = s</text>\n</g>\n<!-- 1&#45;&gt;2 -->\n<g id=\"edge2\" class=\"edge\">\n<title>1&#45;&gt;2</title>\n<path fill=\"none\" stroke=\"#000000\" d=\"M180.539,-103.9815C166.7492,-94.1881 152.0753,-83.7668 138.3795,-74.0402\"/>\n<polygon fill=\"#000000\" stroke=\"#000000\" points=\"140.1747,-71.0223 129.995,-68.0856 136.1215,-76.7295 140.1747,-71.0223\"/>\n</g>\n<!-- 3 -->\n<g id=\"node4\" class=\"node\">\n<title>3</title>\n<path fill=\"#54e747\" stroke=\"#000000\" d=\"M309.5,-68C309.5,-68 194.5,-68 194.5,-68 188.5,-68 182.5,-62 182.5,-56 182.5,-56 182.5,-12 182.5,-12 182.5,-6 188.5,0 194.5,0 194.5,0 309.5,0 309.5,0 315.5,0 321.5,-6 321.5,-12 321.5,-12 321.5,-56 321.5,-56 321.5,-62 315.5,-68 309.5,-68\"/>\n<text text-anchor=\"start\" x=\"214\" y=\"-52.8\" font-family=\"Helvetica,sans-Serif\" font-size=\"14.00\" fill=\"#000000\">gini = 0.131</text>\n<text text-anchor=\"start\" x=\"208\" y=\"-37.8\" font-family=\"Helvetica,sans-Serif\" font-size=\"14.00\" fill=\"#000000\">samples = 29</text>\n<text text-anchor=\"start\" x=\"190.5\" y=\"-22.8\" font-family=\"Helvetica,sans-Serif\" font-size=\"14.00\" fill=\"#000000\">value = [1, 27, 0, 1]</text>\n<text text-anchor=\"start\" x=\"223\" y=\"-7.8\" font-family=\"Helvetica,sans-Serif\" font-size=\"14.00\" fill=\"#000000\">class = h</text>\n</g>\n<!-- 1&#45;&gt;3 -->\n<g id=\"edge3\" class=\"edge\">\n<title>1&#45;&gt;3</title>\n<path fill=\"none\" stroke=\"#000000\" d=\"M243.8407,-103.9815C244.8158,-95.618 245.8443,-86.7965 246.8302,-78.3409\"/>\n<polygon fill=\"#000000\" stroke=\"#000000\" points=\"250.3234,-78.6017 248.0051,-68.2637 243.3705,-77.791 250.3234,-78.6017\"/>\n</g>\n<!-- 5 -->\n<g id=\"node6\" class=\"node\">\n<title>5</title>\n<path fill=\"#4aa5e7\" stroke=\"#000000\" d=\"M492.5,-68C492.5,-68 377.5,-68 377.5,-68 371.5,-68 365.5,-62 365.5,-56 365.5,-56 365.5,-12 365.5,-12 365.5,-6 371.5,0 377.5,0 377.5,0 492.5,0 492.5,0 498.5,0 504.5,-6 504.5,-12 504.5,-12 504.5,-56 504.5,-56 504.5,-62 498.5,-68 492.5,-68\"/>\n<text text-anchor=\"start\" x=\"397\" y=\"-52.8\" font-family=\"Helvetica,sans-Serif\" font-size=\"14.00\" fill=\"#000000\">gini = 0.145</text>\n<text text-anchor=\"start\" x=\"391\" y=\"-37.8\" font-family=\"Helvetica,sans-Serif\" font-size=\"14.00\" fill=\"#000000\">samples = 38</text>\n<text text-anchor=\"start\" x=\"373.5\" y=\"-22.8\" font-family=\"Helvetica,sans-Serif\" font-size=\"14.00\" fill=\"#000000\">value = [3, 0, 35, 0]</text>\n<text text-anchor=\"start\" x=\"406\" y=\"-7.8\" font-family=\"Helvetica,sans-Serif\" font-size=\"14.00\" fill=\"#000000\">class = o</text>\n</g>\n<!-- 4&#45;&gt;5 -->\n<g id=\"edge5\" class=\"edge\">\n<title>4&#45;&gt;5</title>\n<path fill=\"none\" stroke=\"#000000\" d=\"M443.1593,-103.9815C442.1842,-95.618 441.1557,-86.7965 440.1698,-78.3409\"/>\n<polygon fill=\"#000000\" stroke=\"#000000\" points=\"443.6295,-77.791 438.9949,-68.2637 436.6766,-78.6017 443.6295,-77.791\"/>\n</g>\n<!-- 6 -->\n<g id=\"node7\" class=\"node\">\n<title>6</title>\n<path fill=\"#e9965a\" stroke=\"#000000\" d=\"M649.5,-68C649.5,-68 534.5,-68 534.5,-68 528.5,-68 522.5,-62 522.5,-56 522.5,-56 522.5,-12 522.5,-12 522.5,-6 528.5,0 534.5,0 534.5,0 649.5,0 649.5,0 655.5,0 661.5,-6 661.5,-12 661.5,-12 661.5,-56 661.5,-56 661.5,-62 655.5,-68 649.5,-68\"/>\n<text text-anchor=\"start\" x=\"554\" y=\"-52.8\" font-family=\"Helvetica,sans-Serif\" font-size=\"14.00\" fill=\"#000000\">gini = 0.268</text>\n<text text-anchor=\"start\" x=\"548\" y=\"-37.8\" font-family=\"Helvetica,sans-Serif\" font-size=\"14.00\" fill=\"#000000\">samples = 99</text>\n<text text-anchor=\"start\" x=\"530.5\" y=\"-22.8\" font-family=\"Helvetica,sans-Serif\" font-size=\"14.00\" fill=\"#000000\">value = [84, 0, 9, 6]</text>\n<text text-anchor=\"start\" x=\"563\" y=\"-7.8\" font-family=\"Helvetica,sans-Serif\" font-size=\"14.00\" fill=\"#000000\">class = d</text>\n</g>\n<!-- 4&#45;&gt;6 -->\n<g id=\"edge6\" class=\"edge\">\n<title>4&#45;&gt;6</title>\n<path fill=\"none\" stroke=\"#000000\" d=\"M501.6203,-103.9815C514.0833,-94.3313 527.3338,-84.0714 539.7373,-74.4673\"/>\n<polygon fill=\"#000000\" stroke=\"#000000\" points=\"541.9851,-77.1534 547.7492,-68.2637 537.6995,-71.6186 541.9851,-77.1534\"/>\n</g>\n</g>\n</svg>\n"
          },
          "metadata": {},
          "execution_count": 46
        }
      ]
    },
    {
      "cell_type": "code",
      "source": [
        "plt.scatter(X_v.iloc[:,1], X_v.iloc[:,3], c=labels)\n",
        "plt.plot([34.5, 34.5], [0, 160], 'r', lw=2)\n",
        "plt.plot([0, 100], [109.5, 109.5], '', lw=2)\n",
        "plt.xlabel('b2') \n",
        "plt.ylabel('b4') \n",
        "plt.show() "
      ],
      "metadata": {
        "colab": {
          "base_uri": "https://localhost:8080/",
          "height": 279
        },
        "id": "0iYcymysT_t9",
        "outputId": "f2f047ac-7283-4231-c8e7-fc3d3975c79c"
      },
      "execution_count": null,
      "outputs": [
        {
          "output_type": "display_data",
          "data": {
            "text/plain": [
              "<Figure size 432x288 with 1 Axes>"
            ],
            "image/png": "[encoded data removed]"
          },
          "metadata": {
            "needs_background": "light"
          }
        }
      ]
    },
    {
      "cell_type": "code",
      "source": [
        "plt.scatter(X_v.iloc[:,1], X_v.iloc[:,16], c=labels)\n",
        "plt.plot([34.5, 34.5], [-60, 160], 'r', lw=2)\n",
        "plt.plot([0, 100], [-2.51,-2.51], '', lw=2)\n",
        "plt.xlabel('b2') \n",
        "plt.ylabel('hb8') \n",
        "plt.show() "
      ],
      "metadata": {
        "colab": {
          "base_uri": "https://localhost:8080/",
          "height": 279
        },
        "id": "J3hFaWpdUV84",
        "outputId": "153604e5-3b49-4c3e-ace4-7d63e12555d6"
      },
      "execution_count": null,
      "outputs": [
        {
          "output_type": "display_data",
          "data": {
            "text/plain": [
              "<Figure size 432x288 with 1 Axes>"
            ],
            "image/png": "[encoded data removed]"
          },
          "metadata": {
            "needs_background": "light"
          }
        }
      ]
    },
    {
      "cell_type": "code",
      "source": [
        "from sklearn.metrics import confusion_matrix, accuracy_score, classification_report\n",
        "\n",
        "model5 = tree.DecisionTreeClassifier(criterion = \"entropy\", max_depth =2, min_samples_leaf = 7,\n",
        "                                       min_samples_split=12, min_impurity_decrease = 0.03)\n",
        "model5.fit(x_train, y_train)\n",
        "\n",
        "predictions = model4.predict(x_test)\n",
        "\n",
        "print(\"training accuracy :\", model5.score(x_train, y_train))\n",
        "print(\"testing accuracy :\", model5.score(x_test, y_test))\n",
        "\n",
        "ax = sns.heatmap(confusion_matrix(y_test,predictions), annot = True, cmap='Blues')\n",
        "ax.set_xlabel('\\nPredicted Values')\n",
        "ax.set_ylabel('Actual Values ')\n",
        "\n",
        "plt.show()\n",
        "\n",
        "print(classification_report(y_test,predictions))"
      ],
      "metadata": {
        "colab": {
          "base_uri": "https://localhost:8080/",
          "height": 523
        },
        "id": "47u_nZFybMDi",
        "outputId": "ff5401af-85b1-4106-97b2-9dd0a858bd77"
      },
      "execution_count": null,
      "outputs": [
        {
          "output_type": "stream",
          "name": "stdout",
          "text": [
            "training accuracy : 0.84\n",
            "testing accuracy : 0.9242424242424242\n"
          ]
        },
        {
          "output_type": "display_data",
          "data": {
            "text/plain": [
              "<Figure size 432x288 with 2 Axes>"
            ],
            "image/png": "[encoded data removed]"
          },
          "metadata": {
            "needs_background": "light"
          }
        },
        {
          "output_type": "stream",
          "name": "stdout",
          "text": [
            "              precision    recall  f1-score   support\n",
            "\n",
            "          d        0.91      0.96      0.94        54\n",
            "          h        0.95      0.73      0.82        48\n",
            "          o        0.97      0.92      0.94        37\n",
            "          s        0.81      0.95      0.87        59\n",
            "\n",
            "    accuracy                           0.89       198\n",
            "   macro avg       0.91      0.89      0.89       198\n",
            "weighted avg       0.90      0.89      0.89       198\n",
            "\n"
          ]
        }
      ]
    },
    {
      "cell_type": "code",
      "source": [
        "import graphviz \n",
        "dot_data = tree.export_graphviz(model5, out_file=None,  \n",
        "                         feature_names=feature_name,   \n",
        "                         class_names=class_names,   \n",
        "                         filled=True, rounded=True,   \n",
        "                         special_characters=True)   \n",
        " \n",
        "graph = graphviz.Source(dot_data)   \n",
        "graph"
      ],
      "metadata": {
        "colab": {
          "base_uri": "https://localhost:8080/",
          "height": 439
        },
        "id": "og5L3-cEbdls",
        "outputId": "feaaf33d-9d5a-468b-8a72-b59fce48d5e8"
      },
      "execution_count": null,
      "outputs": [
        {
          "output_type": "execute_result",
          "data": {
            "text/plain": [
              "<graphviz.files.Source at 0x7fd4a083a750>"
            ],
            "image/svg+xml": "<?xml version=\"1.0\" encoding=\"UTF-8\" standalone=\"no\"?>\n<!DOCTYPE svg PUBLIC \"-//W3C//DTD SVG 1.1//EN\"\n \"http://www.w3.org/Graphics/SVG/1.1/DTD/svg11.dtd\">\n<!-- Generated by graphviz version 2.40.1 (20161225.0304)\n -->\n<!-- Title: Tree Pages: 1 -->\n<svg width=\"660pt\" height=\"314pt\"\n viewBox=\"0.00 0.00 660.00 314.00\" xmlns=\"http://www.w3.org/2000/svg\" xmlns:xlink=\"http://www.w3.org/1999/xlink\">\n<g id=\"graph0\" class=\"graph\" transform=\"scale(1 1) rotate(0) translate(4 310)\">\n<title>Tree</title>\n<polygon fill=\"#ffffff\" stroke=\"transparent\" points=\"-4,4 -4,-310 656,-310 656,4 -4,4\"/>\n<!-- 0 -->\n<g id=\"node1\" class=\"node\">\n<title>0</title>\n<path fill=\"#f9e3fb\" stroke=\"#000000\" d=\"M411.5,-306C411.5,-306 255.5,-306 255.5,-306 249.5,-306 243.5,-300 243.5,-294 243.5,-294 243.5,-235 243.5,-235 243.5,-229 249.5,-223 255.5,-223 255.5,-223 411.5,-223 411.5,-223 417.5,-223 423.5,-229 423.5,-235 423.5,-235 423.5,-294 423.5,-294 423.5,-300 417.5,-306 411.5,-306\"/>\n<text text-anchor=\"start\" x=\"303\" y=\"-290.8\" font-family=\"Helvetica,sans-Serif\" font-size=\"14.00\" fill=\"#000000\">b2 ≤ 34.5</text>\n<text text-anchor=\"start\" x=\"282.5\" y=\"-275.8\" font-family=\"Helvetica,sans-Serif\" font-size=\"14.00\" fill=\"#000000\">entropy = 1.814</text>\n<text text-anchor=\"start\" x=\"285.5\" y=\"-260.8\" font-family=\"Helvetica,sans-Serif\" font-size=\"14.00\" fill=\"#000000\">samples = 325</text>\n<text text-anchor=\"start\" x=\"251.5\" y=\"-245.8\" font-family=\"Helvetica,sans-Serif\" font-size=\"14.00\" fill=\"#000000\">value = [105, 38, 46, 136]</text>\n<text text-anchor=\"start\" x=\"304.5\" y=\"-230.8\" font-family=\"Helvetica,sans-Serif\" font-size=\"14.00\" fill=\"#000000\">class = s</text>\n</g>\n<!-- 1 -->\n<g id=\"node2\" class=\"node\">\n<title>1</title>\n<path fill=\"#e686ef\" stroke=\"#000000\" d=\"M299.5,-187C299.5,-187 159.5,-187 159.5,-187 153.5,-187 147.5,-181 147.5,-175 147.5,-175 147.5,-116 147.5,-116 147.5,-110 153.5,-104 159.5,-104 159.5,-104 299.5,-104 299.5,-104 305.5,-104 311.5,-110 311.5,-116 311.5,-116 311.5,-175 311.5,-175 311.5,-181 305.5,-187 299.5,-187\"/>\n<text text-anchor=\"start\" x=\"199\" y=\"-171.8\" font-family=\"Helvetica,sans-Serif\" font-size=\"14.00\" fill=\"#000000\">b1 ≤ 69.5</text>\n<text text-anchor=\"start\" x=\"178.5\" y=\"-156.8\" font-family=\"Helvetica,sans-Serif\" font-size=\"14.00\" fill=\"#000000\">entropy = 1.228</text>\n<text text-anchor=\"start\" x=\"181.5\" y=\"-141.8\" font-family=\"Helvetica,sans-Serif\" font-size=\"14.00\" fill=\"#000000\">samples = 188</text>\n<text text-anchor=\"start\" x=\"155.5\" y=\"-126.8\" font-family=\"Helvetica,sans-Serif\" font-size=\"14.00\" fill=\"#000000\">value = [18, 38, 2, 130]</text>\n<text text-anchor=\"start\" x=\"200.5\" y=\"-111.8\" font-family=\"Helvetica,sans-Serif\" font-size=\"14.00\" fill=\"#000000\">class = s</text>\n</g>\n<!-- 0&#45;&gt;1 -->\n<g id=\"edge1\" class=\"edge\">\n<title>0&#45;&gt;1</title>\n<path fill=\"none\" stroke=\"#000000\" d=\"M297.1258,-222.8796C289.2548,-213.8733 280.8571,-204.2644 272.7515,-194.9897\"/>\n<polygon fill=\"#000000\" stroke=\"#000000\" points=\"275.2454,-192.5246 266.0294,-187.2981 269.9746,-197.131 275.2454,-192.5246\"/>\n<text text-anchor=\"middle\" x=\"264.3516\" y=\"-208.5417\" font-family=\"Helvetica,sans-Serif\" font-size=\"14.00\" fill=\"#000000\">True</text>\n</g>\n<!-- 4 -->\n<g id=\"node5\" class=\"node\">\n<title>4</title>\n<path fill=\"#f3c5a3\" stroke=\"#000000\" d=\"M535,-187C535,-187 342,-187 342,-187 336,-187 330,-181 330,-175 330,-175 330,-116 330,-116 330,-110 336,-104 342,-104 342,-104 535,-104 535,-104 541,-104 547,-110 547,-116 547,-116 547,-175 547,-175 547,-181 541,-187 535,-187\"/>\n<text text-anchor=\"start\" x=\"338\" y=\"-171.8\" font-family=\"Helvetica,sans-Serif\" font-size=\"14.00\" fill=\"#000000\">pred_minus_obs_H_b8 ≤ &#45;2.51</text>\n<text text-anchor=\"start\" x=\"391.5\" y=\"-156.8\" font-family=\"Helvetica,sans-Serif\" font-size=\"14.00\" fill=\"#000000\">entropy = 1.14</text>\n<text text-anchor=\"start\" x=\"390.5\" y=\"-141.8\" font-family=\"Helvetica,sans-Serif\" font-size=\"14.00\" fill=\"#000000\">samples = 137</text>\n<text text-anchor=\"start\" x=\"373\" y=\"-126.8\" font-family=\"Helvetica,sans-Serif\" font-size=\"14.00\" fill=\"#000000\">value = [87, 0, 44, 6]</text>\n<text text-anchor=\"start\" x=\"409.5\" y=\"-111.8\" font-family=\"Helvetica,sans-Serif\" font-size=\"14.00\" fill=\"#000000\">class = d</text>\n</g>\n<!-- 0&#45;&gt;4 -->\n<g id=\"edge4\" class=\"edge\">\n<title>0&#45;&gt;4</title>\n<path fill=\"none\" stroke=\"#000000\" d=\"M370.2239,-222.8796C378.1707,-213.8733 386.649,-204.2644 394.8326,-194.9897\"/>\n<polygon fill=\"#000000\" stroke=\"#000000\" points=\"397.6275,-197.1122 401.6193,-187.2981 392.3787,-192.4808 397.6275,-197.1122\"/>\n<text text-anchor=\"middle\" x=\"403.1788\" y=\"-208.5494\" font-family=\"Helvetica,sans-Serif\" font-size=\"14.00\" fill=\"#000000\">False</text>\n</g>\n<!-- 2 -->\n<g id=\"node3\" class=\"node\">\n<title>2</title>\n<path fill=\"#df60ea\" stroke=\"#000000\" d=\"M143,-68C143,-68 12,-68 12,-68 6,-68 0,-62 0,-56 0,-56 0,-12 0,-12 0,-6 6,0 12,0 12,0 143,0 143,0 149,0 155,-6 155,-12 155,-12 155,-56 155,-56 155,-62 149,-68 143,-68\"/>\n<text text-anchor=\"start\" x=\"26.5\" y=\"-52.8\" font-family=\"Helvetica,sans-Serif\" font-size=\"14.00\" fill=\"#000000\">entropy = 0.848</text>\n<text text-anchor=\"start\" x=\"29.5\" y=\"-37.8\" font-family=\"Helvetica,sans-Serif\" font-size=\"14.00\" fill=\"#000000\">samples = 146</text>\n<text text-anchor=\"start\" x=\"8\" y=\"-22.8\" font-family=\"Helvetica,sans-Serif\" font-size=\"14.00\" fill=\"#000000\">value = [18, 5, 2, 121]</text>\n<text text-anchor=\"start\" x=\"48.5\" y=\"-7.8\" font-family=\"Helvetica,sans-Serif\" font-size=\"14.00\" fill=\"#000000\">class = s</text>\n</g>\n<!-- 1&#45;&gt;2 -->\n<g id=\"edge2\" class=\"edge\">\n<title>1&#45;&gt;2</title>\n<path fill=\"none\" stroke=\"#000000\" d=\"M172.9008,-103.9815C159.6201,-94.2394 145.4923,-83.8759 132.2923,-74.193\"/>\n<polygon fill=\"#000000\" stroke=\"#000000\" points=\"134.3426,-71.3564 124.2092,-68.2637 130.2023,-77.0006 134.3426,-71.3564\"/>\n</g>\n<!-- 3 -->\n<g id=\"node4\" class=\"node\">\n<title>3</title>\n<path fill=\"#79ec6f\" stroke=\"#000000\" d=\"M300,-68C300,-68 185,-68 185,-68 179,-68 173,-62 173,-56 173,-56 173,-12 173,-12 173,-6 179,0 185,0 185,0 300,0 300,0 306,0 312,-6 312,-12 312,-12 312,-56 312,-56 312,-62 306,-68 300,-68\"/>\n<text text-anchor=\"start\" x=\"195.5\" y=\"-52.8\" font-family=\"Helvetica,sans-Serif\" font-size=\"14.00\" fill=\"#000000\">entropy = 0.75</text>\n<text text-anchor=\"start\" x=\"198.5\" y=\"-37.8\" font-family=\"Helvetica,sans-Serif\" font-size=\"14.00\" fill=\"#000000\">samples = 42</text>\n<text text-anchor=\"start\" x=\"181\" y=\"-22.8\" font-family=\"Helvetica,sans-Serif\" font-size=\"14.00\" fill=\"#000000\">value = [0, 33, 0, 9]</text>\n<text text-anchor=\"start\" x=\"213.5\" y=\"-7.8\" font-family=\"Helvetica,sans-Serif\" font-size=\"14.00\" fill=\"#000000\">class = h</text>\n</g>\n<!-- 1&#45;&gt;3 -->\n<g id=\"edge3\" class=\"edge\">\n<title>1&#45;&gt;3</title>\n<path fill=\"none\" stroke=\"#000000\" d=\"M234.3407,-103.9815C235.3158,-95.618 236.3443,-86.7965 237.3302,-78.3409\"/>\n<polygon fill=\"#000000\" stroke=\"#000000\" points=\"240.8234,-78.6017 238.5051,-68.2637 233.8705,-77.791 240.8234,-78.6017\"/>\n</g>\n<!-- 5 -->\n<g id=\"node6\" class=\"node\">\n<title>5</title>\n<path fill=\"#4aa5e7\" stroke=\"#000000\" d=\"M483,-68C483,-68 368,-68 368,-68 362,-68 356,-62 356,-56 356,-56 356,-12 356,-12 356,-6 362,0 368,0 368,0 483,0 483,0 489,0 495,-6 495,-12 495,-12 495,-56 495,-56 495,-62 489,-68 483,-68\"/>\n<text text-anchor=\"start\" x=\"374.5\" y=\"-52.8\" font-family=\"Helvetica,sans-Serif\" font-size=\"14.00\" fill=\"#000000\">entropy = 0.398</text>\n<text text-anchor=\"start\" x=\"381.5\" y=\"-37.8\" font-family=\"Helvetica,sans-Serif\" font-size=\"14.00\" fill=\"#000000\">samples = 38</text>\n<text text-anchor=\"start\" x=\"364\" y=\"-22.8\" font-family=\"Helvetica,sans-Serif\" font-size=\"14.00\" fill=\"#000000\">value = [3, 0, 35, 0]</text>\n<text text-anchor=\"start\" x=\"396.5\" y=\"-7.8\" font-family=\"Helvetica,sans-Serif\" font-size=\"14.00\" fill=\"#000000\">class = o</text>\n</g>\n<!-- 4&#45;&gt;5 -->\n<g id=\"edge5\" class=\"edge\">\n<title>4&#45;&gt;5</title>\n<path fill=\"none\" stroke=\"#000000\" d=\"M433.6593,-103.9815C432.6842,-95.618 431.6557,-86.7965 430.6698,-78.3409\"/>\n<polygon fill=\"#000000\" stroke=\"#000000\" points=\"434.1295,-77.791 429.4949,-68.2637 427.1766,-78.6017 434.1295,-77.791\"/>\n</g>\n<!-- 6 -->\n<g id=\"node7\" class=\"node\">\n<title>6</title>\n<path fill=\"#e9965a\" stroke=\"#000000\" d=\"M640,-68C640,-68 525,-68 525,-68 519,-68 513,-62 513,-56 513,-56 513,-12 513,-12 513,-6 519,0 525,0 525,0 640,0 640,0 646,0 652,-6 652,-12 652,-12 652,-56 652,-56 652,-62 646,-68 640,-68\"/>\n<text text-anchor=\"start\" x=\"531.5\" y=\"-52.8\" font-family=\"Helvetica,sans-Serif\" font-size=\"14.00\" fill=\"#000000\">entropy = 0.761</text>\n<text text-anchor=\"start\" x=\"538.5\" y=\"-37.8\" font-family=\"Helvetica,sans-Serif\" font-size=\"14.00\" fill=\"#000000\">samples = 99</text>\n<text text-anchor=\"start\" x=\"521\" y=\"-22.8\" font-family=\"Helvetica,sans-Serif\" font-size=\"14.00\" fill=\"#000000\">value = [84, 0, 9, 6]</text>\n<text text-anchor=\"start\" x=\"553.5\" y=\"-7.8\" font-family=\"Helvetica,sans-Serif\" font-size=\"14.00\" fill=\"#000000\">class = d</text>\n</g>\n<!-- 4&#45;&gt;6 -->\n<g id=\"edge6\" class=\"edge\">\n<title>4&#45;&gt;6</title>\n<path fill=\"none\" stroke=\"#000000\" d=\"M492.1203,-103.9815C504.5833,-94.3313 517.8338,-84.0714 530.2373,-74.4673\"/>\n<polygon fill=\"#000000\" stroke=\"#000000\" points=\"532.4851,-77.1534 538.2492,-68.2637 528.1995,-71.6186 532.4851,-77.1534\"/>\n</g>\n</g>\n</svg>\n"
          },
          "metadata": {},
          "execution_count": 48
        }
      ]
    },
    {
      "cell_type": "code",
      "source": [
        "plt.scatter(X_v.iloc[:,1], X_v.iloc[:,0], c=labels)\n",
        "plt.plot([34.5, 34.5], [-60, 160], 'r', lw=2)\n",
        "plt.plot([0, 100], [69.5,69.5], '', lw=2)\n",
        "plt.xlabel('b2') \n",
        "plt.ylabel('b1') \n",
        "plt.show()"
      ],
      "metadata": {
        "colab": {
          "base_uri": "https://localhost:8080/",
          "height": 279
        },
        "id": "PI0uUQwXbzY2",
        "outputId": "8adf6f36-8723-4fb2-a99a-fd558c3bd8db"
      },
      "execution_count": null,
      "outputs": [
        {
          "output_type": "display_data",
          "data": {
            "text/plain": [
              "<Figure size 432x288 with 1 Axes>"
            ],
            "image/png": "[encoded data removed]"
          },
          "metadata": {
            "needs_background": "light"
          }
        }
      ]
    },
    {
      "cell_type": "code",
      "source": [
        "plt.scatter(X_v.iloc[:,1], X_v.iloc[:,16], c=labels)\n",
        "plt.plot([34.5, 34.5], [-60, 160], 'r', lw=2)\n",
        "plt.plot([0, 100], [-2.51,-2.51], '', lw=2)\n",
        "plt.xlabel('b2') \n",
        "plt.ylabel('b1') \n",
        "plt.show()"
      ],
      "metadata": {
        "colab": {
          "base_uri": "https://localhost:8080/",
          "height": 279
        },
        "id": "5TKOz2ZYU_DW",
        "outputId": "23a474ce-dce4-404e-9e43-26c160c4ddd5"
      },
      "execution_count": null,
      "outputs": [
        {
          "output_type": "display_data",
          "data": {
            "text/plain": [
              "<Figure size 432x288 with 1 Axes>"
            ],
            "image/png": "[encoded data removed]"
          },
          "metadata": {
            "needs_background": "light"
          }
        }
      ]
    },
    {
      "cell_type": "code",
      "source": [
        ""
      ],
      "metadata": {
        "id": "BP0uMgSKecED"
      },
      "execution_count": null,
      "outputs": []
    }
  ]
}
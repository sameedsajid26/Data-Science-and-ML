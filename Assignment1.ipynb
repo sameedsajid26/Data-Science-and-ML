{
  "nbformat": 4,
  "nbformat_minor": 0,
  "metadata": {
    "colab": {
      "name": "Assignment1.ipynb",
      "provenance": [],
      "collapsed_sections": [],
      "authorship_tag": "ABX9TyMpU33iPuSgYCtYMItxd3K1",
      "include_colab_link": true
    },
    "kernelspec": {
      "name": "python3",
      "display_name": "Python 3"
    },
    "language_info": {
      "name": "python"
    }
  },
  "cells": [
    {
      "cell_type": "markdown",
      "metadata": {
        "id": "view-in-github",
        "colab_type": "text"
      },
      "source": [
        "<a href=\"https://colab.research.google.com/github/sameedsajid26/Data-Science-and-ML/blob/main/Assignment1.ipynb\" target=\"_parent\"><img src=\"https://colab.research.google.com/assets/colab-badge.svg\" alt=\"Open In Colab\"/></a>"
      ]
    },
    {
      "cell_type": "code",
      "execution_count": null,
      "metadata": {
        "colab": {
          "resources": {
            "http://localhost:8080/nbextensions/google.colab/files.js": {
              "data": "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",
              "ok": true,
              "headers": [
                [
                  "content-type",
                  "application/javascript"
                ]
              ],
              "status": 200,
              "status_text": ""
            }
          },
          "base_uri": "https://localhost:8080/",
          "height": 73
        },
        "id": "iuy6TQQOhVSq",
        "outputId": "5324a1a4-3331-41a4-d8b6-41ea9bcaa64c"
      },
      "outputs": [
        {
          "output_type": "display_data",
          "data": {
            "text/plain": [
              "<IPython.core.display.HTML object>"
            ],
            "text/html": [
              "\n",
              "     <input type=\"file\" id=\"files-221b7b74-3baf-449d-8f09-77e6cd1592ed\" name=\"files[]\" multiple disabled\n",
              "        style=\"border:none\" />\n",
              "     <output id=\"result-221b7b74-3baf-449d-8f09-77e6cd1592ed\">\n",
              "      Upload widget is only available when the cell has been executed in the\n",
              "      current browser session. Please rerun this cell to enable.\n",
              "      </output>\n",
              "      <script src=\"/nbextensions/google.colab/files.js\"></script> "
            ]
          },
          "metadata": {}
        },
        {
          "output_type": "stream",
          "name": "stdout",
          "text": [
            "Saving training.csv to training.csv\n"
          ]
        }
      ],
      "source": [
        "from google.colab import files\n",
        "uploaded = files.upload()"
      ]
    },
    {
      "cell_type": "code",
      "source": [
        "import pandas as pd\n",
        "import io\n",
        "dftraining = pd.read_csv(io.BytesIO(uploaded['training.csv']))\n"
      ],
      "metadata": {
        "id": "LMWl3itqhah7"
      },
      "execution_count": null,
      "outputs": []
    },
    {
      "cell_type": "code",
      "source": [
        "uploaded = files.upload()"
      ],
      "metadata": {
        "colab": {
          "resources": {
            "http://localhost:8080/nbextensions/google.colab/files.js": {
              "data": "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",
              "ok": true,
              "headers": [
                [
                  "content-type",
                  "application/javascript"
                ]
              ],
              "status": 200,
              "status_text": ""
            }
          },
          "base_uri": "https://localhost:8080/",
          "height": 73
        },
        "id": "_LzHaA8ShhlF",
        "outputId": "83988ffe-ed96-42c3-b9fd-fc196d58a2f6"
      },
      "execution_count": null,
      "outputs": [
        {
          "output_type": "display_data",
          "data": {
            "text/plain": [
              "<IPython.core.display.HTML object>"
            ],
            "text/html": [
              "\n",
              "     <input type=\"file\" id=\"files-a31db20a-5263-4f4b-baf0-db9ec07906a6\" name=\"files[]\" multiple disabled\n",
              "        style=\"border:none\" />\n",
              "     <output id=\"result-a31db20a-5263-4f4b-baf0-db9ec07906a6\">\n",
              "      Upload widget is only available when the cell has been executed in the\n",
              "      current browser session. Please rerun this cell to enable.\n",
              "      </output>\n",
              "      <script src=\"/nbextensions/google.colab/files.js\"></script> "
            ]
          },
          "metadata": {}
        },
        {
          "output_type": "stream",
          "name": "stdout",
          "text": [
            "Saving testing.csv to testing.csv\n"
          ]
        }
      ]
    },
    {
      "cell_type": "code",
      "source": [
        "dftesting = pd.read_csv(io.BytesIO(uploaded['testing.csv']))"
      ],
      "metadata": {
        "id": "iwtWR7e3hxdY"
      },
      "execution_count": null,
      "outputs": []
    },
    {
      "cell_type": "code",
      "source": [
        "dftraining.head()"
      ],
      "metadata": {
        "colab": {
          "base_uri": "https://localhost:8080/",
          "height": 299
        },
        "id": "j6ucwDznh4Re",
        "outputId": "0fedb68a-be36-4cff-db31-e07a50006de2"
      },
      "execution_count": null,
      "outputs": [
        {
          "output_type": "execute_result",
          "data": {
            "text/plain": [
              "  class  b1  b2  b3   b4  b5   b6   b7  b8  b9  ...  pred_minus_obs_H_b9  \\\n",
              "0    d   39  36  57   91  59  101   93  27  60  ...                -2.36   \n",
              "1    h   84  30  57  112  51   98   92  26  62  ...                -2.26   \n",
              "2    s   53  25  49   99  51   93   84  26  58  ...                -1.46   \n",
              "3    s   59  26  49  103  47   92   82  25  56  ...                 2.68   \n",
              "4    d   57  49  66  103  64  106  114  28  59  ...                -2.94   \n",
              "\n",
              "   pred_minus_obs_S_b1  pred_minus_obs_S_b2  pred_minus_obs_S_b3  \\\n",
              "0               -18.41                -1.88                -6.43   \n",
              "1               -16.27                -1.95                -6.25   \n",
              "2               -15.92                -1.79                -4.64   \n",
              "3               -13.77                -2.53                -6.34   \n",
              "4               -21.74                -1.64                -4.62   \n",
              "\n",
              "   pred_minus_obs_S_b4  pred_minus_obs_S_b5  pred_minus_obs_S_b6  \\\n",
              "0               -21.03                -1.60                -6.18   \n",
              "1               -18.79                -1.99                -6.18   \n",
              "2               -17.73                -0.48                -4.69   \n",
              "3               -22.03                -2.34                -6.60   \n",
              "4               -23.74                -0.85                -5.50   \n",
              "\n",
              "   pred_minus_obs_S_b7  pred_minus_obs_S_b8  pred_minus_obs_S_b9  \n",
              "0               -22.50                -5.20                -7.86  \n",
              "1               -23.41                -8.87               -10.83  \n",
              "2               -19.97                -4.10                -7.07  \n",
              "3               -27.10                -7.99               -10.81  \n",
              "4               -22.83                -2.74                -5.84  \n",
              "\n",
              "[5 rows x 28 columns]"
            ],
            "text/html": [
              "\n",
              "  <div id=\"df-0d8b5e21-be10-48b7-917a-f729e73b7325\">\n",
              "    <div class=\"colab-df-container\">\n",
              "      <div>\n",
              "<style scoped>\n",
              "    .dataframe tbody tr th:only-of-type {\n",
              "        vertical-align: middle;\n",
              "    }\n",
              "\n",
              "    .dataframe tbody tr th {\n",
              "        vertical-align: top;\n",
              "    }\n",
              "\n",
              "    .dataframe thead th {\n",
              "        text-align: right;\n",
              "    }\n",
              "</style>\n",
              "<table border=\"1\" class=\"dataframe\">\n",
              "  <thead>\n",
              "    <tr style=\"text-align: right;\">\n",
              "      <th></th>\n",
              "      <th>class</th>\n",
              "      <th>b1</th>\n",
              "      <th>b2</th>\n",
              "      <th>b3</th>\n",
              "      <th>b4</th>\n",
              "      <th>b5</th>\n",
              "      <th>b6</th>\n",
              "      <th>b7</th>\n",
              "      <th>b8</th>\n",
              "      <th>b9</th>\n",
              "      <th>...</th>\n",
              "      <th>pred_minus_obs_H_b9</th>\n",
              "      <th>pred_minus_obs_S_b1</th>\n",
              "      <th>pred_minus_obs_S_b2</th>\n",
              "      <th>pred_minus_obs_S_b3</th>\n",
              "      <th>pred_minus_obs_S_b4</th>\n",
              "      <th>pred_minus_obs_S_b5</th>\n",
              "      <th>pred_minus_obs_S_b6</th>\n",
              "      <th>pred_minus_obs_S_b7</th>\n",
              "      <th>pred_minus_obs_S_b8</th>\n",
              "      <th>pred_minus_obs_S_b9</th>\n",
              "    </tr>\n",
              "  </thead>\n",
              "  <tbody>\n",
              "    <tr>\n",
              "      <th>0</th>\n",
              "      <td>d</td>\n",
              "      <td>39</td>\n",
              "      <td>36</td>\n",
              "      <td>57</td>\n",
              "      <td>91</td>\n",
              "      <td>59</td>\n",
              "      <td>101</td>\n",
              "      <td>93</td>\n",
              "      <td>27</td>\n",
              "      <td>60</td>\n",
              "      <td>...</td>\n",
              "      <td>-2.36</td>\n",
              "      <td>-18.41</td>\n",
              "      <td>-1.88</td>\n",
              "      <td>-6.43</td>\n",
              "      <td>-21.03</td>\n",
              "      <td>-1.60</td>\n",
              "      <td>-6.18</td>\n",
              "      <td>-22.50</td>\n",
              "      <td>-5.20</td>\n",
              "      <td>-7.86</td>\n",
              "    </tr>\n",
              "    <tr>\n",
              "      <th>1</th>\n",
              "      <td>h</td>\n",
              "      <td>84</td>\n",
              "      <td>30</td>\n",
              "      <td>57</td>\n",
              "      <td>112</td>\n",
              "      <td>51</td>\n",
              "      <td>98</td>\n",
              "      <td>92</td>\n",
              "      <td>26</td>\n",
              "      <td>62</td>\n",
              "      <td>...</td>\n",
              "      <td>-2.26</td>\n",
              "      <td>-16.27</td>\n",
              "      <td>-1.95</td>\n",
              "      <td>-6.25</td>\n",
              "      <td>-18.79</td>\n",
              "      <td>-1.99</td>\n",
              "      <td>-6.18</td>\n",
              "      <td>-23.41</td>\n",
              "      <td>-8.87</td>\n",
              "      <td>-10.83</td>\n",
              "    </tr>\n",
              "    <tr>\n",
              "      <th>2</th>\n",
              "      <td>s</td>\n",
              "      <td>53</td>\n",
              "      <td>25</td>\n",
              "      <td>49</td>\n",
              "      <td>99</td>\n",
              "      <td>51</td>\n",
              "      <td>93</td>\n",
              "      <td>84</td>\n",
              "      <td>26</td>\n",
              "      <td>58</td>\n",
              "      <td>...</td>\n",
              "      <td>-1.46</td>\n",
              "      <td>-15.92</td>\n",
              "      <td>-1.79</td>\n",
              "      <td>-4.64</td>\n",
              "      <td>-17.73</td>\n",
              "      <td>-0.48</td>\n",
              "      <td>-4.69</td>\n",
              "      <td>-19.97</td>\n",
              "      <td>-4.10</td>\n",
              "      <td>-7.07</td>\n",
              "    </tr>\n",
              "    <tr>\n",
              "      <th>3</th>\n",
              "      <td>s</td>\n",
              "      <td>59</td>\n",
              "      <td>26</td>\n",
              "      <td>49</td>\n",
              "      <td>103</td>\n",
              "      <td>47</td>\n",
              "      <td>92</td>\n",
              "      <td>82</td>\n",
              "      <td>25</td>\n",
              "      <td>56</td>\n",
              "      <td>...</td>\n",
              "      <td>2.68</td>\n",
              "      <td>-13.77</td>\n",
              "      <td>-2.53</td>\n",
              "      <td>-6.34</td>\n",
              "      <td>-22.03</td>\n",
              "      <td>-2.34</td>\n",
              "      <td>-6.60</td>\n",
              "      <td>-27.10</td>\n",
              "      <td>-7.99</td>\n",
              "      <td>-10.81</td>\n",
              "    </tr>\n",
              "    <tr>\n",
              "      <th>4</th>\n",
              "      <td>d</td>\n",
              "      <td>57</td>\n",
              "      <td>49</td>\n",
              "      <td>66</td>\n",
              "      <td>103</td>\n",
              "      <td>64</td>\n",
              "      <td>106</td>\n",
              "      <td>114</td>\n",
              "      <td>28</td>\n",
              "      <td>59</td>\n",
              "      <td>...</td>\n",
              "      <td>-2.94</td>\n",
              "      <td>-21.74</td>\n",
              "      <td>-1.64</td>\n",
              "      <td>-4.62</td>\n",
              "      <td>-23.74</td>\n",
              "      <td>-0.85</td>\n",
              "      <td>-5.50</td>\n",
              "      <td>-22.83</td>\n",
              "      <td>-2.74</td>\n",
              "      <td>-5.84</td>\n",
              "    </tr>\n",
              "  </tbody>\n",
              "</table>\n",
              "<p>5 rows × 28 columns</p>\n",
              "</div>\n",
              "      <button class=\"colab-df-convert\" onclick=\"convertToInteractive('df-0d8b5e21-be10-48b7-917a-f729e73b7325')\"\n",
              "              title=\"Convert this dataframe to an interactive table.\"\n",
              "              style=\"display:none;\">\n",
              "        \n",
              "  <svg xmlns=\"http://www.w3.org/2000/svg\" height=\"24px\"viewBox=\"0 0 24 24\"\n",
              "       width=\"24px\">\n",
              "    <path d=\"M0 0h24v24H0V0z\" fill=\"none\"/>\n",
              "    <path d=\"M18.56 5.44l.94 2.06.94-2.06 2.06-.94-2.06-.94-.94-2.06-.94 2.06-2.06.94zm-11 1L8.5 8.5l.94-2.06 2.06-.94-2.06-.94L8.5 2.5l-.94 2.06-2.06.94zm10 10l.94 2.06.94-2.06 2.06-.94-2.06-.94-.94-2.06-.94 2.06-2.06.94z\"/><path d=\"M17.41 7.96l-1.37-1.37c-.4-.4-.92-.59-1.43-.59-.52 0-1.04.2-1.43.59L10.3 9.45l-7.72 7.72c-.78.78-.78 2.05 0 2.83L4 21.41c.39.39.9.59 1.41.59.51 0 1.02-.2 1.41-.59l7.78-7.78 2.81-2.81c.8-.78.8-2.07 0-2.86zM5.41 20L4 18.59l7.72-7.72 1.47 1.35L5.41 20z\"/>\n",
              "  </svg>\n",
              "      </button>\n",
              "      \n",
              "  <style>\n",
              "    .colab-df-container {\n",
              "      display:flex;\n",
              "      flex-wrap:wrap;\n",
              "      gap: 12px;\n",
              "    }\n",
              "\n",
              "    .colab-df-convert {\n",
              "      background-color: #E8F0FE;\n",
              "      border: none;\n",
              "      border-radius: 50%;\n",
              "      cursor: pointer;\n",
              "      display: none;\n",
              "      fill: #1967D2;\n",
              "      height: 32px;\n",
              "      padding: 0 0 0 0;\n",
              "      width: 32px;\n",
              "    }\n",
              "\n",
              "    .colab-df-convert:hover {\n",
              "      background-color: #E2EBFA;\n",
              "      box-shadow: 0px 1px 2px rgba(60, 64, 67, 0.3), 0px 1px 3px 1px rgba(60, 64, 67, 0.15);\n",
              "      fill: #174EA6;\n",
              "    }\n",
              "\n",
              "    [theme=dark] .colab-df-convert {\n",
              "      background-color: #3B4455;\n",
              "      fill: #D2E3FC;\n",
              "    }\n",
              "\n",
              "    [theme=dark] .colab-df-convert:hover {\n",
              "      background-color: #434B5C;\n",
              "      box-shadow: 0px 1px 3px 1px rgba(0, 0, 0, 0.15);\n",
              "      filter: drop-shadow(0px 1px 2px rgba(0, 0, 0, 0.3));\n",
              "      fill: #FFFFFF;\n",
              "    }\n",
              "  </style>\n",
              "\n",
              "      <script>\n",
              "        const buttonEl =\n",
              "          document.querySelector('#df-0d8b5e21-be10-48b7-917a-f729e73b7325 button.colab-df-convert');\n",
              "        buttonEl.style.display =\n",
              "          google.colab.kernel.accessAllowed ? 'block' : 'none';\n",
              "\n",
              "        async function convertToInteractive(key) {\n",
              "          const element = document.querySelector('#df-0d8b5e21-be10-48b7-917a-f729e73b7325');\n",
              "          const dataTable =\n",
              "            await google.colab.kernel.invokeFunction('convertToInteractive',\n",
              "                                                     [key], {});\n",
              "          if (!dataTable) return;\n",
              "\n",
              "          const docLinkHtml = 'Like what you see? Visit the ' +\n",
              "            '<a target=\"_blank\" href=https://colab.research.google.com/notebooks/data_table.ipynb>data table notebook</a>'\n",
              "            + ' to learn more about interactive tables.';\n",
              "          element.innerHTML = '';\n",
              "          dataTable['output_type'] = 'display_data';\n",
              "          await google.colab.output.renderOutput(dataTable, element);\n",
              "          const docLink = document.createElement('div');\n",
              "          docLink.innerHTML = docLinkHtml;\n",
              "          element.appendChild(docLink);\n",
              "        }\n",
              "      </script>\n",
              "    </div>\n",
              "  </div>\n",
              "  "
            ]
          },
          "metadata": {},
          "execution_count": 6
        }
      ]
    },
    {
      "cell_type": "code",
      "source": [
        "#df = pd.read_csv('training.csv')\n",
        " \n",
        "# creating a list of column names by\n",
        "# calling the .columns\n",
        "list_of_column_names = list(dftraining.columns)\n",
        " \n",
        "# displaying the list of column names\n",
        "print('List of column names : ',\n",
        "      list_of_column_names)"
      ],
      "metadata": {
        "colab": {
          "base_uri": "https://localhost:8080/"
        },
        "id": "oA5rQutJYvpr",
        "outputId": "a15705e5-f67f-465e-d500-ff9689a551c4"
      },
      "execution_count": null,
      "outputs": [
        {
          "output_type": "stream",
          "name": "stdout",
          "text": [
            "List of column names :  ['class', 'b1', 'b2', 'b3', 'b4', 'b5', 'b6', 'b7', 'b8', 'b9', 'pred_minus_obs_H_b1', 'pred_minus_obs_H_b2', 'pred_minus_obs_H_b3', 'pred_minus_obs_H_b4', 'pred_minus_obs_H_b5', 'pred_minus_obs_H_b6', 'pred_minus_obs_H_b7', 'pred_minus_obs_H_b8', 'pred_minus_obs_H_b9', 'pred_minus_obs_S_b1', 'pred_minus_obs_S_b2', 'pred_minus_obs_S_b3', 'pred_minus_obs_S_b4', 'pred_minus_obs_S_b5', 'pred_minus_obs_S_b6', 'pred_minus_obs_S_b7', 'pred_minus_obs_S_b8', 'pred_minus_obs_S_b9']\n"
          ]
        }
      ]
    },
    {
      "cell_type": "code",
      "source": [
        "dftesting.head()"
      ],
      "metadata": {
        "colab": {
          "base_uri": "https://localhost:8080/",
          "height": 299
        },
        "id": "H_iiOJ3Qh62j",
        "outputId": "a6e60e46-c6f2-47cf-9ea5-fa84f395b940"
      },
      "execution_count": null,
      "outputs": [
        {
          "output_type": "execute_result",
          "data": {
            "text/plain": [
              "  class  b1  b2  b3   b4  b5   b6   b7  b8  b9  ...  pred_minus_obs_H_b9  \\\n",
              "0    d   67  51  68  115  69  111  136  31  67  ...                -9.17   \n",
              "1    s   67  28  51   99  50   97   82  26  59  ...                -2.25   \n",
              "2    s   63  26  50   95  49   91   81  26  57  ...                -0.44   \n",
              "3    d   63  42  63   97  66  108  111  28  59  ...                -2.34   \n",
              "4    s   46  27  50   83  51   90   76  26  56  ...                 1.25   \n",
              "\n",
              "   pred_minus_obs_S_b1  pred_minus_obs_S_b2  pred_minus_obs_S_b3  \\\n",
              "0               -18.27                -1.80                -6.32   \n",
              "1               -20.13                -2.11                -6.35   \n",
              "2               -17.64                -1.81                -4.70   \n",
              "3               -20.20                -1.89                -5.47   \n",
              "4               -18.62                -2.17                -7.11   \n",
              "\n",
              "   pred_minus_obs_S_b4  pred_minus_obs_S_b5  pred_minus_obs_S_b6  \\\n",
              "0               -20.88                -1.63                -6.13   \n",
              "1               -21.94                -1.22                -6.13   \n",
              "2               -19.39                -0.65                -5.01   \n",
              "3               -21.65                -0.99                -5.71   \n",
              "4               -21.12                -1.56                -6.35   \n",
              "\n",
              "   pred_minus_obs_S_b7  pred_minus_obs_S_b8  pred_minus_obs_S_b9  \n",
              "0               -22.56                -5.53                -8.11  \n",
              "1               -22.20                -3.41                -6.57  \n",
              "2               -20.89                -3.96                -6.85  \n",
              "3               -22.19                -3.41                -6.52  \n",
              "4               -22.19                -4.45                -7.32  \n",
              "\n",
              "[5 rows x 28 columns]"
            ],
            "text/html": [
              "\n",
              "  <div id=\"df-34770fb8-9b18-4bda-9baf-0f0fb336879e\">\n",
              "    <div class=\"colab-df-container\">\n",
              "      <div>\n",
              "<style scoped>\n",
              "    .dataframe tbody tr th:only-of-type {\n",
              "        vertical-align: middle;\n",
              "    }\n",
              "\n",
              "    .dataframe tbody tr th {\n",
              "        vertical-align: top;\n",
              "    }\n",
              "\n",
              "    .dataframe thead th {\n",
              "        text-align: right;\n",
              "    }\n",
              "</style>\n",
              "<table border=\"1\" class=\"dataframe\">\n",
              "  <thead>\n",
              "    <tr style=\"text-align: right;\">\n",
              "      <th></th>\n",
              "      <th>class</th>\n",
              "      <th>b1</th>\n",
              "      <th>b2</th>\n",
              "      <th>b3</th>\n",
              "      <th>b4</th>\n",
              "      <th>b5</th>\n",
              "      <th>b6</th>\n",
              "      <th>b7</th>\n",
              "      <th>b8</th>\n",
              "      <th>b9</th>\n",
              "      <th>...</th>\n",
              "      <th>pred_minus_obs_H_b9</th>\n",
              "      <th>pred_minus_obs_S_b1</th>\n",
              "      <th>pred_minus_obs_S_b2</th>\n",
              "      <th>pred_minus_obs_S_b3</th>\n",
              "      <th>pred_minus_obs_S_b4</th>\n",
              "      <th>pred_minus_obs_S_b5</th>\n",
              "      <th>pred_minus_obs_S_b6</th>\n",
              "      <th>pred_minus_obs_S_b7</th>\n",
              "      <th>pred_minus_obs_S_b8</th>\n",
              "      <th>pred_minus_obs_S_b9</th>\n",
              "    </tr>\n",
              "  </thead>\n",
              "  <tbody>\n",
              "    <tr>\n",
              "      <th>0</th>\n",
              "      <td>d</td>\n",
              "      <td>67</td>\n",
              "      <td>51</td>\n",
              "      <td>68</td>\n",
              "      <td>115</td>\n",
              "      <td>69</td>\n",
              "      <td>111</td>\n",
              "      <td>136</td>\n",
              "      <td>31</td>\n",
              "      <td>67</td>\n",
              "      <td>...</td>\n",
              "      <td>-9.17</td>\n",
              "      <td>-18.27</td>\n",
              "      <td>-1.80</td>\n",
              "      <td>-6.32</td>\n",
              "      <td>-20.88</td>\n",
              "      <td>-1.63</td>\n",
              "      <td>-6.13</td>\n",
              "      <td>-22.56</td>\n",
              "      <td>-5.53</td>\n",
              "      <td>-8.11</td>\n",
              "    </tr>\n",
              "    <tr>\n",
              "      <th>1</th>\n",
              "      <td>s</td>\n",
              "      <td>67</td>\n",
              "      <td>28</td>\n",
              "      <td>51</td>\n",
              "      <td>99</td>\n",
              "      <td>50</td>\n",
              "      <td>97</td>\n",
              "      <td>82</td>\n",
              "      <td>26</td>\n",
              "      <td>59</td>\n",
              "      <td>...</td>\n",
              "      <td>-2.25</td>\n",
              "      <td>-20.13</td>\n",
              "      <td>-2.11</td>\n",
              "      <td>-6.35</td>\n",
              "      <td>-21.94</td>\n",
              "      <td>-1.22</td>\n",
              "      <td>-6.13</td>\n",
              "      <td>-22.20</td>\n",
              "      <td>-3.41</td>\n",
              "      <td>-6.57</td>\n",
              "    </tr>\n",
              "    <tr>\n",
              "      <th>2</th>\n",
              "      <td>s</td>\n",
              "      <td>63</td>\n",
              "      <td>26</td>\n",
              "      <td>50</td>\n",
              "      <td>95</td>\n",
              "      <td>49</td>\n",
              "      <td>91</td>\n",
              "      <td>81</td>\n",
              "      <td>26</td>\n",
              "      <td>57</td>\n",
              "      <td>...</td>\n",
              "      <td>-0.44</td>\n",
              "      <td>-17.64</td>\n",
              "      <td>-1.81</td>\n",
              "      <td>-4.70</td>\n",
              "      <td>-19.39</td>\n",
              "      <td>-0.65</td>\n",
              "      <td>-5.01</td>\n",
              "      <td>-20.89</td>\n",
              "      <td>-3.96</td>\n",
              "      <td>-6.85</td>\n",
              "    </tr>\n",
              "    <tr>\n",
              "      <th>3</th>\n",
              "      <td>d</td>\n",
              "      <td>63</td>\n",
              "      <td>42</td>\n",
              "      <td>63</td>\n",
              "      <td>97</td>\n",
              "      <td>66</td>\n",
              "      <td>108</td>\n",
              "      <td>111</td>\n",
              "      <td>28</td>\n",
              "      <td>59</td>\n",
              "      <td>...</td>\n",
              "      <td>-2.34</td>\n",
              "      <td>-20.20</td>\n",
              "      <td>-1.89</td>\n",
              "      <td>-5.47</td>\n",
              "      <td>-21.65</td>\n",
              "      <td>-0.99</td>\n",
              "      <td>-5.71</td>\n",
              "      <td>-22.19</td>\n",
              "      <td>-3.41</td>\n",
              "      <td>-6.52</td>\n",
              "    </tr>\n",
              "    <tr>\n",
              "      <th>4</th>\n",
              "      <td>s</td>\n",
              "      <td>46</td>\n",
              "      <td>27</td>\n",
              "      <td>50</td>\n",
              "      <td>83</td>\n",
              "      <td>51</td>\n",
              "      <td>90</td>\n",
              "      <td>76</td>\n",
              "      <td>26</td>\n",
              "      <td>56</td>\n",
              "      <td>...</td>\n",
              "      <td>1.25</td>\n",
              "      <td>-18.62</td>\n",
              "      <td>-2.17</td>\n",
              "      <td>-7.11</td>\n",
              "      <td>-21.12</td>\n",
              "      <td>-1.56</td>\n",
              "      <td>-6.35</td>\n",
              "      <td>-22.19</td>\n",
              "      <td>-4.45</td>\n",
              "      <td>-7.32</td>\n",
              "    </tr>\n",
              "  </tbody>\n",
              "</table>\n",
              "<p>5 rows × 28 columns</p>\n",
              "</div>\n",
              "      <button class=\"colab-df-convert\" onclick=\"convertToInteractive('df-34770fb8-9b18-4bda-9baf-0f0fb336879e')\"\n",
              "              title=\"Convert this dataframe to an interactive table.\"\n",
              "              style=\"display:none;\">\n",
              "        \n",
              "  <svg xmlns=\"http://www.w3.org/2000/svg\" height=\"24px\"viewBox=\"0 0 24 24\"\n",
              "       width=\"24px\">\n",
              "    <path d=\"M0 0h24v24H0V0z\" fill=\"none\"/>\n",
              "    <path d=\"M18.56 5.44l.94 2.06.94-2.06 2.06-.94-2.06-.94-.94-2.06-.94 2.06-2.06.94zm-11 1L8.5 8.5l.94-2.06 2.06-.94-2.06-.94L8.5 2.5l-.94 2.06-2.06.94zm10 10l.94 2.06.94-2.06 2.06-.94-2.06-.94-.94-2.06-.94 2.06-2.06.94z\"/><path d=\"M17.41 7.96l-1.37-1.37c-.4-.4-.92-.59-1.43-.59-.52 0-1.04.2-1.43.59L10.3 9.45l-7.72 7.72c-.78.78-.78 2.05 0 2.83L4 21.41c.39.39.9.59 1.41.59.51 0 1.02-.2 1.41-.59l7.78-7.78 2.81-2.81c.8-.78.8-2.07 0-2.86zM5.41 20L4 18.59l7.72-7.72 1.47 1.35L5.41 20z\"/>\n",
              "  </svg>\n",
              "      </button>\n",
              "      \n",
              "  <style>\n",
              "    .colab-df-container {\n",
              "      display:flex;\n",
              "      flex-wrap:wrap;\n",
              "      gap: 12px;\n",
              "    }\n",
              "\n",
              "    .colab-df-convert {\n",
              "      background-color: #E8F0FE;\n",
              "      border: none;\n",
              "      border-radius: 50%;\n",
              "      cursor: pointer;\n",
              "      display: none;\n",
              "      fill: #1967D2;\n",
              "      height: 32px;\n",
              "      padding: 0 0 0 0;\n",
              "      width: 32px;\n",
              "    }\n",
              "\n",
              "    .colab-df-convert:hover {\n",
              "      background-color: #E2EBFA;\n",
              "      box-shadow: 0px 1px 2px rgba(60, 64, 67, 0.3), 0px 1px 3px 1px rgba(60, 64, 67, 0.15);\n",
              "      fill: #174EA6;\n",
              "    }\n",
              "\n",
              "    [theme=dark] .colab-df-convert {\n",
              "      background-color: #3B4455;\n",
              "      fill: #D2E3FC;\n",
              "    }\n",
              "\n",
              "    [theme=dark] .colab-df-convert:hover {\n",
              "      background-color: #434B5C;\n",
              "      box-shadow: 0px 1px 3px 1px rgba(0, 0, 0, 0.15);\n",
              "      filter: drop-shadow(0px 1px 2px rgba(0, 0, 0, 0.3));\n",
              "      fill: #FFFFFF;\n",
              "    }\n",
              "  </style>\n",
              "\n",
              "      <script>\n",
              "        const buttonEl =\n",
              "          document.querySelector('#df-34770fb8-9b18-4bda-9baf-0f0fb336879e button.colab-df-convert');\n",
              "        buttonEl.style.display =\n",
              "          google.colab.kernel.accessAllowed ? 'block' : 'none';\n",
              "\n",
              "        async function convertToInteractive(key) {\n",
              "          const element = document.querySelector('#df-34770fb8-9b18-4bda-9baf-0f0fb336879e');\n",
              "          const dataTable =\n",
              "            await google.colab.kernel.invokeFunction('convertToInteractive',\n",
              "                                                     [key], {});\n",
              "          if (!dataTable) return;\n",
              "\n",
              "          const docLinkHtml = 'Like what you see? Visit the ' +\n",
              "            '<a target=\"_blank\" href=https://colab.research.google.com/notebooks/data_table.ipynb>data table notebook</a>'\n",
              "            + ' to learn more about interactive tables.';\n",
              "          element.innerHTML = '';\n",
              "          dataTable['output_type'] = 'display_data';\n",
              "          await google.colab.output.renderOutput(dataTable, element);\n",
              "          const docLink = document.createElement('div');\n",
              "          docLink.innerHTML = docLinkHtml;\n",
              "          element.appendChild(docLink);\n",
              "        }\n",
              "      </script>\n",
              "    </div>\n",
              "  </div>\n",
              "  "
            ]
          },
          "metadata": {},
          "execution_count": 7
        }
      ]
    },
    {
      "cell_type": "code",
      "source": [
        "training_labels = dftraining.iloc[:,0] "
      ],
      "metadata": {
        "id": "_Bg96aYvh-Ig"
      },
      "execution_count": null,
      "outputs": []
    },
    {
      "cell_type": "code",
      "source": [
        "training_labels"
      ],
      "metadata": {
        "colab": {
          "base_uri": "https://localhost:8080/"
        },
        "id": "rhfWOHX2i_fB",
        "outputId": "b7538181-a3e8-4b6d-8b06-f7a64f3f78bb"
      },
      "execution_count": null,
      "outputs": [
        {
          "output_type": "execute_result",
          "data": {
            "text/plain": [
              "0      d \n",
              "1      h \n",
              "2      s \n",
              "3      s \n",
              "4      d \n",
              "       ..\n",
              "193    d \n",
              "194    d \n",
              "195    h \n",
              "196    h \n",
              "197    h \n",
              "Name: class, Length: 198, dtype: object"
            ]
          },
          "metadata": {},
          "execution_count": 9
        }
      ]
    },
    {
      "cell_type": "code",
      "source": [
        "dftraining[\"class\"].value_counts()"
      ],
      "metadata": {
        "colab": {
          "base_uri": "https://localhost:8080/"
        },
        "id": "W10UgNHLgkyV",
        "outputId": "74179b59-59b4-4585-d15b-2e7ef9092df3"
      },
      "execution_count": null,
      "outputs": [
        {
          "output_type": "execute_result",
          "data": {
            "text/plain": [
              "s     59\n",
              "d     54\n",
              "h     48\n",
              "o     37\n",
              "Name: class, dtype: int64"
            ]
          },
          "metadata": {},
          "execution_count": 10
        }
      ]
    },
    {
      "cell_type": "code",
      "source": [
        "from sklearn import preprocessing \n",
        "le = preprocessing.LabelEncoder()  \n",
        "labels = le.fit_transform(training_labels)"
      ],
      "metadata": {
        "id": "_7x-HarmjBd3"
      },
      "execution_count": null,
      "outputs": []
    },
    {
      "cell_type": "code",
      "source": [
        "labels"
      ],
      "metadata": {
        "colab": {
          "base_uri": "https://localhost:8080/"
        },
        "id": "i8eLwyKzjjy-",
        "outputId": "53b9bcd5-992f-4731-dff1-5270327b1bca"
      },
      "execution_count": null,
      "outputs": [
        {
          "output_type": "execute_result",
          "data": {
            "text/plain": [
              "array([0, 1, 3, 3, 0, 1, 3, 0, 3, 2, 0, 2, 2, 0, 3, 2, 2, 0, 3, 1, 2, 0,\n",
              "       3, 1, 0, 1, 2, 0, 0, 0, 0, 3, 2, 3, 0, 0, 0, 1, 2, 0, 0, 0, 3, 3,\n",
              "       1, 0, 0, 2, 0, 3, 0, 3, 3, 1, 1, 3, 2, 0, 1, 1, 0, 2, 2, 2, 1, 3,\n",
              "       1, 0, 0, 1, 2, 2, 2, 3, 1, 3, 0, 2, 3, 3, 0, 0, 2, 1, 2, 1, 0, 0,\n",
              "       3, 2, 2, 1, 2, 2, 0, 3, 2, 1, 2, 3, 0, 2, 1, 1, 1, 1, 1, 0, 3, 1,\n",
              "       0, 0, 0, 0, 1, 2, 3, 1, 3, 3, 3, 3, 2, 3, 1, 3, 1, 3, 1, 0, 3, 3,\n",
              "       2, 3, 1, 3, 2, 3, 0, 3, 3, 1, 3, 1, 3, 0, 0, 3, 1, 0, 3, 1, 3, 0,\n",
              "       2, 0, 3, 2, 0, 3, 2, 0, 2, 3, 0, 1, 3, 3, 2, 0, 3, 1, 1, 1, 3, 3,\n",
              "       1, 0, 1, 0, 3, 3, 1, 3, 1, 3, 0, 2, 1, 3, 3, 3, 1, 0, 0, 1, 1, 1])"
            ]
          },
          "metadata": {},
          "execution_count": 12
        }
      ]
    },
    {
      "cell_type": "code",
      "source": [
        "training_labels[9]"
      ],
      "metadata": {
        "colab": {
          "base_uri": "https://localhost:8080/",
          "height": 35
        },
        "id": "hYNtdr0pjlfZ",
        "outputId": "5bd614ae-3124-42a1-8599-64705713240e"
      },
      "execution_count": null,
      "outputs": [
        {
          "output_type": "execute_result",
          "data": {
            "text/plain": [
              "'o '"
            ],
            "application/vnd.google.colaboratory.intrinsic+json": {
              "type": "string"
            }
          },
          "metadata": {},
          "execution_count": 13
        }
      ]
    },
    {
      "cell_type": "code",
      "source": [
        "training_labels[8]"
      ],
      "metadata": {
        "colab": {
          "base_uri": "https://localhost:8080/",
          "height": 35
        },
        "id": "SdDUys9Hjy6N",
        "outputId": "a0a37fb9-a4f8-4435-e321-e44750b51ab1"
      },
      "execution_count": null,
      "outputs": [
        {
          "output_type": "execute_result",
          "data": {
            "text/plain": [
              "'s '"
            ],
            "application/vnd.google.colaboratory.intrinsic+json": {
              "type": "string"
            }
          },
          "metadata": {},
          "execution_count": 14
        }
      ]
    },
    {
      "cell_type": "code",
      "source": [
        "print(labels)"
      ],
      "metadata": {
        "colab": {
          "base_uri": "https://localhost:8080/"
        },
        "id": "cfD1ztvUkEmZ",
        "outputId": "e4cd28d8-545f-4cc8-f3c9-ffdb019bedb3"
      },
      "execution_count": null,
      "outputs": [
        {
          "output_type": "stream",
          "name": "stdout",
          "text": [
            "[0 1 3 3 0 1 3 0 3 2 0 2 2 0 3 2 2 0 3 1 2 0 3 1 0 1 2 0 0 0 0 3 2 3 0 0 0\n",
            " 1 2 0 0 0 3 3 1 0 0 2 0 3 0 3 3 1 1 3 2 0 1 1 0 2 2 2 1 3 1 0 0 1 2 2 2 3\n",
            " 1 3 0 2 3 3 0 0 2 1 2 1 0 0 3 2 2 1 2 2 0 3 2 1 2 3 0 2 1 1 1 1 1 0 3 1 0\n",
            " 0 0 0 1 2 3 1 3 3 3 3 2 3 1 3 1 3 1 0 3 3 2 3 1 3 2 3 0 3 3 1 3 1 3 0 0 3\n",
            " 1 0 3 1 3 0 2 0 3 2 0 3 2 0 2 3 0 1 3 3 2 0 3 1 1 1 3 3 1 0 1 0 3 3 1 3 1\n",
            " 3 0 2 1 3 3 3 1 0 0 1 1 1]\n"
          ]
        }
      ]
    },
    {
      "cell_type": "code",
      "source": [
        "from sklearn import tree\n",
        "import graphviz\n"
      ],
      "metadata": {
        "id": "J158S7sN79-j"
      },
      "execution_count": null,
      "outputs": []
    },
    {
      "cell_type": "code",
      "source": [
        "x_train = dftraining.iloc[:,1:]"
      ],
      "metadata": {
        "id": "Nt-ENp0O8HXg"
      },
      "execution_count": null,
      "outputs": []
    },
    {
      "cell_type": "code",
      "source": [
        "x_train"
      ],
      "metadata": {
        "colab": {
          "base_uri": "https://localhost:8080/",
          "height": 487
        },
        "id": "lFuQp3gT9wgM",
        "outputId": "6a3d966d-baed-4160-c703-9c59486d59c5"
      },
      "execution_count": null,
      "outputs": [
        {
          "output_type": "execute_result",
          "data": {
            "text/plain": [
              "     b1  b2  b3   b4  b5   b6   b7  b8  b9  pred_minus_obs_H_b1  ...  \\\n",
              "0    39  36  57   91  59  101   93  27  60                75.70  ...   \n",
              "1    84  30  57  112  51   98   92  26  62                30.58  ...   \n",
              "2    53  25  49   99  51   93   84  26  58                63.20  ...   \n",
              "3    59  26  49  103  47   92   82  25  56                55.54  ...   \n",
              "4    57  49  66  103  64  106  114  28  59                59.44  ...   \n",
              "..   ..  ..  ..  ...  ..  ...  ...  ..  ..                  ...  ...   \n",
              "193  55  61  90   75  55   91   84  24  54                57.14  ...   \n",
              "194  66  69  93   90  63  100   99  25  57                45.97  ...   \n",
              "195  79  30  55  115  51   96  109  25  59                35.40  ...   \n",
              "196  69  27  53  106  47   90   87  24  55                35.81  ...   \n",
              "197  80  29  55  116  50   95  102  25  59                34.08  ...   \n",
              "\n",
              "     pred_minus_obs_H_b9  pred_minus_obs_S_b1  pred_minus_obs_S_b2  \\\n",
              "0                  -2.36               -18.41                -1.88   \n",
              "1                  -2.26               -16.27                -1.95   \n",
              "2                  -1.46               -15.92                -1.79   \n",
              "3                   2.68               -13.77                -2.53   \n",
              "4                  -2.94               -21.74                -1.64   \n",
              "..                   ...                  ...                  ...   \n",
              "193                 1.28               -20.84                -1.47   \n",
              "194                -1.50               -19.64                -1.45   \n",
              "195                -3.66               -22.40                -3.91   \n",
              "196                -0.88               -13.32                 0.16   \n",
              "197                -4.19               -21.98                -2.12   \n",
              "\n",
              "     pred_minus_obs_S_b3  pred_minus_obs_S_b4  pred_minus_obs_S_b5  \\\n",
              "0                  -6.43               -21.03                -1.60   \n",
              "1                  -6.25               -18.79                -1.99   \n",
              "2                  -4.64               -17.73                -0.48   \n",
              "3                  -6.34               -22.03                -2.34   \n",
              "4                  -4.62               -23.74                -0.85   \n",
              "..                   ...                  ...                  ...   \n",
              "193                -5.72               -18.73                -1.18   \n",
              "194                -5.60               -17.03                -1.08   \n",
              "195                -6.61               -36.29                -2.13   \n",
              "196                -2.39                -7.12                 0.02   \n",
              "197                -6.03               -26.08                -1.67   \n",
              "\n",
              "     pred_minus_obs_S_b6  pred_minus_obs_S_b7  pred_minus_obs_S_b8  \\\n",
              "0                  -6.18               -22.50                -5.20   \n",
              "1                  -6.18               -23.41                -8.87   \n",
              "2                  -4.69               -19.97                -4.10   \n",
              "3                  -6.60               -27.10                -7.99   \n",
              "4                  -5.50               -22.83                -2.74   \n",
              "..                   ...                  ...                  ...   \n",
              "193                -5.22               -17.81                -1.28   \n",
              "194                -5.15               -16.77                -1.46   \n",
              "195                -5.77               -23.32                -2.09   \n",
              "196                -2.06               -10.04                -0.74   \n",
              "197                -5.82               -20.91                -0.90   \n",
              "\n",
              "     pred_minus_obs_S_b9  \n",
              "0                  -7.86  \n",
              "1                 -10.83  \n",
              "2                  -7.07  \n",
              "3                 -10.81  \n",
              "4                  -5.84  \n",
              "..                   ...  \n",
              "193                -3.87  \n",
              "194                -4.03  \n",
              "195                -4.13  \n",
              "196                -2.88  \n",
              "197                -3.70  \n",
              "\n",
              "[198 rows x 27 columns]"
            ],
            "text/html": [
              "\n",
              "  <div id=\"df-a4ce3534-00fc-4df0-8b32-eab4fd27d1af\">\n",
              "    <div class=\"colab-df-container\">\n",
              "      <div>\n",
              "<style scoped>\n",
              "    .dataframe tbody tr th:only-of-type {\n",
              "        vertical-align: middle;\n",
              "    }\n",
              "\n",
              "    .dataframe tbody tr th {\n",
              "        vertical-align: top;\n",
              "    }\n",
              "\n",
              "    .dataframe thead th {\n",
              "        text-align: right;\n",
              "    }\n",
              "</style>\n",
              "<table border=\"1\" class=\"dataframe\">\n",
              "  <thead>\n",
              "    <tr style=\"text-align: right;\">\n",
              "      <th></th>\n",
              "      <th>b1</th>\n",
              "      <th>b2</th>\n",
              "      <th>b3</th>\n",
              "      <th>b4</th>\n",
              "      <th>b5</th>\n",
              "      <th>b6</th>\n",
              "      <th>b7</th>\n",
              "      <th>b8</th>\n",
              "      <th>b9</th>\n",
              "      <th>pred_minus_obs_H_b1</th>\n",
              "      <th>...</th>\n",
              "      <th>pred_minus_obs_H_b9</th>\n",
              "      <th>pred_minus_obs_S_b1</th>\n",
              "      <th>pred_minus_obs_S_b2</th>\n",
              "      <th>pred_minus_obs_S_b3</th>\n",
              "      <th>pred_minus_obs_S_b4</th>\n",
              "      <th>pred_minus_obs_S_b5</th>\n",
              "      <th>pred_minus_obs_S_b6</th>\n",
              "      <th>pred_minus_obs_S_b7</th>\n",
              "      <th>pred_minus_obs_S_b8</th>\n",
              "      <th>pred_minus_obs_S_b9</th>\n",
              "    </tr>\n",
              "  </thead>\n",
              "  <tbody>\n",
              "    <tr>\n",
              "      <th>0</th>\n",
              "      <td>39</td>\n",
              "      <td>36</td>\n",
              "      <td>57</td>\n",
              "      <td>91</td>\n",
              "      <td>59</td>\n",
              "      <td>101</td>\n",
              "      <td>93</td>\n",
              "      <td>27</td>\n",
              "      <td>60</td>\n",
              "      <td>75.70</td>\n",
              "      <td>...</td>\n",
              "      <td>-2.36</td>\n",
              "      <td>-18.41</td>\n",
              "      <td>-1.88</td>\n",
              "      <td>-6.43</td>\n",
              "      <td>-21.03</td>\n",
              "      <td>-1.60</td>\n",
              "      <td>-6.18</td>\n",
              "      <td>-22.50</td>\n",
              "      <td>-5.20</td>\n",
              "      <td>-7.86</td>\n",
              "    </tr>\n",
              "    <tr>\n",
              "      <th>1</th>\n",
              "      <td>84</td>\n",
              "      <td>30</td>\n",
              "      <td>57</td>\n",
              "      <td>112</td>\n",
              "      <td>51</td>\n",
              "      <td>98</td>\n",
              "      <td>92</td>\n",
              "      <td>26</td>\n",
              "      <td>62</td>\n",
              "      <td>30.58</td>\n",
              "      <td>...</td>\n",
              "      <td>-2.26</td>\n",
              "      <td>-16.27</td>\n",
              "      <td>-1.95</td>\n",
              "      <td>-6.25</td>\n",
              "      <td>-18.79</td>\n",
              "      <td>-1.99</td>\n",
              "      <td>-6.18</td>\n",
              "      <td>-23.41</td>\n",
              "      <td>-8.87</td>\n",
              "      <td>-10.83</td>\n",
              "    </tr>\n",
              "    <tr>\n",
              "      <th>2</th>\n",
              "      <td>53</td>\n",
              "      <td>25</td>\n",
              "      <td>49</td>\n",
              "      <td>99</td>\n",
              "      <td>51</td>\n",
              "      <td>93</td>\n",
              "      <td>84</td>\n",
              "      <td>26</td>\n",
              "      <td>58</td>\n",
              "      <td>63.20</td>\n",
              "      <td>...</td>\n",
              "      <td>-1.46</td>\n",
              "      <td>-15.92</td>\n",
              "      <td>-1.79</td>\n",
              "      <td>-4.64</td>\n",
              "      <td>-17.73</td>\n",
              "      <td>-0.48</td>\n",
              "      <td>-4.69</td>\n",
              "      <td>-19.97</td>\n",
              "      <td>-4.10</td>\n",
              "      <td>-7.07</td>\n",
              "    </tr>\n",
              "    <tr>\n",
              "      <th>3</th>\n",
              "      <td>59</td>\n",
              "      <td>26</td>\n",
              "      <td>49</td>\n",
              "      <td>103</td>\n",
              "      <td>47</td>\n",
              "      <td>92</td>\n",
              "      <td>82</td>\n",
              "      <td>25</td>\n",
              "      <td>56</td>\n",
              "      <td>55.54</td>\n",
              "      <td>...</td>\n",
              "      <td>2.68</td>\n",
              "      <td>-13.77</td>\n",
              "      <td>-2.53</td>\n",
              "      <td>-6.34</td>\n",
              "      <td>-22.03</td>\n",
              "      <td>-2.34</td>\n",
              "      <td>-6.60</td>\n",
              "      <td>-27.10</td>\n",
              "      <td>-7.99</td>\n",
              "      <td>-10.81</td>\n",
              "    </tr>\n",
              "    <tr>\n",
              "      <th>4</th>\n",
              "      <td>57</td>\n",
              "      <td>49</td>\n",
              "      <td>66</td>\n",
              "      <td>103</td>\n",
              "      <td>64</td>\n",
              "      <td>106</td>\n",
              "      <td>114</td>\n",
              "      <td>28</td>\n",
              "      <td>59</td>\n",
              "      <td>59.44</td>\n",
              "      <td>...</td>\n",
              "      <td>-2.94</td>\n",
              "      <td>-21.74</td>\n",
              "      <td>-1.64</td>\n",
              "      <td>-4.62</td>\n",
              "      <td>-23.74</td>\n",
              "      <td>-0.85</td>\n",
              "      <td>-5.50</td>\n",
              "      <td>-22.83</td>\n",
              "      <td>-2.74</td>\n",
              "      <td>-5.84</td>\n",
              "    </tr>\n",
              "    <tr>\n",
              "      <th>...</th>\n",
              "      <td>...</td>\n",
              "      <td>...</td>\n",
              "      <td>...</td>\n",
              "      <td>...</td>\n",
              "      <td>...</td>\n",
              "      <td>...</td>\n",
              "      <td>...</td>\n",
              "      <td>...</td>\n",
              "      <td>...</td>\n",
              "      <td>...</td>\n",
              "      <td>...</td>\n",
              "      <td>...</td>\n",
              "      <td>...</td>\n",
              "      <td>...</td>\n",
              "      <td>...</td>\n",
              "      <td>...</td>\n",
              "      <td>...</td>\n",
              "      <td>...</td>\n",
              "      <td>...</td>\n",
              "      <td>...</td>\n",
              "      <td>...</td>\n",
              "    </tr>\n",
              "    <tr>\n",
              "      <th>193</th>\n",
              "      <td>55</td>\n",
              "      <td>61</td>\n",
              "      <td>90</td>\n",
              "      <td>75</td>\n",
              "      <td>55</td>\n",
              "      <td>91</td>\n",
              "      <td>84</td>\n",
              "      <td>24</td>\n",
              "      <td>54</td>\n",
              "      <td>57.14</td>\n",
              "      <td>...</td>\n",
              "      <td>1.28</td>\n",
              "      <td>-20.84</td>\n",
              "      <td>-1.47</td>\n",
              "      <td>-5.72</td>\n",
              "      <td>-18.73</td>\n",
              "      <td>-1.18</td>\n",
              "      <td>-5.22</td>\n",
              "      <td>-17.81</td>\n",
              "      <td>-1.28</td>\n",
              "      <td>-3.87</td>\n",
              "    </tr>\n",
              "    <tr>\n",
              "      <th>194</th>\n",
              "      <td>66</td>\n",
              "      <td>69</td>\n",
              "      <td>93</td>\n",
              "      <td>90</td>\n",
              "      <td>63</td>\n",
              "      <td>100</td>\n",
              "      <td>99</td>\n",
              "      <td>25</td>\n",
              "      <td>57</td>\n",
              "      <td>45.97</td>\n",
              "      <td>...</td>\n",
              "      <td>-1.50</td>\n",
              "      <td>-19.64</td>\n",
              "      <td>-1.45</td>\n",
              "      <td>-5.60</td>\n",
              "      <td>-17.03</td>\n",
              "      <td>-1.08</td>\n",
              "      <td>-5.15</td>\n",
              "      <td>-16.77</td>\n",
              "      <td>-1.46</td>\n",
              "      <td>-4.03</td>\n",
              "    </tr>\n",
              "    <tr>\n",
              "      <th>195</th>\n",
              "      <td>79</td>\n",
              "      <td>30</td>\n",
              "      <td>55</td>\n",
              "      <td>115</td>\n",
              "      <td>51</td>\n",
              "      <td>96</td>\n",
              "      <td>109</td>\n",
              "      <td>25</td>\n",
              "      <td>59</td>\n",
              "      <td>35.40</td>\n",
              "      <td>...</td>\n",
              "      <td>-3.66</td>\n",
              "      <td>-22.40</td>\n",
              "      <td>-3.91</td>\n",
              "      <td>-6.61</td>\n",
              "      <td>-36.29</td>\n",
              "      <td>-2.13</td>\n",
              "      <td>-5.77</td>\n",
              "      <td>-23.32</td>\n",
              "      <td>-2.09</td>\n",
              "      <td>-4.13</td>\n",
              "    </tr>\n",
              "    <tr>\n",
              "      <th>196</th>\n",
              "      <td>69</td>\n",
              "      <td>27</td>\n",
              "      <td>53</td>\n",
              "      <td>106</td>\n",
              "      <td>47</td>\n",
              "      <td>90</td>\n",
              "      <td>87</td>\n",
              "      <td>24</td>\n",
              "      <td>55</td>\n",
              "      <td>35.81</td>\n",
              "      <td>...</td>\n",
              "      <td>-0.88</td>\n",
              "      <td>-13.32</td>\n",
              "      <td>0.16</td>\n",
              "      <td>-2.39</td>\n",
              "      <td>-7.12</td>\n",
              "      <td>0.02</td>\n",
              "      <td>-2.06</td>\n",
              "      <td>-10.04</td>\n",
              "      <td>-0.74</td>\n",
              "      <td>-2.88</td>\n",
              "    </tr>\n",
              "    <tr>\n",
              "      <th>197</th>\n",
              "      <td>80</td>\n",
              "      <td>29</td>\n",
              "      <td>55</td>\n",
              "      <td>116</td>\n",
              "      <td>50</td>\n",
              "      <td>95</td>\n",
              "      <td>102</td>\n",
              "      <td>25</td>\n",
              "      <td>59</td>\n",
              "      <td>34.08</td>\n",
              "      <td>...</td>\n",
              "      <td>-4.19</td>\n",
              "      <td>-21.98</td>\n",
              "      <td>-2.12</td>\n",
              "      <td>-6.03</td>\n",
              "      <td>-26.08</td>\n",
              "      <td>-1.67</td>\n",
              "      <td>-5.82</td>\n",
              "      <td>-20.91</td>\n",
              "      <td>-0.90</td>\n",
              "      <td>-3.70</td>\n",
              "    </tr>\n",
              "  </tbody>\n",
              "</table>\n",
              "<p>198 rows × 27 columns</p>\n",
              "</div>\n",
              "      <button class=\"colab-df-convert\" onclick=\"convertToInteractive('df-a4ce3534-00fc-4df0-8b32-eab4fd27d1af')\"\n",
              "              title=\"Convert this dataframe to an interactive table.\"\n",
              "              style=\"display:none;\">\n",
              "        \n",
              "  <svg xmlns=\"http://www.w3.org/2000/svg\" height=\"24px\"viewBox=\"0 0 24 24\"\n",
              "       width=\"24px\">\n",
              "    <path d=\"M0 0h24v24H0V0z\" fill=\"none\"/>\n",
              "    <path d=\"M18.56 5.44l.94 2.06.94-2.06 2.06-.94-2.06-.94-.94-2.06-.94 2.06-2.06.94zm-11 1L8.5 8.5l.94-2.06 2.06-.94-2.06-.94L8.5 2.5l-.94 2.06-2.06.94zm10 10l.94 2.06.94-2.06 2.06-.94-2.06-.94-.94-2.06-.94 2.06-2.06.94z\"/><path d=\"M17.41 7.96l-1.37-1.37c-.4-.4-.92-.59-1.43-.59-.52 0-1.04.2-1.43.59L10.3 9.45l-7.72 7.72c-.78.78-.78 2.05 0 2.83L4 21.41c.39.39.9.59 1.41.59.51 0 1.02-.2 1.41-.59l7.78-7.78 2.81-2.81c.8-.78.8-2.07 0-2.86zM5.41 20L4 18.59l7.72-7.72 1.47 1.35L5.41 20z\"/>\n",
              "  </svg>\n",
              "      </button>\n",
              "      \n",
              "  <style>\n",
              "    .colab-df-container {\n",
              "      display:flex;\n",
              "      flex-wrap:wrap;\n",
              "      gap: 12px;\n",
              "    }\n",
              "\n",
              "    .colab-df-convert {\n",
              "      background-color: #E8F0FE;\n",
              "      border: none;\n",
              "      border-radius: 50%;\n",
              "      cursor: pointer;\n",
              "      display: none;\n",
              "      fill: #1967D2;\n",
              "      height: 32px;\n",
              "      padding: 0 0 0 0;\n",
              "      width: 32px;\n",
              "    }\n",
              "\n",
              "    .colab-df-convert:hover {\n",
              "      background-color: #E2EBFA;\n",
              "      box-shadow: 0px 1px 2px rgba(60, 64, 67, 0.3), 0px 1px 3px 1px rgba(60, 64, 67, 0.15);\n",
              "      fill: #174EA6;\n",
              "    }\n",
              "\n",
              "    [theme=dark] .colab-df-convert {\n",
              "      background-color: #3B4455;\n",
              "      fill: #D2E3FC;\n",
              "    }\n",
              "\n",
              "    [theme=dark] .colab-df-convert:hover {\n",
              "      background-color: #434B5C;\n",
              "      box-shadow: 0px 1px 3px 1px rgba(0, 0, 0, 0.15);\n",
              "      filter: drop-shadow(0px 1px 2px rgba(0, 0, 0, 0.3));\n",
              "      fill: #FFFFFF;\n",
              "    }\n",
              "  </style>\n",
              "\n",
              "      <script>\n",
              "        const buttonEl =\n",
              "          document.querySelector('#df-a4ce3534-00fc-4df0-8b32-eab4fd27d1af button.colab-df-convert');\n",
              "        buttonEl.style.display =\n",
              "          google.colab.kernel.accessAllowed ? 'block' : 'none';\n",
              "\n",
              "        async function convertToInteractive(key) {\n",
              "          const element = document.querySelector('#df-a4ce3534-00fc-4df0-8b32-eab4fd27d1af');\n",
              "          const dataTable =\n",
              "            await google.colab.kernel.invokeFunction('convertToInteractive',\n",
              "                                                     [key], {});\n",
              "          if (!dataTable) return;\n",
              "\n",
              "          const docLinkHtml = 'Like what you see? Visit the ' +\n",
              "            '<a target=\"_blank\" href=https://colab.research.google.com/notebooks/data_table.ipynb>data table notebook</a>'\n",
              "            + ' to learn more about interactive tables.';\n",
              "          element.innerHTML = '';\n",
              "          dataTable['output_type'] = 'display_data';\n",
              "          await google.colab.output.renderOutput(dataTable, element);\n",
              "          const docLink = document.createElement('div');\n",
              "          docLink.innerHTML = docLinkHtml;\n",
              "          element.appendChild(docLink);\n",
              "        }\n",
              "      </script>\n",
              "    </div>\n",
              "  </div>\n",
              "  "
            ]
          },
          "metadata": {},
          "execution_count": 18
        }
      ]
    },
    {
      "cell_type": "code",
      "source": [
        "y_train = dftraining.iloc[:,0:1]"
      ],
      "metadata": {
        "id": "8zIn9-_W9xvV"
      },
      "execution_count": null,
      "outputs": []
    },
    {
      "cell_type": "code",
      "source": [
        "y_train"
      ],
      "metadata": {
        "colab": {
          "base_uri": "https://localhost:8080/",
          "height": 423
        },
        "id": "vwfr5Pw2-eMF",
        "outputId": "88f11b77-2255-41b2-e0a7-41421cd521b0"
      },
      "execution_count": null,
      "outputs": [
        {
          "output_type": "execute_result",
          "data": {
            "text/plain": [
              "    class\n",
              "0      d \n",
              "1      h \n",
              "2      s \n",
              "3      s \n",
              "4      d \n",
              "..    ...\n",
              "193    d \n",
              "194    d \n",
              "195    h \n",
              "196    h \n",
              "197    h \n",
              "\n",
              "[198 rows x 1 columns]"
            ],
            "text/html": [
              "\n",
              "  <div id=\"df-ecd5c254-1695-423e-8817-4a2bddd18cf7\">\n",
              "    <div class=\"colab-df-container\">\n",
              "      <div>\n",
              "<style scoped>\n",
              "    .dataframe tbody tr th:only-of-type {\n",
              "        vertical-align: middle;\n",
              "    }\n",
              "\n",
              "    .dataframe tbody tr th {\n",
              "        vertical-align: top;\n",
              "    }\n",
              "\n",
              "    .dataframe thead th {\n",
              "        text-align: right;\n",
              "    }\n",
              "</style>\n",
              "<table border=\"1\" class=\"dataframe\">\n",
              "  <thead>\n",
              "    <tr style=\"text-align: right;\">\n",
              "      <th></th>\n",
              "      <th>class</th>\n",
              "    </tr>\n",
              "  </thead>\n",
              "  <tbody>\n",
              "    <tr>\n",
              "      <th>0</th>\n",
              "      <td>d</td>\n",
              "    </tr>\n",
              "    <tr>\n",
              "      <th>1</th>\n",
              "      <td>h</td>\n",
              "    </tr>\n",
              "    <tr>\n",
              "      <th>2</th>\n",
              "      <td>s</td>\n",
              "    </tr>\n",
              "    <tr>\n",
              "      <th>3</th>\n",
              "      <td>s</td>\n",
              "    </tr>\n",
              "    <tr>\n",
              "      <th>4</th>\n",
              "      <td>d</td>\n",
              "    </tr>\n",
              "    <tr>\n",
              "      <th>...</th>\n",
              "      <td>...</td>\n",
              "    </tr>\n",
              "    <tr>\n",
              "      <th>193</th>\n",
              "      <td>d</td>\n",
              "    </tr>\n",
              "    <tr>\n",
              "      <th>194</th>\n",
              "      <td>d</td>\n",
              "    </tr>\n",
              "    <tr>\n",
              "      <th>195</th>\n",
              "      <td>h</td>\n",
              "    </tr>\n",
              "    <tr>\n",
              "      <th>196</th>\n",
              "      <td>h</td>\n",
              "    </tr>\n",
              "    <tr>\n",
              "      <th>197</th>\n",
              "      <td>h</td>\n",
              "    </tr>\n",
              "  </tbody>\n",
              "</table>\n",
              "<p>198 rows × 1 columns</p>\n",
              "</div>\n",
              "      <button class=\"colab-df-convert\" onclick=\"convertToInteractive('df-ecd5c254-1695-423e-8817-4a2bddd18cf7')\"\n",
              "              title=\"Convert this dataframe to an interactive table.\"\n",
              "              style=\"display:none;\">\n",
              "        \n",
              "  <svg xmlns=\"http://www.w3.org/2000/svg\" height=\"24px\"viewBox=\"0 0 24 24\"\n",
              "       width=\"24px\">\n",
              "    <path d=\"M0 0h24v24H0V0z\" fill=\"none\"/>\n",
              "    <path d=\"M18.56 5.44l.94 2.06.94-2.06 2.06-.94-2.06-.94-.94-2.06-.94 2.06-2.06.94zm-11 1L8.5 8.5l.94-2.06 2.06-.94-2.06-.94L8.5 2.5l-.94 2.06-2.06.94zm10 10l.94 2.06.94-2.06 2.06-.94-2.06-.94-.94-2.06-.94 2.06-2.06.94z\"/><path d=\"M17.41 7.96l-1.37-1.37c-.4-.4-.92-.59-1.43-.59-.52 0-1.04.2-1.43.59L10.3 9.45l-7.72 7.72c-.78.78-.78 2.05 0 2.83L4 21.41c.39.39.9.59 1.41.59.51 0 1.02-.2 1.41-.59l7.78-7.78 2.81-2.81c.8-.78.8-2.07 0-2.86zM5.41 20L4 18.59l7.72-7.72 1.47 1.35L5.41 20z\"/>\n",
              "  </svg>\n",
              "      </button>\n",
              "      \n",
              "  <style>\n",
              "    .colab-df-container {\n",
              "      display:flex;\n",
              "      flex-wrap:wrap;\n",
              "      gap: 12px;\n",
              "    }\n",
              "\n",
              "    .colab-df-convert {\n",
              "      background-color: #E8F0FE;\n",
              "      border: none;\n",
              "      border-radius: 50%;\n",
              "      cursor: pointer;\n",
              "      display: none;\n",
              "      fill: #1967D2;\n",
              "      height: 32px;\n",
              "      padding: 0 0 0 0;\n",
              "      width: 32px;\n",
              "    }\n",
              "\n",
              "    .colab-df-convert:hover {\n",
              "      background-color: #E2EBFA;\n",
              "      box-shadow: 0px 1px 2px rgba(60, 64, 67, 0.3), 0px 1px 3px 1px rgba(60, 64, 67, 0.15);\n",
              "      fill: #174EA6;\n",
              "    }\n",
              "\n",
              "    [theme=dark] .colab-df-convert {\n",
              "      background-color: #3B4455;\n",
              "      fill: #D2E3FC;\n",
              "    }\n",
              "\n",
              "    [theme=dark] .colab-df-convert:hover {\n",
              "      background-color: #434B5C;\n",
              "      box-shadow: 0px 1px 3px 1px rgba(0, 0, 0, 0.15);\n",
              "      filter: drop-shadow(0px 1px 2px rgba(0, 0, 0, 0.3));\n",
              "      fill: #FFFFFF;\n",
              "    }\n",
              "  </style>\n",
              "\n",
              "      <script>\n",
              "        const buttonEl =\n",
              "          document.querySelector('#df-ecd5c254-1695-423e-8817-4a2bddd18cf7 button.colab-df-convert');\n",
              "        buttonEl.style.display =\n",
              "          google.colab.kernel.accessAllowed ? 'block' : 'none';\n",
              "\n",
              "        async function convertToInteractive(key) {\n",
              "          const element = document.querySelector('#df-ecd5c254-1695-423e-8817-4a2bddd18cf7');\n",
              "          const dataTable =\n",
              "            await google.colab.kernel.invokeFunction('convertToInteractive',\n",
              "                                                     [key], {});\n",
              "          if (!dataTable) return;\n",
              "\n",
              "          const docLinkHtml = 'Like what you see? Visit the ' +\n",
              "            '<a target=\"_blank\" href=https://colab.research.google.com/notebooks/data_table.ipynb>data table notebook</a>'\n",
              "            + ' to learn more about interactive tables.';\n",
              "          element.innerHTML = '';\n",
              "          dataTable['output_type'] = 'display_data';\n",
              "          await google.colab.output.renderOutput(dataTable, element);\n",
              "          const docLink = document.createElement('div');\n",
              "          docLink.innerHTML = docLinkHtml;\n",
              "          element.appendChild(docLink);\n",
              "        }\n",
              "      </script>\n",
              "    </div>\n",
              "  </div>\n",
              "  "
            ]
          },
          "metadata": {},
          "execution_count": 20
        }
      ]
    },
    {
      "cell_type": "code",
      "source": [
        "#y_train['class'].drop_duplicates().tolist()"
      ],
      "metadata": {
        "id": "KJlWqkz0pSZ4"
      },
      "execution_count": null,
      "outputs": []
    },
    {
      "cell_type": "code",
      "source": [
        "x_test = dftesting.iloc[:,1:]"
      ],
      "metadata": {
        "id": "aes7BYqb-faK"
      },
      "execution_count": null,
      "outputs": []
    },
    {
      "cell_type": "code",
      "source": [
        "x_test"
      ],
      "metadata": {
        "colab": {
          "base_uri": "https://localhost:8080/",
          "height": 487
        },
        "id": "8Zg7buFJ-vzr",
        "outputId": "ffe704d4-0817-4d91-9ca3-e377343e19c4"
      },
      "execution_count": null,
      "outputs": [
        {
          "output_type": "execute_result",
          "data": {
            "text/plain": [
              "     b1  b2  b3   b4  b5   b6   b7  b8  b9  pred_minus_obs_H_b1  ...  \\\n",
              "0    67  51  68  115  69  111  136  31  67                47.70  ...   \n",
              "1    67  28  51   99  50   97   82  26  59                47.93  ...   \n",
              "2    63  26  50   95  49   91   81  26  57                53.09  ...   \n",
              "3    63  42  63   97  66  108  111  28  59                52.41  ...   \n",
              "4    46  27  50   83  51   90   76  26  56                68.54  ...   \n",
              "..   ..  ..  ..  ...  ..  ...  ...  ..  ..                  ...  ...   \n",
              "320  55  56  72   91  79  113   86  35  68                62.20  ...   \n",
              "321  69  49  76   91  52   91   92  25  57                34.95  ...   \n",
              "322  49  26  48  107  59  104   62  22  53                69.86  ...   \n",
              "323  55  26  52   92  55   98   65  23  56                63.64  ...   \n",
              "324  71  28  51   96  46   88   92  25  58                34.77  ...   \n",
              "\n",
              "     pred_minus_obs_H_b9  pred_minus_obs_S_b1  pred_minus_obs_S_b2  \\\n",
              "0                  -9.17               -18.27                -1.80   \n",
              "1                  -2.25               -20.13                -2.11   \n",
              "2                  -0.44               -17.64                -1.81   \n",
              "3                  -2.34               -20.20                -1.89   \n",
              "4                   1.25               -18.62                -2.17   \n",
              "..                   ...                  ...                  ...   \n",
              "320               -12.86               -23.08                -0.08   \n",
              "321                -2.36               -11.47                -0.40   \n",
              "322                 2.32               -23.48                 1.44   \n",
              "323                -0.77               -23.74                 1.27   \n",
              "324                -3.24               -13.96                -0.44   \n",
              "\n",
              "     pred_minus_obs_S_b3  pred_minus_obs_S_b4  pred_minus_obs_S_b5  \\\n",
              "0                  -6.32               -20.88                -1.63   \n",
              "1                  -6.35               -21.94                -1.22   \n",
              "2                  -4.70               -19.39                -0.65   \n",
              "3                  -5.47               -21.65                -0.99   \n",
              "4                  -7.11               -21.12                -1.56   \n",
              "..                   ...                  ...                  ...   \n",
              "320                -3.46               -27.52                -1.04   \n",
              "321                -3.74               -16.90                -0.78   \n",
              "322                -1.59               -26.98                -1.36   \n",
              "323                -1.30               -25.53                -1.21   \n",
              "324                -3.84               -15.45                -0.71   \n",
              "\n",
              "     pred_minus_obs_S_b6  pred_minus_obs_S_b7  pred_minus_obs_S_b8  \\\n",
              "0                  -6.13               -22.56                -5.53   \n",
              "1                  -6.13               -22.20                -3.41   \n",
              "2                  -5.01               -20.89                -3.96   \n",
              "3                  -5.71               -22.19                -3.41   \n",
              "4                  -6.35               -22.19                -4.45   \n",
              "..                   ...                  ...                  ...   \n",
              "320                -4.73               -22.85                -1.49   \n",
              "321                -4.15               -11.13                -1.48   \n",
              "322                -4.81               -24.50                -2.53   \n",
              "323                -4.70               -24.39                -2.21   \n",
              "324                -3.94               -12.74                -1.36   \n",
              "\n",
              "     pred_minus_obs_S_b9  \n",
              "0                  -8.11  \n",
              "1                  -6.57  \n",
              "2                  -6.85  \n",
              "3                  -6.52  \n",
              "4                  -7.32  \n",
              "..                   ...  \n",
              "320                -4.10  \n",
              "321                -3.55  \n",
              "322                -4.97  \n",
              "323                -4.72  \n",
              "324                -3.63  \n",
              "\n",
              "[325 rows x 27 columns]"
            ],
            "text/html": [
              "\n",
              "  <div id=\"df-8b19c541-3b83-49d8-962f-3cb099ae5f62\">\n",
              "    <div class=\"colab-df-container\">\n",
              "      <div>\n",
              "<style scoped>\n",
              "    .dataframe tbody tr th:only-of-type {\n",
              "        vertical-align: middle;\n",
              "    }\n",
              "\n",
              "    .dataframe tbody tr th {\n",
              "        vertical-align: top;\n",
              "    }\n",
              "\n",
              "    .dataframe thead th {\n",
              "        text-align: right;\n",
              "    }\n",
              "</style>\n",
              "<table border=\"1\" class=\"dataframe\">\n",
              "  <thead>\n",
              "    <tr style=\"text-align: right;\">\n",
              "      <th></th>\n",
              "      <th>b1</th>\n",
              "      <th>b2</th>\n",
              "      <th>b3</th>\n",
              "      <th>b4</th>\n",
              "      <th>b5</th>\n",
              "      <th>b6</th>\n",
              "      <th>b7</th>\n",
              "      <th>b8</th>\n",
              "      <th>b9</th>\n",
              "      <th>pred_minus_obs_H_b1</th>\n",
              "      <th>...</th>\n",
              "      <th>pred_minus_obs_H_b9</th>\n",
              "      <th>pred_minus_obs_S_b1</th>\n",
              "      <th>pred_minus_obs_S_b2</th>\n",
              "      <th>pred_minus_obs_S_b3</th>\n",
              "      <th>pred_minus_obs_S_b4</th>\n",
              "      <th>pred_minus_obs_S_b5</th>\n",
              "      <th>pred_minus_obs_S_b6</th>\n",
              "      <th>pred_minus_obs_S_b7</th>\n",
              "      <th>pred_minus_obs_S_b8</th>\n",
              "      <th>pred_minus_obs_S_b9</th>\n",
              "    </tr>\n",
              "  </thead>\n",
              "  <tbody>\n",
              "    <tr>\n",
              "      <th>0</th>\n",
              "      <td>67</td>\n",
              "      <td>51</td>\n",
              "      <td>68</td>\n",
              "      <td>115</td>\n",
              "      <td>69</td>\n",
              "      <td>111</td>\n",
              "      <td>136</td>\n",
              "      <td>31</td>\n",
              "      <td>67</td>\n",
              "      <td>47.70</td>\n",
              "      <td>...</td>\n",
              "      <td>-9.17</td>\n",
              "      <td>-18.27</td>\n",
              "      <td>-1.80</td>\n",
              "      <td>-6.32</td>\n",
              "      <td>-20.88</td>\n",
              "      <td>-1.63</td>\n",
              "      <td>-6.13</td>\n",
              "      <td>-22.56</td>\n",
              "      <td>-5.53</td>\n",
              "      <td>-8.11</td>\n",
              "    </tr>\n",
              "    <tr>\n",
              "      <th>1</th>\n",
              "      <td>67</td>\n",
              "      <td>28</td>\n",
              "      <td>51</td>\n",
              "      <td>99</td>\n",
              "      <td>50</td>\n",
              "      <td>97</td>\n",
              "      <td>82</td>\n",
              "      <td>26</td>\n",
              "      <td>59</td>\n",
              "      <td>47.93</td>\n",
              "      <td>...</td>\n",
              "      <td>-2.25</td>\n",
              "      <td>-20.13</td>\n",
              "      <td>-2.11</td>\n",
              "      <td>-6.35</td>\n",
              "      <td>-21.94</td>\n",
              "      <td>-1.22</td>\n",
              "      <td>-6.13</td>\n",
              "      <td>-22.20</td>\n",
              "      <td>-3.41</td>\n",
              "      <td>-6.57</td>\n",
              "    </tr>\n",
              "    <tr>\n",
              "      <th>2</th>\n",
              "      <td>63</td>\n",
              "      <td>26</td>\n",
              "      <td>50</td>\n",
              "      <td>95</td>\n",
              "      <td>49</td>\n",
              "      <td>91</td>\n",
              "      <td>81</td>\n",
              "      <td>26</td>\n",
              "      <td>57</td>\n",
              "      <td>53.09</td>\n",
              "      <td>...</td>\n",
              "      <td>-0.44</td>\n",
              "      <td>-17.64</td>\n",
              "      <td>-1.81</td>\n",
              "      <td>-4.70</td>\n",
              "      <td>-19.39</td>\n",
              "      <td>-0.65</td>\n",
              "      <td>-5.01</td>\n",
              "      <td>-20.89</td>\n",
              "      <td>-3.96</td>\n",
              "      <td>-6.85</td>\n",
              "    </tr>\n",
              "    <tr>\n",
              "      <th>3</th>\n",
              "      <td>63</td>\n",
              "      <td>42</td>\n",
              "      <td>63</td>\n",
              "      <td>97</td>\n",
              "      <td>66</td>\n",
              "      <td>108</td>\n",
              "      <td>111</td>\n",
              "      <td>28</td>\n",
              "      <td>59</td>\n",
              "      <td>52.41</td>\n",
              "      <td>...</td>\n",
              "      <td>-2.34</td>\n",
              "      <td>-20.20</td>\n",
              "      <td>-1.89</td>\n",
              "      <td>-5.47</td>\n",
              "      <td>-21.65</td>\n",
              "      <td>-0.99</td>\n",
              "      <td>-5.71</td>\n",
              "      <td>-22.19</td>\n",
              "      <td>-3.41</td>\n",
              "      <td>-6.52</td>\n",
              "    </tr>\n",
              "    <tr>\n",
              "      <th>4</th>\n",
              "      <td>46</td>\n",
              "      <td>27</td>\n",
              "      <td>50</td>\n",
              "      <td>83</td>\n",
              "      <td>51</td>\n",
              "      <td>90</td>\n",
              "      <td>76</td>\n",
              "      <td>26</td>\n",
              "      <td>56</td>\n",
              "      <td>68.54</td>\n",
              "      <td>...</td>\n",
              "      <td>1.25</td>\n",
              "      <td>-18.62</td>\n",
              "      <td>-2.17</td>\n",
              "      <td>-7.11</td>\n",
              "      <td>-21.12</td>\n",
              "      <td>-1.56</td>\n",
              "      <td>-6.35</td>\n",
              "      <td>-22.19</td>\n",
              "      <td>-4.45</td>\n",
              "      <td>-7.32</td>\n",
              "    </tr>\n",
              "    <tr>\n",
              "      <th>...</th>\n",
              "      <td>...</td>\n",
              "      <td>...</td>\n",
              "      <td>...</td>\n",
              "      <td>...</td>\n",
              "      <td>...</td>\n",
              "      <td>...</td>\n",
              "      <td>...</td>\n",
              "      <td>...</td>\n",
              "      <td>...</td>\n",
              "      <td>...</td>\n",
              "      <td>...</td>\n",
              "      <td>...</td>\n",
              "      <td>...</td>\n",
              "      <td>...</td>\n",
              "      <td>...</td>\n",
              "      <td>...</td>\n",
              "      <td>...</td>\n",
              "      <td>...</td>\n",
              "      <td>...</td>\n",
              "      <td>...</td>\n",
              "      <td>...</td>\n",
              "    </tr>\n",
              "    <tr>\n",
              "      <th>320</th>\n",
              "      <td>55</td>\n",
              "      <td>56</td>\n",
              "      <td>72</td>\n",
              "      <td>91</td>\n",
              "      <td>79</td>\n",
              "      <td>113</td>\n",
              "      <td>86</td>\n",
              "      <td>35</td>\n",
              "      <td>68</td>\n",
              "      <td>62.20</td>\n",
              "      <td>...</td>\n",
              "      <td>-12.86</td>\n",
              "      <td>-23.08</td>\n",
              "      <td>-0.08</td>\n",
              "      <td>-3.46</td>\n",
              "      <td>-27.52</td>\n",
              "      <td>-1.04</td>\n",
              "      <td>-4.73</td>\n",
              "      <td>-22.85</td>\n",
              "      <td>-1.49</td>\n",
              "      <td>-4.10</td>\n",
              "    </tr>\n",
              "    <tr>\n",
              "      <th>321</th>\n",
              "      <td>69</td>\n",
              "      <td>49</td>\n",
              "      <td>76</td>\n",
              "      <td>91</td>\n",
              "      <td>52</td>\n",
              "      <td>91</td>\n",
              "      <td>92</td>\n",
              "      <td>25</td>\n",
              "      <td>57</td>\n",
              "      <td>34.95</td>\n",
              "      <td>...</td>\n",
              "      <td>-2.36</td>\n",
              "      <td>-11.47</td>\n",
              "      <td>-0.40</td>\n",
              "      <td>-3.74</td>\n",
              "      <td>-16.90</td>\n",
              "      <td>-0.78</td>\n",
              "      <td>-4.15</td>\n",
              "      <td>-11.13</td>\n",
              "      <td>-1.48</td>\n",
              "      <td>-3.55</td>\n",
              "    </tr>\n",
              "    <tr>\n",
              "      <th>322</th>\n",
              "      <td>49</td>\n",
              "      <td>26</td>\n",
              "      <td>48</td>\n",
              "      <td>107</td>\n",
              "      <td>59</td>\n",
              "      <td>104</td>\n",
              "      <td>62</td>\n",
              "      <td>22</td>\n",
              "      <td>53</td>\n",
              "      <td>69.86</td>\n",
              "      <td>...</td>\n",
              "      <td>2.32</td>\n",
              "      <td>-23.48</td>\n",
              "      <td>1.44</td>\n",
              "      <td>-1.59</td>\n",
              "      <td>-26.98</td>\n",
              "      <td>-1.36</td>\n",
              "      <td>-4.81</td>\n",
              "      <td>-24.50</td>\n",
              "      <td>-2.53</td>\n",
              "      <td>-4.97</td>\n",
              "    </tr>\n",
              "    <tr>\n",
              "      <th>323</th>\n",
              "      <td>55</td>\n",
              "      <td>26</td>\n",
              "      <td>52</td>\n",
              "      <td>92</td>\n",
              "      <td>55</td>\n",
              "      <td>98</td>\n",
              "      <td>65</td>\n",
              "      <td>23</td>\n",
              "      <td>56</td>\n",
              "      <td>63.64</td>\n",
              "      <td>...</td>\n",
              "      <td>-0.77</td>\n",
              "      <td>-23.74</td>\n",
              "      <td>1.27</td>\n",
              "      <td>-1.30</td>\n",
              "      <td>-25.53</td>\n",
              "      <td>-1.21</td>\n",
              "      <td>-4.70</td>\n",
              "      <td>-24.39</td>\n",
              "      <td>-2.21</td>\n",
              "      <td>-4.72</td>\n",
              "    </tr>\n",
              "    <tr>\n",
              "      <th>324</th>\n",
              "      <td>71</td>\n",
              "      <td>28</td>\n",
              "      <td>51</td>\n",
              "      <td>96</td>\n",
              "      <td>46</td>\n",
              "      <td>88</td>\n",
              "      <td>92</td>\n",
              "      <td>25</td>\n",
              "      <td>58</td>\n",
              "      <td>34.77</td>\n",
              "      <td>...</td>\n",
              "      <td>-3.24</td>\n",
              "      <td>-13.96</td>\n",
              "      <td>-0.44</td>\n",
              "      <td>-3.84</td>\n",
              "      <td>-15.45</td>\n",
              "      <td>-0.71</td>\n",
              "      <td>-3.94</td>\n",
              "      <td>-12.74</td>\n",
              "      <td>-1.36</td>\n",
              "      <td>-3.63</td>\n",
              "    </tr>\n",
              "  </tbody>\n",
              "</table>\n",
              "<p>325 rows × 27 columns</p>\n",
              "</div>\n",
              "      <button class=\"colab-df-convert\" onclick=\"convertToInteractive('df-8b19c541-3b83-49d8-962f-3cb099ae5f62')\"\n",
              "              title=\"Convert this dataframe to an interactive table.\"\n",
              "              style=\"display:none;\">\n",
              "        \n",
              "  <svg xmlns=\"http://www.w3.org/2000/svg\" height=\"24px\"viewBox=\"0 0 24 24\"\n",
              "       width=\"24px\">\n",
              "    <path d=\"M0 0h24v24H0V0z\" fill=\"none\"/>\n",
              "    <path d=\"M18.56 5.44l.94 2.06.94-2.06 2.06-.94-2.06-.94-.94-2.06-.94 2.06-2.06.94zm-11 1L8.5 8.5l.94-2.06 2.06-.94-2.06-.94L8.5 2.5l-.94 2.06-2.06.94zm10 10l.94 2.06.94-2.06 2.06-.94-2.06-.94-.94-2.06-.94 2.06-2.06.94z\"/><path d=\"M17.41 7.96l-1.37-1.37c-.4-.4-.92-.59-1.43-.59-.52 0-1.04.2-1.43.59L10.3 9.45l-7.72 7.72c-.78.78-.78 2.05 0 2.83L4 21.41c.39.39.9.59 1.41.59.51 0 1.02-.2 1.41-.59l7.78-7.78 2.81-2.81c.8-.78.8-2.07 0-2.86zM5.41 20L4 18.59l7.72-7.72 1.47 1.35L5.41 20z\"/>\n",
              "  </svg>\n",
              "      </button>\n",
              "      \n",
              "  <style>\n",
              "    .colab-df-container {\n",
              "      display:flex;\n",
              "      flex-wrap:wrap;\n",
              "      gap: 12px;\n",
              "    }\n",
              "\n",
              "    .colab-df-convert {\n",
              "      background-color: #E8F0FE;\n",
              "      border: none;\n",
              "      border-radius: 50%;\n",
              "      cursor: pointer;\n",
              "      display: none;\n",
              "      fill: #1967D2;\n",
              "      height: 32px;\n",
              "      padding: 0 0 0 0;\n",
              "      width: 32px;\n",
              "    }\n",
              "\n",
              "    .colab-df-convert:hover {\n",
              "      background-color: #E2EBFA;\n",
              "      box-shadow: 0px 1px 2px rgba(60, 64, 67, 0.3), 0px 1px 3px 1px rgba(60, 64, 67, 0.15);\n",
              "      fill: #174EA6;\n",
              "    }\n",
              "\n",
              "    [theme=dark] .colab-df-convert {\n",
              "      background-color: #3B4455;\n",
              "      fill: #D2E3FC;\n",
              "    }\n",
              "\n",
              "    [theme=dark] .colab-df-convert:hover {\n",
              "      background-color: #434B5C;\n",
              "      box-shadow: 0px 1px 3px 1px rgba(0, 0, 0, 0.15);\n",
              "      filter: drop-shadow(0px 1px 2px rgba(0, 0, 0, 0.3));\n",
              "      fill: #FFFFFF;\n",
              "    }\n",
              "  </style>\n",
              "\n",
              "      <script>\n",
              "        const buttonEl =\n",
              "          document.querySelector('#df-8b19c541-3b83-49d8-962f-3cb099ae5f62 button.colab-df-convert');\n",
              "        buttonEl.style.display =\n",
              "          google.colab.kernel.accessAllowed ? 'block' : 'none';\n",
              "\n",
              "        async function convertToInteractive(key) {\n",
              "          const element = document.querySelector('#df-8b19c541-3b83-49d8-962f-3cb099ae5f62');\n",
              "          const dataTable =\n",
              "            await google.colab.kernel.invokeFunction('convertToInteractive',\n",
              "                                                     [key], {});\n",
              "          if (!dataTable) return;\n",
              "\n",
              "          const docLinkHtml = 'Like what you see? Visit the ' +\n",
              "            '<a target=\"_blank\" href=https://colab.research.google.com/notebooks/data_table.ipynb>data table notebook</a>'\n",
              "            + ' to learn more about interactive tables.';\n",
              "          element.innerHTML = '';\n",
              "          dataTable['output_type'] = 'display_data';\n",
              "          await google.colab.output.renderOutput(dataTable, element);\n",
              "          const docLink = document.createElement('div');\n",
              "          docLink.innerHTML = docLinkHtml;\n",
              "          element.appendChild(docLink);\n",
              "        }\n",
              "      </script>\n",
              "    </div>\n",
              "  </div>\n",
              "  "
            ]
          },
          "metadata": {},
          "execution_count": 23
        }
      ]
    },
    {
      "cell_type": "code",
      "source": [
        "y_test = dftesting.iloc[:,0:1]"
      ],
      "metadata": {
        "id": "zTss5R8I-6v5"
      },
      "execution_count": null,
      "outputs": []
    },
    {
      "cell_type": "code",
      "source": [
        "y_test"
      ],
      "metadata": {
        "colab": {
          "base_uri": "https://localhost:8080/",
          "height": 423
        },
        "id": "zyfbG4ve_MTj",
        "outputId": "e0a68948-ada7-4c7e-d371-5a291a98f69f"
      },
      "execution_count": null,
      "outputs": [
        {
          "output_type": "execute_result",
          "data": {
            "text/plain": [
              "    class\n",
              "0      d \n",
              "1      s \n",
              "2      s \n",
              "3      d \n",
              "4      s \n",
              "..    ...\n",
              "320    o \n",
              "321    d \n",
              "322    s \n",
              "323    s \n",
              "324    h \n",
              "\n",
              "[325 rows x 1 columns]"
            ],
            "text/html": [
              "\n",
              "  <div id=\"df-bf148852-d650-46f0-bb94-df6d4bdac4a9\">\n",
              "    <div class=\"colab-df-container\">\n",
              "      <div>\n",
              "<style scoped>\n",
              "    .dataframe tbody tr th:only-of-type {\n",
              "        vertical-align: middle;\n",
              "    }\n",
              "\n",
              "    .dataframe tbody tr th {\n",
              "        vertical-align: top;\n",
              "    }\n",
              "\n",
              "    .dataframe thead th {\n",
              "        text-align: right;\n",
              "    }\n",
              "</style>\n",
              "<table border=\"1\" class=\"dataframe\">\n",
              "  <thead>\n",
              "    <tr style=\"text-align: right;\">\n",
              "      <th></th>\n",
              "      <th>class</th>\n",
              "    </tr>\n",
              "  </thead>\n",
              "  <tbody>\n",
              "    <tr>\n",
              "      <th>0</th>\n",
              "      <td>d</td>\n",
              "    </tr>\n",
              "    <tr>\n",
              "      <th>1</th>\n",
              "      <td>s</td>\n",
              "    </tr>\n",
              "    <tr>\n",
              "      <th>2</th>\n",
              "      <td>s</td>\n",
              "    </tr>\n",
              "    <tr>\n",
              "      <th>3</th>\n",
              "      <td>d</td>\n",
              "    </tr>\n",
              "    <tr>\n",
              "      <th>4</th>\n",
              "      <td>s</td>\n",
              "    </tr>\n",
              "    <tr>\n",
              "      <th>...</th>\n",
              "      <td>...</td>\n",
              "    </tr>\n",
              "    <tr>\n",
              "      <th>320</th>\n",
              "      <td>o</td>\n",
              "    </tr>\n",
              "    <tr>\n",
              "      <th>321</th>\n",
              "      <td>d</td>\n",
              "    </tr>\n",
              "    <tr>\n",
              "      <th>322</th>\n",
              "      <td>s</td>\n",
              "    </tr>\n",
              "    <tr>\n",
              "      <th>323</th>\n",
              "      <td>s</td>\n",
              "    </tr>\n",
              "    <tr>\n",
              "      <th>324</th>\n",
              "      <td>h</td>\n",
              "    </tr>\n",
              "  </tbody>\n",
              "</table>\n",
              "<p>325 rows × 1 columns</p>\n",
              "</div>\n",
              "      <button class=\"colab-df-convert\" onclick=\"convertToInteractive('df-bf148852-d650-46f0-bb94-df6d4bdac4a9')\"\n",
              "              title=\"Convert this dataframe to an interactive table.\"\n",
              "              style=\"display:none;\">\n",
              "        \n",
              "  <svg xmlns=\"http://www.w3.org/2000/svg\" height=\"24px\"viewBox=\"0 0 24 24\"\n",
              "       width=\"24px\">\n",
              "    <path d=\"M0 0h24v24H0V0z\" fill=\"none\"/>\n",
              "    <path d=\"M18.56 5.44l.94 2.06.94-2.06 2.06-.94-2.06-.94-.94-2.06-.94 2.06-2.06.94zm-11 1L8.5 8.5l.94-2.06 2.06-.94-2.06-.94L8.5 2.5l-.94 2.06-2.06.94zm10 10l.94 2.06.94-2.06 2.06-.94-2.06-.94-.94-2.06-.94 2.06-2.06.94z\"/><path d=\"M17.41 7.96l-1.37-1.37c-.4-.4-.92-.59-1.43-.59-.52 0-1.04.2-1.43.59L10.3 9.45l-7.72 7.72c-.78.78-.78 2.05 0 2.83L4 21.41c.39.39.9.59 1.41.59.51 0 1.02-.2 1.41-.59l7.78-7.78 2.81-2.81c.8-.78.8-2.07 0-2.86zM5.41 20L4 18.59l7.72-7.72 1.47 1.35L5.41 20z\"/>\n",
              "  </svg>\n",
              "      </button>\n",
              "      \n",
              "  <style>\n",
              "    .colab-df-container {\n",
              "      display:flex;\n",
              "      flex-wrap:wrap;\n",
              "      gap: 12px;\n",
              "    }\n",
              "\n",
              "    .colab-df-convert {\n",
              "      background-color: #E8F0FE;\n",
              "      border: none;\n",
              "      border-radius: 50%;\n",
              "      cursor: pointer;\n",
              "      display: none;\n",
              "      fill: #1967D2;\n",
              "      height: 32px;\n",
              "      padding: 0 0 0 0;\n",
              "      width: 32px;\n",
              "    }\n",
              "\n",
              "    .colab-df-convert:hover {\n",
              "      background-color: #E2EBFA;\n",
              "      box-shadow: 0px 1px 2px rgba(60, 64, 67, 0.3), 0px 1px 3px 1px rgba(60, 64, 67, 0.15);\n",
              "      fill: #174EA6;\n",
              "    }\n",
              "\n",
              "    [theme=dark] .colab-df-convert {\n",
              "      background-color: #3B4455;\n",
              "      fill: #D2E3FC;\n",
              "    }\n",
              "\n",
              "    [theme=dark] .colab-df-convert:hover {\n",
              "      background-color: #434B5C;\n",
              "      box-shadow: 0px 1px 3px 1px rgba(0, 0, 0, 0.15);\n",
              "      filter: drop-shadow(0px 1px 2px rgba(0, 0, 0, 0.3));\n",
              "      fill: #FFFFFF;\n",
              "    }\n",
              "  </style>\n",
              "\n",
              "      <script>\n",
              "        const buttonEl =\n",
              "          document.querySelector('#df-bf148852-d650-46f0-bb94-df6d4bdac4a9 button.colab-df-convert');\n",
              "        buttonEl.style.display =\n",
              "          google.colab.kernel.accessAllowed ? 'block' : 'none';\n",
              "\n",
              "        async function convertToInteractive(key) {\n",
              "          const element = document.querySelector('#df-bf148852-d650-46f0-bb94-df6d4bdac4a9');\n",
              "          const dataTable =\n",
              "            await google.colab.kernel.invokeFunction('convertToInteractive',\n",
              "                                                     [key], {});\n",
              "          if (!dataTable) return;\n",
              "\n",
              "          const docLinkHtml = 'Like what you see? Visit the ' +\n",
              "            '<a target=\"_blank\" href=https://colab.research.google.com/notebooks/data_table.ipynb>data table notebook</a>'\n",
              "            + ' to learn more about interactive tables.';\n",
              "          element.innerHTML = '';\n",
              "          dataTable['output_type'] = 'display_data';\n",
              "          await google.colab.output.renderOutput(dataTable, element);\n",
              "          const docLink = document.createElement('div');\n",
              "          docLink.innerHTML = docLinkHtml;\n",
              "          element.appendChild(docLink);\n",
              "        }\n",
              "      </script>\n",
              "    </div>\n",
              "  </div>\n",
              "  "
            ]
          },
          "metadata": {},
          "execution_count": 25
        }
      ]
    },
    {
      "cell_type": "code",
      "source": [
        "feature_name = list(x_train.columns)\n",
        " \n",
        "# displaying the list of column names\n",
        "print('List of column names : ',\n",
        "      feature_name)"
      ],
      "metadata": {
        "colab": {
          "base_uri": "https://localhost:8080/"
        },
        "id": "XiILw26dZIKZ",
        "outputId": "ebc8e23e-42e3-4c82-b520-64cda2848e3f"
      },
      "execution_count": null,
      "outputs": [
        {
          "output_type": "stream",
          "name": "stdout",
          "text": [
            "List of column names :  ['b1', 'b2', 'b3', 'b4', 'b5', 'b6', 'b7', 'b8', 'b9', 'pred_minus_obs_H_b1', 'pred_minus_obs_H_b2', 'pred_minus_obs_H_b3', 'pred_minus_obs_H_b4', 'pred_minus_obs_H_b5', 'pred_minus_obs_H_b6', 'pred_minus_obs_H_b7', 'pred_minus_obs_H_b8', 'pred_minus_obs_H_b9', 'pred_minus_obs_S_b1', 'pred_minus_obs_S_b2', 'pred_minus_obs_S_b3', 'pred_minus_obs_S_b4', 'pred_minus_obs_S_b5', 'pred_minus_obs_S_b6', 'pred_minus_obs_S_b7', 'pred_minus_obs_S_b8', 'pred_minus_obs_S_b9']\n"
          ]
        }
      ]
    },
    {
      "cell_type": "code",
      "source": [
        "class_name = ['d','h','o','s']\n",
        "class_name"
      ],
      "metadata": {
        "colab": {
          "base_uri": "https://localhost:8080/"
        },
        "id": "y8cjW-edaSyb",
        "outputId": "5690ac44-a56f-42a9-d463-72cc18c4a54f"
      },
      "execution_count": null,
      "outputs": [
        {
          "output_type": "execute_result",
          "data": {
            "text/plain": [
              "['d', 'h', 'o', 's']"
            ]
          },
          "metadata": {},
          "execution_count": 27
        }
      ]
    },
    {
      "cell_type": "code",
      "source": [
        "clf1 = tree.DecisionTreeClassifier() \n",
        "clf1 = clf1.fit(x_train, y_train)"
      ],
      "metadata": {
        "id": "hu9K3Jny_NNi"
      },
      "execution_count": null,
      "outputs": []
    },
    {
      "cell_type": "code",
      "source": [
        "import graphviz \n",
        "dot_data = tree.export_graphviz(clf1, out_file=None,  \n",
        "                         feature_names=feature_name,   \n",
        "                         class_names=class_name,   \n",
        "                         filled=True, rounded=True,   \n",
        "                         special_characters=True)   \n",
        " \n",
        "graph = graphviz.Source(dot_data)   "
      ],
      "metadata": {
        "id": "L7wQIm7XXB23"
      },
      "execution_count": null,
      "outputs": []
    },
    {
      "cell_type": "code",
      "source": [
        "graph"
      ],
      "metadata": {
        "colab": {
          "base_uri": "https://localhost:8080/",
          "height": 777
        },
        "id": "J2_btAl-cTKV",
        "outputId": "39db9bea-e8c1-4452-d783-65afdaf0d2fa"
      },
      "execution_count": null,
      "outputs": [
        {
          "output_type": "execute_result",
          "data": {
            "text/plain": [
              "<graphviz.files.Source at 0x7fa86d77ab50>"
            ],
            "image/svg+xml": "<?xml version=\"1.0\" encoding=\"UTF-8\" standalone=\"no\"?>\n<!DOCTYPE svg PUBLIC \"-//W3C//DTD SVG 1.1//EN\"\n \"http://www.w3.org/Graphics/SVG/1.1/DTD/svg11.dtd\">\n<!-- Generated by graphviz version 2.40.1 (20161225.0304)\n -->\n<!-- Title: Tree Pages: 1 -->\n<svg width=\"1000pt\" height=\"552pt\"\n viewBox=\"0.00 0.00 1000.00 552.00\" xmlns=\"http://www.w3.org/2000/svg\" xmlns:xlink=\"http://www.w3.org/1999/xlink\">\n<g id=\"graph0\" class=\"graph\" transform=\"scale(1 1) rotate(0) translate(4 548)\">\n<title>Tree</title>\n<polygon fill=\"#ffffff\" stroke=\"transparent\" points=\"-4,4 -4,-548 996,-548 996,4 -4,4\"/>\n<!-- 0 -->\n<g id=\"node1\" class=\"node\">\n<title>0</title>\n<path fill=\"#fef8fe\" stroke=\"#000000\" d=\"M613.5,-544C613.5,-544 473.5,-544 473.5,-544 467.5,-544 461.5,-538 461.5,-532 461.5,-532 461.5,-473 461.5,-473 461.5,-467 467.5,-461 473.5,-461 473.5,-461 613.5,-461 613.5,-461 619.5,-461 625.5,-467 625.5,-473 625.5,-473 625.5,-532 625.5,-532 625.5,-538 619.5,-544 613.5,-544\"/>\n<text text-anchor=\"start\" x=\"513\" y=\"-528.8\" font-family=\"Helvetica,sans-Serif\" font-size=\"14.00\" fill=\"#000000\">b2 ≤ 35.5</text>\n<text text-anchor=\"start\" x=\"505.5\" y=\"-513.8\" font-family=\"Helvetica,sans-Serif\" font-size=\"14.00\" fill=\"#000000\">gini = 0.743</text>\n<text text-anchor=\"start\" x=\"495.5\" y=\"-498.8\" font-family=\"Helvetica,sans-Serif\" font-size=\"14.00\" fill=\"#000000\">samples = 198</text>\n<text text-anchor=\"start\" x=\"469.5\" y=\"-483.8\" font-family=\"Helvetica,sans-Serif\" font-size=\"14.00\" fill=\"#000000\">value = [54, 48, 37, 59]</text>\n<text text-anchor=\"start\" x=\"514.5\" y=\"-468.8\" font-family=\"Helvetica,sans-Serif\" font-size=\"14.00\" fill=\"#000000\">class = s</text>\n</g>\n<!-- 1 -->\n<g id=\"node2\" class=\"node\">\n<title>1</title>\n<path fill=\"#f8dbfa\" stroke=\"#000000\" d=\"M540,-425C540,-425 343,-425 343,-425 337,-425 331,-419 331,-413 331,-413 331,-354 331,-354 331,-348 337,-342 343,-342 343,-342 540,-342 540,-342 546,-342 552,-348 552,-354 552,-354 552,-413 552,-413 552,-419 546,-425 540,-425\"/>\n<text text-anchor=\"start\" x=\"339\" y=\"-409.8\" font-family=\"Helvetica,sans-Serif\" font-size=\"14.00\" fill=\"#000000\">pred_minus_obs_H_b1 ≤ 41.39</text>\n<text text-anchor=\"start\" x=\"403.5\" y=\"-394.8\" font-family=\"Helvetica,sans-Serif\" font-size=\"14.00\" fill=\"#000000\">gini = 0.504</text>\n<text text-anchor=\"start\" x=\"393.5\" y=\"-379.8\" font-family=\"Helvetica,sans-Serif\" font-size=\"14.00\" fill=\"#000000\">samples = 108</text>\n<text text-anchor=\"start\" x=\"376\" y=\"-364.8\" font-family=\"Helvetica,sans-Serif\" font-size=\"14.00\" fill=\"#000000\">value = [1, 48, 0, 59]</text>\n<text text-anchor=\"start\" x=\"412.5\" y=\"-349.8\" font-family=\"Helvetica,sans-Serif\" font-size=\"14.00\" fill=\"#000000\">class = s</text>\n</g>\n<!-- 0&#45;&gt;1 -->\n<g id=\"edge1\" class=\"edge\">\n<title>0&#45;&gt;1</title>\n<path fill=\"none\" stroke=\"#000000\" d=\"M507.8253,-460.8796C500.1057,-451.8733 491.8695,-442.2644 483.9197,-432.9897\"/>\n<polygon fill=\"#000000\" stroke=\"#000000\" points=\"486.4923,-430.6129 477.3269,-425.2981 481.1775,-435.1684 486.4923,-430.6129\"/>\n<text text-anchor=\"middle\" x=\"475.4095\" y=\"-446.5244\" font-family=\"Helvetica,sans-Serif\" font-size=\"14.00\" fill=\"#000000\">True</text>\n</g>\n<!-- 10 -->\n<g id=\"node11\" class=\"node\">\n<title>10</title>\n<path fill=\"#f7d9c3\" stroke=\"#000000\" d=\"M707,-425C707,-425 584,-425 584,-425 578,-425 572,-419 572,-413 572,-413 572,-354 572,-354 572,-348 578,-342 584,-342 584,-342 707,-342 707,-342 713,-342 719,-348 719,-354 719,-354 719,-413 719,-413 719,-419 713,-425 707,-425\"/>\n<text text-anchor=\"start\" x=\"615\" y=\"-409.8\" font-family=\"Helvetica,sans-Serif\" font-size=\"14.00\" fill=\"#000000\">b8 ≤ 28.5</text>\n<text text-anchor=\"start\" x=\"607.5\" y=\"-394.8\" font-family=\"Helvetica,sans-Serif\" font-size=\"14.00\" fill=\"#000000\">gini = 0.484</text>\n<text text-anchor=\"start\" x=\"601.5\" y=\"-379.8\" font-family=\"Helvetica,sans-Serif\" font-size=\"14.00\" fill=\"#000000\">samples = 90</text>\n<text text-anchor=\"start\" x=\"580\" y=\"-364.8\" font-family=\"Helvetica,sans-Serif\" font-size=\"14.00\" fill=\"#000000\">value = [53, 0, 37, 0]</text>\n<text text-anchor=\"start\" x=\"616.5\" y=\"-349.8\" font-family=\"Helvetica,sans-Serif\" font-size=\"14.00\" fill=\"#000000\">class = d</text>\n</g>\n<!-- 0&#45;&gt;10 -->\n<g id=\"edge10\" class=\"edge\">\n<title>0&#45;&gt;10</title>\n<path fill=\"none\" stroke=\"#000000\" d=\"M579.1747,-460.8796C586.8943,-451.8733 595.1305,-442.2644 603.0803,-432.9897\"/>\n<polygon fill=\"#000000\" stroke=\"#000000\" points=\"605.8225,-435.1684 609.6731,-425.2981 600.5077,-430.6129 605.8225,-435.1684\"/>\n<text text-anchor=\"middle\" x=\"611.5905\" y=\"-446.5244\" font-family=\"Helvetica,sans-Serif\" font-size=\"14.00\" fill=\"#000000\">False</text>\n</g>\n<!-- 2 -->\n<g id=\"node3\" class=\"node\">\n<title>2</title>\n<path fill=\"#4be63d\" stroke=\"#000000\" d=\"M294.5,-306C294.5,-306 102.5,-306 102.5,-306 96.5,-306 90.5,-300 90.5,-294 90.5,-294 90.5,-235 90.5,-235 90.5,-229 96.5,-223 102.5,-223 102.5,-223 294.5,-223 294.5,-223 300.5,-223 306.5,-229 306.5,-235 306.5,-235 306.5,-294 306.5,-294 306.5,-300 300.5,-306 294.5,-306\"/>\n<text text-anchor=\"start\" x=\"98.5\" y=\"-290.8\" font-family=\"Helvetica,sans-Serif\" font-size=\"14.00\" fill=\"#000000\">pred_minus_obs_S_b1 ≤ &#45;0.76</text>\n<text text-anchor=\"start\" x=\"160.5\" y=\"-275.8\" font-family=\"Helvetica,sans-Serif\" font-size=\"14.00\" fill=\"#000000\">gini = 0.042</text>\n<text text-anchor=\"start\" x=\"154.5\" y=\"-260.8\" font-family=\"Helvetica,sans-Serif\" font-size=\"14.00\" fill=\"#000000\">samples = 47</text>\n<text text-anchor=\"start\" x=\"137\" y=\"-245.8\" font-family=\"Helvetica,sans-Serif\" font-size=\"14.00\" fill=\"#000000\">value = [0, 46, 0, 1]</text>\n<text text-anchor=\"start\" x=\"169.5\" y=\"-230.8\" font-family=\"Helvetica,sans-Serif\" font-size=\"14.00\" fill=\"#000000\">class = h</text>\n</g>\n<!-- 1&#45;&gt;2 -->\n<g id=\"edge2\" class=\"edge\">\n<title>1&#45;&gt;2</title>\n<path fill=\"none\" stroke=\"#000000\" d=\"M356.5104,-341.8796C335.8852,-331.7791 313.7125,-320.9209 292.6901,-310.626\"/>\n<polygon fill=\"#000000\" stroke=\"#000000\" points=\"293.9619,-307.3517 283.4416,-306.0969 290.8832,-313.6384 293.9619,-307.3517\"/>\n</g>\n<!-- 5 -->\n<g id=\"node6\" class=\"node\">\n<title>5</title>\n<path fill=\"#d943e6\" stroke=\"#000000\" d=\"M546,-306C546,-306 337,-306 337,-306 331,-306 325,-300 325,-294 325,-294 325,-235 325,-235 325,-229 331,-223 337,-223 337,-223 546,-223 546,-223 552,-223 558,-229 558,-235 558,-235 558,-294 558,-294 558,-300 552,-306 546,-306\"/>\n<text text-anchor=\"start\" x=\"333\" y=\"-290.8\" font-family=\"Helvetica,sans-Serif\" font-size=\"14.00\" fill=\"#000000\">pred_minus_obs_H_b7 ≤ &#45;17.815</text>\n<text text-anchor=\"start\" x=\"403.5\" y=\"-275.8\" font-family=\"Helvetica,sans-Serif\" font-size=\"14.00\" fill=\"#000000\">gini = 0.095</text>\n<text text-anchor=\"start\" x=\"397.5\" y=\"-260.8\" font-family=\"Helvetica,sans-Serif\" font-size=\"14.00\" fill=\"#000000\">samples = 61</text>\n<text text-anchor=\"start\" x=\"380\" y=\"-245.8\" font-family=\"Helvetica,sans-Serif\" font-size=\"14.00\" fill=\"#000000\">value = [1, 2, 0, 58]</text>\n<text text-anchor=\"start\" x=\"412.5\" y=\"-230.8\" font-family=\"Helvetica,sans-Serif\" font-size=\"14.00\" fill=\"#000000\">class = s</text>\n</g>\n<!-- 1&#45;&gt;5 -->\n<g id=\"edge5\" class=\"edge\">\n<title>1&#45;&gt;5</title>\n<path fill=\"none\" stroke=\"#000000\" d=\"M441.5,-341.8796C441.5,-333.6838 441.5,-324.9891 441.5,-316.5013\"/>\n<polygon fill=\"#000000\" stroke=\"#000000\" points=\"445.0001,-316.298 441.5,-306.2981 438.0001,-316.2981 445.0001,-316.298\"/>\n</g>\n<!-- 3 -->\n<g id=\"node4\" class=\"node\">\n<title>3</title>\n<path fill=\"#47e539\" stroke=\"#000000\" d=\"M127,-179.5C127,-179.5 12,-179.5 12,-179.5 6,-179.5 0,-173.5 0,-167.5 0,-167.5 0,-123.5 0,-123.5 0,-117.5 6,-111.5 12,-111.5 12,-111.5 127,-111.5 127,-111.5 133,-111.5 139,-117.5 139,-123.5 139,-123.5 139,-167.5 139,-167.5 139,-173.5 133,-179.5 127,-179.5\"/>\n<text text-anchor=\"start\" x=\"40\" y=\"-164.3\" font-family=\"Helvetica,sans-Serif\" font-size=\"14.00\" fill=\"#000000\">gini = 0.0</text>\n<text text-anchor=\"start\" x=\"25.5\" y=\"-149.3\" font-family=\"Helvetica,sans-Serif\" font-size=\"14.00\" fill=\"#000000\">samples = 46</text>\n<text text-anchor=\"start\" x=\"8\" y=\"-134.3\" font-family=\"Helvetica,sans-Serif\" font-size=\"14.00\" fill=\"#000000\">value = [0, 46, 0, 0]</text>\n<text text-anchor=\"start\" x=\"40.5\" y=\"-119.3\" font-family=\"Helvetica,sans-Serif\" font-size=\"14.00\" fill=\"#000000\">class = h</text>\n</g>\n<!-- 2&#45;&gt;3 -->\n<g id=\"edge3\" class=\"edge\">\n<title>2&#45;&gt;3</title>\n<path fill=\"none\" stroke=\"#000000\" d=\"M153.3821,-222.8796C140.7467,-211.2237 127.0174,-198.5587 114.395,-186.9148\"/>\n<polygon fill=\"#000000\" stroke=\"#000000\" points=\"116.422,-184.0228 106.6985,-179.8149 111.6756,-189.168 116.422,-184.0228\"/>\n</g>\n<!-- 4 -->\n<g id=\"node5\" class=\"node\">\n<title>4</title>\n<path fill=\"#d739e5\" stroke=\"#000000\" d=\"M276,-179.5C276,-179.5 169,-179.5 169,-179.5 163,-179.5 157,-173.5 157,-167.5 157,-167.5 157,-123.5 157,-123.5 157,-117.5 163,-111.5 169,-111.5 169,-111.5 276,-111.5 276,-111.5 282,-111.5 288,-117.5 288,-123.5 288,-123.5 288,-167.5 288,-167.5 288,-173.5 282,-179.5 276,-179.5\"/>\n<text text-anchor=\"start\" x=\"193\" y=\"-164.3\" font-family=\"Helvetica,sans-Serif\" font-size=\"14.00\" fill=\"#000000\">gini = 0.0</text>\n<text text-anchor=\"start\" x=\"183\" y=\"-149.3\" font-family=\"Helvetica,sans-Serif\" font-size=\"14.00\" fill=\"#000000\">samples = 1</text>\n<text text-anchor=\"start\" x=\"165\" y=\"-134.3\" font-family=\"Helvetica,sans-Serif\" font-size=\"14.00\" fill=\"#000000\">value = [0, 0, 0, 1]</text>\n<text text-anchor=\"start\" x=\"193.5\" y=\"-119.3\" font-family=\"Helvetica,sans-Serif\" font-size=\"14.00\" fill=\"#000000\">class = s</text>\n</g>\n<!-- 2&#45;&gt;4 -->\n<g id=\"edge4\" class=\"edge\">\n<title>2&#45;&gt;4</title>\n<path fill=\"none\" stroke=\"#000000\" d=\"M206.894,-222.8796C209.0452,-212.2134 211.3668,-200.7021 213.5451,-189.9015\"/>\n<polygon fill=\"#000000\" stroke=\"#000000\" points=\"217.0332,-190.3095 215.5793,-179.8149 210.1713,-188.9256 217.0332,-190.3095\"/>\n</g>\n<!-- 6 -->\n<g id=\"node7\" class=\"node\">\n<title>6</title>\n<path fill=\"#47e539\" stroke=\"#000000\" d=\"M472,-179.5C472,-179.5 365,-179.5 365,-179.5 359,-179.5 353,-173.5 353,-167.5 353,-167.5 353,-123.5 353,-123.5 353,-117.5 359,-111.5 365,-111.5 365,-111.5 472,-111.5 472,-111.5 478,-111.5 484,-117.5 484,-123.5 484,-123.5 484,-167.5 484,-167.5 484,-173.5 478,-179.5 472,-179.5\"/>\n<text text-anchor=\"start\" x=\"389\" y=\"-164.3\" font-family=\"Helvetica,sans-Serif\" font-size=\"14.00\" fill=\"#000000\">gini = 0.0</text>\n<text text-anchor=\"start\" x=\"379\" y=\"-149.3\" font-family=\"Helvetica,sans-Serif\" font-size=\"14.00\" fill=\"#000000\">samples = 2</text>\n<text text-anchor=\"start\" x=\"361\" y=\"-134.3\" font-family=\"Helvetica,sans-Serif\" font-size=\"14.00\" fill=\"#000000\">value = [0, 2, 0, 0]</text>\n<text text-anchor=\"start\" x=\"389.5\" y=\"-119.3\" font-family=\"Helvetica,sans-Serif\" font-size=\"14.00\" fill=\"#000000\">class = h</text>\n</g>\n<!-- 5&#45;&gt;6 -->\n<g id=\"edge6\" class=\"edge\">\n<title>5&#45;&gt;6</title>\n<path fill=\"none\" stroke=\"#000000\" d=\"M433.4557,-222.8796C431.3942,-212.2134 429.1693,-200.7021 427.0818,-189.9015\"/>\n<polygon fill=\"#000000\" stroke=\"#000000\" points=\"430.4664,-188.969 425.1323,-179.8149 423.5936,-190.2974 430.4664,-188.969\"/>\n</g>\n<!-- 7 -->\n<g id=\"node8\" class=\"node\">\n<title>7</title>\n<path fill=\"#d83ce5\" stroke=\"#000000\" d=\"M629,-187C629,-187 514,-187 514,-187 508,-187 502,-181 502,-175 502,-175 502,-116 502,-116 502,-110 508,-104 514,-104 514,-104 629,-104 629,-104 635,-104 641,-110 641,-116 641,-116 641,-175 641,-175 641,-181 635,-187 629,-187\"/>\n<text text-anchor=\"start\" x=\"541\" y=\"-171.8\" font-family=\"Helvetica,sans-Serif\" font-size=\"14.00\" fill=\"#000000\">b1 ≤ 37.0</text>\n<text text-anchor=\"start\" x=\"533.5\" y=\"-156.8\" font-family=\"Helvetica,sans-Serif\" font-size=\"14.00\" fill=\"#000000\">gini = 0.033</text>\n<text text-anchor=\"start\" x=\"527.5\" y=\"-141.8\" font-family=\"Helvetica,sans-Serif\" font-size=\"14.00\" fill=\"#000000\">samples = 59</text>\n<text text-anchor=\"start\" x=\"510\" y=\"-126.8\" font-family=\"Helvetica,sans-Serif\" font-size=\"14.00\" fill=\"#000000\">value = [1, 0, 0, 58]</text>\n<text text-anchor=\"start\" x=\"542.5\" y=\"-111.8\" font-family=\"Helvetica,sans-Serif\" font-size=\"14.00\" fill=\"#000000\">class = s</text>\n</g>\n<!-- 5&#45;&gt;7 -->\n<g id=\"edge7\" class=\"edge\">\n<title>5&#45;&gt;7</title>\n<path fill=\"none\" stroke=\"#000000\" d=\"M486.9677,-222.8796C497.1017,-213.6031 507.934,-203.6874 518.3465,-194.1559\"/>\n<polygon fill=\"#000000\" stroke=\"#000000\" points=\"520.8252,-196.6319 525.8382,-187.2981 516.0987,-191.4685 520.8252,-196.6319\"/>\n</g>\n<!-- 8 -->\n<g id=\"node9\" class=\"node\">\n<title>8</title>\n<path fill=\"#e58139\" stroke=\"#000000\" d=\"M548,-68C548,-68 441,-68 441,-68 435,-68 429,-62 429,-56 429,-56 429,-12 429,-12 429,-6 435,0 441,0 441,0 548,0 548,0 554,0 560,-6 560,-12 560,-12 560,-56 560,-56 560,-62 554,-68 548,-68\"/>\n<text text-anchor=\"start\" x=\"465\" y=\"-52.8\" font-family=\"Helvetica,sans-Serif\" font-size=\"14.00\" fill=\"#000000\">gini = 0.0</text>\n<text text-anchor=\"start\" x=\"455\" y=\"-37.8\" font-family=\"Helvetica,sans-Serif\" font-size=\"14.00\" fill=\"#000000\">samples = 1</text>\n<text text-anchor=\"start\" x=\"437\" y=\"-22.8\" font-family=\"Helvetica,sans-Serif\" font-size=\"14.00\" fill=\"#000000\">value = [1, 0, 0, 0]</text>\n<text text-anchor=\"start\" x=\"465.5\" y=\"-7.8\" font-family=\"Helvetica,sans-Serif\" font-size=\"14.00\" fill=\"#000000\">class = d</text>\n</g>\n<!-- 7&#45;&gt;8 -->\n<g id=\"edge8\" class=\"edge\">\n<title>7&#45;&gt;8</title>\n<path fill=\"none\" stroke=\"#000000\" d=\"M542.828,-103.9815C536.6715,-95.0666 530.1557,-85.6313 523.9695,-76.6734\"/>\n<polygon fill=\"#000000\" stroke=\"#000000\" points=\"526.7245,-74.5034 518.1619,-68.2637 520.9645,-78.4811 526.7245,-74.5034\"/>\n</g>\n<!-- 9 -->\n<g id=\"node10\" class=\"node\">\n<title>9</title>\n<path fill=\"#d739e5\" stroke=\"#000000\" d=\"M705,-68C705,-68 590,-68 590,-68 584,-68 578,-62 578,-56 578,-56 578,-12 578,-12 578,-6 584,0 590,0 590,0 705,0 705,0 711,0 717,-6 717,-12 717,-12 717,-56 717,-56 717,-62 711,-68 705,-68\"/>\n<text text-anchor=\"start\" x=\"618\" y=\"-52.8\" font-family=\"Helvetica,sans-Serif\" font-size=\"14.00\" fill=\"#000000\">gini = 0.0</text>\n<text text-anchor=\"start\" x=\"603.5\" y=\"-37.8\" font-family=\"Helvetica,sans-Serif\" font-size=\"14.00\" fill=\"#000000\">samples = 58</text>\n<text text-anchor=\"start\" x=\"586\" y=\"-22.8\" font-family=\"Helvetica,sans-Serif\" font-size=\"14.00\" fill=\"#000000\">value = [0, 0, 0, 58]</text>\n<text text-anchor=\"start\" x=\"618.5\" y=\"-7.8\" font-family=\"Helvetica,sans-Serif\" font-size=\"14.00\" fill=\"#000000\">class = s</text>\n</g>\n<!-- 7&#45;&gt;9 -->\n<g id=\"edge9\" class=\"edge\">\n<title>7&#45;&gt;9</title>\n<path fill=\"none\" stroke=\"#000000\" d=\"M599.7996,-103.9815C605.8762,-95.0666 612.3074,-85.6313 618.4132,-76.6734\"/>\n<polygon fill=\"#000000\" stroke=\"#000000\" points=\"621.4052,-78.498 624.1454,-68.2637 615.6211,-74.5555 621.4052,-78.498\"/>\n</g>\n<!-- 11 -->\n<g id=\"node12\" class=\"node\">\n<title>11</title>\n<path fill=\"#e58139\" stroke=\"#000000\" d=\"M703,-298.5C703,-298.5 588,-298.5 588,-298.5 582,-298.5 576,-292.5 576,-286.5 576,-286.5 576,-242.5 576,-242.5 576,-236.5 582,-230.5 588,-230.5 588,-230.5 703,-230.5 703,-230.5 709,-230.5 715,-236.5 715,-242.5 715,-242.5 715,-286.5 715,-286.5 715,-292.5 709,-298.5 703,-298.5\"/>\n<text text-anchor=\"start\" x=\"616\" y=\"-283.3\" font-family=\"Helvetica,sans-Serif\" font-size=\"14.00\" fill=\"#000000\">gini = 0.0</text>\n<text text-anchor=\"start\" x=\"601.5\" y=\"-268.3\" font-family=\"Helvetica,sans-Serif\" font-size=\"14.00\" fill=\"#000000\">samples = 52</text>\n<text text-anchor=\"start\" x=\"584\" y=\"-253.3\" font-family=\"Helvetica,sans-Serif\" font-size=\"14.00\" fill=\"#000000\">value = [52, 0, 0, 0]</text>\n<text text-anchor=\"start\" x=\"616.5\" y=\"-238.3\" font-family=\"Helvetica,sans-Serif\" font-size=\"14.00\" fill=\"#000000\">class = d</text>\n</g>\n<!-- 10&#45;&gt;11 -->\n<g id=\"edge11\" class=\"edge\">\n<title>10&#45;&gt;11</title>\n<path fill=\"none\" stroke=\"#000000\" d=\"M645.5,-341.8796C645.5,-331.2134 645.5,-319.7021 645.5,-308.9015\"/>\n<polygon fill=\"#000000\" stroke=\"#000000\" points=\"649.0001,-308.8149 645.5,-298.8149 642.0001,-308.815 649.0001,-308.8149\"/>\n</g>\n<!-- 12 -->\n<g id=\"node13\" class=\"node\">\n<title>12</title>\n<path fill=\"#3ea0e6\" stroke=\"#000000\" d=\"M937.5,-306C937.5,-306 745.5,-306 745.5,-306 739.5,-306 733.5,-300 733.5,-294 733.5,-294 733.5,-235 733.5,-235 733.5,-229 739.5,-223 745.5,-223 745.5,-223 937.5,-223 937.5,-223 943.5,-223 949.5,-229 949.5,-235 949.5,-235 949.5,-294 949.5,-294 949.5,-300 943.5,-306 937.5,-306\"/>\n<text text-anchor=\"start\" x=\"741.5\" y=\"-290.8\" font-family=\"Helvetica,sans-Serif\" font-size=\"14.00\" fill=\"#000000\">pred_minus_obs_S_b3 ≤ &#45;1.83</text>\n<text text-anchor=\"start\" x=\"803.5\" y=\"-275.8\" font-family=\"Helvetica,sans-Serif\" font-size=\"14.00\" fill=\"#000000\">gini = 0.051</text>\n<text text-anchor=\"start\" x=\"797.5\" y=\"-260.8\" font-family=\"Helvetica,sans-Serif\" font-size=\"14.00\" fill=\"#000000\">samples = 38</text>\n<text text-anchor=\"start\" x=\"780\" y=\"-245.8\" font-family=\"Helvetica,sans-Serif\" font-size=\"14.00\" fill=\"#000000\">value = [1, 0, 37, 0]</text>\n<text text-anchor=\"start\" x=\"812.5\" y=\"-230.8\" font-family=\"Helvetica,sans-Serif\" font-size=\"14.00\" fill=\"#000000\">class = o</text>\n</g>\n<!-- 10&#45;&gt;12 -->\n<g id=\"edge12\" class=\"edge\">\n<title>10&#45;&gt;12</title>\n<path fill=\"none\" stroke=\"#000000\" d=\"M714.0513,-341.8796C730.3143,-332.0056 747.7701,-321.4075 764.3858,-311.3193\"/>\n<polygon fill=\"#000000\" stroke=\"#000000\" points=\"766.256,-314.2785 772.9874,-306.0969 762.6231,-308.295 766.256,-314.2785\"/>\n</g>\n<!-- 13 -->\n<g id=\"node14\" class=\"node\">\n<title>13</title>\n<path fill=\"#399de5\" stroke=\"#000000\" d=\"M831,-179.5C831,-179.5 716,-179.5 716,-179.5 710,-179.5 704,-173.5 704,-167.5 704,-167.5 704,-123.5 704,-123.5 704,-117.5 710,-111.5 716,-111.5 716,-111.5 831,-111.5 831,-111.5 837,-111.5 843,-117.5 843,-123.5 843,-123.5 843,-167.5 843,-167.5 843,-173.5 837,-179.5 831,-179.5\"/>\n<text text-anchor=\"start\" x=\"744\" y=\"-164.3\" font-family=\"Helvetica,sans-Serif\" font-size=\"14.00\" fill=\"#000000\">gini = 0.0</text>\n<text text-anchor=\"start\" x=\"729.5\" y=\"-149.3\" font-family=\"Helvetica,sans-Serif\" font-size=\"14.00\" fill=\"#000000\">samples = 37</text>\n<text text-anchor=\"start\" x=\"712\" y=\"-134.3\" font-family=\"Helvetica,sans-Serif\" font-size=\"14.00\" fill=\"#000000\">value = [0, 0, 37, 0]</text>\n<text text-anchor=\"start\" x=\"744.5\" y=\"-119.3\" font-family=\"Helvetica,sans-Serif\" font-size=\"14.00\" fill=\"#000000\">class = o</text>\n</g>\n<!-- 12&#45;&gt;13 -->\n<g id=\"edge13\" class=\"edge\">\n<title>12&#45;&gt;13</title>\n<path fill=\"none\" stroke=\"#000000\" d=\"M817.7169,-222.8796C811.3706,-211.7735 804.5007,-199.7513 798.1109,-188.5691\"/>\n<polygon fill=\"#000000\" stroke=\"#000000\" points=\"801.1088,-186.7609 793.1085,-179.8149 795.0311,-190.2339 801.1088,-186.7609\"/>\n</g>\n<!-- 14 -->\n<g id=\"node15\" class=\"node\">\n<title>14</title>\n<path fill=\"#e58139\" stroke=\"#000000\" d=\"M980,-179.5C980,-179.5 873,-179.5 873,-179.5 867,-179.5 861,-173.5 861,-167.5 861,-167.5 861,-123.5 861,-123.5 861,-117.5 867,-111.5 873,-111.5 873,-111.5 980,-111.5 980,-111.5 986,-111.5 992,-117.5 992,-123.5 992,-123.5 992,-167.5 992,-167.5 992,-173.5 986,-179.5 980,-179.5\"/>\n<text text-anchor=\"start\" x=\"897\" y=\"-164.3\" font-family=\"Helvetica,sans-Serif\" font-size=\"14.00\" fill=\"#000000\">gini = 0.0</text>\n<text text-anchor=\"start\" x=\"887\" y=\"-149.3\" font-family=\"Helvetica,sans-Serif\" font-size=\"14.00\" fill=\"#000000\">samples = 1</text>\n<text text-anchor=\"start\" x=\"869\" y=\"-134.3\" font-family=\"Helvetica,sans-Serif\" font-size=\"14.00\" fill=\"#000000\">value = [1, 0, 0, 0]</text>\n<text text-anchor=\"start\" x=\"897.5\" y=\"-119.3\" font-family=\"Helvetica,sans-Serif\" font-size=\"14.00\" fill=\"#000000\">class = d</text>\n</g>\n<!-- 12&#45;&gt;14 -->\n<g id=\"edge14\" class=\"edge\">\n<title>12&#45;&gt;14</title>\n<path fill=\"none\" stroke=\"#000000\" d=\"M871.2289,-222.8796C879.2403,-211.6636 887.9192,-199.5131 895.9734,-188.2372\"/>\n<polygon fill=\"#000000\" stroke=\"#000000\" points=\"899.025,-189.9866 901.9893,-179.8149 893.3288,-185.9179 899.025,-189.9866\"/>\n</g>\n</g>\n</svg>\n"
          },
          "metadata": {},
          "execution_count": 30
        }
      ]
    },
    {
      "cell_type": "code",
      "source": [
        "prediction1 = clf1.predict(x_test) \n",
        "prediction1"
      ],
      "metadata": {
        "colab": {
          "base_uri": "https://localhost:8080/"
        },
        "id": "LR7-crgkcUuZ",
        "outputId": "7090dab1-f24c-48f7-ec0c-9d51459ac248"
      },
      "execution_count": null,
      "outputs": [
        {
          "output_type": "execute_result",
          "data": {
            "text/plain": [
              "array(['o ', 's ', 's ', 'd ', 's ', 'o ', 'h ', 'd ', 'h ', 'd ', 's ',\n",
              "       'o ', 'd ', 'h ', 'o ', 's ', 'o ', 'd ', 's ', 'o ', 'o ', 's ',\n",
              "       'd ', 's ', 's ', 's ', 's ', 'd ', 's ', 'd ', 's ', 'o ', 's ',\n",
              "       's ', 'o ', 'd ', 'o ', 'd ', 's ', 'o ', 'd ', 'h ', 'o ', 'o ',\n",
              "       's ', 'o ', 's ', 's ', 'h ', 's ', 'o ', 'o ', 'h ', 'h ', 'd ',\n",
              "       's ', 'h ', 'o ', 'h ', 's ', 's ', 'd ', 's ', 's ', 'h ', 's ',\n",
              "       'd ', 'd ', 'd ', 's ', 's ', 'd ', 'o ', 's ', 'h ', 's ', 's ',\n",
              "       's ', 's ', 's ', 'd ', 's ', 's ', 'h ', 'd ', 's ', 's ', 'o ',\n",
              "       'd ', 's ', 'o ', 'd ', 's ', 's ', 's ', 'd ', 'd ', 's ', 'd ',\n",
              "       'd ', 's ', 'h ', 's ', 's ', 's ', 's ', 'o ', 'd ', 'o ', 's ',\n",
              "       'o ', 's ', 'o ', 'd ', 's ', 'o ', 'o ', 'd ', 's ', 'h ', 'd ',\n",
              "       'h ', 'd ', 's ', 's ', 'h ', 'd ', 'd ', 'd ', 'o ', 's ', 'd ',\n",
              "       's ', 's ', 'd ', 's ', 'o ', 'd ', 'd ', 's ', 'd ', 'd ', 's ',\n",
              "       'o ', 's ', 'd ', 's ', 'd ', 's ', 'h ', 'h ', 'd ', 'o ', 'd ',\n",
              "       'o ', 'd ', 'o ', 'd ', 'h ', 'd ', 's ', 'd ', 'd ', 's ', 's ',\n",
              "       's ', 'd ', 'o ', 's ', 'h ', 's ', 'o ', 'd ', 's ', 's ', 'h ',\n",
              "       'd ', 's ', 'd ', 'd ', 'd ', 'd ', 's ', 'd ', 'd ', 's ', 'd ',\n",
              "       'o ', 'd ', 's ', 'o ', 's ', 's ', 'h ', 'd ', 'o ', 'h ', 's ',\n",
              "       'd ', 'h ', 's ', 'd ', 'd ', 's ', 's ', 's ', 'd ', 's ', 's ',\n",
              "       's ', 'o ', 'o ', 'd ', 'd ', 'd ', 'o ', 'h ', 's ', 'd ', 's ',\n",
              "       's ', 's ', 'h ', 'h ', 's ', 'd ', 's ', 's ', 'd ', 's ', 's ',\n",
              "       'o ', 's ', 's ', 'd ', 's ', 's ', 'o ', 'd ', 'd ', 'o ', 'o ',\n",
              "       'd ', 's ', 'o ', 'd ', 's ', 'd ', 's ', 's ', 's ', 'd ', 's ',\n",
              "       'd ', 'd ', 'd ', 's ', 'd ', 's ', 'h ', 'h ', 'd ', 's ', 's ',\n",
              "       's ', 's ', 's ', 's ', 'd ', 's ', 'o ', 's ', 's ', 's ', 's ',\n",
              "       's ', 's ', 'd ', 'd ', 'o ', 'd ', 'o ', 'h ', 'd ', 'h ', 'd ',\n",
              "       's ', 'h ', 's ', 'h ', 'h ', 'd ', 's ', 's ', 'h ', 'd ', 's ',\n",
              "       's ', 's ', 'd ', 's ', 's ', 'h ', 'h ', 's ', 's ', 'o ', 's ',\n",
              "       's ', 'h ', 'h ', 's ', 's ', 's ', 's ', 'h ', 's ', 'h ', 's ',\n",
              "       'd ', 'o ', 'd ', 's ', 's ', 'h '], dtype=object)"
            ]
          },
          "metadata": {},
          "execution_count": 31
        }
      ]
    },
    {
      "cell_type": "code",
      "source": [
        "from sklearn.metrics import accuracy_score \n",
        "print(accuracy_score(y_test, prediction1))"
      ],
      "metadata": {
        "colab": {
          "base_uri": "https://localhost:8080/"
        },
        "id": "Hkj3VR--tm_v",
        "outputId": "3c05ef94-791f-44e1-f17f-b73d373ca12a"
      },
      "execution_count": null,
      "outputs": [
        {
          "output_type": "stream",
          "name": "stdout",
          "text": [
            "0.7938461538461539\n"
          ]
        }
      ]
    },
    {
      "cell_type": "code",
      "source": [
        "clf = tree.DecisionTreeClassifier() "
      ],
      "metadata": {
        "id": "RtZ3_V6px-bc"
      },
      "execution_count": null,
      "outputs": []
    },
    {
      "cell_type": "code",
      "source": [
        "from statistics import mean"
      ],
      "metadata": {
        "id": "Dfs_0ddygPH5"
      },
      "execution_count": null,
      "outputs": []
    },
    {
      "cell_type": "code",
      "source": [
        "# List of values to try for max_depth:\n",
        "max_depth_range = list(range(1, 10))\n",
        "# List to store the accuracy for each value of max_depth:\n",
        "accuracy = []\n",
        "avg_acc = []\n",
        "\n",
        "for depth in max_depth_range:\n",
        "  for i in range(10):\n",
        "    \n",
        "      clf = tree.DecisionTreeClassifier(max_depth = depth, \n",
        "                              random_state = 0)\n",
        "      clf.fit(x_train, y_train)\n",
        "      score = clf.score(x_test, y_test)\n",
        "      accuracy.append(score)\n",
        "  avg_acc.append(mean(accuracy))  \n",
        "\n",
        "avg_acc\n",
        "\n"
      ],
      "metadata": {
        "colab": {
          "base_uri": "https://localhost:8080/"
        },
        "id": "NOCcaqrnuCKD",
        "outputId": "c4950545-5283-471f-99b5-8b88cd3e0bf1"
      },
      "execution_count": null,
      "outputs": [
        {
          "output_type": "execute_result",
          "data": {
            "text/plain": [
              "[0.6646153846153846,\n",
              " 0.7323076923076923,\n",
              " 0.7476923076923077,\n",
              " 0.7507692307692307,\n",
              " 0.7526153846153846,\n",
              " 0.7538461538461538,\n",
              " 0.7547252747252747,\n",
              " 0.7553846153846154,\n",
              " 0.7558974358974359]"
            ]
          },
          "metadata": {},
          "execution_count": 35
        }
      ]
    },
    {
      "cell_type": "code",
      "source": [
        "# max_depth: None\n",
        "\n",
        "# List to store the accuracy for each value of max_depth:\n",
        "accuracy = []\n",
        "avg_acc = []\n",
        "\n",
        "\n",
        "for i in range(10):\n",
        "    clf = tree.DecisionTreeClassifier(max_depth = None)\n",
        "    clf.fit(x_train, y_train)\n",
        "    score = clf.score(x_test, y_test)\n",
        "    accuracy.append(score)\n",
        "avg_acc.append(mean(accuracy))  \n",
        "\n",
        "avg_acc\n"
      ],
      "metadata": {
        "colab": {
          "base_uri": "https://localhost:8080/"
        },
        "id": "bl1zCKJIS2QC",
        "outputId": "97c9e60f-3cc2-4fc2-b079-64375728456b"
      },
      "execution_count": null,
      "outputs": [
        {
          "output_type": "execute_result",
          "data": {
            "text/plain": [
              "[0.7735384615384615]"
            ]
          },
          "metadata": {},
          "execution_count": 36
        }
      ]
    },
    {
      "cell_type": "code",
      "source": [
        "from sklearn.model_selection import train_test_split"
      ],
      "metadata": {
        "id": "HGfAPH9eyOEr"
      },
      "execution_count": null,
      "outputs": []
    },
    {
      "cell_type": "code",
      "source": [
        "split_size = [0.8,0.6,0.4,0.2]\n",
        "accuracy_with_val = []\n",
        "avg_acc=[]\n",
        "\n",
        "for size in split_size:\n",
        "  for i in range(10):\n",
        "    X_train, X_val, Y_train, Y_val = train_test_split(x_train, y_train, \n",
        "        test_size = size)\n",
        "    clf3 = tree.DecisionTreeClassifier()\n",
        "    clf3.fit(X_train, Y_train)\n",
        "    score = clf3.score(X_val, Y_val)\n",
        "    accuracy_with_val.append(score)\n",
        "  avg_acc.append(mean(accuracy_with_val))\n",
        "\n",
        "avg_acc\n",
        "\n"
      ],
      "metadata": {
        "colab": {
          "base_uri": "https://localhost:8080/"
        },
        "id": "507qPQe2ABEQ",
        "outputId": "327043e3-8c06-4d40-d611-816053a6d63c"
      },
      "execution_count": null,
      "outputs": [
        {
          "output_type": "execute_result",
          "data": {
            "text/plain": [
              "[0.889308176100629, 0.8980154325881297, 0.9111769550587531, 0.9215077162940648]"
            ]
          },
          "metadata": {},
          "execution_count": 38
        }
      ]
    },
    {
      "cell_type": "code",
      "source": [
        "split_size = [0.6,0.5,0.4,0.3,0.2]\n",
        "accuracy_with_val = []\n",
        "avg_acc=[]\n",
        "#std_with_val = []\n",
        "\n",
        "for size in split_size:\n",
        "  for i in range(10):\n",
        "    X_train, X_val, Y_train, Y_val = train_test_split(x_train, y_train, \n",
        "        test_size = size)\n",
        "    clf3 = tree.DecisionTreeClassifier()\n",
        "    clf3.fit(X_train, Y_train)\n",
        "    score = clf3.score(X_val, Y_val)\n",
        "    accuracy_with_val.append(score)\n",
        "  avg_acc.append(mean(accuracy_with_val))\n",
        "\n",
        "avg_acc"
      ],
      "metadata": {
        "colab": {
          "base_uri": "https://localhost:8080/"
        },
        "id": "KUZbC9sYDm8U",
        "outputId": "6a81d2da-81d0-4c1d-b20f-6215fa34e56c"
      },
      "execution_count": null,
      "outputs": [
        {
          "output_type": "execute_result",
          "data": {
            "text/plain": [
              "[0.9176470588235294,\n",
              " 0.9209447415329768,\n",
              " 0.9272964943553179,\n",
              " 0.9271390374331551,\n",
              " 0.929211229946524]"
            ]
          },
          "metadata": {},
          "execution_count": 39
        }
      ]
    },
    {
      "cell_type": "code",
      "source": [
        "import numpy as np\n",
        "from statistics import mean\n",
        "#np.std(acc_score)"
      ],
      "metadata": {
        "id": "hWid5G91GA60"
      },
      "execution_count": null,
      "outputs": []
    },
    {
      "cell_type": "code",
      "source": [
        "#testing for min sample split\n",
        "\n",
        "#split_size = 0.7 training, 0.3 validation\n",
        "min_sample_split = [2,4,6,8,10]\n",
        "accuracy_with_val = []\n",
        "avg_acc=[]\n",
        "#std_with_val = []\n",
        "\n",
        "for sample in min_sample_split:\n",
        "  for i in range(10):\n",
        "    X_train, X_val, Y_train, Y_val = train_test_split(x_train, y_train, \n",
        "        test_size = 0.3)\n",
        "    clf3 = tree.DecisionTreeClassifier(min_samples_split = sample)\n",
        "    clf3.fit(X_train, Y_train)\n",
        "    score = clf3.score(X_val, Y_val)\n",
        "    accuracy_with_val.append(score)\n",
        "  avg_acc.append(mean(accuracy_with_val))\n",
        "\n",
        "avg_acc"
      ],
      "metadata": {
        "colab": {
          "base_uri": "https://localhost:8080/"
        },
        "id": "D7GntVV6Ki32",
        "outputId": "7bd7efc5-2d7f-4395-8f29-9c61fc2bff7b"
      },
      "execution_count": null,
      "outputs": [
        {
          "output_type": "execute_result",
          "data": {
            "text/plain": [
              "[0.9349999999999999,\n",
              " 0.9441666666666666,\n",
              " 0.9422222222222222,\n",
              " 0.9433333333333334,\n",
              " 0.943]"
            ]
          },
          "metadata": {},
          "execution_count": 41
        }
      ]
    },
    {
      "cell_type": "code",
      "source": [
        "#testing for min sample for each leaf\n",
        "\n",
        "#split_size = 0.7 training, 0.3 validation\n",
        "min_samples_leaf = [1,4,7,10,13]\n",
        "accuracy_with_val = []\n",
        "avg_acc=[]\n",
        "#std_with_val = []\n",
        "\n",
        "for sample in min_samples_leaf:\n",
        "  for i in range(10):\n",
        "    X_train, X_val, Y_train, Y_val = train_test_split(x_train, y_train, \n",
        "        test_size = 0.3)\n",
        "    clf3 = tree.DecisionTreeClassifier(min_samples_leaf = sample)\n",
        "    clf3.fit(X_train, Y_train)\n",
        "    score = clf3.score(X_val, Y_val)\n",
        "    accuracy_with_val.append(score)\n",
        "  avg_acc.append(mean(accuracy_with_val))\n",
        "\n",
        "avg_acc"
      ],
      "metadata": {
        "colab": {
          "base_uri": "https://localhost:8080/"
        },
        "id": "6C5IyIn9QQ-x",
        "outputId": "cd357635-d56c-4536-bda4-e70de09ddf54"
      },
      "execution_count": null,
      "outputs": [
        {
          "output_type": "execute_result",
          "data": {
            "text/plain": [
              "[0.9583333333333333,\n",
              " 0.9541666666666666,\n",
              " 0.9527777777777777,\n",
              " 0.9504166666666667,\n",
              " 0.9483333333333334]"
            ]
          },
          "metadata": {},
          "execution_count": 42
        }
      ]
    },
    {
      "cell_type": "code",
      "source": [
        "#testing for max number of leaf nodes\n",
        "\n",
        "#split_size = 0.7 training, 0.3 validation\n",
        "max_leaf_nodes = [None,6,11,16,21]\n",
        "accuracy_with_val = []\n",
        "avg_acc=[]\n",
        "#std_with_val = []\n",
        "\n",
        "for sample in max_leaf_nodes:\n",
        "  for i in range(10):\n",
        "    X_train, X_val, Y_train, Y_val = train_test_split(x_train, y_train, \n",
        "        test_size = 0.3)\n",
        "    clf3 = tree.DecisionTreeClassifier(max_leaf_nodes = sample)\n",
        "    clf3.fit(X_train, Y_train)\n",
        "    score = clf3.score(X_val, Y_val)\n",
        "    accuracy_with_val.append(score)\n",
        "  avg_acc.append(mean(accuracy_with_val))\n",
        "\n",
        "avg_acc"
      ],
      "metadata": {
        "colab": {
          "base_uri": "https://localhost:8080/"
        },
        "id": "FhCgn-onkK1J",
        "outputId": "1de37cea-1963-4c61-c1f0-9dbef38aa775"
      },
      "execution_count": null,
      "outputs": [
        {
          "output_type": "execute_result",
          "data": {
            "text/plain": [
              "[0.935, 0.9391666666666667, 0.94, 0.9416666666666667, 0.9403333333333334]"
            ]
          },
          "metadata": {},
          "execution_count": 43
        }
      ]
    },
    {
      "cell_type": "code",
      "source": [
        "#testing for min impurity decrease\n",
        "\n",
        "#split_size = 0.7 training, 0.3 validation\n",
        "min_impurity= [0.00,0.01,0.02,0.03,0.04,0.05]\n",
        "accuracy_with_val = []\n",
        "avg_acc=[]\n",
        "#std_with_val = []\n",
        "\n",
        "for sample in min_impurity:\n",
        "  for i in range(10):\n",
        "    X_train, X_val, Y_train, Y_val = train_test_split(x_train, y_train, \n",
        "        test_size = 0.3)\n",
        "    clf3 = tree.DecisionTreeClassifier(max_leaf_nodes = None, min_impurity_decrease = sample)\n",
        "    clf3.fit(X_train, Y_train)\n",
        "    score = clf3.score(X_val, Y_val)\n",
        "    accuracy_with_val.append(score)\n",
        "  avg_acc.append(mean(accuracy_with_val))\n",
        "\n",
        "avg_acc"
      ],
      "metadata": {
        "colab": {
          "base_uri": "https://localhost:8080/"
        },
        "id": "vRARovPDlHPM",
        "outputId": "93b24f2f-cd2d-427f-e975-0623e1306048"
      },
      "execution_count": null,
      "outputs": [
        {
          "output_type": "execute_result",
          "data": {
            "text/plain": [
              "[0.9433333333333334,\n",
              " 0.9358333333333333,\n",
              " 0.9322222222222222,\n",
              " 0.9345833333333333,\n",
              " 0.9356666666666666,\n",
              " 0.9363888888888888]"
            ]
          },
          "metadata": {},
          "execution_count": 44
        }
      ]
    },
    {
      "cell_type": "code",
      "source": [
        "#testing for criterion gini and entropy\n",
        "\n",
        "#split_size = 0.7 training, 0.3 validation\n",
        "accuracy_with_val = []\n",
        "avg_acc=[]\n",
        "#std_with_val = []\n",
        "\n",
        "\n",
        "for i in range(10):\n",
        "  X_train, X_val, Y_train, Y_val = train_test_split(x_train, y_train, \n",
        "      test_size = 0.3)\n",
        "  clf3 = tree.DecisionTreeClassifier(criterion = \"gini\", max_leaf_nodes = None, min_impurity_decrease = 0.00)\n",
        "  clf3.fit(X_train, Y_train)\n",
        "  score = clf3.score(X_val, Y_val)\n",
        "  accuracy_with_val.append(score)\n",
        "avg_acc.append(mean(accuracy_with_val))\n",
        "\n",
        "avg_acc"
      ],
      "metadata": {
        "colab": {
          "base_uri": "https://localhost:8080/"
        },
        "id": "hayoRStGoRJs",
        "outputId": "5802ff91-97d7-48da-dd92-4dd0e243dd7f"
      },
      "execution_count": null,
      "outputs": [
        {
          "output_type": "execute_result",
          "data": {
            "text/plain": [
              "[0.9333333333333333]"
            ]
          },
          "metadata": {},
          "execution_count": 45
        }
      ]
    },
    {
      "cell_type": "code",
      "source": [
        "#testing for criterion gini and entropy\n",
        "\n",
        "#split_size = 0.7 training, 0.3 validation\n",
        "accuracy_with_val = []\n",
        "avg_acc=[]\n",
        "#std_with_val = []\n",
        "\n",
        "\n",
        "for i in range(10):\n",
        "  X_train, X_val, Y_train, Y_val = train_test_split(x_train, y_train, \n",
        "      test_size = 0.3)\n",
        "  clf3 = tree.DecisionTreeClassifier(criterion = \"entropy\", max_leaf_nodes = None, min_impurity_decrease = 0.00)\n",
        "  clf3.fit(X_train, Y_train)\n",
        "  score = clf3.score(X_val, Y_val)\n",
        "  accuracy_with_val.append(score)\n",
        "avg_acc.append(mean(accuracy_with_val))\n",
        "\n",
        "avg_acc"
      ],
      "metadata": {
        "colab": {
          "base_uri": "https://localhost:8080/"
        },
        "id": "V-6zD-LjppZt",
        "outputId": "6880ce1b-878d-4632-be8e-93f43319f26f"
      },
      "execution_count": null,
      "outputs": [
        {
          "output_type": "execute_result",
          "data": {
            "text/plain": [
              "[0.9316666666666666]"
            ]
          },
          "metadata": {},
          "execution_count": 46
        }
      ]
    },
    {
      "cell_type": "code",
      "source": [
        "max_depth= [1,2,3,4,5,6,7,8,9,None]\n",
        "accuracy_with_val = []\n",
        "avg_acc=[]\n",
        "#std_with_val = []\n",
        "\n",
        "for sample in max_depth:\n",
        "  for i in range(10):\n",
        "    X_train, X_val, Y_train, Y_val = train_test_split(x_train, y_train, \n",
        "        test_size = 0.3)\n",
        "    clf3 = tree.DecisionTreeClassifier(max_depth = sample)\n",
        "    clf3.fit(X_train, Y_train)\n",
        "    score = clf3.score(X_val, Y_val)\n",
        "    accuracy_with_val.append(score)\n",
        "  avg_acc.append(mean(accuracy_with_val))\n",
        "\n",
        "avg_acc"
      ],
      "metadata": {
        "colab": {
          "base_uri": "https://localhost:8080/"
        },
        "id": "QCDsiegUr9Bf",
        "outputId": "5bec3d8c-a9df-42a0-e0b0-243e86be3b00"
      },
      "execution_count": null,
      "outputs": [
        {
          "output_type": "execute_result",
          "data": {
            "text/plain": [
              "[0.5383333333333333,\n",
              " 0.7416666666666667,\n",
              " 0.8083333333333333,\n",
              " 0.8425,\n",
              " 0.863,\n",
              " 0.8752777777777778,\n",
              " 0.8854761904761904,\n",
              " 0.8954166666666666,\n",
              " 0.9005555555555556,\n",
              " 0.9033333333333333]"
            ]
          },
          "metadata": {},
          "execution_count": 47
        }
      ]
    },
    {
      "cell_type": "code",
      "source": [
        "#retrain with parameters selected on original train dataset\n",
        "x_train = dftraining.iloc[:,1:]"
      ],
      "metadata": {
        "id": "kNAQYQaEp8dG"
      },
      "execution_count": null,
      "outputs": []
    },
    {
      "cell_type": "code",
      "source": [
        "x_test = dftesting.iloc[:,1:]"
      ],
      "metadata": {
        "id": "LprTFlpTrdA7"
      },
      "execution_count": null,
      "outputs": []
    },
    {
      "cell_type": "code",
      "source": [
        "y_train = dftraining.iloc[:,0:1]"
      ],
      "metadata": {
        "id": "AjbUevWwrfIL"
      },
      "execution_count": null,
      "outputs": []
    },
    {
      "cell_type": "code",
      "source": [
        "y_test = dftesting.iloc[:,0:1]"
      ],
      "metadata": {
        "id": "Se_jm8FurorU"
      },
      "execution_count": null,
      "outputs": []
    },
    {
      "cell_type": "code",
      "source": [
        "\n",
        "clf4 = tree.DecisionTreeClassifier(max_leaf_nodes = 21,min_samples_leaf = 7,\n",
        "                                       min_samples_split=2, min_impurity_decrease = 0.00)\n",
        "clf4.fit(x_train, y_train)\n",
        "\n",
        "score = clf4.score(x_test, y_test)\n",
        "predictions = clf4.predict(x_test)\n",
        "predictions    \n",
        "  \n",
        "score"
      ],
      "metadata": {
        "colab": {
          "base_uri": "https://localhost:8080/"
        },
        "id": "MLzc28w-rt3D",
        "outputId": "ee120997-ba18-43ed-f71e-0bfcb50ed56f"
      },
      "execution_count": null,
      "outputs": [
        {
          "output_type": "execute_result",
          "data": {
            "text/plain": [
              "0.8061538461538461"
            ]
          },
          "metadata": {},
          "execution_count": 55
        }
      ]
    },
    {
      "cell_type": "code",
      "source": [
        "from sklearn.metrics import confusion_matrix, accuracy_score, classification_report\n",
        "\n",
        "model = tree.DecisionTreeClassifier(max_leaf_nodes = 21,min_samples_leaf = 7,\n",
        "                                       min_samples_split=2, min_impurity_decrease = 0.00)\n",
        "model.fit(x_train, y_train)\n",
        "\n",
        "predictions = model.predict(x_test)\n",
        "\n",
        "print(\"training accuracy :\", model.score(x_train, y_train))\n",
        "print(\"testing accuracy :\", model.score(x_test, y_test))\n",
        "\n",
        "ax = sns.heatmap(confusion_matrix(y_test,predictions), annot = True, cmap='Blues')\n",
        "ax.set_xlabel('\\nPredicted Values')\n",
        "ax.set_ylabel('Actual Values ')\n",
        "\n",
        "plt.show()"
      ],
      "metadata": {
        "colab": {
          "base_uri": "https://localhost:8080/",
          "height": 326
        },
        "id": "RYD27C_ULbb2",
        "outputId": "fd6aa6aa-802f-4a24-b03a-bd632583a4bd"
      },
      "execution_count": null,
      "outputs": [
        {
          "output_type": "stream",
          "name": "stdout",
          "text": [
            "training accuracy : 0.9747474747474747\n",
            "testing accuracy : 0.8\n"
          ]
        },
        {
          "output_type": "display_data",
          "data": {
            "text/plain": [
              "<Figure size 432x288 with 2 Axes>"
            ],
            "image/png": "[encoded data removed]"
          },
          "metadata": {
            "needs_background": "light"
          }
        }
      ]
    },
    {
      "cell_type": "code",
      "source": [
        "import graphviz \n",
        "dot_data = tree.export_graphviz(model, out_file=None,  \n",
        "                         feature_names=feature_name,   \n",
        "                         class_names=class_name,   \n",
        "                         filled=True, rounded=True,   \n",
        "                         special_characters=True)   \n",
        " \n",
        "graph = graphviz.Source(dot_data)   "
      ],
      "metadata": {
        "id": "Cwe1oZCwIpaK"
      },
      "execution_count": null,
      "outputs": []
    },
    {
      "cell_type": "code",
      "source": [
        "graph"
      ],
      "metadata": {
        "colab": {
          "base_uri": "https://localhost:8080/",
          "height": 777
        },
        "id": "HkAXIGspJgie",
        "outputId": "68da18ea-3c58-4e4a-cfe5-5c9b6a3fa93e"
      },
      "execution_count": null,
      "outputs": [
        {
          "output_type": "execute_result",
          "data": {
            "text/plain": [
              "<graphviz.files.Source at 0x7fa86d579f10>"
            ],
            "image/svg+xml": "<?xml version=\"1.0\" encoding=\"UTF-8\" standalone=\"no\"?>\n<!DOCTYPE svg PUBLIC \"-//W3C//DTD SVG 1.1//EN\"\n \"http://www.w3.org/Graphics/SVG/1.1/DTD/svg11.dtd\">\n<!-- Generated by graphviz version 2.40.1 (20161225.0304)\n -->\n<!-- Title: Tree Pages: 1 -->\n<svg width=\"1045pt\" height=\"552pt\"\n viewBox=\"0.00 0.00 1045.00 552.00\" xmlns=\"http://www.w3.org/2000/svg\" xmlns:xlink=\"http://www.w3.org/1999/xlink\">\n<g id=\"graph0\" class=\"graph\" transform=\"scale(1 1) rotate(0) translate(4 548)\">\n<title>Tree</title>\n<polygon fill=\"#ffffff\" stroke=\"transparent\" points=\"-4,4 -4,-548 1041,-548 1041,4 -4,4\"/>\n<!-- 0 -->\n<g id=\"node1\" class=\"node\">\n<title>0</title>\n<path fill=\"#fef8fe\" stroke=\"#000000\" d=\"M633.5,-544C633.5,-544 493.5,-544 493.5,-544 487.5,-544 481.5,-538 481.5,-532 481.5,-532 481.5,-473 481.5,-473 481.5,-467 487.5,-461 493.5,-461 493.5,-461 633.5,-461 633.5,-461 639.5,-461 645.5,-467 645.5,-473 645.5,-473 645.5,-532 645.5,-532 645.5,-538 639.5,-544 633.5,-544\"/>\n<text text-anchor=\"start\" x=\"533\" y=\"-528.8\" font-family=\"Helvetica,sans-Serif\" font-size=\"14.00\" fill=\"#000000\">b2 ≤ 35.5</text>\n<text text-anchor=\"start\" x=\"525.5\" y=\"-513.8\" font-family=\"Helvetica,sans-Serif\" font-size=\"14.00\" fill=\"#000000\">gini = 0.743</text>\n<text text-anchor=\"start\" x=\"515.5\" y=\"-498.8\" font-family=\"Helvetica,sans-Serif\" font-size=\"14.00\" fill=\"#000000\">samples = 198</text>\n<text text-anchor=\"start\" x=\"489.5\" y=\"-483.8\" font-family=\"Helvetica,sans-Serif\" font-size=\"14.00\" fill=\"#000000\">value = [54, 48, 37, 59]</text>\n<text text-anchor=\"start\" x=\"534.5\" y=\"-468.8\" font-family=\"Helvetica,sans-Serif\" font-size=\"14.00\" fill=\"#000000\">class = s</text>\n</g>\n<!-- 1 -->\n<g id=\"node2\" class=\"node\">\n<title>1</title>\n<path fill=\"#f8dbfa\" stroke=\"#000000\" d=\"M560,-425C560,-425 363,-425 363,-425 357,-425 351,-419 351,-413 351,-413 351,-354 351,-354 351,-348 357,-342 363,-342 363,-342 560,-342 560,-342 566,-342 572,-348 572,-354 572,-354 572,-413 572,-413 572,-419 566,-425 560,-425\"/>\n<text text-anchor=\"start\" x=\"359\" y=\"-409.8\" font-family=\"Helvetica,sans-Serif\" font-size=\"14.00\" fill=\"#000000\">pred_minus_obs_H_b1 ≤ 41.39</text>\n<text text-anchor=\"start\" x=\"423.5\" y=\"-394.8\" font-family=\"Helvetica,sans-Serif\" font-size=\"14.00\" fill=\"#000000\">gini = 0.504</text>\n<text text-anchor=\"start\" x=\"413.5\" y=\"-379.8\" font-family=\"Helvetica,sans-Serif\" font-size=\"14.00\" fill=\"#000000\">samples = 108</text>\n<text text-anchor=\"start\" x=\"396\" y=\"-364.8\" font-family=\"Helvetica,sans-Serif\" font-size=\"14.00\" fill=\"#000000\">value = [1, 48, 0, 59]</text>\n<text text-anchor=\"start\" x=\"432.5\" y=\"-349.8\" font-family=\"Helvetica,sans-Serif\" font-size=\"14.00\" fill=\"#000000\">class = s</text>\n</g>\n<!-- 0&#45;&gt;1 -->\n<g id=\"edge1\" class=\"edge\">\n<title>0&#45;&gt;1</title>\n<path fill=\"none\" stroke=\"#000000\" d=\"M527.8253,-460.8796C520.1057,-451.8733 511.8695,-442.2644 503.9197,-432.9897\"/>\n<polygon fill=\"#000000\" stroke=\"#000000\" points=\"506.4923,-430.6129 497.3269,-425.2981 501.1775,-435.1684 506.4923,-430.6129\"/>\n<text text-anchor=\"middle\" x=\"495.4095\" y=\"-446.5244\" font-family=\"Helvetica,sans-Serif\" font-size=\"14.00\" fill=\"#000000\">True</text>\n</g>\n<!-- 2 -->\n<g id=\"node11\" class=\"node\">\n<title>2</title>\n<path fill=\"#f7d9c3\" stroke=\"#000000\" d=\"M727,-425C727,-425 604,-425 604,-425 598,-425 592,-419 592,-413 592,-413 592,-354 592,-354 592,-348 598,-342 604,-342 604,-342 727,-342 727,-342 733,-342 739,-348 739,-354 739,-354 739,-413 739,-413 739,-419 733,-425 727,-425\"/>\n<text text-anchor=\"start\" x=\"635\" y=\"-409.8\" font-family=\"Helvetica,sans-Serif\" font-size=\"14.00\" fill=\"#000000\">b8 ≤ 28.5</text>\n<text text-anchor=\"start\" x=\"627.5\" y=\"-394.8\" font-family=\"Helvetica,sans-Serif\" font-size=\"14.00\" fill=\"#000000\">gini = 0.484</text>\n<text text-anchor=\"start\" x=\"621.5\" y=\"-379.8\" font-family=\"Helvetica,sans-Serif\" font-size=\"14.00\" fill=\"#000000\">samples = 90</text>\n<text text-anchor=\"start\" x=\"600\" y=\"-364.8\" font-family=\"Helvetica,sans-Serif\" font-size=\"14.00\" fill=\"#000000\">value = [53, 0, 37, 0]</text>\n<text text-anchor=\"start\" x=\"636.5\" y=\"-349.8\" font-family=\"Helvetica,sans-Serif\" font-size=\"14.00\" fill=\"#000000\">class = d</text>\n</g>\n<!-- 0&#45;&gt;2 -->\n<g id=\"edge10\" class=\"edge\">\n<title>0&#45;&gt;2</title>\n<path fill=\"none\" stroke=\"#000000\" d=\"M599.1747,-460.8796C606.8943,-451.8733 615.1305,-442.2644 623.0803,-432.9897\"/>\n<polygon fill=\"#000000\" stroke=\"#000000\" points=\"625.8225,-435.1684 629.6731,-425.2981 620.5077,-430.6129 625.8225,-435.1684\"/>\n<text text-anchor=\"middle\" x=\"631.5905\" y=\"-446.5244\" font-family=\"Helvetica,sans-Serif\" font-size=\"14.00\" fill=\"#000000\">False</text>\n</g>\n<!-- 3 -->\n<g id=\"node3\" class=\"node\">\n<title>3</title>\n<path fill=\"#4be63d\" stroke=\"#000000\" d=\"M314.5,-306C314.5,-306 114.5,-306 114.5,-306 108.5,-306 102.5,-300 102.5,-294 102.5,-294 102.5,-235 102.5,-235 102.5,-229 108.5,-223 114.5,-223 114.5,-223 314.5,-223 314.5,-223 320.5,-223 326.5,-229 326.5,-235 326.5,-235 326.5,-294 326.5,-294 326.5,-300 320.5,-306 314.5,-306\"/>\n<text text-anchor=\"start\" x=\"110.5\" y=\"-290.8\" font-family=\"Helvetica,sans-Serif\" font-size=\"14.00\" fill=\"#000000\">pred_minus_obs_S_b1 ≤ &#45;13.63</text>\n<text text-anchor=\"start\" x=\"176.5\" y=\"-275.8\" font-family=\"Helvetica,sans-Serif\" font-size=\"14.00\" fill=\"#000000\">gini = 0.042</text>\n<text text-anchor=\"start\" x=\"170.5\" y=\"-260.8\" font-family=\"Helvetica,sans-Serif\" font-size=\"14.00\" fill=\"#000000\">samples = 47</text>\n<text text-anchor=\"start\" x=\"153\" y=\"-245.8\" font-family=\"Helvetica,sans-Serif\" font-size=\"14.00\" fill=\"#000000\">value = [0, 46, 0, 1]</text>\n<text text-anchor=\"start\" x=\"185.5\" y=\"-230.8\" font-family=\"Helvetica,sans-Serif\" font-size=\"14.00\" fill=\"#000000\">class = h</text>\n</g>\n<!-- 1&#45;&gt;3 -->\n<g id=\"edge2\" class=\"edge\">\n<title>1&#45;&gt;3</title>\n<path fill=\"none\" stroke=\"#000000\" d=\"M375.1114,-341.8796C354.0526,-331.7339 331.4068,-320.8235 309.9532,-310.4876\"/>\n<polygon fill=\"#000000\" stroke=\"#000000\" points=\"311.3679,-307.2842 300.8398,-306.0969 308.3297,-313.5905 311.3679,-307.2842\"/>\n</g>\n<!-- 4 -->\n<g id=\"node6\" class=\"node\">\n<title>4</title>\n<path fill=\"#d943e6\" stroke=\"#000000\" d=\"M566,-306C566,-306 357,-306 357,-306 351,-306 345,-300 345,-294 345,-294 345,-235 345,-235 345,-229 351,-223 357,-223 357,-223 566,-223 566,-223 572,-223 578,-229 578,-235 578,-235 578,-294 578,-294 578,-300 572,-306 566,-306\"/>\n<text text-anchor=\"start\" x=\"353\" y=\"-290.8\" font-family=\"Helvetica,sans-Serif\" font-size=\"14.00\" fill=\"#000000\">pred_minus_obs_H_b7 ≤ &#45;11.865</text>\n<text text-anchor=\"start\" x=\"423.5\" y=\"-275.8\" font-family=\"Helvetica,sans-Serif\" font-size=\"14.00\" fill=\"#000000\">gini = 0.095</text>\n<text text-anchor=\"start\" x=\"417.5\" y=\"-260.8\" font-family=\"Helvetica,sans-Serif\" font-size=\"14.00\" fill=\"#000000\">samples = 61</text>\n<text text-anchor=\"start\" x=\"400\" y=\"-245.8\" font-family=\"Helvetica,sans-Serif\" font-size=\"14.00\" fill=\"#000000\">value = [1, 2, 0, 58]</text>\n<text text-anchor=\"start\" x=\"432.5\" y=\"-230.8\" font-family=\"Helvetica,sans-Serif\" font-size=\"14.00\" fill=\"#000000\">class = s</text>\n</g>\n<!-- 1&#45;&gt;4 -->\n<g id=\"edge5\" class=\"edge\">\n<title>1&#45;&gt;4</title>\n<path fill=\"none\" stroke=\"#000000\" d=\"M461.5,-341.8796C461.5,-333.6838 461.5,-324.9891 461.5,-316.5013\"/>\n<polygon fill=\"#000000\" stroke=\"#000000\" points=\"465.0001,-316.298 461.5,-306.2981 458.0001,-316.2981 465.0001,-316.298\"/>\n</g>\n<!-- 11 -->\n<g id=\"node4\" class=\"node\">\n<title>11</title>\n<path fill=\"#47e539\" stroke=\"#000000\" d=\"M127,-179.5C127,-179.5 12,-179.5 12,-179.5 6,-179.5 0,-173.5 0,-167.5 0,-167.5 0,-123.5 0,-123.5 0,-117.5 6,-111.5 12,-111.5 12,-111.5 127,-111.5 127,-111.5 133,-111.5 139,-117.5 139,-123.5 139,-123.5 139,-167.5 139,-167.5 139,-173.5 133,-179.5 127,-179.5\"/>\n<text text-anchor=\"start\" x=\"40\" y=\"-164.3\" font-family=\"Helvetica,sans-Serif\" font-size=\"14.00\" fill=\"#000000\">gini = 0.0</text>\n<text text-anchor=\"start\" x=\"25.5\" y=\"-149.3\" font-family=\"Helvetica,sans-Serif\" font-size=\"14.00\" fill=\"#000000\">samples = 40</text>\n<text text-anchor=\"start\" x=\"8\" y=\"-134.3\" font-family=\"Helvetica,sans-Serif\" font-size=\"14.00\" fill=\"#000000\">value = [0, 40, 0, 0]</text>\n<text text-anchor=\"start\" x=\"40.5\" y=\"-119.3\" font-family=\"Helvetica,sans-Serif\" font-size=\"14.00\" fill=\"#000000\">class = h</text>\n</g>\n<!-- 3&#45;&gt;11 -->\n<g id=\"edge3\" class=\"edge\">\n<title>3&#45;&gt;11</title>\n<path fill=\"none\" stroke=\"#000000\" d=\"M163.786,-222.8796C149.3156,-211.0038 133.5686,-198.0804 119.1617,-186.2568\"/>\n<polygon fill=\"#000000\" stroke=\"#000000\" points=\"121.2628,-183.4534 111.3123,-179.8149 116.822,-188.8645 121.2628,-183.4534\"/>\n</g>\n<!-- 12 -->\n<g id=\"node5\" class=\"node\">\n<title>12</title>\n<path fill=\"#66e95a\" stroke=\"#000000\" d=\"M276,-179.5C276,-179.5 169,-179.5 169,-179.5 163,-179.5 157,-173.5 157,-167.5 157,-167.5 157,-123.5 157,-123.5 157,-117.5 163,-111.5 169,-111.5 169,-111.5 276,-111.5 276,-111.5 282,-111.5 288,-117.5 288,-123.5 288,-123.5 288,-167.5 288,-167.5 288,-173.5 282,-179.5 276,-179.5\"/>\n<text text-anchor=\"start\" x=\"184.5\" y=\"-164.3\" font-family=\"Helvetica,sans-Serif\" font-size=\"14.00\" fill=\"#000000\">gini = 0.245</text>\n<text text-anchor=\"start\" x=\"183\" y=\"-149.3\" font-family=\"Helvetica,sans-Serif\" font-size=\"14.00\" fill=\"#000000\">samples = 7</text>\n<text text-anchor=\"start\" x=\"165\" y=\"-134.3\" font-family=\"Helvetica,sans-Serif\" font-size=\"14.00\" fill=\"#000000\">value = [0, 6, 0, 1]</text>\n<text text-anchor=\"start\" x=\"193.5\" y=\"-119.3\" font-family=\"Helvetica,sans-Serif\" font-size=\"14.00\" fill=\"#000000\">class = h</text>\n</g>\n<!-- 3&#45;&gt;12 -->\n<g id=\"edge4\" class=\"edge\">\n<title>3&#45;&gt;12</title>\n<path fill=\"none\" stroke=\"#000000\" d=\"M217.298,-222.8796C218.0151,-212.2134 218.7889,-200.7021 219.515,-189.9015\"/>\n<polygon fill=\"#000000\" stroke=\"#000000\" points=\"223.0144,-190.0272 220.1931,-179.8149 216.0301,-189.5576 223.0144,-190.0272\"/>\n</g>\n<!-- 7 -->\n<g id=\"node7\" class=\"node\">\n<title>7</title>\n<path fill=\"#e788ef\" stroke=\"#000000\" d=\"M456,-179.5C456,-179.5 349,-179.5 349,-179.5 343,-179.5 337,-173.5 337,-167.5 337,-167.5 337,-123.5 337,-123.5 337,-117.5 343,-111.5 349,-111.5 349,-111.5 456,-111.5 456,-111.5 462,-111.5 468,-117.5 468,-123.5 468,-123.5 468,-167.5 468,-167.5 468,-173.5 462,-179.5 456,-179.5\"/>\n<text text-anchor=\"start\" x=\"364.5\" y=\"-164.3\" font-family=\"Helvetica,sans-Serif\" font-size=\"14.00\" fill=\"#000000\">gini = 0.408</text>\n<text text-anchor=\"start\" x=\"363\" y=\"-149.3\" font-family=\"Helvetica,sans-Serif\" font-size=\"14.00\" fill=\"#000000\">samples = 7</text>\n<text text-anchor=\"start\" x=\"345\" y=\"-134.3\" font-family=\"Helvetica,sans-Serif\" font-size=\"14.00\" fill=\"#000000\">value = [0, 2, 0, 5]</text>\n<text text-anchor=\"start\" x=\"373.5\" y=\"-119.3\" font-family=\"Helvetica,sans-Serif\" font-size=\"14.00\" fill=\"#000000\">class = s</text>\n</g>\n<!-- 4&#45;&gt;7 -->\n<g id=\"edge6\" class=\"edge\">\n<title>4&#45;&gt;7</title>\n<path fill=\"none\" stroke=\"#000000\" d=\"M440.8647,-222.8796C435.4128,-211.8835 429.5157,-199.9893 424.0184,-188.9015\"/>\n<polygon fill=\"#000000\" stroke=\"#000000\" points=\"427.0911,-187.2195 419.5133,-179.8149 420.8196,-190.3289 427.0911,-187.2195\"/>\n</g>\n<!-- 8 -->\n<g id=\"node8\" class=\"node\">\n<title>8</title>\n<path fill=\"#d83de5\" stroke=\"#000000\" d=\"M703,-187C703,-187 498,-187 498,-187 492,-187 486,-181 486,-175 486,-175 486,-116 486,-116 486,-110 492,-104 498,-104 498,-104 703,-104 703,-104 709,-104 715,-110 715,-116 715,-116 715,-175 715,-175 715,-181 709,-187 703,-187\"/>\n<text text-anchor=\"start\" x=\"494\" y=\"-171.8\" font-family=\"Helvetica,sans-Serif\" font-size=\"14.00\" fill=\"#000000\">pred_minus_obs_H_b1 ≤ 63.605</text>\n<text text-anchor=\"start\" x=\"562.5\" y=\"-156.8\" font-family=\"Helvetica,sans-Serif\" font-size=\"14.00\" fill=\"#000000\">gini = 0.036</text>\n<text text-anchor=\"start\" x=\"556.5\" y=\"-141.8\" font-family=\"Helvetica,sans-Serif\" font-size=\"14.00\" fill=\"#000000\">samples = 54</text>\n<text text-anchor=\"start\" x=\"539\" y=\"-126.8\" font-family=\"Helvetica,sans-Serif\" font-size=\"14.00\" fill=\"#000000\">value = [1, 0, 0, 53]</text>\n<text text-anchor=\"start\" x=\"571.5\" y=\"-111.8\" font-family=\"Helvetica,sans-Serif\" font-size=\"14.00\" fill=\"#000000\">class = s</text>\n</g>\n<!-- 4&#45;&gt;8 -->\n<g id=\"edge7\" class=\"edge\">\n<title>4&#45;&gt;8</title>\n<path fill=\"none\" stroke=\"#000000\" d=\"M510.1155,-222.8796C521.0562,-213.513 532.7582,-203.4948 543.9908,-193.8784\"/>\n<polygon fill=\"#000000\" stroke=\"#000000\" points=\"546.3568,-196.4603 551.677,-187.2981 541.8044,-191.1428 546.3568,-196.4603\"/>\n</g>\n<!-- 9 -->\n<g id=\"node9\" class=\"node\">\n<title>9</title>\n<path fill=\"#d739e5\" stroke=\"#000000\" d=\"M581,-68C581,-68 466,-68 466,-68 460,-68 454,-62 454,-56 454,-56 454,-12 454,-12 454,-6 460,0 466,0 466,0 581,0 581,0 587,0 593,-6 593,-12 593,-12 593,-56 593,-56 593,-62 587,-68 581,-68\"/>\n<text text-anchor=\"start\" x=\"494\" y=\"-52.8\" font-family=\"Helvetica,sans-Serif\" font-size=\"14.00\" fill=\"#000000\">gini = 0.0</text>\n<text text-anchor=\"start\" x=\"479.5\" y=\"-37.8\" font-family=\"Helvetica,sans-Serif\" font-size=\"14.00\" fill=\"#000000\">samples = 47</text>\n<text text-anchor=\"start\" x=\"462\" y=\"-22.8\" font-family=\"Helvetica,sans-Serif\" font-size=\"14.00\" fill=\"#000000\">value = [0, 0, 0, 47]</text>\n<text text-anchor=\"start\" x=\"494.5\" y=\"-7.8\" font-family=\"Helvetica,sans-Serif\" font-size=\"14.00\" fill=\"#000000\">class = s</text>\n</g>\n<!-- 8&#45;&gt;9 -->\n<g id=\"edge8\" class=\"edge\">\n<title>8&#45;&gt;9</title>\n<path fill=\"none\" stroke=\"#000000\" d=\"M571.828,-103.9815C565.6715,-95.0666 559.1557,-85.6313 552.9695,-76.6734\"/>\n<polygon fill=\"#000000\" stroke=\"#000000\" points=\"555.7245,-74.5034 547.1619,-68.2637 549.9645,-78.4811 555.7245,-74.5034\"/>\n</g>\n<!-- 10 -->\n<g id=\"node10\" class=\"node\">\n<title>10</title>\n<path fill=\"#de5ae9\" stroke=\"#000000\" d=\"M730,-68C730,-68 623,-68 623,-68 617,-68 611,-62 611,-56 611,-56 611,-12 611,-12 611,-6 617,0 623,0 623,0 730,0 730,0 736,0 742,-6 742,-12 742,-12 742,-56 742,-56 742,-62 736,-68 730,-68\"/>\n<text text-anchor=\"start\" x=\"638.5\" y=\"-52.8\" font-family=\"Helvetica,sans-Serif\" font-size=\"14.00\" fill=\"#000000\">gini = 0.245</text>\n<text text-anchor=\"start\" x=\"637\" y=\"-37.8\" font-family=\"Helvetica,sans-Serif\" font-size=\"14.00\" fill=\"#000000\">samples = 7</text>\n<text text-anchor=\"start\" x=\"619\" y=\"-22.8\" font-family=\"Helvetica,sans-Serif\" font-size=\"14.00\" fill=\"#000000\">value = [1, 0, 0, 6]</text>\n<text text-anchor=\"start\" x=\"647.5\" y=\"-7.8\" font-family=\"Helvetica,sans-Serif\" font-size=\"14.00\" fill=\"#000000\">class = s</text>\n</g>\n<!-- 8&#45;&gt;10 -->\n<g id=\"edge9\" class=\"edge\">\n<title>8&#45;&gt;10</title>\n<path fill=\"none\" stroke=\"#000000\" d=\"M628.7996,-103.9815C634.8762,-95.0666 641.3074,-85.6313 647.4132,-76.6734\"/>\n<polygon fill=\"#000000\" stroke=\"#000000\" points=\"650.4052,-78.498 653.1454,-68.2637 644.6211,-74.5555 650.4052,-78.498\"/>\n</g>\n<!-- 5 -->\n<g id=\"node12\" class=\"node\">\n<title>5</title>\n<path fill=\"#e58139\" stroke=\"#000000\" d=\"M723,-298.5C723,-298.5 608,-298.5 608,-298.5 602,-298.5 596,-292.5 596,-286.5 596,-286.5 596,-242.5 596,-242.5 596,-236.5 602,-230.5 608,-230.5 608,-230.5 723,-230.5 723,-230.5 729,-230.5 735,-236.5 735,-242.5 735,-242.5 735,-286.5 735,-286.5 735,-292.5 729,-298.5 723,-298.5\"/>\n<text text-anchor=\"start\" x=\"636\" y=\"-283.3\" font-family=\"Helvetica,sans-Serif\" font-size=\"14.00\" fill=\"#000000\">gini = 0.0</text>\n<text text-anchor=\"start\" x=\"621.5\" y=\"-268.3\" font-family=\"Helvetica,sans-Serif\" font-size=\"14.00\" fill=\"#000000\">samples = 52</text>\n<text text-anchor=\"start\" x=\"604\" y=\"-253.3\" font-family=\"Helvetica,sans-Serif\" font-size=\"14.00\" fill=\"#000000\">value = [52, 0, 0, 0]</text>\n<text text-anchor=\"start\" x=\"636.5\" y=\"-238.3\" font-family=\"Helvetica,sans-Serif\" font-size=\"14.00\" fill=\"#000000\">class = d</text>\n</g>\n<!-- 2&#45;&gt;5 -->\n<g id=\"edge11\" class=\"edge\">\n<title>2&#45;&gt;5</title>\n<path fill=\"none\" stroke=\"#000000\" d=\"M665.5,-341.8796C665.5,-331.2134 665.5,-319.7021 665.5,-308.9015\"/>\n<polygon fill=\"#000000\" stroke=\"#000000\" points=\"669.0001,-308.8149 665.5,-298.8149 662.0001,-308.815 669.0001,-308.8149\"/>\n</g>\n<!-- 6 -->\n<g id=\"node13\" class=\"node\">\n<title>6</title>\n<path fill=\"#3ea0e6\" stroke=\"#000000\" d=\"M880,-306C880,-306 765,-306 765,-306 759,-306 753,-300 753,-294 753,-294 753,-235 753,-235 753,-229 759,-223 765,-223 765,-223 880,-223 880,-223 886,-223 892,-229 892,-235 892,-235 892,-294 892,-294 892,-300 886,-306 880,-306\"/>\n<text text-anchor=\"start\" x=\"792\" y=\"-290.8\" font-family=\"Helvetica,sans-Serif\" font-size=\"14.00\" fill=\"#000000\">b3 ≤ 72.5</text>\n<text text-anchor=\"start\" x=\"784.5\" y=\"-275.8\" font-family=\"Helvetica,sans-Serif\" font-size=\"14.00\" fill=\"#000000\">gini = 0.051</text>\n<text text-anchor=\"start\" x=\"778.5\" y=\"-260.8\" font-family=\"Helvetica,sans-Serif\" font-size=\"14.00\" fill=\"#000000\">samples = 38</text>\n<text text-anchor=\"start\" x=\"761\" y=\"-245.8\" font-family=\"Helvetica,sans-Serif\" font-size=\"14.00\" fill=\"#000000\">value = [1, 0, 37, 0]</text>\n<text text-anchor=\"start\" x=\"793.5\" y=\"-230.8\" font-family=\"Helvetica,sans-Serif\" font-size=\"14.00\" fill=\"#000000\">class = o</text>\n</g>\n<!-- 2&#45;&gt;6 -->\n<g id=\"edge12\" class=\"edge\">\n<title>2&#45;&gt;6</title>\n<path fill=\"none\" stroke=\"#000000\" d=\"M720.411,-341.8796C733.0794,-332.2774 746.6515,-321.9903 759.6295,-312.1534\"/>\n<polygon fill=\"#000000\" stroke=\"#000000\" points=\"761.7648,-314.9268 767.62,-306.0969 757.5364,-309.3482 761.7648,-314.9268\"/>\n</g>\n<!-- 13 -->\n<g id=\"node14\" class=\"node\">\n<title>13</title>\n<path fill=\"#5aade9\" stroke=\"#000000\" d=\"M868,-179.5C868,-179.5 761,-179.5 761,-179.5 755,-179.5 749,-173.5 749,-167.5 749,-167.5 749,-123.5 749,-123.5 749,-117.5 755,-111.5 761,-111.5 761,-111.5 868,-111.5 868,-111.5 874,-111.5 880,-117.5 880,-123.5 880,-123.5 880,-167.5 880,-167.5 880,-173.5 874,-179.5 868,-179.5\"/>\n<text text-anchor=\"start\" x=\"776.5\" y=\"-164.3\" font-family=\"Helvetica,sans-Serif\" font-size=\"14.00\" fill=\"#000000\">gini = 0.245</text>\n<text text-anchor=\"start\" x=\"775\" y=\"-149.3\" font-family=\"Helvetica,sans-Serif\" font-size=\"14.00\" fill=\"#000000\">samples = 7</text>\n<text text-anchor=\"start\" x=\"757\" y=\"-134.3\" font-family=\"Helvetica,sans-Serif\" font-size=\"14.00\" fill=\"#000000\">value = [1, 0, 6, 0]</text>\n<text text-anchor=\"start\" x=\"785.5\" y=\"-119.3\" font-family=\"Helvetica,sans-Serif\" font-size=\"14.00\" fill=\"#000000\">class = o</text>\n</g>\n<!-- 6&#45;&gt;13 -->\n<g id=\"edge13\" class=\"edge\">\n<title>6&#45;&gt;13</title>\n<path fill=\"none\" stroke=\"#000000\" d=\"M819.702,-222.8796C818.9849,-212.2134 818.2111,-200.7021 817.485,-189.9015\"/>\n<polygon fill=\"#000000\" stroke=\"#000000\" points=\"820.9699,-189.5576 816.8069,-179.8149 813.9856,-190.0272 820.9699,-189.5576\"/>\n</g>\n<!-- 14 -->\n<g id=\"node15\" class=\"node\">\n<title>14</title>\n<path fill=\"#399de5\" stroke=\"#000000\" d=\"M1025,-179.5C1025,-179.5 910,-179.5 910,-179.5 904,-179.5 898,-173.5 898,-167.5 898,-167.5 898,-123.5 898,-123.5 898,-117.5 904,-111.5 910,-111.5 910,-111.5 1025,-111.5 1025,-111.5 1031,-111.5 1037,-117.5 1037,-123.5 1037,-123.5 1037,-167.5 1037,-167.5 1037,-173.5 1031,-179.5 1025,-179.5\"/>\n<text text-anchor=\"start\" x=\"938\" y=\"-164.3\" font-family=\"Helvetica,sans-Serif\" font-size=\"14.00\" fill=\"#000000\">gini = 0.0</text>\n<text text-anchor=\"start\" x=\"923.5\" y=\"-149.3\" font-family=\"Helvetica,sans-Serif\" font-size=\"14.00\" fill=\"#000000\">samples = 31</text>\n<text text-anchor=\"start\" x=\"906\" y=\"-134.3\" font-family=\"Helvetica,sans-Serif\" font-size=\"14.00\" fill=\"#000000\">value = [0, 0, 31, 0]</text>\n<text text-anchor=\"start\" x=\"938.5\" y=\"-119.3\" font-family=\"Helvetica,sans-Serif\" font-size=\"14.00\" fill=\"#000000\">class = o</text>\n</g>\n<!-- 6&#45;&gt;14 -->\n<g id=\"edge14\" class=\"edge\">\n<title>6&#45;&gt;14</title>\n<path fill=\"none\" stroke=\"#000000\" d=\"M873.214,-222.8796C887.6844,-211.0038 903.4314,-198.0804 917.8383,-186.2568\"/>\n<polygon fill=\"#000000\" stroke=\"#000000\" points=\"920.178,-188.8645 925.6877,-179.8149 915.7372,-183.4534 920.178,-188.8645\"/>\n</g>\n</g>\n</svg>\n"
          },
          "metadata": {},
          "execution_count": 58
        }
      ]
    },
    {
      "cell_type": "code",
      "source": [
        "print(model.decision_path(x_test).todense()) "
      ],
      "metadata": {
        "colab": {
          "base_uri": "https://localhost:8080/"
        },
        "id": "uNpuiXaySKm7",
        "outputId": "25b6d2ce-0a0c-4999-b376-1ac1c13aba27"
      },
      "execution_count": null,
      "outputs": [
        {
          "output_type": "stream",
          "name": "stdout",
          "text": [
            "[[1 0 1 ... 0 1 0]\n",
            " [1 1 0 ... 0 0 0]\n",
            " [1 1 0 ... 0 0 0]\n",
            " ...\n",
            " [1 1 0 ... 0 0 0]\n",
            " [1 1 0 ... 0 0 0]\n",
            " [1 1 0 ... 0 0 0]]\n"
          ]
        }
      ]
    },
    {
      "cell_type": "code",
      "source": [
        "print(classification_report(y_test,predictions))"
      ],
      "metadata": {
        "colab": {
          "base_uri": "https://localhost:8080/"
        },
        "id": "Aec8tp3wVSzk",
        "outputId": "3625f9ce-a1af-4c1e-fb61-693480547014"
      },
      "execution_count": null,
      "outputs": [
        {
          "output_type": "stream",
          "name": "stdout",
          "text": [
            "              precision    recall  f1-score   support\n",
            "\n",
            "          d        0.86      0.67      0.75       105\n",
            "          h        0.84      0.68      0.75        38\n",
            "          o        0.72      0.83      0.77        46\n",
            "          s        0.79      0.93      0.85       136\n",
            "\n",
            "    accuracy                           0.80       325\n",
            "   macro avg       0.80      0.78      0.78       325\n",
            "weighted avg       0.81      0.80      0.80       325\n",
            "\n"
          ]
        }
      ]
    },
    {
      "cell_type": "code",
      "source": [
        "from sklearn.metrics import confusion_matrix, accuracy_score, classification_report\n",
        "\n",
        "model2 = tree.DecisionTreeClassifier(max_depth = 2, max_leaf_nodes = 21,min_samples_leaf = 7,\n",
        "                                       min_samples_split=2, min_impurity_decrease = 0.00)\n",
        "model2.fit(x_train, y_train)\n",
        "\n",
        "predictions = model2.predict(x_test)\n",
        "\n",
        "print(\"training accuracy :\", model2.score(x_train, y_train))\n",
        "print(\"testing accuracy :\", model2.score(x_test, y_test))\n",
        "\n",
        "ax = sns.heatmap(confusion_matrix(y_test,predictions), annot = True, cmap='Blues')\n",
        "ax.set_xlabel('\\nPredicted Values')\n",
        "ax.set_ylabel('Actual Values ')\n",
        "\n",
        "plt.show()\n",
        "\n",
        "print(classification_report(y_test,predictions))"
      ],
      "metadata": {
        "colab": {
          "base_uri": "https://localhost:8080/",
          "height": 523
        },
        "id": "sTV4cLZUVkEw",
        "outputId": "183a9eba-cc31-4b43-dcc8-d11a81796118"
      },
      "execution_count": null,
      "outputs": [
        {
          "output_type": "stream",
          "name": "stdout",
          "text": [
            "training accuracy : 0.9747474747474747\n",
            "testing accuracy : 0.8\n"
          ]
        },
        {
          "output_type": "display_data",
          "data": {
            "text/plain": [
              "<Figure size 432x288 with 2 Axes>"
            ],
            "image/png": "[encoded data removed]"
          },
          "metadata": {
            "needs_background": "light"
          }
        },
        {
          "output_type": "stream",
          "name": "stdout",
          "text": [
            "              precision    recall  f1-score   support\n",
            "\n",
            "          d        0.86      0.67      0.75       105\n",
            "          h        0.84      0.68      0.75        38\n",
            "          o        0.72      0.83      0.77        46\n",
            "          s        0.79      0.93      0.85       136\n",
            "\n",
            "    accuracy                           0.80       325\n",
            "   macro avg       0.80      0.78      0.78       325\n",
            "weighted avg       0.81      0.80      0.80       325\n",
            "\n"
          ]
        }
      ]
    },
    {
      "cell_type": "markdown",
      "source": [
        ""
      ],
      "metadata": {
        "id": "jWRZKduCWC2w"
      }
    },
    {
      "cell_type": "code",
      "source": [
        "import graphviz \n",
        "dot_data = tree.export_graphviz(model2, out_file=None,  \n",
        "                         feature_names=feature_name,   \n",
        "                         class_names=class_name,   \n",
        "                         filled=True, rounded=True,   \n",
        "                         special_characters=True)   \n",
        " \n",
        "graph = graphviz.Source(dot_data)   \n",
        "graph"
      ],
      "metadata": {
        "colab": {
          "base_uri": "https://localhost:8080/",
          "height": 439
        },
        "id": "zi5LGcWBWI-d",
        "outputId": "3fc8d147-77b0-437a-ff3f-f09e6910ff47"
      },
      "execution_count": null,
      "outputs": [
        {
          "output_type": "execute_result",
          "data": {
            "text/plain": [
              "<graphviz.files.Source at 0x7fa86a7fd190>"
            ],
            "image/svg+xml": "<?xml version=\"1.0\" encoding=\"UTF-8\" standalone=\"no\"?>\n<!DOCTYPE svg PUBLIC \"-//W3C//DTD SVG 1.1//EN\"\n \"http://www.w3.org/Graphics/SVG/1.1/DTD/svg11.dtd\">\n<!-- Generated by graphviz version 2.40.1 (20161225.0304)\n -->\n<!-- Title: Tree Pages: 1 -->\n<svg width=\"640pt\" height=\"314pt\"\n viewBox=\"0.00 0.00 640.00 314.00\" xmlns=\"http://www.w3.org/2000/svg\" xmlns:xlink=\"http://www.w3.org/1999/xlink\">\n<g id=\"graph0\" class=\"graph\" transform=\"scale(1 1) rotate(0) translate(4 310)\">\n<title>Tree</title>\n<polygon fill=\"#ffffff\" stroke=\"transparent\" points=\"-4,4 -4,-310 636,-310 636,4 -4,4\"/>\n<!-- 0 -->\n<g id=\"node1\" class=\"node\">\n<title>0</title>\n<path fill=\"#fef8fe\" stroke=\"#000000\" d=\"M385.5,-306C385.5,-306 245.5,-306 245.5,-306 239.5,-306 233.5,-300 233.5,-294 233.5,-294 233.5,-235 233.5,-235 233.5,-229 239.5,-223 245.5,-223 245.5,-223 385.5,-223 385.5,-223 391.5,-223 397.5,-229 397.5,-235 397.5,-235 397.5,-294 397.5,-294 397.5,-300 391.5,-306 385.5,-306\"/>\n<text text-anchor=\"start\" x=\"285\" y=\"-290.8\" font-family=\"Helvetica,sans-Serif\" font-size=\"14.00\" fill=\"#000000\">b2 ≤ 35.5</text>\n<text text-anchor=\"start\" x=\"277.5\" y=\"-275.8\" font-family=\"Helvetica,sans-Serif\" font-size=\"14.00\" fill=\"#000000\">gini = 0.743</text>\n<text text-anchor=\"start\" x=\"267.5\" y=\"-260.8\" font-family=\"Helvetica,sans-Serif\" font-size=\"14.00\" fill=\"#000000\">samples = 198</text>\n<text text-anchor=\"start\" x=\"241.5\" y=\"-245.8\" font-family=\"Helvetica,sans-Serif\" font-size=\"14.00\" fill=\"#000000\">value = [54, 48, 37, 59]</text>\n<text text-anchor=\"start\" x=\"286.5\" y=\"-230.8\" font-family=\"Helvetica,sans-Serif\" font-size=\"14.00\" fill=\"#000000\">class = s</text>\n</g>\n<!-- 1 -->\n<g id=\"node2\" class=\"node\">\n<title>1</title>\n<path fill=\"#f8dbfa\" stroke=\"#000000\" d=\"M313,-187C313,-187 116,-187 116,-187 110,-187 104,-181 104,-175 104,-175 104,-116 104,-116 104,-110 110,-104 116,-104 116,-104 313,-104 313,-104 319,-104 325,-110 325,-116 325,-116 325,-175 325,-175 325,-181 319,-187 313,-187\"/>\n<text text-anchor=\"start\" x=\"112\" y=\"-171.8\" font-family=\"Helvetica,sans-Serif\" font-size=\"14.00\" fill=\"#000000\">pred_minus_obs_H_b1 ≤ 41.39</text>\n<text text-anchor=\"start\" x=\"176.5\" y=\"-156.8\" font-family=\"Helvetica,sans-Serif\" font-size=\"14.00\" fill=\"#000000\">gini = 0.504</text>\n<text text-anchor=\"start\" x=\"166.5\" y=\"-141.8\" font-family=\"Helvetica,sans-Serif\" font-size=\"14.00\" fill=\"#000000\">samples = 108</text>\n<text text-anchor=\"start\" x=\"149\" y=\"-126.8\" font-family=\"Helvetica,sans-Serif\" font-size=\"14.00\" fill=\"#000000\">value = [1, 48, 0, 59]</text>\n<text text-anchor=\"start\" x=\"185.5\" y=\"-111.8\" font-family=\"Helvetica,sans-Serif\" font-size=\"14.00\" fill=\"#000000\">class = s</text>\n</g>\n<!-- 0&#45;&gt;1 -->\n<g id=\"edge1\" class=\"edge\">\n<title>0&#45;&gt;1</title>\n<path fill=\"none\" stroke=\"#000000\" d=\"M280.1751,-222.8796C272.5311,-213.8733 264.3757,-204.2644 256.5039,-194.9897\"/>\n<polygon fill=\"#000000\" stroke=\"#000000\" points=\"259.1151,-192.6574 249.9757,-187.2981 253.7782,-197.1871 259.1151,-192.6574\"/>\n<text text-anchor=\"middle\" x=\"247.937\" y=\"-208.5148\" font-family=\"Helvetica,sans-Serif\" font-size=\"14.00\" fill=\"#000000\">True</text>\n</g>\n<!-- 2 -->\n<g id=\"node5\" class=\"node\">\n<title>2</title>\n<path fill=\"#f7d9c3\" stroke=\"#000000\" d=\"M478,-187C478,-187 355,-187 355,-187 349,-187 343,-181 343,-175 343,-175 343,-116 343,-116 343,-110 349,-104 355,-104 355,-104 478,-104 478,-104 484,-104 490,-110 490,-116 490,-116 490,-175 490,-175 490,-181 484,-187 478,-187\"/>\n<text text-anchor=\"start\" x=\"386\" y=\"-171.8\" font-family=\"Helvetica,sans-Serif\" font-size=\"14.00\" fill=\"#000000\">b8 ≤ 28.5</text>\n<text text-anchor=\"start\" x=\"378.5\" y=\"-156.8\" font-family=\"Helvetica,sans-Serif\" font-size=\"14.00\" fill=\"#000000\">gini = 0.484</text>\n<text text-anchor=\"start\" x=\"372.5\" y=\"-141.8\" font-family=\"Helvetica,sans-Serif\" font-size=\"14.00\" fill=\"#000000\">samples = 90</text>\n<text text-anchor=\"start\" x=\"351\" y=\"-126.8\" font-family=\"Helvetica,sans-Serif\" font-size=\"14.00\" fill=\"#000000\">value = [53, 0, 37, 0]</text>\n<text text-anchor=\"start\" x=\"387.5\" y=\"-111.8\" font-family=\"Helvetica,sans-Serif\" font-size=\"14.00\" fill=\"#000000\">class = d</text>\n</g>\n<!-- 0&#45;&gt;2 -->\n<g id=\"edge4\" class=\"edge\">\n<title>0&#45;&gt;2</title>\n<path fill=\"none\" stroke=\"#000000\" d=\"M350.8249,-222.8796C358.4689,-213.8733 366.6243,-204.2644 374.4961,-194.9897\"/>\n<polygon fill=\"#000000\" stroke=\"#000000\" points=\"377.2218,-197.1871 381.0243,-187.2981 371.8849,-192.6574 377.2218,-197.1871\"/>\n<text text-anchor=\"middle\" x=\"383.063\" y=\"-208.5148\" font-family=\"Helvetica,sans-Serif\" font-size=\"14.00\" fill=\"#000000\">False</text>\n</g>\n<!-- 3 -->\n<g id=\"node3\" class=\"node\">\n<title>3</title>\n<path fill=\"#4be63d\" stroke=\"#000000\" d=\"M127,-68C127,-68 12,-68 12,-68 6,-68 0,-62 0,-56 0,-56 0,-12 0,-12 0,-6 6,0 12,0 12,0 127,0 127,0 133,0 139,-6 139,-12 139,-12 139,-56 139,-56 139,-62 133,-68 127,-68\"/>\n<text text-anchor=\"start\" x=\"31.5\" y=\"-52.8\" font-family=\"Helvetica,sans-Serif\" font-size=\"14.00\" fill=\"#000000\">gini = 0.042</text>\n<text text-anchor=\"start\" x=\"25.5\" y=\"-37.8\" font-family=\"Helvetica,sans-Serif\" font-size=\"14.00\" fill=\"#000000\">samples = 47</text>\n<text text-anchor=\"start\" x=\"8\" y=\"-22.8\" font-family=\"Helvetica,sans-Serif\" font-size=\"14.00\" fill=\"#000000\">value = [0, 46, 0, 1]</text>\n<text text-anchor=\"start\" x=\"40.5\" y=\"-7.8\" font-family=\"Helvetica,sans-Serif\" font-size=\"14.00\" fill=\"#000000\">class = h</text>\n</g>\n<!-- 1&#45;&gt;3 -->\n<g id=\"edge2\" class=\"edge\">\n<title>1&#45;&gt;3</title>\n<path fill=\"none\" stroke=\"#000000\" d=\"M160.5074,-103.9815C147.9578,-94.3313 134.6153,-84.0714 122.1256,-74.4673\"/>\n<polygon fill=\"#000000\" stroke=\"#000000\" points=\"124.119,-71.585 114.0581,-68.2637 119.8519,-77.134 124.119,-71.585\"/>\n</g>\n<!-- 4 -->\n<g id=\"node4\" class=\"node\">\n<title>4</title>\n<path fill=\"#d943e6\" stroke=\"#000000\" d=\"M284,-68C284,-68 169,-68 169,-68 163,-68 157,-62 157,-56 157,-56 157,-12 157,-12 157,-6 163,0 169,0 169,0 284,0 284,0 290,0 296,-6 296,-12 296,-12 296,-56 296,-56 296,-62 290,-68 284,-68\"/>\n<text text-anchor=\"start\" x=\"188.5\" y=\"-52.8\" font-family=\"Helvetica,sans-Serif\" font-size=\"14.00\" fill=\"#000000\">gini = 0.095</text>\n<text text-anchor=\"start\" x=\"182.5\" y=\"-37.8\" font-family=\"Helvetica,sans-Serif\" font-size=\"14.00\" fill=\"#000000\">samples = 61</text>\n<text text-anchor=\"start\" x=\"165\" y=\"-22.8\" font-family=\"Helvetica,sans-Serif\" font-size=\"14.00\" fill=\"#000000\">value = [1, 2, 0, 58]</text>\n<text text-anchor=\"start\" x=\"197.5\" y=\"-7.8\" font-family=\"Helvetica,sans-Serif\" font-size=\"14.00\" fill=\"#000000\">class = s</text>\n</g>\n<!-- 1&#45;&gt;4 -->\n<g id=\"edge3\" class=\"edge\">\n<title>1&#45;&gt;4</title>\n<path fill=\"none\" stroke=\"#000000\" d=\"M218.9684,-103.9815C219.8685,-95.618 220.8179,-86.7965 221.7279,-78.3409\"/>\n<polygon fill=\"#000000\" stroke=\"#000000\" points=\"225.2222,-78.5808 222.8124,-68.2637 218.2624,-77.8317 225.2222,-78.5808\"/>\n</g>\n<!-- 5 -->\n<g id=\"node6\" class=\"node\">\n<title>5</title>\n<path fill=\"#e58139\" stroke=\"#000000\" d=\"M463,-68C463,-68 348,-68 348,-68 342,-68 336,-62 336,-56 336,-56 336,-12 336,-12 336,-6 342,0 348,0 348,0 463,0 463,0 469,0 475,-6 475,-12 475,-12 475,-56 475,-56 475,-62 469,-68 463,-68\"/>\n<text text-anchor=\"start\" x=\"376\" y=\"-52.8\" font-family=\"Helvetica,sans-Serif\" font-size=\"14.00\" fill=\"#000000\">gini = 0.0</text>\n<text text-anchor=\"start\" x=\"361.5\" y=\"-37.8\" font-family=\"Helvetica,sans-Serif\" font-size=\"14.00\" fill=\"#000000\">samples = 52</text>\n<text text-anchor=\"start\" x=\"344\" y=\"-22.8\" font-family=\"Helvetica,sans-Serif\" font-size=\"14.00\" fill=\"#000000\">value = [52, 0, 0, 0]</text>\n<text text-anchor=\"start\" x=\"376.5\" y=\"-7.8\" font-family=\"Helvetica,sans-Serif\" font-size=\"14.00\" fill=\"#000000\">class = d</text>\n</g>\n<!-- 2&#45;&gt;5 -->\n<g id=\"edge5\" class=\"edge\">\n<title>2&#45;&gt;5</title>\n<path fill=\"none\" stroke=\"#000000\" d=\"M412.404,-103.9815C411.5789,-95.618 410.7086,-86.7965 409.8744,-78.3409\"/>\n<polygon fill=\"#000000\" stroke=\"#000000\" points=\"413.3452,-77.8717 408.8803,-68.2637 406.3791,-78.559 413.3452,-77.8717\"/>\n</g>\n<!-- 6 -->\n<g id=\"node7\" class=\"node\">\n<title>6</title>\n<path fill=\"#3ea0e6\" stroke=\"#000000\" d=\"M620,-68C620,-68 505,-68 505,-68 499,-68 493,-62 493,-56 493,-56 493,-12 493,-12 493,-6 499,0 505,0 505,0 620,0 620,0 626,0 632,-6 632,-12 632,-12 632,-56 632,-56 632,-62 626,-68 620,-68\"/>\n<text text-anchor=\"start\" x=\"524.5\" y=\"-52.8\" font-family=\"Helvetica,sans-Serif\" font-size=\"14.00\" fill=\"#000000\">gini = 0.051</text>\n<text text-anchor=\"start\" x=\"518.5\" y=\"-37.8\" font-family=\"Helvetica,sans-Serif\" font-size=\"14.00\" fill=\"#000000\">samples = 38</text>\n<text text-anchor=\"start\" x=\"501\" y=\"-22.8\" font-family=\"Helvetica,sans-Serif\" font-size=\"14.00\" fill=\"#000000\">value = [1, 0, 37, 0]</text>\n<text text-anchor=\"start\" x=\"533.5\" y=\"-7.8\" font-family=\"Helvetica,sans-Serif\" font-size=\"14.00\" fill=\"#000000\">class = o</text>\n</g>\n<!-- 2&#45;&gt;6 -->\n<g id=\"edge6\" class=\"edge\">\n<title>2&#45;&gt;6</title>\n<path fill=\"none\" stroke=\"#000000\" d=\"M470.865,-103.9815C483.5011,-94.3313 496.9356,-84.0714 509.5115,-74.4673\"/>\n<polygon fill=\"#000000\" stroke=\"#000000\" points=\"511.8114,-77.1148 517.6346,-68.2637 507.5628,-71.5515 511.8114,-77.1148\"/>\n</g>\n</g>\n</svg>\n"
          },
          "metadata": {},
          "execution_count": 62
        }
      ]
    },
    {
      "cell_type": "code",
      "source": [
        "with np.printoptions(threshold=np.inf):\n",
        "    print(model.decision_path(x_test).todense())"
      ],
      "metadata": {
        "id": "QJReKeOoUlV9"
      },
      "execution_count": null,
      "outputs": []
    },
    {
      "cell_type": "code",
      "source": [
        "import seaborn as sns\n",
        "import matplotlib.pyplot as plt\n",
        "%matplotlib inline\n",
        "\n",
        "colormap = plt.cm.viridis\n",
        "plt.figure(figsize=(20,20))\n",
        "plt.title('Pearson Correlation of Features', y=1.05, size=20)\n",
        "sns.heatmap(x_train.astype(float).corr(),linewidths=0.1,vmax=1.0, square=True, cmap=colormap, linecolor='white', annot=True)"
      ],
      "metadata": {
        "id": "h-jMo5yOwGik"
      },
      "execution_count": null,
      "outputs": []
    },
    {
      "cell_type": "code",
      "source": [
        "import numpy as np\n",
        "import seaborn as sns\n",
        "import matplotlib.pyplot as plt\n",
        "%matplotlib inline"
      ],
      "metadata": {
        "id": "BcVSq93sCdE4"
      },
      "execution_count": null,
      "outputs": []
    },
    {
      "cell_type": "code",
      "source": [
        "dftraining.head()"
      ],
      "metadata": {
        "colab": {
          "base_uri": "https://localhost:8080/",
          "height": 299
        },
        "id": "bEEphF4UUxtS",
        "outputId": "de1e0734-d72a-47d3-86a3-06ac14f8e1c4"
      },
      "execution_count": null,
      "outputs": [
        {
          "output_type": "execute_result",
          "data": {
            "text/plain": [
              "  class  b1  b2  b3   b4  b5   b6   b7  b8  b9  ...  pred_minus_obs_H_b9  \\\n",
              "0    d   39  36  57   91  59  101   93  27  60  ...                -2.36   \n",
              "1    h   84  30  57  112  51   98   92  26  62  ...                -2.26   \n",
              "2    s   53  25  49   99  51   93   84  26  58  ...                -1.46   \n",
              "3    s   59  26  49  103  47   92   82  25  56  ...                 2.68   \n",
              "4    d   57  49  66  103  64  106  114  28  59  ...                -2.94   \n",
              "\n",
              "   pred_minus_obs_S_b1  pred_minus_obs_S_b2  pred_minus_obs_S_b3  \\\n",
              "0               -18.41                -1.88                -6.43   \n",
              "1               -16.27                -1.95                -6.25   \n",
              "2               -15.92                -1.79                -4.64   \n",
              "3               -13.77                -2.53                -6.34   \n",
              "4               -21.74                -1.64                -4.62   \n",
              "\n",
              "   pred_minus_obs_S_b4  pred_minus_obs_S_b5  pred_minus_obs_S_b6  \\\n",
              "0               -21.03                -1.60                -6.18   \n",
              "1               -18.79                -1.99                -6.18   \n",
              "2               -17.73                -0.48                -4.69   \n",
              "3               -22.03                -2.34                -6.60   \n",
              "4               -23.74                -0.85                -5.50   \n",
              "\n",
              "   pred_minus_obs_S_b7  pred_minus_obs_S_b8  pred_minus_obs_S_b9  \n",
              "0               -22.50                -5.20                -7.86  \n",
              "1               -23.41                -8.87               -10.83  \n",
              "2               -19.97                -4.10                -7.07  \n",
              "3               -27.10                -7.99               -10.81  \n",
              "4               -22.83                -2.74                -5.84  \n",
              "\n",
              "[5 rows x 28 columns]"
            ],
            "text/html": [
              "\n",
              "  <div id=\"df-4f804dbc-57ff-4739-b05d-59a37cc57777\">\n",
              "    <div class=\"colab-df-container\">\n",
              "      <div>\n",
              "<style scoped>\n",
              "    .dataframe tbody tr th:only-of-type {\n",
              "        vertical-align: middle;\n",
              "    }\n",
              "\n",
              "    .dataframe tbody tr th {\n",
              "        vertical-align: top;\n",
              "    }\n",
              "\n",
              "    .dataframe thead th {\n",
              "        text-align: right;\n",
              "    }\n",
              "</style>\n",
              "<table border=\"1\" class=\"dataframe\">\n",
              "  <thead>\n",
              "    <tr style=\"text-align: right;\">\n",
              "      <th></th>\n",
              "      <th>class</th>\n",
              "      <th>b1</th>\n",
              "      <th>b2</th>\n",
              "      <th>b3</th>\n",
              "      <th>b4</th>\n",
              "      <th>b5</th>\n",
              "      <th>b6</th>\n",
              "      <th>b7</th>\n",
              "      <th>b8</th>\n",
              "      <th>b9</th>\n",
              "      <th>...</th>\n",
              "      <th>pred_minus_obs_H_b9</th>\n",
              "      <th>pred_minus_obs_S_b1</th>\n",
              "      <th>pred_minus_obs_S_b2</th>\n",
              "      <th>pred_minus_obs_S_b3</th>\n",
              "      <th>pred_minus_obs_S_b4</th>\n",
              "      <th>pred_minus_obs_S_b5</th>\n",
              "      <th>pred_minus_obs_S_b6</th>\n",
              "      <th>pred_minus_obs_S_b7</th>\n",
              "      <th>pred_minus_obs_S_b8</th>\n",
              "      <th>pred_minus_obs_S_b9</th>\n",
              "    </tr>\n",
              "  </thead>\n",
              "  <tbody>\n",
              "    <tr>\n",
              "      <th>0</th>\n",
              "      <td>d</td>\n",
              "      <td>39</td>\n",
              "      <td>36</td>\n",
              "      <td>57</td>\n",
              "      <td>91</td>\n",
              "      <td>59</td>\n",
              "      <td>101</td>\n",
              "      <td>93</td>\n",
              "      <td>27</td>\n",
              "      <td>60</td>\n",
              "      <td>...</td>\n",
              "      <td>-2.36</td>\n",
              "      <td>-18.41</td>\n",
              "      <td>-1.88</td>\n",
              "      <td>-6.43</td>\n",
              "      <td>-21.03</td>\n",
              "      <td>-1.60</td>\n",
              "      <td>-6.18</td>\n",
              "      <td>-22.50</td>\n",
              "      <td>-5.20</td>\n",
              "      <td>-7.86</td>\n",
              "    </tr>\n",
              "    <tr>\n",
              "      <th>1</th>\n",
              "      <td>h</td>\n",
              "      <td>84</td>\n",
              "      <td>30</td>\n",
              "      <td>57</td>\n",
              "      <td>112</td>\n",
              "      <td>51</td>\n",
              "      <td>98</td>\n",
              "      <td>92</td>\n",
              "      <td>26</td>\n",
              "      <td>62</td>\n",
              "      <td>...</td>\n",
              "      <td>-2.26</td>\n",
              "      <td>-16.27</td>\n",
              "      <td>-1.95</td>\n",
              "      <td>-6.25</td>\n",
              "      <td>-18.79</td>\n",
              "      <td>-1.99</td>\n",
              "      <td>-6.18</td>\n",
              "      <td>-23.41</td>\n",
              "      <td>-8.87</td>\n",
              "      <td>-10.83</td>\n",
              "    </tr>\n",
              "    <tr>\n",
              "      <th>2</th>\n",
              "      <td>s</td>\n",
              "      <td>53</td>\n",
              "      <td>25</td>\n",
              "      <td>49</td>\n",
              "      <td>99</td>\n",
              "      <td>51</td>\n",
              "      <td>93</td>\n",
              "      <td>84</td>\n",
              "      <td>26</td>\n",
              "      <td>58</td>\n",
              "      <td>...</td>\n",
              "      <td>-1.46</td>\n",
              "      <td>-15.92</td>\n",
              "      <td>-1.79</td>\n",
              "      <td>-4.64</td>\n",
              "      <td>-17.73</td>\n",
              "      <td>-0.48</td>\n",
              "      <td>-4.69</td>\n",
              "      <td>-19.97</td>\n",
              "      <td>-4.10</td>\n",
              "      <td>-7.07</td>\n",
              "    </tr>\n",
              "    <tr>\n",
              "      <th>3</th>\n",
              "      <td>s</td>\n",
              "      <td>59</td>\n",
              "      <td>26</td>\n",
              "      <td>49</td>\n",
              "      <td>103</td>\n",
              "      <td>47</td>\n",
              "      <td>92</td>\n",
              "      <td>82</td>\n",
              "      <td>25</td>\n",
              "      <td>56</td>\n",
              "      <td>...</td>\n",
              "      <td>2.68</td>\n",
              "      <td>-13.77</td>\n",
              "      <td>-2.53</td>\n",
              "      <td>-6.34</td>\n",
              "      <td>-22.03</td>\n",
              "      <td>-2.34</td>\n",
              "      <td>-6.60</td>\n",
              "      <td>-27.10</td>\n",
              "      <td>-7.99</td>\n",
              "      <td>-10.81</td>\n",
              "    </tr>\n",
              "    <tr>\n",
              "      <th>4</th>\n",
              "      <td>d</td>\n",
              "      <td>57</td>\n",
              "      <td>49</td>\n",
              "      <td>66</td>\n",
              "      <td>103</td>\n",
              "      <td>64</td>\n",
              "      <td>106</td>\n",
              "      <td>114</td>\n",
              "      <td>28</td>\n",
              "      <td>59</td>\n",
              "      <td>...</td>\n",
              "      <td>-2.94</td>\n",
              "      <td>-21.74</td>\n",
              "      <td>-1.64</td>\n",
              "      <td>-4.62</td>\n",
              "      <td>-23.74</td>\n",
              "      <td>-0.85</td>\n",
              "      <td>-5.50</td>\n",
              "      <td>-22.83</td>\n",
              "      <td>-2.74</td>\n",
              "      <td>-5.84</td>\n",
              "    </tr>\n",
              "  </tbody>\n",
              "</table>\n",
              "<p>5 rows × 28 columns</p>\n",
              "</div>\n",
              "      <button class=\"colab-df-convert\" onclick=\"convertToInteractive('df-4f804dbc-57ff-4739-b05d-59a37cc57777')\"\n",
              "              title=\"Convert this dataframe to an interactive table.\"\n",
              "              style=\"display:none;\">\n",
              "        \n",
              "  <svg xmlns=\"http://www.w3.org/2000/svg\" height=\"24px\"viewBox=\"0 0 24 24\"\n",
              "       width=\"24px\">\n",
              "    <path d=\"M0 0h24v24H0V0z\" fill=\"none\"/>\n",
              "    <path d=\"M18.56 5.44l.94 2.06.94-2.06 2.06-.94-2.06-.94-.94-2.06-.94 2.06-2.06.94zm-11 1L8.5 8.5l.94-2.06 2.06-.94-2.06-.94L8.5 2.5l-.94 2.06-2.06.94zm10 10l.94 2.06.94-2.06 2.06-.94-2.06-.94-.94-2.06-.94 2.06-2.06.94z\"/><path d=\"M17.41 7.96l-1.37-1.37c-.4-.4-.92-.59-1.43-.59-.52 0-1.04.2-1.43.59L10.3 9.45l-7.72 7.72c-.78.78-.78 2.05 0 2.83L4 21.41c.39.39.9.59 1.41.59.51 0 1.02-.2 1.41-.59l7.78-7.78 2.81-2.81c.8-.78.8-2.07 0-2.86zM5.41 20L4 18.59l7.72-7.72 1.47 1.35L5.41 20z\"/>\n",
              "  </svg>\n",
              "      </button>\n",
              "      \n",
              "  <style>\n",
              "    .colab-df-container {\n",
              "      display:flex;\n",
              "      flex-wrap:wrap;\n",
              "      gap: 12px;\n",
              "    }\n",
              "\n",
              "    .colab-df-convert {\n",
              "      background-color: #E8F0FE;\n",
              "      border: none;\n",
              "      border-radius: 50%;\n",
              "      cursor: pointer;\n",
              "      display: none;\n",
              "      fill: #1967D2;\n",
              "      height: 32px;\n",
              "      padding: 0 0 0 0;\n",
              "      width: 32px;\n",
              "    }\n",
              "\n",
              "    .colab-df-convert:hover {\n",
              "      background-color: #E2EBFA;\n",
              "      box-shadow: 0px 1px 2px rgba(60, 64, 67, 0.3), 0px 1px 3px 1px rgba(60, 64, 67, 0.15);\n",
              "      fill: #174EA6;\n",
              "    }\n",
              "\n",
              "    [theme=dark] .colab-df-convert {\n",
              "      background-color: #3B4455;\n",
              "      fill: #D2E3FC;\n",
              "    }\n",
              "\n",
              "    [theme=dark] .colab-df-convert:hover {\n",
              "      background-color: #434B5C;\n",
              "      box-shadow: 0px 1px 3px 1px rgba(0, 0, 0, 0.15);\n",
              "      filter: drop-shadow(0px 1px 2px rgba(0, 0, 0, 0.3));\n",
              "      fill: #FFFFFF;\n",
              "    }\n",
              "  </style>\n",
              "\n",
              "      <script>\n",
              "        const buttonEl =\n",
              "          document.querySelector('#df-4f804dbc-57ff-4739-b05d-59a37cc57777 button.colab-df-convert');\n",
              "        buttonEl.style.display =\n",
              "          google.colab.kernel.accessAllowed ? 'block' : 'none';\n",
              "\n",
              "        async function convertToInteractive(key) {\n",
              "          const element = document.querySelector('#df-4f804dbc-57ff-4739-b05d-59a37cc57777');\n",
              "          const dataTable =\n",
              "            await google.colab.kernel.invokeFunction('convertToInteractive',\n",
              "                                                     [key], {});\n",
              "          if (!dataTable) return;\n",
              "\n",
              "          const docLinkHtml = 'Like what you see? Visit the ' +\n",
              "            '<a target=\"_blank\" href=https://colab.research.google.com/notebooks/data_table.ipynb>data table notebook</a>'\n",
              "            + ' to learn more about interactive tables.';\n",
              "          element.innerHTML = '';\n",
              "          dataTable['output_type'] = 'display_data';\n",
              "          await google.colab.output.renderOutput(dataTable, element);\n",
              "          const docLink = document.createElement('div');\n",
              "          docLink.innerHTML = docLinkHtml;\n",
              "          element.appendChild(docLink);\n",
              "        }\n",
              "      </script>\n",
              "    </div>\n",
              "  </div>\n",
              "  "
            ]
          },
          "metadata": {},
          "execution_count": 66
        }
      ]
    },
    {
      "cell_type": "code",
      "source": [
        "forest_type = dftraining.iloc[:,0]"
      ],
      "metadata": {
        "id": "txTaQTPB-ZTc"
      },
      "execution_count": null,
      "outputs": []
    },
    {
      "cell_type": "code",
      "source": [
        "forest_type"
      ],
      "metadata": {
        "colab": {
          "base_uri": "https://localhost:8080/"
        },
        "id": "9fIb3I9F-4xz",
        "outputId": "d67258f4-4835-4070-e676-ea0762a28375"
      },
      "execution_count": null,
      "outputs": [
        {
          "output_type": "execute_result",
          "data": {
            "text/plain": [
              "0      d \n",
              "1      h \n",
              "2      s \n",
              "3      s \n",
              "4      d \n",
              "       ..\n",
              "193    d \n",
              "194    d \n",
              "195    h \n",
              "196    h \n",
              "197    h \n",
              "Name: class, Length: 198, dtype: object"
            ]
          },
          "metadata": {},
          "execution_count": 74
        }
      ]
    },
    {
      "cell_type": "code",
      "source": [
        "X_v = dftraining.iloc[:,1:]\n",
        "\n",
        "X_v"
      ],
      "metadata": {
        "colab": {
          "base_uri": "https://localhost:8080/",
          "height": 487
        },
        "id": "UaMOeuP9_td3",
        "outputId": "0d7a47b3-29c8-4667-c169-8619e40236cd"
      },
      "execution_count": null,
      "outputs": [
        {
          "output_type": "execute_result",
          "data": {
            "text/plain": [
              "     b1  b2  b3   b4  b5   b6   b7  b8  b9  pred_minus_obs_H_b1  ...  \\\n",
              "0    39  36  57   91  59  101   93  27  60                75.70  ...   \n",
              "1    84  30  57  112  51   98   92  26  62                30.58  ...   \n",
              "2    53  25  49   99  51   93   84  26  58                63.20  ...   \n",
              "3    59  26  49  103  47   92   82  25  56                55.54  ...   \n",
              "4    57  49  66  103  64  106  114  28  59                59.44  ...   \n",
              "..   ..  ..  ..  ...  ..  ...  ...  ..  ..                  ...  ...   \n",
              "193  55  61  90   75  55   91   84  24  54                57.14  ...   \n",
              "194  66  69  93   90  63  100   99  25  57                45.97  ...   \n",
              "195  79  30  55  115  51   96  109  25  59                35.40  ...   \n",
              "196  69  27  53  106  47   90   87  24  55                35.81  ...   \n",
              "197  80  29  55  116  50   95  102  25  59                34.08  ...   \n",
              "\n",
              "     pred_minus_obs_H_b9  pred_minus_obs_S_b1  pred_minus_obs_S_b2  \\\n",
              "0                  -2.36               -18.41                -1.88   \n",
              "1                  -2.26               -16.27                -1.95   \n",
              "2                  -1.46               -15.92                -1.79   \n",
              "3                   2.68               -13.77                -2.53   \n",
              "4                  -2.94               -21.74                -1.64   \n",
              "..                   ...                  ...                  ...   \n",
              "193                 1.28               -20.84                -1.47   \n",
              "194                -1.50               -19.64                -1.45   \n",
              "195                -3.66               -22.40                -3.91   \n",
              "196                -0.88               -13.32                 0.16   \n",
              "197                -4.19               -21.98                -2.12   \n",
              "\n",
              "     pred_minus_obs_S_b3  pred_minus_obs_S_b4  pred_minus_obs_S_b5  \\\n",
              "0                  -6.43               -21.03                -1.60   \n",
              "1                  -6.25               -18.79                -1.99   \n",
              "2                  -4.64               -17.73                -0.48   \n",
              "3                  -6.34               -22.03                -2.34   \n",
              "4                  -4.62               -23.74                -0.85   \n",
              "..                   ...                  ...                  ...   \n",
              "193                -5.72               -18.73                -1.18   \n",
              "194                -5.60               -17.03                -1.08   \n",
              "195                -6.61               -36.29                -2.13   \n",
              "196                -2.39                -7.12                 0.02   \n",
              "197                -6.03               -26.08                -1.67   \n",
              "\n",
              "     pred_minus_obs_S_b6  pred_minus_obs_S_b7  pred_minus_obs_S_b8  \\\n",
              "0                  -6.18               -22.50                -5.20   \n",
              "1                  -6.18               -23.41                -8.87   \n",
              "2                  -4.69               -19.97                -4.10   \n",
              "3                  -6.60               -27.10                -7.99   \n",
              "4                  -5.50               -22.83                -2.74   \n",
              "..                   ...                  ...                  ...   \n",
              "193                -5.22               -17.81                -1.28   \n",
              "194                -5.15               -16.77                -1.46   \n",
              "195                -5.77               -23.32                -2.09   \n",
              "196                -2.06               -10.04                -0.74   \n",
              "197                -5.82               -20.91                -0.90   \n",
              "\n",
              "     pred_minus_obs_S_b9  \n",
              "0                  -7.86  \n",
              "1                 -10.83  \n",
              "2                  -7.07  \n",
              "3                 -10.81  \n",
              "4                  -5.84  \n",
              "..                   ...  \n",
              "193                -3.87  \n",
              "194                -4.03  \n",
              "195                -4.13  \n",
              "196                -2.88  \n",
              "197                -3.70  \n",
              "\n",
              "[198 rows x 27 columns]"
            ],
            "text/html": [
              "\n",
              "  <div id=\"df-c8a785b3-18b0-416b-a44b-341bb5fa2d03\">\n",
              "    <div class=\"colab-df-container\">\n",
              "      <div>\n",
              "<style scoped>\n",
              "    .dataframe tbody tr th:only-of-type {\n",
              "        vertical-align: middle;\n",
              "    }\n",
              "\n",
              "    .dataframe tbody tr th {\n",
              "        vertical-align: top;\n",
              "    }\n",
              "\n",
              "    .dataframe thead th {\n",
              "        text-align: right;\n",
              "    }\n",
              "</style>\n",
              "<table border=\"1\" class=\"dataframe\">\n",
              "  <thead>\n",
              "    <tr style=\"text-align: right;\">\n",
              "      <th></th>\n",
              "      <th>b1</th>\n",
              "      <th>b2</th>\n",
              "      <th>b3</th>\n",
              "      <th>b4</th>\n",
              "      <th>b5</th>\n",
              "      <th>b6</th>\n",
              "      <th>b7</th>\n",
              "      <th>b8</th>\n",
              "      <th>b9</th>\n",
              "      <th>pred_minus_obs_H_b1</th>\n",
              "      <th>...</th>\n",
              "      <th>pred_minus_obs_H_b9</th>\n",
              "      <th>pred_minus_obs_S_b1</th>\n",
              "      <th>pred_minus_obs_S_b2</th>\n",
              "      <th>pred_minus_obs_S_b3</th>\n",
              "      <th>pred_minus_obs_S_b4</th>\n",
              "      <th>pred_minus_obs_S_b5</th>\n",
              "      <th>pred_minus_obs_S_b6</th>\n",
              "      <th>pred_minus_obs_S_b7</th>\n",
              "      <th>pred_minus_obs_S_b8</th>\n",
              "      <th>pred_minus_obs_S_b9</th>\n",
              "    </tr>\n",
              "  </thead>\n",
              "  <tbody>\n",
              "    <tr>\n",
              "      <th>0</th>\n",
              "      <td>39</td>\n",
              "      <td>36</td>\n",
              "      <td>57</td>\n",
              "      <td>91</td>\n",
              "      <td>59</td>\n",
              "      <td>101</td>\n",
              "      <td>93</td>\n",
              "      <td>27</td>\n",
              "      <td>60</td>\n",
              "      <td>75.70</td>\n",
              "      <td>...</td>\n",
              "      <td>-2.36</td>\n",
              "      <td>-18.41</td>\n",
              "      <td>-1.88</td>\n",
              "      <td>-6.43</td>\n",
              "      <td>-21.03</td>\n",
              "      <td>-1.60</td>\n",
              "      <td>-6.18</td>\n",
              "      <td>-22.50</td>\n",
              "      <td>-5.20</td>\n",
              "      <td>-7.86</td>\n",
              "    </tr>\n",
              "    <tr>\n",
              "      <th>1</th>\n",
              "      <td>84</td>\n",
              "      <td>30</td>\n",
              "      <td>57</td>\n",
              "      <td>112</td>\n",
              "      <td>51</td>\n",
              "      <td>98</td>\n",
              "      <td>92</td>\n",
              "      <td>26</td>\n",
              "      <td>62</td>\n",
              "      <td>30.58</td>\n",
              "      <td>...</td>\n",
              "      <td>-2.26</td>\n",
              "      <td>-16.27</td>\n",
              "      <td>-1.95</td>\n",
              "      <td>-6.25</td>\n",
              "      <td>-18.79</td>\n",
              "      <td>-1.99</td>\n",
              "      <td>-6.18</td>\n",
              "      <td>-23.41</td>\n",
              "      <td>-8.87</td>\n",
              "      <td>-10.83</td>\n",
              "    </tr>\n",
              "    <tr>\n",
              "      <th>2</th>\n",
              "      <td>53</td>\n",
              "      <td>25</td>\n",
              "      <td>49</td>\n",
              "      <td>99</td>\n",
              "      <td>51</td>\n",
              "      <td>93</td>\n",
              "      <td>84</td>\n",
              "      <td>26</td>\n",
              "      <td>58</td>\n",
              "      <td>63.20</td>\n",
              "      <td>...</td>\n",
              "      <td>-1.46</td>\n",
              "      <td>-15.92</td>\n",
              "      <td>-1.79</td>\n",
              "      <td>-4.64</td>\n",
              "      <td>-17.73</td>\n",
              "      <td>-0.48</td>\n",
              "      <td>-4.69</td>\n",
              "      <td>-19.97</td>\n",
              "      <td>-4.10</td>\n",
              "      <td>-7.07</td>\n",
              "    </tr>\n",
              "    <tr>\n",
              "      <th>3</th>\n",
              "      <td>59</td>\n",
              "      <td>26</td>\n",
              "      <td>49</td>\n",
              "      <td>103</td>\n",
              "      <td>47</td>\n",
              "      <td>92</td>\n",
              "      <td>82</td>\n",
              "      <td>25</td>\n",
              "      <td>56</td>\n",
              "      <td>55.54</td>\n",
              "      <td>...</td>\n",
              "      <td>2.68</td>\n",
              "      <td>-13.77</td>\n",
              "      <td>-2.53</td>\n",
              "      <td>-6.34</td>\n",
              "      <td>-22.03</td>\n",
              "      <td>-2.34</td>\n",
              "      <td>-6.60</td>\n",
              "      <td>-27.10</td>\n",
              "      <td>-7.99</td>\n",
              "      <td>-10.81</td>\n",
              "    </tr>\n",
              "    <tr>\n",
              "      <th>4</th>\n",
              "      <td>57</td>\n",
              "      <td>49</td>\n",
              "      <td>66</td>\n",
              "      <td>103</td>\n",
              "      <td>64</td>\n",
              "      <td>106</td>\n",
              "      <td>114</td>\n",
              "      <td>28</td>\n",
              "      <td>59</td>\n",
              "      <td>59.44</td>\n",
              "      <td>...</td>\n",
              "      <td>-2.94</td>\n",
              "      <td>-21.74</td>\n",
              "      <td>-1.64</td>\n",
              "      <td>-4.62</td>\n",
              "      <td>-23.74</td>\n",
              "      <td>-0.85</td>\n",
              "      <td>-5.50</td>\n",
              "      <td>-22.83</td>\n",
              "      <td>-2.74</td>\n",
              "      <td>-5.84</td>\n",
              "    </tr>\n",
              "    <tr>\n",
              "      <th>...</th>\n",
              "      <td>...</td>\n",
              "      <td>...</td>\n",
              "      <td>...</td>\n",
              "      <td>...</td>\n",
              "      <td>...</td>\n",
              "      <td>...</td>\n",
              "      <td>...</td>\n",
              "      <td>...</td>\n",
              "      <td>...</td>\n",
              "      <td>...</td>\n",
              "      <td>...</td>\n",
              "      <td>...</td>\n",
              "      <td>...</td>\n",
              "      <td>...</td>\n",
              "      <td>...</td>\n",
              "      <td>...</td>\n",
              "      <td>...</td>\n",
              "      <td>...</td>\n",
              "      <td>...</td>\n",
              "      <td>...</td>\n",
              "      <td>...</td>\n",
              "    </tr>\n",
              "    <tr>\n",
              "      <th>193</th>\n",
              "      <td>55</td>\n",
              "      <td>61</td>\n",
              "      <td>90</td>\n",
              "      <td>75</td>\n",
              "      <td>55</td>\n",
              "      <td>91</td>\n",
              "      <td>84</td>\n",
              "      <td>24</td>\n",
              "      <td>54</td>\n",
              "      <td>57.14</td>\n",
              "      <td>...</td>\n",
              "      <td>1.28</td>\n",
              "      <td>-20.84</td>\n",
              "      <td>-1.47</td>\n",
              "      <td>-5.72</td>\n",
              "      <td>-18.73</td>\n",
              "      <td>-1.18</td>\n",
              "      <td>-5.22</td>\n",
              "      <td>-17.81</td>\n",
              "      <td>-1.28</td>\n",
              "      <td>-3.87</td>\n",
              "    </tr>\n",
              "    <tr>\n",
              "      <th>194</th>\n",
              "      <td>66</td>\n",
              "      <td>69</td>\n",
              "      <td>93</td>\n",
              "      <td>90</td>\n",
              "      <td>63</td>\n",
              "      <td>100</td>\n",
              "      <td>99</td>\n",
              "      <td>25</td>\n",
              "      <td>57</td>\n",
              "      <td>45.97</td>\n",
              "      <td>...</td>\n",
              "      <td>-1.50</td>\n",
              "      <td>-19.64</td>\n",
              "      <td>-1.45</td>\n",
              "      <td>-5.60</td>\n",
              "      <td>-17.03</td>\n",
              "      <td>-1.08</td>\n",
              "      <td>-5.15</td>\n",
              "      <td>-16.77</td>\n",
              "      <td>-1.46</td>\n",
              "      <td>-4.03</td>\n",
              "    </tr>\n",
              "    <tr>\n",
              "      <th>195</th>\n",
              "      <td>79</td>\n",
              "      <td>30</td>\n",
              "      <td>55</td>\n",
              "      <td>115</td>\n",
              "      <td>51</td>\n",
              "      <td>96</td>\n",
              "      <td>109</td>\n",
              "      <td>25</td>\n",
              "      <td>59</td>\n",
              "      <td>35.40</td>\n",
              "      <td>...</td>\n",
              "      <td>-3.66</td>\n",
              "      <td>-22.40</td>\n",
              "      <td>-3.91</td>\n",
              "      <td>-6.61</td>\n",
              "      <td>-36.29</td>\n",
              "      <td>-2.13</td>\n",
              "      <td>-5.77</td>\n",
              "      <td>-23.32</td>\n",
              "      <td>-2.09</td>\n",
              "      <td>-4.13</td>\n",
              "    </tr>\n",
              "    <tr>\n",
              "      <th>196</th>\n",
              "      <td>69</td>\n",
              "      <td>27</td>\n",
              "      <td>53</td>\n",
              "      <td>106</td>\n",
              "      <td>47</td>\n",
              "      <td>90</td>\n",
              "      <td>87</td>\n",
              "      <td>24</td>\n",
              "      <td>55</td>\n",
              "      <td>35.81</td>\n",
              "      <td>...</td>\n",
              "      <td>-0.88</td>\n",
              "      <td>-13.32</td>\n",
              "      <td>0.16</td>\n",
              "      <td>-2.39</td>\n",
              "      <td>-7.12</td>\n",
              "      <td>0.02</td>\n",
              "      <td>-2.06</td>\n",
              "      <td>-10.04</td>\n",
              "      <td>-0.74</td>\n",
              "      <td>-2.88</td>\n",
              "    </tr>\n",
              "    <tr>\n",
              "      <th>197</th>\n",
              "      <td>80</td>\n",
              "      <td>29</td>\n",
              "      <td>55</td>\n",
              "      <td>116</td>\n",
              "      <td>50</td>\n",
              "      <td>95</td>\n",
              "      <td>102</td>\n",
              "      <td>25</td>\n",
              "      <td>59</td>\n",
              "      <td>34.08</td>\n",
              "      <td>...</td>\n",
              "      <td>-4.19</td>\n",
              "      <td>-21.98</td>\n",
              "      <td>-2.12</td>\n",
              "      <td>-6.03</td>\n",
              "      <td>-26.08</td>\n",
              "      <td>-1.67</td>\n",
              "      <td>-5.82</td>\n",
              "      <td>-20.91</td>\n",
              "      <td>-0.90</td>\n",
              "      <td>-3.70</td>\n",
              "    </tr>\n",
              "  </tbody>\n",
              "</table>\n",
              "<p>198 rows × 27 columns</p>\n",
              "</div>\n",
              "      <button class=\"colab-df-convert\" onclick=\"convertToInteractive('df-c8a785b3-18b0-416b-a44b-341bb5fa2d03')\"\n",
              "              title=\"Convert this dataframe to an interactive table.\"\n",
              "              style=\"display:none;\">\n",
              "        \n",
              "  <svg xmlns=\"http://www.w3.org/2000/svg\" height=\"24px\"viewBox=\"0 0 24 24\"\n",
              "       width=\"24px\">\n",
              "    <path d=\"M0 0h24v24H0V0z\" fill=\"none\"/>\n",
              "    <path d=\"M18.56 5.44l.94 2.06.94-2.06 2.06-.94-2.06-.94-.94-2.06-.94 2.06-2.06.94zm-11 1L8.5 8.5l.94-2.06 2.06-.94-2.06-.94L8.5 2.5l-.94 2.06-2.06.94zm10 10l.94 2.06.94-2.06 2.06-.94-2.06-.94-.94-2.06-.94 2.06-2.06.94z\"/><path d=\"M17.41 7.96l-1.37-1.37c-.4-.4-.92-.59-1.43-.59-.52 0-1.04.2-1.43.59L10.3 9.45l-7.72 7.72c-.78.78-.78 2.05 0 2.83L4 21.41c.39.39.9.59 1.41.59.51 0 1.02-.2 1.41-.59l7.78-7.78 2.81-2.81c.8-.78.8-2.07 0-2.86zM5.41 20L4 18.59l7.72-7.72 1.47 1.35L5.41 20z\"/>\n",
              "  </svg>\n",
              "      </button>\n",
              "      \n",
              "  <style>\n",
              "    .colab-df-container {\n",
              "      display:flex;\n",
              "      flex-wrap:wrap;\n",
              "      gap: 12px;\n",
              "    }\n",
              "\n",
              "    .colab-df-convert {\n",
              "      background-color: #E8F0FE;\n",
              "      border: none;\n",
              "      border-radius: 50%;\n",
              "      cursor: pointer;\n",
              "      display: none;\n",
              "      fill: #1967D2;\n",
              "      height: 32px;\n",
              "      padding: 0 0 0 0;\n",
              "      width: 32px;\n",
              "    }\n",
              "\n",
              "    .colab-df-convert:hover {\n",
              "      background-color: #E2EBFA;\n",
              "      box-shadow: 0px 1px 2px rgba(60, 64, 67, 0.3), 0px 1px 3px 1px rgba(60, 64, 67, 0.15);\n",
              "      fill: #174EA6;\n",
              "    }\n",
              "\n",
              "    [theme=dark] .colab-df-convert {\n",
              "      background-color: #3B4455;\n",
              "      fill: #D2E3FC;\n",
              "    }\n",
              "\n",
              "    [theme=dark] .colab-df-convert:hover {\n",
              "      background-color: #434B5C;\n",
              "      box-shadow: 0px 1px 3px 1px rgba(0, 0, 0, 0.15);\n",
              "      filter: drop-shadow(0px 1px 2px rgba(0, 0, 0, 0.3));\n",
              "      fill: #FFFFFF;\n",
              "    }\n",
              "  </style>\n",
              "\n",
              "      <script>\n",
              "        const buttonEl =\n",
              "          document.querySelector('#df-c8a785b3-18b0-416b-a44b-341bb5fa2d03 button.colab-df-convert');\n",
              "        buttonEl.style.display =\n",
              "          google.colab.kernel.accessAllowed ? 'block' : 'none';\n",
              "\n",
              "        async function convertToInteractive(key) {\n",
              "          const element = document.querySelector('#df-c8a785b3-18b0-416b-a44b-341bb5fa2d03');\n",
              "          const dataTable =\n",
              "            await google.colab.kernel.invokeFunction('convertToInteractive',\n",
              "                                                     [key], {});\n",
              "          if (!dataTable) return;\n",
              "\n",
              "          const docLinkHtml = 'Like what you see? Visit the ' +\n",
              "            '<a target=\"_blank\" href=https://colab.research.google.com/notebooks/data_table.ipynb>data table notebook</a>'\n",
              "            + ' to learn more about interactive tables.';\n",
              "          element.innerHTML = '';\n",
              "          dataTable['output_type'] = 'display_data';\n",
              "          await google.colab.output.renderOutput(dataTable, element);\n",
              "          const docLink = document.createElement('div');\n",
              "          docLink.innerHTML = docLinkHtml;\n",
              "          element.appendChild(docLink);\n",
              "        }\n",
              "      </script>\n",
              "    </div>\n",
              "  </div>\n",
              "  "
            ]
          },
          "metadata": {},
          "execution_count": 79
        }
      ]
    },
    {
      "cell_type": "code",
      "source": [
        "#b2\n",
        "X_v.iloc[:,1]"
      ],
      "metadata": {
        "colab": {
          "base_uri": "https://localhost:8080/"
        },
        "id": "mRnI51nk_2MC",
        "outputId": "62288913-85c5-444b-d567-c0cfa5baf6e0"
      },
      "execution_count": null,
      "outputs": [
        {
          "output_type": "execute_result",
          "data": {
            "text/plain": [
              "0      36\n",
              "1      30\n",
              "2      25\n",
              "3      26\n",
              "4      49\n",
              "       ..\n",
              "193    61\n",
              "194    69\n",
              "195    30\n",
              "196    27\n",
              "197    29\n",
              "Name: b2, Length: 198, dtype: int64"
            ]
          },
          "metadata": {},
          "execution_count": 81
        }
      ]
    },
    {
      "cell_type": "code",
      "source": [
        "#h_b1\n",
        "X_v.iloc[:,9]"
      ],
      "metadata": {
        "colab": {
          "base_uri": "https://localhost:8080/"
        },
        "id": "QvROFoPvAwle",
        "outputId": "1077c554-0690-4dd1-8ffa-c8afff77e58c"
      },
      "execution_count": null,
      "outputs": [
        {
          "output_type": "execute_result",
          "data": {
            "text/plain": [
              "0      75.70\n",
              "1      30.58\n",
              "2      63.20\n",
              "3      55.54\n",
              "4      59.44\n",
              "       ...  \n",
              "193    57.14\n",
              "194    45.97\n",
              "195    35.40\n",
              "196    35.81\n",
              "197    34.08\n",
              "Name: pred_minus_obs_H_b1, Length: 198, dtype: float64"
            ]
          },
          "metadata": {},
          "execution_count": 82
        }
      ]
    },
    {
      "cell_type": "code",
      "source": [
        "X_v.iloc[:,18]"
      ],
      "metadata": {
        "colab": {
          "base_uri": "https://localhost:8080/"
        },
        "id": "g4ufTz1CGS6L",
        "outputId": "2fd972e3-253f-4923-c538-42671e5a8533"
      },
      "execution_count": null,
      "outputs": [
        {
          "output_type": "execute_result",
          "data": {
            "text/plain": [
              "0     -18.41\n",
              "1     -16.27\n",
              "2     -15.92\n",
              "3     -13.77\n",
              "4     -21.74\n",
              "       ...  \n",
              "193   -20.84\n",
              "194   -19.64\n",
              "195   -22.40\n",
              "196   -13.32\n",
              "197   -21.98\n",
              "Name: pred_minus_obs_S_b1, Length: 198, dtype: float64"
            ]
          },
          "metadata": {},
          "execution_count": 94
        }
      ]
    },
    {
      "cell_type": "code",
      "source": [
        "plt.scatter(X_v.iloc[:, 9], X_v.iloc[:, 1], c=labels)\n",
        "plt.plot([35.5, 35.5], [0, 160], 'r', lw=2)\n",
        "plt.plot([0, 90], [41.39, 41.39], '', lw=2)\n",
        "plt.xlabel('b2') \n",
        "plt.ylabel('h_b1') \n",
        "plt.show() "
      ],
      "metadata": {
        "colab": {
          "base_uri": "https://localhost:8080/",
          "height": 279
        },
        "id": "K5OspSBSBV32",
        "outputId": "a7f4b8d1-676e-4ec2-fda1-2d907148eb08"
      },
      "execution_count": null,
      "outputs": [
        {
          "output_type": "display_data",
          "data": {
            "text/plain": [
              "<Figure size 432x288 with 1 Axes>"
            ],
            "image/png": "[encoded data removed]"
          },
          "metadata": {
            "needs_background": "light"
          }
        }
      ]
    },
    {
      "cell_type": "code",
      "source": [
        "plt.scatter(X_v.iloc[:, 9], X_v.iloc[:,7], c=labels)\n",
        "# plt.plot([35.5, 35.5], [0, 160], 'r', lw=2)\n",
        "# plt.plot([0, 90], [41.39, 41.39], 'y', lw=2)\n",
        "plt.xlabel('h_b1') \n",
        "plt.ylabel('b8') \n",
        "plt.show() "
      ],
      "metadata": {
        "colab": {
          "base_uri": "https://localhost:8080/",
          "height": 280
        },
        "id": "F6r4rDWMDKyi",
        "outputId": "2cad82e7-4e0a-4cb0-9381-32f3e4e55644"
      },
      "execution_count": null,
      "outputs": [
        {
          "output_type": "display_data",
          "data": {
            "text/plain": [
              "<Figure size 432x288 with 1 Axes>"
            ],
            "image/png": "[encoded data removed]"
          },
          "metadata": {
            "needs_background": "light"
          }
        }
      ]
    },
    {
      "cell_type": "code",
      "source": [
        "plt.scatter(X_v.iloc[:, 1], X_v.iloc[:,7], c=labels)\n",
        "plt.plot([35.5, 35.5], [0, 160], 'r', lw=2)\n",
        "plt.plot([0, 170], [28.5, 28.5], 'y', lw=2)\n",
        "plt.xlabel('b2') \n",
        "plt.ylabel('b8') \n",
        "plt.show() "
      ],
      "metadata": {
        "colab": {
          "base_uri": "https://localhost:8080/",
          "height": 279
        },
        "id": "x02fBSWxGg4M",
        "outputId": "8c53d0c5-ddc6-4d55-fffe-0059cf263e46"
      },
      "execution_count": null,
      "outputs": [
        {
          "output_type": "display_data",
          "data": {
            "text/plain": [
              "<Figure size 432x288 with 1 Axes>"
            ],
            "image/png": "[encoded data removed]"
          },
          "metadata": {
            "needs_background": "light"
          }
        }
      ]
    },
    {
      "cell_type": "code",
      "source": [
        "#plots for second decision tree\n",
        "plt.scatter(X_v.iloc[:, 1], X_v.iloc[:,9], c=labels)\n",
        "plt.plot([35.5, 35.5], [0, 160], 'r', lw=2)\n",
        "plt.plot([0, 170], [41.39, 41.39], 'y', lw=2)\n",
        "plt.xlabel('b2') \n",
        "plt.ylabel('hb1') \n",
        "plt.show() \n"
      ],
      "metadata": {
        "colab": {
          "base_uri": "https://localhost:8080/",
          "height": 279
        },
        "id": "yV2fyN6SH3ZC",
        "outputId": "0bc300f6-edca-45f1-9c28-a0a26ec7c5bd"
      },
      "execution_count": null,
      "outputs": [
        {
          "output_type": "display_data",
          "data": {
            "text/plain": [
              "<Figure size 432x288 with 1 Axes>"
            ],
            "image/png": "[encoded data removed]"
          },
          "metadata": {
            "needs_background": "light"
          }
        }
      ]
    },
    {
      "cell_type": "code",
      "source": [
        "plt.scatter(X_v.iloc[:, 1], X_v.iloc[:,7], c=labels)\n",
        "plt.plot([35.5, 35.5], [0, 160], 'r', lw=2)\n",
        "plt.plot([0, 170], [28.5, 28.5], 'y', lw=2)\n",
        "plt.xlabel('b2') \n",
        "plt.ylabel('b8') \n",
        "plt.show() \n"
      ],
      "metadata": {
        "colab": {
          "base_uri": "https://localhost:8080/",
          "height": 279
        },
        "id": "-dr19EDyJwkZ",
        "outputId": "3a032d8e-09f2-4724-c550-6c134f324c21"
      },
      "execution_count": null,
      "outputs": [
        {
          "output_type": "display_data",
          "data": {
            "text/plain": [
              "<Figure size 432x288 with 1 Axes>"
            ],
            "image/png": "[encoded data removed]"
          },
          "metadata": {
            "needs_background": "light"
          }
        }
      ]
    },
    {
      "cell_type": "code",
      "source": [
        "g = sns.PairGrid(dftraining.iloc[:,:5],hue = \"class\")\n",
        "g.map_diag(sns.histplot)\n",
        "g.map_offdiag(sns.scatterplot)"
      ],
      "metadata": {
        "colab": {
          "base_uri": "https://localhost:8080/",
          "height": 740
        },
        "id": "aVbq4BiQK4-J",
        "outputId": "18c44f8a-fa51-4bbf-c911-874247aacdf4"
      },
      "execution_count": null,
      "outputs": [
        {
          "output_type": "execute_result",
          "data": {
            "text/plain": [
              "<seaborn.axisgrid.PairGrid at 0x7fa8661fe910>"
            ]
          },
          "metadata": {},
          "execution_count": 109
        },
        {
          "output_type": "display_data",
          "data": {
            "text/plain": [
              "<Figure size 720x720 with 20 Axes>"
            ],
            "image/png": "[encoded data removed]"
          },
          "metadata": {
            "needs_background": "light"
          }
        }
      ]
    },
    {
      "cell_type": "code",
      "source": [
        "h = sns.PairGrid(dftraining.iloc[:,17:20],hue = dftraining.iloc[:,0])\n",
        "h.map_diag(sns.histplot)\n",
        "h.map_offdiag(sns.scatterplot)"
      ],
      "metadata": {
        "colab": {
          "base_uri": "https://localhost:8080/",
          "height": 353
        },
        "id": "HPcNXyzKf6Sy",
        "outputId": "d754c74b-09d0-4e90-8618-10f899163562"
      },
      "execution_count": null,
      "outputs": [
        {
          "output_type": "error",
          "ename": "ValueError",
          "evalue": "ignored",
          "traceback": [
            "\u001b[0;31m---------------------------------------------------------------------------\u001b[0m",
            "\u001b[0;31mValueError\u001b[0m                                Traceback (most recent call last)",
            "\u001b[0;32m<ipython-input-118-d0b03b63c481>\u001b[0m in \u001b[0;36m<module>\u001b[0;34m()\u001b[0m\n\u001b[0;32m----> 1\u001b[0;31m \u001b[0mh\u001b[0m \u001b[0;34m=\u001b[0m \u001b[0msns\u001b[0m\u001b[0;34m.\u001b[0m\u001b[0mPairGrid\u001b[0m\u001b[0;34m(\u001b[0m\u001b[0mdftraining\u001b[0m\u001b[0;34m.\u001b[0m\u001b[0miloc\u001b[0m\u001b[0;34m[\u001b[0m\u001b[0;34m:\u001b[0m\u001b[0;34m,\u001b[0m\u001b[0;36m17\u001b[0m\u001b[0;34m:\u001b[0m\u001b[0;36m20\u001b[0m\u001b[0;34m]\u001b[0m\u001b[0;34m,\u001b[0m\u001b[0mhue\u001b[0m \u001b[0;34m=\u001b[0m \u001b[0mdftraining\u001b[0m\u001b[0;34m.\u001b[0m\u001b[0miloc\u001b[0m\u001b[0;34m[\u001b[0m\u001b[0;34m:\u001b[0m\u001b[0;34m,\u001b[0m\u001b[0;36m0\u001b[0m\u001b[0;34m]\u001b[0m\u001b[0;34m)\u001b[0m\u001b[0;34m\u001b[0m\u001b[0;34m\u001b[0m\u001b[0m\n\u001b[0m\u001b[1;32m      2\u001b[0m \u001b[0mh\u001b[0m\u001b[0;34m.\u001b[0m\u001b[0mmap_diag\u001b[0m\u001b[0;34m(\u001b[0m\u001b[0msns\u001b[0m\u001b[0;34m.\u001b[0m\u001b[0mhistplot\u001b[0m\u001b[0;34m)\u001b[0m\u001b[0;34m\u001b[0m\u001b[0;34m\u001b[0m\u001b[0m\n\u001b[1;32m      3\u001b[0m \u001b[0mh\u001b[0m\u001b[0;34m.\u001b[0m\u001b[0mmap_offdiag\u001b[0m\u001b[0;34m(\u001b[0m\u001b[0msns\u001b[0m\u001b[0;34m.\u001b[0m\u001b[0mscatterplot\u001b[0m\u001b[0;34m)\u001b[0m\u001b[0;34m\u001b[0m\u001b[0;34m\u001b[0m\u001b[0m\n",
            "\u001b[0;32m/usr/local/lib/python3.7/dist-packages/seaborn/_decorators.py\u001b[0m in \u001b[0;36minner_f\u001b[0;34m(*args, **kwargs)\u001b[0m\n\u001b[1;32m     44\u001b[0m             )\n\u001b[1;32m     45\u001b[0m         \u001b[0mkwargs\u001b[0m\u001b[0;34m.\u001b[0m\u001b[0mupdate\u001b[0m\u001b[0;34m(\u001b[0m\u001b[0;34m{\u001b[0m\u001b[0mk\u001b[0m\u001b[0;34m:\u001b[0m \u001b[0marg\u001b[0m \u001b[0;32mfor\u001b[0m \u001b[0mk\u001b[0m\u001b[0;34m,\u001b[0m \u001b[0marg\u001b[0m \u001b[0;32min\u001b[0m \u001b[0mzip\u001b[0m\u001b[0;34m(\u001b[0m\u001b[0msig\u001b[0m\u001b[0;34m.\u001b[0m\u001b[0mparameters\u001b[0m\u001b[0;34m,\u001b[0m \u001b[0margs\u001b[0m\u001b[0;34m)\u001b[0m\u001b[0;34m}\u001b[0m\u001b[0;34m)\u001b[0m\u001b[0;34m\u001b[0m\u001b[0;34m\u001b[0m\u001b[0m\n\u001b[0;32m---> 46\u001b[0;31m         \u001b[0;32mreturn\u001b[0m \u001b[0mf\u001b[0m\u001b[0;34m(\u001b[0m\u001b[0;34m**\u001b[0m\u001b[0mkwargs\u001b[0m\u001b[0;34m)\u001b[0m\u001b[0;34m\u001b[0m\u001b[0;34m\u001b[0m\u001b[0m\n\u001b[0m\u001b[1;32m     47\u001b[0m     \u001b[0;32mreturn\u001b[0m \u001b[0minner_f\u001b[0m\u001b[0;34m\u001b[0m\u001b[0;34m\u001b[0m\u001b[0m\n\u001b[1;32m     48\u001b[0m \u001b[0;34m\u001b[0m\u001b[0m\n",
            "\u001b[0;32m/usr/local/lib/python3.7/dist-packages/seaborn/axisgrid.py\u001b[0m in \u001b[0;36m__init__\u001b[0;34m(self, data, hue, hue_order, palette, hue_kws, vars, x_vars, y_vars, corner, diag_sharey, height, aspect, layout_pad, despine, dropna, size)\u001b[0m\n\u001b[1;32m   1211\u001b[0m         \u001b[0;31m# Sort out the variables that define the grid\u001b[0m\u001b[0;34m\u001b[0m\u001b[0;34m\u001b[0m\u001b[0;34m\u001b[0m\u001b[0m\n\u001b[1;32m   1212\u001b[0m         \u001b[0mnumeric_cols\u001b[0m \u001b[0;34m=\u001b[0m \u001b[0mself\u001b[0m\u001b[0;34m.\u001b[0m\u001b[0m_find_numeric_cols\u001b[0m\u001b[0;34m(\u001b[0m\u001b[0mdata\u001b[0m\u001b[0;34m)\u001b[0m\u001b[0;34m\u001b[0m\u001b[0;34m\u001b[0m\u001b[0m\n\u001b[0;32m-> 1213\u001b[0;31m         \u001b[0;32mif\u001b[0m \u001b[0mhue\u001b[0m \u001b[0;32min\u001b[0m \u001b[0mnumeric_cols\u001b[0m\u001b[0;34m:\u001b[0m\u001b[0;34m\u001b[0m\u001b[0;34m\u001b[0m\u001b[0m\n\u001b[0m\u001b[1;32m   1214\u001b[0m             \u001b[0mnumeric_cols\u001b[0m\u001b[0;34m.\u001b[0m\u001b[0mremove\u001b[0m\u001b[0;34m(\u001b[0m\u001b[0mhue\u001b[0m\u001b[0;34m)\u001b[0m\u001b[0;34m\u001b[0m\u001b[0;34m\u001b[0m\u001b[0m\n\u001b[1;32m   1215\u001b[0m         \u001b[0;32mif\u001b[0m \u001b[0mvars\u001b[0m \u001b[0;32mis\u001b[0m \u001b[0;32mnot\u001b[0m \u001b[0;32mNone\u001b[0m\u001b[0;34m:\u001b[0m\u001b[0;34m\u001b[0m\u001b[0;34m\u001b[0m\u001b[0m\n",
            "\u001b[0;32m/usr/local/lib/python3.7/dist-packages/pandas/core/generic.py\u001b[0m in \u001b[0;36m__nonzero__\u001b[0;34m(self)\u001b[0m\n\u001b[1;32m   1536\u001b[0m     \u001b[0;32mdef\u001b[0m \u001b[0m__nonzero__\u001b[0m\u001b[0;34m(\u001b[0m\u001b[0mself\u001b[0m\u001b[0;34m)\u001b[0m\u001b[0;34m:\u001b[0m\u001b[0;34m\u001b[0m\u001b[0;34m\u001b[0m\u001b[0m\n\u001b[1;32m   1537\u001b[0m         raise ValueError(\n\u001b[0;32m-> 1538\u001b[0;31m             \u001b[0;34mf\"The truth value of a {type(self).__name__} is ambiguous. \"\u001b[0m\u001b[0;34m\u001b[0m\u001b[0;34m\u001b[0m\u001b[0m\n\u001b[0m\u001b[1;32m   1539\u001b[0m             \u001b[0;34m\"Use a.empty, a.bool(), a.item(), a.any() or a.all().\"\u001b[0m\u001b[0;34m\u001b[0m\u001b[0;34m\u001b[0m\u001b[0m\n\u001b[1;32m   1540\u001b[0m         )\n",
            "\u001b[0;31mValueError\u001b[0m: The truth value of a Series is ambiguous. Use a.empty, a.bool(), a.item(), a.any() or a.all()."
          ]
        }
      ]
    },
    {
      "cell_type": "code",
      "source": [
        ""
      ],
      "metadata": {
        "id": "LGMGhXzwgg6g"
      },
      "execution_count": null,
      "outputs": []
    }
  ]
}